{
 "cells": [
  {
   "cell_type": "markdown",
   "metadata": {},
   "source": [
    "<img src=\"./images/banner.png\" width=\"800\">"
   ]
  },
  {
   "cell_type": "markdown",
   "metadata": {},
   "source": [
    "# Statistical Inference: Frequentist vs Bayesian Approaches"
   ]
  },
  {
   "cell_type": "markdown",
   "metadata": {},
   "source": [
    "Imagine you're a detective trying to solve a mystery. You have some clues, but you're not sure what really happened. That's essentially what **statistical inference** is all about - making educated guesses about the bigger picture based on the limited information we have.\n"
   ]
  },
  {
   "cell_type": "markdown",
   "metadata": {},
   "source": [
    "In the world of data science and machine learning, we often face this challenge:\n",
    "\n",
    "- We have some data (our clues)\n",
    "- We want to understand the underlying truth (solve the mystery)\n",
    "- We need to make decisions based on our findings\n"
   ]
  },
  {
   "cell_type": "markdown",
   "metadata": {},
   "source": [
    "This is where statistical inference comes in handy. It's like our detective's toolkit, helping us make sense of the clues and draw reliable conclusions.\n"
   ]
  },
  {
   "cell_type": "markdown",
   "metadata": {},
   "source": [
    "Now, here's where it gets interesting. There are *two main approaches* to statistical inference:\n",
    "\n",
    "1. **The Frequentist Approach**: Think of this as the \"by-the-book\" detective who relies strictly on the evidence at hand.\n",
    "2. **The Bayesian Approach**: This is more like the intuitive detective who also considers past experiences and hunches.\n"
   ]
  },
  {
   "cell_type": "markdown",
   "metadata": {},
   "source": [
    "Both approaches have their strengths and quirks, and they've been *debated for centuries* - yes, centuries! It's like a long-running TV show where two detectives with different styles try to outdo each other.\n",
    "\n",
    "In this lecture, we'll:\n",
    "- Unpack these two approaches\n",
    "- See how they work in real-world scenarios (like A/B testing)\n",
    "- Understand when to use which approach\n"
   ]
  },
  {
   "cell_type": "markdown",
   "metadata": {},
   "source": [
    "Remember, there's no universal \"best\" method. It's about choosing the right tool for the job. So, let's put on our detective hats and dive into the fascinating world of statistical inference!"
   ]
  },
  {
   "cell_type": "markdown",
   "metadata": {},
   "source": [
    "**Table of contents**<a id='toc0_'></a>    \n",
    "- [Frequentist Approach](#toc1_)    \n",
    "  - [Key Concepts](#toc1_1_)    \n",
    "  - [How it works](#toc1_2_)    \n",
    "  - [Advantages and Limitations](#toc1_3_)    \n",
    "  - [In Practice](#toc1_4_)    \n",
    "- [Bayesian Approach](#toc2_)    \n",
    "  - [Key Concepts](#toc2_1_)    \n",
    "  - [How it works](#toc2_2_)    \n",
    "  - [Advantages and Limitations](#toc2_3_)    \n",
    "  - [In Practice](#toc2_4_)    \n",
    "- [Comparing Frequentist and Bayesian Methods](#toc3_)    \n",
    "  - [Philosophical Differences](#toc3_1_)    \n",
    "  - [Practical Implications](#toc3_2_)    \n",
    "- [Applications in A/B Testing](#toc4_)    \n",
    "  - [Frequentist A/B Testing](#toc4_1_)    \n",
    "  - [Bayesian A/B Testing](#toc4_2_)    \n",
    "  - [Key Differences](#toc4_3_)    \n",
    "- [Choosing the Right Approach](#toc5_)    \n",
    "  - [Considerations for Method Selection](#toc5_1_)    \n",
    "  - [Common Misconceptions](#toc5_2_)    \n",
    "- [Conclusion](#toc6_)    \n",
    "- [Exercises](#toc7_)    \n",
    "  - [Solutions](#toc7_1_)    \n",
    "\n",
    "<!-- vscode-jupyter-toc-config\n",
    "\tnumbering=false\n",
    "\tanchor=true\n",
    "\tflat=false\n",
    "\tminLevel=2\n",
    "\tmaxLevel=6\n",
    "\t/vscode-jupyter-toc-config -->\n",
    "<!-- THIS CELL WILL BE REPLACED ON TOC UPDATE. DO NOT WRITE YOUR TEXT IN THIS CELL -->"
   ]
  },
  {
   "cell_type": "markdown",
   "metadata": {},
   "source": [
    "## <a id='toc1_'></a>[Frequentist Approach](#toc0_)"
   ]
  },
  {
   "cell_type": "markdown",
   "metadata": {},
   "source": [
    "The Frequentist approach is one of the fundamental paradigms in statistical inference. At its core, it's about making decisions based on the *frequency* of events in repeated experiments.\n"
   ]
  },
  {
   "cell_type": "markdown",
   "metadata": {},
   "source": [
    "Imagine you have a mysterious coin. You want to know if it's fair (50% chance of heads) or biased. A Frequentist would say:\n",
    "\n",
    "> \"Let's flip this coin many, many times. If it's fair, we should see heads about 50% of the time in the long run.\"\n"
   ]
  },
  {
   "cell_type": "markdown",
   "metadata": {},
   "source": [
    "This highlights a key principle of Frequentist thinking: **probability is viewed as the long-term frequency of events**.\n"
   ]
  },
  {
   "cell_type": "markdown",
   "metadata": {},
   "source": [
    "Another crucial aspect of the Frequentist approach is that it treats the *true state of the world* as fixed but unknown. In our coin example:\n",
    "\n",
    "- There's a true, fixed probability of the coin landing heads (let's call it θ).\n",
    "- We don't know what θ is, but it's not changing.\n",
    "- Our job is to estimate θ based on our observations.\n"
   ]
  },
  {
   "cell_type": "markdown",
   "metadata": {},
   "source": [
    "Frequentists use tools like *hypothesis testing* and *confidence intervals* to make inferences. For instance, after flipping the coin 1000 times and getting 520 heads, a Frequentist might say:\n",
    "\n",
    "> \"We're 95% confident that the true probability of heads lies between 0.49 and 0.55.\"\n"
   ]
  },
  {
   "cell_type": "markdown",
   "metadata": {},
   "source": [
    "<img src=\"./images/tmp/frequentist-estimate-path.jpg\" width=\"800\">"
   ]
  },
  {
   "cell_type": "markdown",
   "metadata": {},
   "source": [
    "This statement might sound straightforward, but it hides some subtle complexities. It *doesn't* mean \"there's a 95% chance the true probability is in this range.\" Instead, it means \"if we repeated this experiment many times, about 95% of our calculated intervals would contain the true value.\"\n"
   ]
  },
  {
   "cell_type": "markdown",
   "metadata": {},
   "source": [
    "This nuance highlights both the strength and the potential confusion in Frequentist methods. They provide rigorous, well-defined procedures for making decisions, but their interpretations can sometimes be counterintuitive.\n"
   ]
  },
  {
   "cell_type": "markdown",
   "metadata": {},
   "source": [
    "Let's dive deeper into the key concepts and practical applications of this approach.\n"
   ]
  },
  {
   "cell_type": "markdown",
   "metadata": {},
   "source": [
    "### <a id='toc1_1_'></a>[Key Concepts](#toc0_)\n"
   ]
  },
  {
   "cell_type": "markdown",
   "metadata": {},
   "source": [
    "The Frequentist approach is like being a *strict, by-the-book detective*. It focuses on:\n",
    "\n",
    "1. **Data as the sole source of truth**: Frequentists believe that the data we observe is our only reliable source of information.\n",
    "\n",
    "2. **Probability as long-term frequency**: If you repeat an experiment many, many times, the probability is the proportion of times you'd see a particular outcome.\n",
    "\n",
    "3. **Fixed parameters**: The underlying truth (like the real conversion rate in an A/B test) is considered fixed, but unknown.\n",
    "\n",
    "4. **Hypothesis testing**: Frequentists often use methods like p-values and confidence intervals to test hypotheses.\n"
   ]
  },
  {
   "cell_type": "markdown",
   "metadata": {},
   "source": [
    "### <a id='toc1_2_'></a>[How it works](#toc0_)\n"
   ]
  },
  {
   "cell_type": "markdown",
   "metadata": {},
   "source": [
    "Imagine you're flipping a coin. A Frequentist would say:\n",
    "\n",
    "- The coin has a *fixed* probability of landing heads (let's call it θ).\n",
    "- We don't know what θ is, but we can estimate it by flipping the coin many times.\n",
    "- If we flip it 100 times and get 60 heads, our best guess for θ is 0.6.\n"
   ]
  },
  {
   "cell_type": "markdown",
   "metadata": {},
   "source": [
    "### <a id='toc1_3_'></a>[Advantages and Limitations](#toc0_)\n"
   ]
  },
  {
   "cell_type": "markdown",
   "metadata": {},
   "source": [
    "**Advantages:**\n",
    "- ✅ Widely accepted and taught\n",
    "- ✅ Clear-cut decision rules\n",
    "- ✅ Doesn't require prior knowledge\n"
   ]
  },
  {
   "cell_type": "markdown",
   "metadata": {},
   "source": [
    "**Limitations:**\n",
    "- ❌ Can be unintuitive (what exactly is a p-value?)\n",
    "- ❌ Doesn't incorporate prior knowledge\n",
    "- ❌ May lead to overconfidence in results\n"
   ]
  },
  {
   "cell_type": "markdown",
   "metadata": {},
   "source": [
    "### <a id='toc1_4_'></a>[In Practice](#toc0_)\n"
   ]
  },
  {
   "cell_type": "markdown",
   "metadata": {},
   "source": [
    "In A/B testing, a Frequentist approach might involve:\n",
    "\n",
    "1. Setting up a null hypothesis (e.g., \"There's no difference between A and B\")\n",
    "2. Collecting data\n",
    "3. Calculating a p-value\n",
    "4. If p < 0.05, reject the null hypothesis and conclude there's a significant difference\n"
   ]
  },
  {
   "cell_type": "markdown",
   "metadata": {},
   "source": [
    "<img src=\"./images/tmp/frequentist.webp\" width=\"800\">"
   ]
  },
  {
   "cell_type": "markdown",
   "metadata": {},
   "source": [
    "Remember, the Frequentist is like a detective who *only* considers the evidence directly in front of them, without bringing in any outside information or hunches. It's a rigorous approach, but it might miss out on some valuable insights!"
   ]
  },
  {
   "cell_type": "markdown",
   "metadata": {},
   "source": [
    "## <a id='toc2_'></a>[Bayesian Approach](#toc0_)"
   ]
  },
  {
   "cell_type": "markdown",
   "metadata": {},
   "source": [
    "The Bayesian approach is like being an *intuitive detective who learns from experience*. It's based on the idea of updating our beliefs as we gather more evidence.\n"
   ]
  },
  {
   "cell_type": "markdown",
   "metadata": {},
   "source": [
    "Imagine you're trying to guess if your friend likes a new movie. You might start with a hunch based on their past preferences, then update your guess after hearing their comments about the film. That's Bayesian thinking in action!\n"
   ]
  },
  {
   "cell_type": "markdown",
   "metadata": {},
   "source": [
    "### <a id='toc2_1_'></a>[Key Concepts](#toc0_)\n"
   ]
  },
  {
   "cell_type": "markdown",
   "metadata": {},
   "source": [
    "1. **Prior beliefs**: Bayesians start with an initial belief (the \"prior\") about what might be true.\n",
    "\n",
    "2. **Updating beliefs**: As new data comes in, we update our beliefs to form a \"posterior\" probability.\n",
    "\n",
    "3. **Probability as degree of belief**: Unlike Frequentists, Bayesians view probability as a measure of uncertainty.\n",
    "\n",
    "4. **Parameters as variables**: The underlying truth (like movie preferences) can change, and we express our uncertainty about it.\n"
   ]
  },
  {
   "cell_type": "markdown",
   "metadata": {},
   "source": [
    "### <a id='toc2_2_'></a>[How it works](#toc0_)\n"
   ]
  },
  {
   "cell_type": "markdown",
   "metadata": {},
   "source": [
    "Let's revisit our coin-flipping example:\n",
    "\n",
    "- We start with a prior belief (maybe we think it's probably fair, but we're not sure).\n",
    "- We flip the coin and observe the results.\n",
    "- We update our belief based on what we saw.\n",
    "- The more data we collect, the more our belief converges towards the true probability.\n"
   ]
  },
  {
   "cell_type": "markdown",
   "metadata": {},
   "source": [
    "<img src=\"./images/tmp/bayesian-estimate-path.jpg\" width=\"800\">"
   ]
  },
  {
   "cell_type": "markdown",
   "metadata": {},
   "source": [
    "### <a id='toc2_3_'></a>[Advantages and Limitations](#toc0_)\n"
   ]
  },
  {
   "cell_type": "markdown",
   "metadata": {},
   "source": [
    "**Advantages:**\n",
    "- ✅ Incorporates prior knowledge\n",
    "- ✅ Provides intuitive probability statements\n",
    "- ✅ Handles small sample sizes well\n"
   ]
  },
  {
   "cell_type": "markdown",
   "metadata": {},
   "source": [
    "**Limitations:**\n",
    "- ❌ Choice of prior can be subjective\n",
    "- ❌ Can be computationally intensive\n",
    "- ❌ May be less widely accepted in some fields\n"
   ]
  },
  {
   "cell_type": "markdown",
   "metadata": {},
   "source": [
    "### <a id='toc2_4_'></a>[In Practice](#toc0_)\n"
   ]
  },
  {
   "cell_type": "markdown",
   "metadata": {},
   "source": [
    "In A/B testing, a Bayesian approach might involve:\n",
    "\n",
    "1. Starting with a prior belief about the difference between A and B\n",
    "2. Collecting data\n",
    "3. Updating our belief to form a posterior probability\n",
    "4. Making decisions based on the probability of A being better than B\n"
   ]
  },
  {
   "cell_type": "markdown",
   "metadata": {},
   "source": [
    "The Bayesian detective doesn't just look at the evidence in isolation. They bring in their experience, update their theories as new clues emerge, and express their conclusions in terms of probabilities. It's a flexible approach that can be powerful when used correctly!"
   ]
  },
  {
   "cell_type": "markdown",
   "metadata": {},
   "source": [
    "## <a id='toc3_'></a>[Comparing Frequentist and Bayesian Methods](#toc0_)"
   ]
  },
  {
   "cell_type": "markdown",
   "metadata": {},
   "source": [
    "### <a id='toc3_1_'></a>[Philosophical Differences](#toc0_)\n"
   ]
  },
  {
   "cell_type": "markdown",
   "metadata": {},
   "source": [
    "Imagine two detectives approaching a crime scene:\n",
    "\n",
    "1. **The Frequentist Detective**: \"I'll only consider the evidence right in front of me. My personal hunches don't matter.\"\n",
    "\n",
    "2. **The Bayesian Detective**: \"I'll start with what I know from past cases, then adjust my theory as I gather more clues.\"\n"
   ]
  },
  {
   "cell_type": "markdown",
   "metadata": {},
   "source": [
    "This analogy highlights the core philosophical differences:\n",
    "\n",
    "- **Objectivity vs. Subjectivity**: Frequentists aim for objectivity by focusing solely on the data. Bayesians embrace subjectivity by incorporating prior beliefs.\n",
    "\n",
    "- **Fixed Truth vs. Uncertain Knowledge**: Frequentists see the truth as fixed but unknown. Bayesians express uncertainty about the truth itself.\n",
    "\n",
    "- **Long-run Frequency vs. Degree of Belief**: For Frequentists, probability is about long-term frequencies. For Bayesians, it's a measure of uncertainty.\n"
   ]
  },
  {
   "cell_type": "markdown",
   "metadata": {},
   "source": [
    "### <a id='toc3_2_'></a>[Practical Implications](#toc0_)\n"
   ]
  },
  {
   "cell_type": "markdown",
   "metadata": {},
   "source": [
    "These philosophical differences lead to practical distinctions:\n",
    "\n",
    "1. **Interpretation of Results**:\n",
    "   - *Frequentist*: \"If we repeated this experiment many times, we'd see this result in 95% of cases.\"\n",
    "   - *Bayesian*: \"There's a 95% probability that the true value lies in this range.\"\n",
    "\n",
    "2. **Sample Size Sensitivity**:\n",
    "   - *Frequentist* methods often require larger sample sizes for reliable results.\n",
    "   - *Bayesian* methods can work well with smaller samples, thanks to the prior.\n",
    "\n",
    "3. **Updating Beliefs**:\n",
    "   - *Frequentists* typically don't update probabilities as new data arrives.\n",
    "   - *Bayesians* naturally incorporate new information to update beliefs.\n",
    "\n",
    "4. **Handling Complex Models**:\n",
    "   - *Frequentist* methods can struggle with very complex models.\n",
    "   - *Bayesian* approaches often handle complexity more gracefully.\n",
    "\n",
    "5. **Communication of Results**:\n",
    "   - *Frequentist* results (like p-values) can be hard to interpret intuitively.\n",
    "   - *Bayesian* probabilities are often more intuitive for non-experts.\n"
   ]
  },
  {
   "cell_type": "markdown",
   "metadata": {},
   "source": [
    "Remember, neither approach is universally \"better\". The choice often depends on the specific problem, available data, and sometimes even the field you're working in. A skilled data scientist should be comfortable using both approaches, knowing when each is most appropriate!"
   ]
  },
  {
   "cell_type": "markdown",
   "metadata": {},
   "source": [
    "## <a id='toc4_'></a>[Applications in A/B Testing](#toc0_)"
   ]
  },
  {
   "cell_type": "markdown",
   "metadata": {},
   "source": [
    "A/B testing is like being a chef trying out new recipes. You want to know which version (A or B) your customers prefer. Let's see how our two approaches tackle this culinary challenge!\n"
   ]
  },
  {
   "cell_type": "markdown",
   "metadata": {},
   "source": [
    "### <a id='toc4_1_'></a>[Frequentist A/B Testing](#toc0_)\n"
   ]
  },
  {
   "cell_type": "markdown",
   "metadata": {},
   "source": [
    "Imagine you're testing two pizza recipes:\n",
    "\n",
    "1. **Set up the experiment**:\n",
    "   - Null hypothesis: \"There's no difference between recipes A and B\"\n",
    "   - Alternative hypothesis: \"There is a difference\"\n",
    "\n",
    "2. **Collect data**: Serve both pizzas to customers and record their preferences.\n",
    "\n",
    "3. **Analyze results**:\n",
    "   - Calculate the difference in preference rates\n",
    "   - Compute a p-value (probability of seeing this difference if there's truly no difference)\n",
    "\n",
    "4. **Make a decision**:\n",
    "   - If p-value < 0.05, declare a \"significant\" difference\n",
    "   - If p-value ≥ 0.05, say there's not enough evidence of a difference\n"
   ]
  },
  {
   "cell_type": "markdown",
   "metadata": {},
   "source": [
    "**Example**: After serving 1000 pizzas (500 of each), you find:\n",
    "- Recipe A: 260 preferences (52%)\n",
    "- Recipe B: 240 preferences (48%)\n",
    "- p-value = 0.08\n"
   ]
  },
  {
   "cell_type": "markdown",
   "metadata": {},
   "source": [
    "**Conclusion**: \"We don't have strong evidence that one recipe is preferred over the other.\"\n"
   ]
  },
  {
   "cell_type": "markdown",
   "metadata": {},
   "source": [
    "### <a id='toc4_2_'></a>[Bayesian A/B Testing](#toc0_)\n"
   ]
  },
  {
   "cell_type": "markdown",
   "metadata": {},
   "source": [
    "Now let's approach it the Bayesian way:\n",
    "\n",
    "1. **Start with a prior**: Maybe you think both recipes are equally good to begin with.\n",
    "\n",
    "2. **Collect data**: Same as before, serve pizzas and record preferences.\n",
    "\n",
    "3. **Update beliefs**: Use the data to update your prior belief.\n",
    "\n",
    "4. **Calculate probabilities**: Determine the probability that A is better than B.\n"
   ]
  },
  {
   "cell_type": "markdown",
   "metadata": {},
   "source": [
    "**Example**: Using the same data as before:\n",
    "\n",
    "- Prior: 50% chance each recipe is better\n",
    "- After data: 80% probability that Recipe A is better\n"
   ]
  },
  {
   "cell_type": "markdown",
   "metadata": {},
   "source": [
    "**Conclusion**: \"There's an 80% chance that Recipe A is truly preferred over Recipe B.\"\n"
   ]
  },
  {
   "cell_type": "markdown",
   "metadata": {},
   "source": [
    "### <a id='toc4_3_'></a>[Key Differences](#toc0_)\n"
   ]
  },
  {
   "cell_type": "markdown",
   "metadata": {},
   "source": [
    "<img src=\"./images/tmp/frequentist-vs-bayesian.png\" width=\"800\">"
   ]
  },
  {
   "cell_type": "markdown",
   "metadata": {},
   "source": [
    "1. **Interpretation**: \n",
    "   - Frequentist: Talks about the probability of the data, given the hypothesis\n",
    "   - Bayesian: Gives the probability of the hypothesis, given the data\n",
    "\n",
    "2. **Decision Making**:\n",
    "   - Frequentist: Binary decision based on a threshold (e.g., p < 0.05)\n",
    "   - Bayesian: Provides a probability, allowing for more nuanced decisions\n",
    "\n",
    "3. **Early Stopping**:\n",
    "   - Frequentist: Generally requires a fixed sample size\n",
    "   - Bayesian: Allows for continuous monitoring and early stopping\n",
    "\n",
    "4. **Intuition**:\n",
    "   - Frequentist: \"Is there a significant difference?\"\n",
    "   - Bayesian: \"What's the probability that A is better than B?\"\n"
   ]
  },
  {
   "cell_type": "markdown",
   "metadata": {},
   "source": [
    "Both approaches have their merits. Frequentist methods are widely accepted and can be simpler to implement. Bayesian methods offer more intuitive interpretations and flexibility. Choose wisely, and may your A/B tests always lead to delicious insights!"
   ]
  },
  {
   "cell_type": "markdown",
   "metadata": {},
   "source": [
    "## <a id='toc5_'></a>[Choosing the Right Approach](#toc0_)"
   ]
  },
  {
   "cell_type": "markdown",
   "metadata": {},
   "source": [
    "Selecting between Frequentist and Bayesian methods is like choosing the right tool for a job. Let's explore how to make this choice and clear up some common misunderstandings.\n"
   ]
  },
  {
   "cell_type": "markdown",
   "metadata": {},
   "source": [
    "### <a id='toc5_1_'></a>[Considerations for Method Selection](#toc0_)\n"
   ]
  },
  {
   "cell_type": "markdown",
   "metadata": {},
   "source": [
    "1. **Available Prior Information**:\n",
    "   - *Lots of prior knowledge?* → Bayesian might be better\n",
    "   - *Starting from scratch?* → Frequentist could be simpler\n",
    "\n",
    "2. **Sample Size**:\n",
    "   - *Small sample?* → Bayesian can be more reliable\n",
    "   - *Large sample?* → Both methods often converge to similar results\n",
    "\n",
    "3. **Complexity of the Problem**:\n",
    "   - *Simple, well-defined question?* → Frequentist might be sufficient\n",
    "   - *Complex, multi-layered problem?* → Bayesian can handle this better\n",
    "\n",
    "4. **Desired Output**:\n",
    "   - *Need a clear yes/no decision?* → Frequentist hypothesis testing is straightforward\n",
    "   - *Want probabilities of different outcomes?* → Bayesian gives this naturally\n",
    "\n",
    "5. **Computational Resources**:\n",
    "   - *Limited computing power?* → Simple Frequentist methods are often faster\n",
    "   - *Access to powerful computers?* → Complex Bayesian models become more feasible\n",
    "\n",
    "6. **Field Standards**:\n",
    "   - Some fields prefer or require specific approaches. Check your industry norms!\n"
   ]
  },
  {
   "cell_type": "markdown",
   "metadata": {},
   "source": [
    "### <a id='toc5_2_'></a>[Common Misconceptions](#toc0_)\n"
   ]
  },
  {
   "cell_type": "markdown",
   "metadata": {},
   "source": [
    "1. **\"Bayesian methods are always better\"**:\n",
    "   - *Reality*: Both approaches have their strengths. The best choice depends on the specific situation.\n",
    "\n",
    "2. **\"P-values tell you the probability of your hypothesis being true\"**:\n",
    "   - *Reality*: P-values are about the probability of the data, given the null hypothesis, not the other way around.\n",
    "\n",
    "3. **\"Bayesian methods are too subjective\"**:\n",
    "   - *Reality*: While priors can be subjective, they're often based on previous data or expert knowledge.\n",
    "\n",
    "4. **\"Frequentist methods are more 'scientific'\"**:\n",
    "   - *Reality*: Both approaches can be rigorous when applied correctly.\n",
    "\n",
    "5. **\"You can't mix Frequentist and Bayesian methods\"**:\n",
    "   - *Reality*: Some modern approaches combine elements from both philosophies.\n",
    "\n",
    "6. **\"Once you choose an approach, stick to it forever\"**:\n",
    "   - *Reality*: It's valuable to be flexible and choose the best tool for each specific problem.\n"
   ]
  },
  {
   "cell_type": "markdown",
   "metadata": {},
   "source": [
    "Remember, the goal is to make good decisions based on data. Both Frequentist and Bayesian methods are powerful tools to help you do that. Understanding their strengths and limitations will make you a more effective data scientist!"
   ]
  },
  {
   "cell_type": "markdown",
   "metadata": {},
   "source": [
    "## <a id='toc6_'></a>[Conclusion](#toc0_)"
   ]
  },
  {
   "cell_type": "markdown",
   "metadata": {},
   "source": [
    "As we wrap up our journey through the world of statistical inference, let's recap the main ideas:\n",
    "\n",
    "1. **Two Main Approaches**:\n",
    "   - *Frequentist*: Based on long-run frequencies and fixed parameters\n",
    "   - *Bayesian*: Incorporates prior beliefs and updates probabilities\n",
    "\n",
    "2. **Key Differences**:\n",
    "   - *Philosophy*: Objectivity vs. incorporation of prior knowledge\n",
    "   - *Interpretation*: Probability of data vs. probability of hypotheses\n",
    "   - *Application*: Hypothesis testing vs. probabilistic reasoning\n",
    "\n",
    "3. **Strengths and Weaknesses**:\n",
    "   - *Frequentist*: Widely accepted, clear-cut rules, but can be unintuitive\n",
    "   - *Bayesian*: Intuitive probabilities, handles complexity well, but can be computationally intensive\n",
    "\n",
    "4. **Practical Applications**:\n",
    "   - Both approaches have their place in A/B testing and other real-world scenarios\n",
    "   - Choice depends on context, available data, and specific needs of the problem\n",
    "\n",
    "5. **No Universal \"Best\" Method**:\n",
    "   - The appropriate approach varies based on the situation\n",
    "   - Understanding both methods enriches your analytical toolkit\n"
   ]
  },
  {
   "cell_type": "markdown",
   "metadata": {},
   "source": [
    "As data science continues to evolve, the ability to choose and apply the right inferential approach will remain crucial. By understanding both Frequentist and Bayesian methods, you're well-equipped to tackle the analytical challenges of today and tomorrow. Keep learning, stay curious, and may your inferences always be insightful!"
   ]
  },
  {
   "cell_type": "markdown",
   "metadata": {},
   "source": [
    "## <a id='toc7_'></a>[Exercises](#toc0_)"
   ]
  },
  {
   "cell_type": "markdown",
   "metadata": {},
   "source": [
    "1. **Concept Check**: Explain the key difference between Frequentist and Bayesian interpretations of probability.\n",
    "\n",
    "2. **Scenario**: You're testing a new website design. After 1000 visitors, the new design has a 22% conversion rate, while the old design had a 20% rate. \n",
    "   a) How would a Frequentist approach this?\n",
    "   b) How would a Bayesian approach this?\n",
    "\n",
    "3. **Calculation**: In a Frequentist A/B test, you get a p-value of 0.03. What does this mean?\n",
    "\n",
    "4. **Discussion**: When might you prefer a Bayesian approach over a Frequentist approach in A/B testing?\n"
   ]
  },
  {
   "cell_type": "markdown",
   "metadata": {},
   "source": [
    "### <a id='toc7_1_'></a>[Solutions](#toc0_)\n"
   ]
  },
  {
   "cell_type": "markdown",
   "metadata": {},
   "source": [
    "1. Frequentist: Probability as long-term frequency of events.\n",
    "   Bayesian: Probability as degree of belief, updated with new information.\n",
    "\n",
    "2. a) Frequentist: Calculate the difference in proportions, compute a p-value to determine if the difference is statistically significant.\n",
    "   b) Bayesian: Start with a prior belief, update it with the observed data to get a posterior probability that the new design is better.\n",
    "\n",
    "3. If the null hypothesis (no difference between groups) were true, you'd observe a result this extreme or more extreme 3% of the time.\n",
    "\n",
    "4. Bayesian might be preferred when:\n",
    "   - You have relevant prior information\n",
    "   - You want to make decisions with limited data\n",
    "   - You need to express results as probabilities of hypotheses"
   ]
  }
 ],
 "metadata": {
  "language_info": {
   "name": "python"
  }
 },
 "nbformat": 4,
 "nbformat_minor": 2
}
