{
 "cells": [
  {
   "cell_type": "markdown",
   "metadata": {},
   "source": [
    "<img src=\"./images/banner.png\" width=\"800\">"
   ]
  },
  {
   "cell_type": "markdown",
   "metadata": {},
   "source": [
    "# Common Continuous Probability Distributions"
   ]
  },
  {
   "cell_type": "markdown",
   "metadata": {},
   "source": [
    "Continuous probability distributions are fundamental tools in statistics, data science, and machine learning. They describe the probabilities of possible values for continuous random variables - variables that can take on any value within a given range. Unlike their discrete counterparts, continuous distributions deal with an infinite number of possible outcomes.\n"
   ]
  },
  {
   "cell_type": "markdown",
   "metadata": {},
   "source": [
    "Key characteristics of continuous distributions include:\n",
    "1. They are defined over a continuous interval of real numbers.\n",
    "2. The probability of any single point is zero.\n",
    "3. Probabilities are calculated for ranges of values, not individual points.\n",
    "4. They are described by probability density functions (PDFs) rather than probability mass functions.\n"
   ]
  },
  {
   "cell_type": "markdown",
   "metadata": {},
   "source": [
    "| Aspect | Discrete Distributions | Continuous Distributions |\n",
    "|--------|------------------------|--------------------------|\n",
    "| Possible Values | Countable set of values | Uncountable, infinite set of values |\n",
    "| Probability of a Single Value | Can be non-zero | Always zero |\n",
    "| Representation | Probability Mass Function (PMF) | Probability Density Function (PDF) |\n",
    "| Cumulative Probability | Sum of individual probabilities | Integral of the PDF |\n",
    "| Examples | Binomial, Poisson, Geometric | Normal, Exponential, Uniform |\n"
   ]
  },
  {
   "cell_type": "markdown",
   "metadata": {},
   "source": [
    "Implementing continuous probability distributions is essential for various data science and machine learning tasks, including:\n",
    "1. **Data Modeling**: Many real-world phenomena are continuous (e.g., height, weight, time).\n",
    "\n",
    "2. **Statistical Inference**: Hypothesis tests and confidence intervals often assume continuous distributions.\n",
    "\n",
    "3. **Machine Learning Algorithms**: \n",
    "   - Gaussian processes\n",
    "   - Kernel density estimation\n",
    "   - Bayesian inference\n",
    "\n",
    "4. **Simulation and Sampling**: Generating synthetic data for testing and validation.\n",
    "\n",
    "5. **Risk Analysis**: Modeling financial returns, insurance claims, etc.\n",
    "\n",
    "6. **Natural Phenomena**: Describing physical, biological, and social processes.\n"
   ]
  },
  {
   "cell_type": "markdown",
   "metadata": {},
   "source": [
    "In this lecture, we'll cover five common continuous probability distributions:\n",
    "1. Uniform Distribution\n",
    "2. Normal (Gaussian) Distribution\n",
    "3. Exponential Distribution\n",
    "4. Gamma Distribution\n",
    "5. Beta Distribution\n"
   ]
  },
  {
   "cell_type": "markdown",
   "metadata": {},
   "source": [
    "Each of these distributions has unique properties and applications, making them invaluable tools in various fields of study and practical applications.\n"
   ]
  },
  {
   "cell_type": "markdown",
   "metadata": {},
   "source": [
    "As we progress through this lecture, we'll explore the characteristics, mathematical formulations, and real-world applications of these distributions. Understanding when and how to apply these continuous distributions will significantly enhance your ability to model and analyze complex data in your data science and machine learning projects.\n"
   ]
  },
  {
   "cell_type": "markdown",
   "metadata": {},
   "source": [
    "Remember, while these distributions are powerful tools, real-world data often doesn't perfectly fit any single distribution. It's crucial to validate your assumptions and consider the context of your data when applying these models."
   ]
  },
  {
   "cell_type": "markdown",
   "metadata": {},
   "source": [
    "**Table of contents**<a id='toc0_'></a>    \n",
    "- [Uniform Distribution](#toc1_)    \n",
    "  - [Probability Density Function (PDF)](#toc1_1_)    \n",
    "  - [Cumulative Distribution Function (CDF)](#toc1_2_)    \n",
    "  - [Mean and Variance](#toc1_3_)    \n",
    "  - [Examples and Applications](#toc1_4_)    \n",
    "  - [Key Takeaways](#toc1_5_)    \n",
    "- [Normal (Gaussian) Distribution](#toc2_)    \n",
    "  - [Standard Normal Distribution](#toc2_1_)    \n",
    "  - [Probability Density Function (PDF)](#toc2_2_)    \n",
    "  - [Cumulative Distribution Function (CDF)](#toc2_3_)    \n",
    "  - [Mean and Variance](#toc2_4_)    \n",
    "  - [Central Limit Theorem](#toc2_5_)    \n",
    "  - [Examples and Applications](#toc2_6_)    \n",
    "  - [Key Takeaways](#toc2_7_)    \n",
    "- [Exponential Distribution](#toc3_)    \n",
    "  - [Relationship to Poisson Process](#toc3_1_)    \n",
    "  - [Probability Density Function (PDF)](#toc3_2_)    \n",
    "  - [Cumulative Distribution Function (CDF)](#toc3_3_)    \n",
    "  - [Mean and Variance](#toc3_4_)    \n",
    "  - [Memoryless Property](#toc3_5_)    \n",
    "  - [Examples and Applications](#toc3_6_)    \n",
    "  - [Practical Example: Customer Service Call Center](#toc3_7_)    \n",
    "  - [Key Takeaways](#toc3_8_)    \n",
    "- [(Optional) Gamma Distribution](#toc4_)    \n",
    "  - [Relationship to Exponential and Chi-squared Distributions](#toc4_1_)    \n",
    "  - [Probability Density Function (PDF)](#toc4_2_)    \n",
    "  - [Mean and Variance](#toc4_3_)    \n",
    "  - [Examples and Applications](#toc4_4_)    \n",
    "  - [Practical Example: Insurance Claims](#toc4_5_)    \n",
    "  - [Key Takeaways](#toc4_6_)    \n",
    "- [(Optional) Beta Distribution](#toc5_)    \n",
    "  - [Probability Density Function (PDF)](#toc5_1_)    \n",
    "  - [Mean and Variance](#toc5_2_)    \n",
    "  - [Applications in Bayesian Inference](#toc5_3_)    \n",
    "  - [Examples and Applications](#toc5_4_)    \n",
    "  - [Key Takeaways](#toc5_5_)    \n",
    "- [Comparison of Distributions](#toc6_)    \n",
    "  - [When to use each distribution](#toc6_1_)    \n",
    "  - [Relationships between distributions](#toc6_2_)    \n",
    "  - [Comparison table](#toc6_3_)    \n",
    "  - [Key considerations for selection](#toc6_4_)    \n",
    "  - [Practical example: Modeling customer behavior](#toc6_5_)    \n",
    "- [Summary and Key Takeaways](#toc7_)    \n",
    "\n",
    "<!-- vscode-jupyter-toc-config\n",
    "\tnumbering=false\n",
    "\tanchor=true\n",
    "\tflat=false\n",
    "\tminLevel=2\n",
    "\tmaxLevel=6\n",
    "\t/vscode-jupyter-toc-config -->\n",
    "<!-- THIS CELL WILL BE REPLACED ON TOC UPDATE. DO NOT WRITE YOUR TEXT IN THIS CELL -->"
   ]
  },
  {
   "cell_type": "markdown",
   "metadata": {},
   "source": [
    "## <a id='toc1_'></a>[Uniform Distribution](#toc0_)"
   ]
  },
  {
   "cell_type": "markdown",
   "metadata": {},
   "source": [
    "The Uniform distribution is one of the simplest continuous probability distributions. It describes a scenario where all outcomes within a given range are equally likely to occur.\n"
   ]
  },
  {
   "cell_type": "markdown",
   "metadata": {},
   "source": [
    "A continuous random variable X follows a Uniform distribution if:\n",
    "\n",
    "1. It has a constant probability density over a defined interval [a, b].\n",
    "2. The probability of X falling outside this interval is zero.\n"
   ]
  },
  {
   "cell_type": "markdown",
   "metadata": {},
   "source": [
    "We denote this as X ~ U(a, b), where:\n",
    "- a is the lower bound of the interval\n",
    "- b is the upper bound of the interval\n"
   ]
  },
  {
   "cell_type": "markdown",
   "metadata": {},
   "source": [
    "<img src=\"./images/tmp/uniform-dist.png\" width=\"600\">"
   ]
  },
  {
   "cell_type": "markdown",
   "metadata": {},
   "source": [
    "Key properties:\n",
    "- Every value within [a, b] has an equal likelihood of occurring.\n",
    "- It's fully defined by its minimum (a) and maximum (b) values.\n",
    "- It's symmetric around its mean.\n"
   ]
  },
  {
   "cell_type": "markdown",
   "metadata": {},
   "source": [
    "### <a id='toc1_1_'></a>[Probability Density Function (PDF)](#toc0_)\n"
   ]
  },
  {
   "cell_type": "markdown",
   "metadata": {},
   "source": [
    "The PDF of a Uniform distribution is given by:\n",
    "\n",
    "$f(x) = \\begin{cases} \n",
    "\\frac{1}{b-a} & \\text{for } a \\leq x \\leq b \\\\\n",
    "0 & \\text{otherwise}\n",
    "\\end{cases}$\n"
   ]
  },
  {
   "cell_type": "markdown",
   "metadata": {},
   "source": [
    "This constant value (1/(b-a)) ensures that the total area under the PDF equals 1.\n"
   ]
  },
  {
   "cell_type": "markdown",
   "metadata": {},
   "source": [
    "### <a id='toc1_2_'></a>[Cumulative Distribution Function (CDF)](#toc0_)\n"
   ]
  },
  {
   "cell_type": "markdown",
   "metadata": {},
   "source": [
    "The CDF of a Uniform distribution is:\n",
    "\n",
    "$F(x) = \\begin{cases} \n",
    "0 & \\text{for } x < a \\\\\n",
    "\\frac{x-a}{b-a} & \\text{for } a \\leq x \\leq b \\\\\n",
    "1 & \\text{for } x > b\n",
    "\\end{cases}$\n"
   ]
  },
  {
   "cell_type": "markdown",
   "metadata": {},
   "source": [
    "The CDF represents the probability that X takes on a value less than or equal to x.\n"
   ]
  },
  {
   "cell_type": "markdown",
   "metadata": {},
   "source": [
    "### <a id='toc1_3_'></a>[Mean and Variance](#toc0_)\n"
   ]
  },
  {
   "cell_type": "markdown",
   "metadata": {},
   "source": [
    "For X ~ U(a, b):\n",
    "\n",
    "- Mean (Expected Value): E[X] = (a + b) / 2\n",
    "- Variance: Var(X) = (b - a)² / 12\n"
   ]
  },
  {
   "cell_type": "markdown",
   "metadata": {},
   "source": [
    "These formulas provide insights into the central tendency and spread of the distribution.\n"
   ]
  },
  {
   "cell_type": "markdown",
   "metadata": {},
   "source": [
    "### <a id='toc1_4_'></a>[Examples and Applications](#toc0_)\n"
   ]
  },
  {
   "cell_type": "markdown",
   "metadata": {},
   "source": [
    "1. **Random Number Generation**\n",
    "   - Most programming languages use Uniform distributions to generate random numbers.\n",
    "\n",
    "2. **Simulation Studies**\n",
    "   - Used as a baseline distribution in Monte Carlo simulations.\n",
    "\n",
    "3. **Quantization Error in Digital Signal Processing**\n",
    "   - The error introduced by rounding in analog-to-digital conversion is often modeled as uniformly distributed.\n",
    "\n",
    "4. **Cryptography**\n",
    "   - Uniform distributions are crucial in generating encryption keys.\n",
    "\n",
    "5. **Bayesian Statistics**\n",
    "   - Often used as a non-informative prior when no prior information is available.\n",
    "\n",
    "6. **Operations Research**\n",
    "   - Modeling arrival times within a fixed interval in queuing theory.\n",
    "\n",
    "7. **Finance**\n",
    "   - Modeling stock prices over short intervals under certain assumptions.\n"
   ]
  },
  {
   "cell_type": "markdown",
   "metadata": {},
   "source": [
    "Suppose you're running an A/B test on a website, and you want to randomly assign users to either version A or B. You could use a Uniform(0, 1) distribution:\n"
   ]
  },
  {
   "cell_type": "markdown",
   "metadata": {},
   "source": [
    "```python\n",
    "import numpy as np\n",
    "\n",
    "def assign_version():\n",
    "    if np.random.uniform(0, 1) < 0.5:\n",
    "        return 'A'\n",
    "    else:\n",
    "        return 'B'\n",
    "\n",
    "# Simulate 1000 assignments\n",
    "assignments = [assign_version() for _ in range(1000)]\n",
    "print(f\"Version A: {assignments.count('A')}, Version B: {assignments.count('B')}\")\n",
    "```\n"
   ]
  },
  {
   "cell_type": "markdown",
   "metadata": {},
   "source": [
    "This ensures each user has an equal probability of being assigned to either version.\n"
   ]
  },
  {
   "cell_type": "markdown",
   "metadata": {},
   "source": [
    "### <a id='toc1_5_'></a>[Key Takeaways](#toc0_)\n"
   ]
  },
  {
   "cell_type": "markdown",
   "metadata": {},
   "source": [
    "1. The Uniform distribution is characterized by constant probability over a fixed interval.\n",
    "2. It's simple to understand and implement, making it useful for many basic modeling scenarios.\n",
    "3. While real-world phenomena rarely follow a perfect Uniform distribution, it's often used as a component in more complex models or as a null hypothesis in statistical tests.\n",
    "4. Understanding the Uniform distribution is crucial as it forms the basis for many random number generation techniques used in simulations and Monte Carlo methods.\n"
   ]
  },
  {
   "cell_type": "markdown",
   "metadata": {},
   "source": [
    "The Uniform distribution, despite its simplicity, plays a vital role in various areas of data science and machine learning, particularly in simulation, randomization, and as a building block for more complex distributions."
   ]
  },
  {
   "cell_type": "markdown",
   "metadata": {},
   "source": [
    "## <a id='toc2_'></a>[Normal (Gaussian) Distribution](#toc0_)\n"
   ]
  },
  {
   "cell_type": "markdown",
   "metadata": {},
   "source": [
    "The Normal distribution, also known as the Gaussian distribution, is one of the most important probability distributions in statistics and data science. It's characterized by its distinctive \"bell curve\" shape and has numerous applications across various fields.\n"
   ]
  },
  {
   "cell_type": "markdown",
   "metadata": {},
   "source": [
    "A continuous random variable X follows a Normal distribution if its probability density function follows a specific bell-shaped curve.\n"
   ]
  },
  {
   "cell_type": "markdown",
   "metadata": {},
   "source": [
    "<img src=\"./images/tmp/normal-dist.webp\" width=\"600\">"
   ]
  },
  {
   "cell_type": "markdown",
   "metadata": {},
   "source": [
    "Key properties:\n",
    "1. Symmetrical about the mean\n",
    "2. The mean, median, and mode are all equal\n",
    "3. The total area under the curve is 1\n",
    "4. Defined by two parameters: mean (μ) and standard deviation (σ)\n",
    "5. Approximately 68% of the data falls within one standard deviation of the mean, 95% within two, and 99.7% within three (the \"68-95-99.7 rule\")\n"
   ]
  },
  {
   "cell_type": "markdown",
   "metadata": {},
   "source": [
    "We denote this as X ~ N(μ, σ²), where σ² is the variance.\n"
   ]
  },
  {
   "cell_type": "markdown",
   "metadata": {},
   "source": [
    "### <a id='toc2_1_'></a>[Standard Normal Distribution](#toc0_)\n"
   ]
  },
  {
   "cell_type": "markdown",
   "metadata": {},
   "source": [
    "The Standard Normal distribution is a special case where μ = 0 and σ = 1. We denote this as Z ~ N(0, 1).\n"
   ]
  },
  {
   "cell_type": "markdown",
   "metadata": {},
   "source": [
    "Any Normal distribution can be converted to the Standard Normal using the formula:\n",
    "\n",
    "Z = (X - μ) / σ\n",
    "\n",
    "This process is called standardization or z-score normalization.\n"
   ]
  },
  {
   "cell_type": "markdown",
   "metadata": {},
   "source": [
    "<img src=\"./images/tmp/standard-normal-dist.webp\" width=\"600\">"
   ]
  },
  {
   "cell_type": "markdown",
   "metadata": {},
   "source": [
    "### <a id='toc2_2_'></a>[Probability Density Function (PDF)](#toc0_)\n"
   ]
  },
  {
   "cell_type": "markdown",
   "metadata": {},
   "source": [
    "The PDF of a Normal distribution is given by:\n",
    "\n",
    "$f(x) = \\frac{1}{\\sigma \\sqrt{2\\pi}} e^{-\\frac{1}{2}(\\frac{x-\\mu}{\\sigma})^2}$\n"
   ]
  },
  {
   "cell_type": "markdown",
   "metadata": {},
   "source": [
    "For the Standard Normal distribution, this simplifies to:\n",
    "\n",
    "$f(z) = \\frac{1}{\\sqrt{2\\pi}} e^{-\\frac{z^2}{2}}$\n"
   ]
  },
  {
   "cell_type": "markdown",
   "metadata": {},
   "source": [
    "### <a id='toc2_3_'></a>[Cumulative Distribution Function (CDF)](#toc0_)\n"
   ]
  },
  {
   "cell_type": "markdown",
   "metadata": {},
   "source": [
    "The CDF of a Normal distribution doesn't have a closed-form expression. It's typically denoted as Φ(x) and is calculated using numerical methods or looked up in standard normal tables.\n"
   ]
  },
  {
   "cell_type": "markdown",
   "metadata": {},
   "source": [
    "For the Standard Normal distribution:\n",
    "\n",
    "$\\Phi(z) = \\frac{1}{\\sqrt{2\\pi}} \\int_{-\\infty}^z e^{-\\frac{t^2}{2}} dt$\n"
   ]
  },
  {
   "cell_type": "markdown",
   "metadata": {},
   "source": [
    "### <a id='toc2_4_'></a>[Mean and Variance](#toc0_)\n"
   ]
  },
  {
   "cell_type": "markdown",
   "metadata": {},
   "source": [
    "For X ~ N(μ, σ²):\n",
    "- Mean: E[X] = μ\n",
    "- Variance: Var(X) = σ²\n"
   ]
  },
  {
   "cell_type": "markdown",
   "metadata": {},
   "source": [
    "### <a id='toc2_5_'></a>[Central Limit Theorem](#toc0_)\n"
   ]
  },
  {
   "cell_type": "markdown",
   "metadata": {},
   "source": [
    "The Central Limit Theorem (CLT) is a fundamental concept in probability theory. It states that the distribution of the sample means approximates a Normal distribution as the sample size becomes large, regardless of the underlying distribution of the population.\n"
   ]
  },
  {
   "cell_type": "markdown",
   "metadata": {},
   "source": [
    "This theorem explains why the Normal distribution is so prevalent in nature and why it's often used as a default assumption in many statistical methods.\n"
   ]
  },
  {
   "cell_type": "markdown",
   "metadata": {},
   "source": [
    "### <a id='toc2_6_'></a>[Examples and Applications](#toc0_)\n"
   ]
  },
  {
   "cell_type": "markdown",
   "metadata": {},
   "source": [
    "1. **Natural Phenomena**\n",
    "   - Heights of people, measurement errors, IQ scores\n",
    "\n",
    "2. **Financial Modeling**\n",
    "   - Stock returns, option pricing (Black-Scholes model)\n",
    "\n",
    "3. **Machine Learning**\n",
    "   - Gaussian processes, neural network weight initialization\n",
    "\n",
    "4. **Quality Control**\n",
    "   - Manufacturing processes, measurement errors\n",
    "\n",
    "5. **Social Sciences**\n",
    "   - Test scores, survey results\n",
    "\n",
    "6. **Biological Sciences**\n",
    "   - Blood pressure, gene expression levels\n",
    "\n",
    "7. **Signal Processing**\n",
    "   - Noise modeling in communications systems\n"
   ]
  },
  {
   "cell_type": "markdown",
   "metadata": {},
   "source": [
    "### <a id='toc2_7_'></a>[Key Takeaways](#toc0_)\n"
   ]
  },
  {
   "cell_type": "markdown",
   "metadata": {},
   "source": [
    "1. The Normal distribution is ubiquitous in nature and forms the foundation for many statistical methods.\n",
    "2. Its symmetry and well-understood properties make it a powerful tool for modeling and analysis.\n",
    "3. The Standard Normal distribution (Z-distribution) is crucial for standardizing and comparing different Normal distributions.\n",
    "4. The Central Limit Theorem explains why many phenomena in nature and statistics tend to follow a Normal distribution.\n",
    "5. Understanding the Normal distribution is essential for many areas of data science, including hypothesis testing, regression analysis, and machine learning algorithms.\n"
   ]
  },
  {
   "cell_type": "markdown",
   "metadata": {},
   "source": [
    "The Normal distribution's prevalence in natural phenomena, combined with its mathematical properties and the Central Limit Theorem, make it an indispensable tool in the data scientist's toolkit. Its applications span from basic data analysis to complex machine learning models, underscoring its importance in the field."
   ]
  },
  {
   "cell_type": "markdown",
   "metadata": {},
   "source": [
    "## <a id='toc3_'></a>[Exponential Distribution](#toc0_)"
   ]
  },
  {
   "cell_type": "markdown",
   "metadata": {},
   "source": [
    "<img src=\"./images/tmp/exponential-dist.jpg\" width=\"600\">"
   ]
  },
  {
   "cell_type": "markdown",
   "metadata": {},
   "source": [
    "The Exponential distribution is a continuous probability distribution that describes the time between events in a Poisson process, i.e., a process in which events occur continuously and independently at a constant average rate."
   ]
  },
  {
   "cell_type": "markdown",
   "metadata": {},
   "source": [
    "A continuous random variable X follows an Exponential distribution if it describes the time between events in a Poisson process.\n"
   ]
  },
  {
   "cell_type": "markdown",
   "metadata": {},
   "source": [
    "Key properties:\n",
    "1. It models the time until an event occurs\n",
    "2. It's defined by a single parameter λ (lambda), which is the rate parameter\n",
    "3. The distribution is always right-skewed\n",
    "4. It has a thick right tail that decreases exponentially\n"
   ]
  },
  {
   "cell_type": "markdown",
   "metadata": {},
   "source": [
    "We denote this as X ~ Exp(λ), where λ > 0.\n"
   ]
  },
  {
   "cell_type": "markdown",
   "metadata": {},
   "source": [
    "### <a id='toc3_1_'></a>[Relationship to Poisson Process](#toc0_)\n"
   ]
  },
  {
   "cell_type": "markdown",
   "metadata": {},
   "source": [
    "The Exponential distribution is closely related to the Poisson distribution:\n",
    "- If events occur according to a Poisson process with rate λ, then the time between events follows an Exponential(λ) distribution.\n",
    "- If X ~ Exp(λ), then the number of events in a fixed time interval t follows a Poisson(λt) distribution.\n"
   ]
  },
  {
   "cell_type": "markdown",
   "metadata": {},
   "source": [
    "This relationship makes the Exponential distribution crucial in modeling time-based events.\n"
   ]
  },
  {
   "cell_type": "markdown",
   "metadata": {},
   "source": [
    "### <a id='toc3_2_'></a>[Probability Density Function (PDF)](#toc0_)\n"
   ]
  },
  {
   "cell_type": "markdown",
   "metadata": {},
   "source": [
    "The PDF of an Exponential distribution is given by:\n",
    "\n",
    "$f(x; λ) = \\begin{cases} \n",
    "λe^{-λx} & \\text{for } x ≥ 0 \\\\\n",
    "0 & \\text{for } x < 0\n",
    "\\end{cases}$\n"
   ]
  },
  {
   "cell_type": "markdown",
   "metadata": {},
   "source": [
    "Where:\n",
    "- x is the value of the random variable (usually time)\n",
    "- λ is the rate parameter\n"
   ]
  },
  {
   "cell_type": "markdown",
   "metadata": {},
   "source": [
    "### <a id='toc3_3_'></a>[Cumulative Distribution Function (CDF)](#toc0_)\n"
   ]
  },
  {
   "cell_type": "markdown",
   "metadata": {},
   "source": [
    "The CDF of an Exponential distribution is:\n",
    "\n",
    "$F(x; λ) = \\begin{cases} \n",
    "1 - e^{-λx} & \\text{for } x ≥ 0 \\\\\n",
    "0 & \\text{for } x < 0\n",
    "\\end{cases}$\n"
   ]
  },
  {
   "cell_type": "markdown",
   "metadata": {},
   "source": [
    "### <a id='toc3_4_'></a>[Mean and Variance](#toc0_)\n"
   ]
  },
  {
   "cell_type": "markdown",
   "metadata": {},
   "source": [
    "For X ~ Exp(λ):\n",
    "- Mean (Expected Value): E[X] = 1/λ\n",
    "- Variance: Var(X) = 1/λ²\n"
   ]
  },
  {
   "cell_type": "markdown",
   "metadata": {},
   "source": [
    "Note that the mean and standard deviation are equal (both 1/λ).\n"
   ]
  },
  {
   "cell_type": "markdown",
   "metadata": {},
   "source": [
    "### <a id='toc3_5_'></a>[Memoryless Property](#toc0_)\n"
   ]
  },
  {
   "cell_type": "markdown",
   "metadata": {},
   "source": [
    "The Exponential distribution has a unique characteristic called the memoryless property. This means that the probability of an event occurring in the next time interval is independent of how much time has already passed.\n"
   ]
  },
  {
   "cell_type": "markdown",
   "metadata": {},
   "source": [
    "Mathematically, for any s, t ≥ 0:\n",
    "\n",
    "- P(X > s + t | X > s) = P(X > t)\n"
   ]
  },
  {
   "cell_type": "markdown",
   "metadata": {},
   "source": [
    "This property makes the Exponential distribution useful for modeling phenomena where the past doesn't influence the future, like the time until the next radioactive decay or the lifetime of electronic components.\n"
   ]
  },
  {
   "cell_type": "markdown",
   "metadata": {},
   "source": [
    "### <a id='toc3_6_'></a>[Examples and Applications](#toc0_)\n"
   ]
  },
  {
   "cell_type": "markdown",
   "metadata": {},
   "source": [
    "1. **Reliability Engineering**\n",
    "   - Modeling the lifetime of electronic components\n",
    "\n",
    "2. **Queueing Theory**\n",
    "   - Time between customer arrivals in a service system\n",
    "\n",
    "3. **Survival Analysis**\n",
    "   - Time until a medical patient experiences a specific event (e.g., recovery, relapse)\n",
    "\n",
    "4. **Physics**\n",
    "   - Radioactive decay processes\n",
    "\n",
    "5. **Telecommunications**\n",
    "   - Modeling inter-arrival times of data packets\n",
    "\n",
    "6. **Finance**\n",
    "   - Modeling the time between stock trades\n",
    "\n",
    "7. **Customer Behavior**\n",
    "   - Time spent on a website\n"
   ]
  },
  {
   "cell_type": "markdown",
   "metadata": {},
   "source": [
    "### <a id='toc3_7_'></a>[Practical Example: Customer Service Call Center](#toc0_)\n"
   ]
  },
  {
   "cell_type": "markdown",
   "metadata": {},
   "source": [
    "Suppose calls to a customer service center arrive according to a Poisson process with an average rate of 5 calls per hour."
   ]
  },
  {
   "cell_type": "code",
   "execution_count": 1,
   "metadata": {},
   "outputs": [
    {
     "name": "stdout",
     "output_type": "stream",
     "text": [
      "Probability of waiting more than 15 minutes: 0.2865\n",
      "Average time between calls (simulated): 0.1986 hours\n"
     ]
    }
   ],
   "source": [
    "import numpy as np\n",
    "from scipy import stats\n",
    "\n",
    "# Parameter\n",
    "lambda_rate = 5  # 5 calls per hour\n",
    "\n",
    "# What's the probability of waiting more than 15 minutes for the next call?\n",
    "prob_wait_more_than_15min = 1 - stats.expon.cdf(0.25, scale=1/lambda_rate)\n",
    "print(f\"Probability of waiting more than 15 minutes: {prob_wait_more_than_15min:.4f}\")\n",
    "\n",
    "# Generate a sample of inter-arrival times\n",
    "inter_arrival_times = stats.expon.rvs(scale=1/lambda_rate, size=1000)\n",
    "average_time = np.mean(inter_arrival_times)\n",
    "print(f\"Average time between calls (simulated): {average_time:.4f} hours\")"
   ]
  },
  {
   "cell_type": "markdown",
   "metadata": {},
   "source": [
    "### <a id='toc3_8_'></a>[Key Takeaways](#toc0_)\n"
   ]
  },
  {
   "cell_type": "markdown",
   "metadata": {},
   "source": [
    "1. The Exponential distribution is fundamental for modeling time-to-event data.\n",
    "2. Its close relationship with the Poisson process makes it invaluable in many real-world applications.\n",
    "3. The memoryless property is unique and particularly useful in certain modeling scenarios.\n",
    "4. Understanding the Exponential distribution is crucial for various fields, including reliability analysis, queueing theory, and survival analysis.\n",
    "5. Its single parameter (λ) makes it relatively simple to work with, yet it's powerful enough to model many real-world phenomena.\n"
   ]
  },
  {
   "cell_type": "markdown",
   "metadata": {},
   "source": [
    "The Exponential distribution's ability to model waiting times and its memoryless property make it a crucial tool in various areas of data science and machine learning, particularly in scenarios involving time-to-event data or processes with constant average rates."
   ]
  },
  {
   "cell_type": "markdown",
   "metadata": {},
   "source": [
    "## <a id='toc4_'></a>[(Optional) Gamma Distribution](#toc0_)"
   ]
  },
  {
   "cell_type": "markdown",
   "metadata": {},
   "source": [
    "The Gamma distribution is a flexible, two-parameter family of continuous probability distributions. It's a generalization of the Exponential distribution and is widely used in various fields for modeling.\n"
   ]
  },
  {
   "cell_type": "markdown",
   "metadata": {},
   "source": [
    "A continuous random variable X follows a Gamma distribution if it represents the waiting time until the k-th event in a Poisson process.\n"
   ]
  },
  {
   "cell_type": "markdown",
   "metadata": {},
   "source": [
    "Key properties:\n",
    "1. It's defined by two parameters: \n",
    "   - k (shape parameter, also called α)\n",
    "   - θ (scale parameter, also called β)\n",
    "2. Always non-negative (x > 0)\n",
    "3. Right-skewed, but becomes more symmetric as k increases\n",
    "4. Versatile shape, depending on its parameters\n",
    "\n",
    "We denote this as X ~ Gamma(k, θ)\n"
   ]
  },
  {
   "cell_type": "markdown",
   "metadata": {},
   "source": [
    "<img src=\"./images/tmp/gamma-dist.jpg\" width=\"600\">"
   ]
  },
  {
   "cell_type": "markdown",
   "metadata": {},
   "source": [
    "Note: Sometimes the Gamma distribution is parameterized with α and β, where α = k and β = 1/θ.\n"
   ]
  },
  {
   "cell_type": "markdown",
   "metadata": {},
   "source": [
    "### <a id='toc4_1_'></a>[Relationship to Exponential and Chi-squared Distributions](#toc0_)\n"
   ]
  },
  {
   "cell_type": "markdown",
   "metadata": {},
   "source": [
    "1. Exponential Distribution:\n",
    "   - The Gamma distribution with k = 1 is equivalent to an Exponential distribution with λ = 1/θ.\n",
    "   - The sum of n independent Exponential(λ) random variables follows a Gamma(n, 1/λ) distribution.\n",
    "\n",
    "2. Chi-squared Distribution:\n",
    "   - A Chi-squared distribution with n degrees of freedom is equivalent to a Gamma(n/2, 2) distribution.\n"
   ]
  },
  {
   "cell_type": "markdown",
   "metadata": {},
   "source": [
    "These relationships make the Gamma distribution a versatile tool in statistical modeling.\n"
   ]
  },
  {
   "cell_type": "markdown",
   "metadata": {},
   "source": [
    "### <a id='toc4_2_'></a>[Probability Density Function (PDF)](#toc0_)\n"
   ]
  },
  {
   "cell_type": "markdown",
   "metadata": {},
   "source": [
    "The PDF of a Gamma distribution is given by:\n",
    "\n",
    "$f(x; k, θ) = \\frac{x^{k-1} e^{-x/θ}}{θ^k Γ(k)}$\n",
    "\n",
    "Where:\n",
    "- x > 0\n",
    "- k > 0 is the shape parameter\n",
    "- θ > 0 is the scale parameter\n",
    "- Γ(k) is the Gamma function\n"
   ]
  },
  {
   "cell_type": "markdown",
   "metadata": {},
   "source": [
    "### <a id='toc4_3_'></a>[Mean and Variance](#toc0_)\n"
   ]
  },
  {
   "cell_type": "markdown",
   "metadata": {},
   "source": [
    "For X ~ Gamma(k, θ):\n",
    "- Mean (Expected Value): E[X] = kθ\n",
    "- Variance: Var(X) = kθ²\n"
   ]
  },
  {
   "cell_type": "markdown",
   "metadata": {},
   "source": [
    "These formulas provide insights into the central tendency and spread of the distribution.\n"
   ]
  },
  {
   "cell_type": "markdown",
   "metadata": {},
   "source": [
    "### <a id='toc4_4_'></a>[Examples and Applications](#toc0_)\n"
   ]
  },
  {
   "cell_type": "markdown",
   "metadata": {},
   "source": [
    "1. **Rainfall Modeling**\n",
    "   - Modeling the amount of rainfall in a given period\n",
    "\n",
    "2. **Financial Risk Management**\n",
    "   - Modeling loan defaults and insurance claims\n",
    "\n",
    "3. **Reliability Engineering**\n",
    "   - Time-to-failure of mechanical components\n",
    "\n",
    "4. **Queueing Theory**\n",
    "   - Service times in complex systems\n",
    "\n",
    "5. **Bayesian Statistics**\n",
    "   - As a conjugate prior for various distributions\n",
    "\n",
    "6. **Neuroscience**\n",
    "   - Modeling inter-spike intervals in neurons\n",
    "\n",
    "7. **Environmental Science**\n",
    "   - Modeling pollutant concentrations\n"
   ]
  },
  {
   "cell_type": "markdown",
   "metadata": {},
   "source": [
    "### <a id='toc4_5_'></a>[Practical Example: Insurance Claims](#toc0_)\n"
   ]
  },
  {
   "cell_type": "markdown",
   "metadata": {},
   "source": [
    "Suppose the amount of an insurance claim follows a Gamma distribution with shape parameter k = 2 and scale parameter θ = 1000.\n"
   ]
  },
  {
   "cell_type": "code",
   "execution_count": 2,
   "metadata": {},
   "outputs": [],
   "source": [
    "import numpy as np\n",
    "from scipy import stats\n",
    "\n",
    "# Parameters\n",
    "k, theta = 2, 1000"
   ]
  },
  {
   "cell_type": "code",
   "execution_count": 3,
   "metadata": {},
   "outputs": [
    {
     "name": "stdout",
     "output_type": "stream",
     "text": [
      "Expected claim amount: $2000.00\n",
      "Variance of claim amounts: $2000000.00\n"
     ]
    }
   ],
   "source": [
    "# Calculate expected value and variance\n",
    "expected_value = k * theta\n",
    "variance = k * theta**2\n",
    "\n",
    "print(f\"Expected claim amount: ${expected_value:.2f}\")\n",
    "print(f\"Variance of claim amounts: ${variance:.2f}\")"
   ]
  },
  {
   "cell_type": "code",
   "execution_count": 4,
   "metadata": {},
   "outputs": [
    {
     "name": "stdout",
     "output_type": "stream",
     "text": [
      "Probability of a claim exceeding $3000: 0.1991\n"
     ]
    }
   ],
   "source": [
    "# Probability of a claim exceeding $3000\n",
    "prob_exceed_3000 = 1 - stats.gamma.cdf(3000, a=k, scale=theta)\n",
    "print(f\"Probability of a claim exceeding $3000: {prob_exceed_3000:.4f}\")"
   ]
  },
  {
   "cell_type": "code",
   "execution_count": 5,
   "metadata": {},
   "outputs": [
    {
     "name": "stdout",
     "output_type": "stream",
     "text": [
      "Average claim in sample: $2062.31\n"
     ]
    }
   ],
   "source": [
    "# Generate a sample of 1000 claims\n",
    "claims = stats.gamma.rvs(a=k, scale=theta, size=1000)\n",
    "average_claim = np.mean(claims)\n",
    "print(f\"Average claim in sample: ${average_claim:.2f}\")"
   ]
  },
  {
   "cell_type": "markdown",
   "metadata": {},
   "source": [
    "### <a id='toc4_6_'></a>[Key Takeaways](#toc0_)\n"
   ]
  },
  {
   "cell_type": "markdown",
   "metadata": {},
   "source": [
    "1. The Gamma distribution is highly flexible, able to model a wide range of positive, right-skewed data.\n",
    "2. Its relationship to the Exponential and Chi-squared distributions makes it a bridge between different statistical concepts.\n",
    "3. The shape (k) and scale (θ) parameters allow for fine-tuning of the distribution's properties.\n",
    "4. It's particularly useful in scenarios involving waiting times, amounts, or accumulated totals.\n",
    "5. Understanding the Gamma distribution is crucial for various fields, including finance, engineering, and environmental science.\n"
   ]
  },
  {
   "cell_type": "markdown",
   "metadata": {},
   "source": [
    "The Gamma distribution's versatility and its connections to other important distributions make it a powerful tool in the data scientist's toolkit. Its ability to model a wide range of phenomena, particularly those involving positive, skewed data, makes it invaluable in many real-world applications."
   ]
  },
  {
   "cell_type": "markdown",
   "metadata": {},
   "source": [
    "## <a id='toc5_'></a>[(Optional) Beta Distribution](#toc0_)"
   ]
  },
  {
   "cell_type": "markdown",
   "metadata": {},
   "source": [
    "The Beta distribution is a flexible, continuous probability distribution defined on the interval [0, 1]. It's particularly useful for modeling probabilities, proportions, and random variables limited to a finite interval.\n"
   ]
  },
  {
   "cell_type": "markdown",
   "metadata": {},
   "source": [
    "A continuous random variable X follows a Beta distribution if it takes values in the interval [0, 1] and its probability density function follows a specific form defined by two shape parameters, α and β.\n"
   ]
  },
  {
   "cell_type": "markdown",
   "metadata": {},
   "source": [
    "Key properties:\n",
    "1. Defined on the interval [0, 1]\n",
    "2. Characterized by two positive shape parameters: α and β\n",
    "3. Highly flexible, can take on various shapes depending on α and β\n",
    "4. Symmetric when α = β, right-skewed when α < β, left-skewed when α > β\n"
   ]
  },
  {
   "cell_type": "markdown",
   "metadata": {},
   "source": [
    "<img src=\"./images/tmp/beta-dist.jpg\" width=\"600\">"
   ]
  },
  {
   "cell_type": "markdown",
   "metadata": {},
   "source": [
    "We denote this as X ~ Beta(α, β), where α > 0 and β > 0.\n"
   ]
  },
  {
   "cell_type": "markdown",
   "metadata": {},
   "source": [
    "### <a id='toc5_1_'></a>[Probability Density Function (PDF)](#toc0_)\n"
   ]
  },
  {
   "cell_type": "markdown",
   "metadata": {},
   "source": [
    "The PDF of a Beta distribution is given by:\n",
    "\n",
    "$f(x; α, β) = \\frac{x^{α-1}(1-x)^{β-1}}{B(α,β)}$\n"
   ]
  },
  {
   "cell_type": "markdown",
   "metadata": {},
   "source": [
    "Where:\n",
    "- 0 ≤ x ≤ 1\n",
    "- α > 0 and β > 0 are the shape parameters\n",
    "- B(α,β) is the Beta function, which normalizes the distribution\n"
   ]
  },
  {
   "cell_type": "markdown",
   "metadata": {},
   "source": [
    "### <a id='toc5_2_'></a>[Mean and Variance](#toc0_)\n"
   ]
  },
  {
   "cell_type": "markdown",
   "metadata": {},
   "source": [
    "For X ~ Beta(α, β):\n",
    "- Mean (Expected Value): E[X] = α / (α + β)\n",
    "- Variance: Var(X) = αβ / ((α + β)²(α + β + 1))\n"
   ]
  },
  {
   "cell_type": "markdown",
   "metadata": {},
   "source": [
    "These formulas provide insights into the central tendency and spread of the distribution.\n"
   ]
  },
  {
   "cell_type": "markdown",
   "metadata": {},
   "source": [
    "### <a id='toc5_3_'></a>[Applications in Bayesian Inference](#toc0_)\n"
   ]
  },
  {
   "cell_type": "markdown",
   "metadata": {},
   "source": [
    "The Beta distribution plays a crucial role in Bayesian inference:\n",
    "\n",
    "1. **Conjugate Prior**: It's the conjugate prior for the Bernoulli, Binomial, and Geometric distributions. This means that if you start with a Beta prior and observe Bernoulli or Binomial data, your posterior distribution will also be Beta.\n",
    "\n",
    "2. **Parameter Estimation**: Used to model uncertainty about probability parameters.\n",
    "\n",
    "3. **Hypothesis Testing**: In Bayesian A/B testing, the Beta distribution can model the uncertainty in conversion rates.\n",
    "\n",
    "4. **Credible Intervals**: Easily compute credible intervals for proportions.\n",
    "\n",
    "### <a id='toc5_4_'></a>[Examples and Applications](#toc0_)\n",
    "\n",
    "1. **A/B Testing**\n",
    "   - Modeling conversion rates in marketing experiments\n",
    "\n",
    "2. **Quality Control**\n",
    "   - Modeling the proportion of defective items in manufacturing\n",
    "\n",
    "3. **Risk Assessment**\n",
    "   - Modeling probabilities of events in project management\n",
    "\n",
    "4. **Epidemiology**\n",
    "   - Modeling infection rates or vaccine efficacy\n",
    "\n",
    "5. **Sports Analytics**\n",
    "   - Modeling batting averages or shooting percentages\n",
    "\n",
    "6. **Political Science**\n",
    "   - Modeling voting preferences or poll results\n",
    "\n",
    "7. **Ecology**\n",
    "   - Modeling species distributions\n"
   ]
  },
  {
   "cell_type": "markdown",
   "metadata": {},
   "source": [
    "### <a id='toc5_5_'></a>[Key Takeaways](#toc0_)\n"
   ]
  },
  {
   "cell_type": "markdown",
   "metadata": {},
   "source": [
    "1. The Beta distribution is highly flexible and confined to the [0, 1] interval, making it ideal for modeling probabilities and proportions.\n",
    "2. Its role as a conjugate prior in Bayesian inference makes it invaluable for updating beliefs based on observed data.\n",
    "3. The shape parameters α and β allow for precise modeling of various scenarios, from uniform uncertainty to strong beliefs.\n",
    "4. Understanding the Beta distribution is crucial for Bayesian analysis, particularly in fields like marketing, quality control, and epidemiology.\n",
    "5. Its ability to model continuous probabilities makes it a powerful tool for decision-making under uncertainty.\n"
   ]
  },
  {
   "cell_type": "markdown",
   "metadata": {},
   "source": [
    "The Beta distribution's versatility in modeling probabilities and its central role in Bayesian inference make it an essential tool for data scientists, particularly those working with proportions or engaged in probabilistic reasoning. Its applications span from simple A/B testing to complex Bayesian models, underscoring its importance in modern data analysis and decision-making processes."
   ]
  },
  {
   "cell_type": "markdown",
   "metadata": {},
   "source": [
    "## <a id='toc6_'></a>[Comparison of Distributions](#toc0_)"
   ]
  },
  {
   "cell_type": "markdown",
   "metadata": {},
   "source": [
    "Understanding when to use each continuous probability distribution and how they relate to one another is crucial for effective data analysis and modeling. This section provides a comprehensive comparison of the distributions we've covered.\n"
   ]
  },
  {
   "cell_type": "markdown",
   "metadata": {},
   "source": [
    "### <a id='toc6_1_'></a>[When to use each distribution](#toc0_)\n"
   ]
  },
  {
   "cell_type": "markdown",
   "metadata": {},
   "source": [
    "1. **Uniform Distribution**\n",
    "   - Use when: All outcomes in a range are equally likely.\n",
    "   - Examples: Random number generation, simple simulations.\n",
    "   - Key characteristic: Constant probability density over a finite interval.\n",
    "\n",
    "2. **Normal (Gaussian) Distribution**\n",
    "   - Use when: Data is symmetrically distributed around a mean, with most observations clustered near the center.\n",
    "   - Examples: Heights, IQ scores, measurement errors.\n",
    "   - Key characteristic: Bell-shaped curve, defined by mean and standard deviation.\n",
    "\n",
    "3. **Exponential Distribution**\n",
    "   - Use when: Modeling the time between events in a Poisson process or the lifetime of components with a constant failure rate.\n",
    "   - Examples: Time between customer arrivals, radioactive decay.\n",
    "   - Key characteristic: Memoryless property, defined by a single rate parameter.\n",
    "\n",
    "4. **Gamma Distribution**\n",
    "   - Use when: Modeling waiting times until k events occur in a Poisson process, or for positive, right-skewed data.\n",
    "   - Examples: Insurance claim amounts, rainfall amounts.\n",
    "   - Key characteristic: Generalizes the Exponential distribution, defined by shape and scale parameters.\n",
    "\n",
    "5. **Beta Distribution**\n",
    "   - Use when: Modeling probabilities or proportions, especially in Bayesian inference.\n",
    "   - Examples: Conversion rates, proportions of defective items.\n",
    "   - Key characteristic: Defined on the interval [0, 1], highly flexible shape.\n"
   ]
  },
  {
   "cell_type": "markdown",
   "metadata": {},
   "source": [
    "### <a id='toc6_2_'></a>[Relationships between distributions](#toc0_)\n"
   ]
  },
  {
   "cell_type": "markdown",
   "metadata": {},
   "source": [
    "1. **Uniform and Normal**\n",
    "   - The sum of many independent Uniform random variables approaches a Normal distribution (Central Limit Theorem).\n",
    "\n",
    "2. **Normal and Chi-squared**\n",
    "   - The sum of squares of k independent Standard Normal random variables follows a Chi-squared distribution with k degrees of freedom.\n",
    "\n",
    "3. **Exponential and Gamma**\n",
    "   - The Exponential distribution is a special case of the Gamma distribution where the shape parameter k = 1.\n",
    "   - The sum of n independent Exponential(λ) random variables follows a Gamma(n, 1/λ) distribution.\n",
    "\n",
    "4. **Gamma and Chi-squared**\n",
    "   - A Chi-squared distribution with n degrees of freedom is equivalent to a Gamma(n/2, 2) distribution.\n",
    "\n",
    "5. **Exponential and Normal**\n",
    "   - For large n, the sum of n independent Exponential random variables approaches a Normal distribution (Central Limit Theorem).\n",
    "\n",
    "6. **Beta and Uniform**\n",
    "   - The Uniform distribution on [0, 1] is a special case of the Beta distribution where α = β = 1.\n",
    "\n",
    "7. **Beta and Normal**\n",
    "   - As α and β increase while keeping their ratio constant, the Beta distribution approaches a Normal distribution.\n"
   ]
  },
  {
   "cell_type": "markdown",
   "metadata": {},
   "source": [
    "### <a id='toc6_3_'></a>[Comparison table](#toc0_)\n"
   ]
  },
  {
   "cell_type": "markdown",
   "metadata": {},
   "source": [
    "| Distribution | Support | Parameters | Mean | Variance | Typical Use Cases |\n",
    "|--------------|---------|------------|------|----------|-------------------|\n",
    "| Uniform      | [a, b]  | a, b       | (a+b)/2 | (b-a)²/12 | Equal probability scenarios |\n",
    "| Normal       | (-∞, ∞) | μ, σ       | μ    | σ²       | Natural phenomena, errors |\n",
    "| Exponential  | [0, ∞)  | λ          | 1/λ  | 1/λ²     | Time between events |\n",
    "| Gamma        | (0, ∞)  | k, θ       | kθ   | kθ²      | Waiting times, amounts |\n",
    "| Beta         | [0, 1]  | α, β       | α/(α+β) | αβ/((α+β)²(α+β+1)) | Probabilities, proportions |\n"
   ]
  },
  {
   "cell_type": "markdown",
   "metadata": {},
   "source": [
    "### <a id='toc6_4_'></a>[Key considerations for selection](#toc0_)\n"
   ]
  },
  {
   "cell_type": "markdown",
   "metadata": {},
   "source": [
    "1. **Nature of the data:** Is it continuous? Bounded or unbounded?\n",
    "2. **Symmetry:** Is the data symmetric or skewed?\n",
    "3. **Domain knowledge:** What's known about the process generating the data?\n",
    "4. **Empirical fit:** How well does the distribution fit observed data?\n",
    "5. **Analytical tractability:** Which distribution makes subsequent analysis easier?\n"
   ]
  },
  {
   "cell_type": "markdown",
   "metadata": {},
   "source": [
    "### <a id='toc6_5_'></a>[Practical example: Modeling customer behavior](#toc0_)\n"
   ]
  },
  {
   "cell_type": "markdown",
   "metadata": {},
   "source": [
    "Consider modeling different aspects of an e-commerce website:\n",
    "\n",
    "1. Time spent on site: Gamma (often right-skewed, positive values)\n",
    "2. Purchase amounts: Log-normal (positive, right-skewed)\n",
    "3. Conversion rate: Beta (proportion between 0 and 1)\n",
    "4. Number of daily visitors: Normal (for large numbers, due to CLT)\n",
    "5. Time between purchases: Exponential (assuming constant purchase rate)\n"
   ]
  },
  {
   "cell_type": "markdown",
   "metadata": {},
   "source": [
    "Understanding these relationships and selection criteria allows data scientists to choose the most appropriate distribution for their specific scenario, leading to more accurate models and insights.\n"
   ]
  },
  {
   "cell_type": "markdown",
   "metadata": {},
   "source": [
    "Remember, while these theoretical distributions are powerful tools, real-world data often doesn't perfectly fit any single distribution. It's crucial to validate your assumptions, consider mixture models or transformations when necessary, and always interpret results in the context of the problem domain."
   ]
  },
  {
   "cell_type": "markdown",
   "metadata": {},
   "source": [
    "## <a id='toc7_'></a>[Summary and Key Takeaways](#toc0_)"
   ]
  },
  {
   "cell_type": "markdown",
   "metadata": {},
   "source": [
    "This lecture has introduced you to several important continuous probability distributions. Let's recap the main points and highlight their significance in data science and machine learning.\n"
   ]
  },
  {
   "cell_type": "markdown",
   "metadata": {},
   "source": [
    "Key continuous probability distributions covered in this lecture:\n",
    "1. **Continuous Probability Distributions**\n",
    "   - Model the probability of continuous, uncountable outcomes\n",
    "   - Essential for analyzing and predicting real-valued data\n",
    "\n",
    "2. **Uniform Distribution**\n",
    "   - Models equal probability over a fixed range\n",
    "   - Fundamental for random number generation and simulations\n",
    "\n",
    "3. **Normal (Gaussian) Distribution**\n",
    "   - The \"bell curve\" distribution central to statistics\n",
    "   - Crucial for modeling natural phenomena and errors\n",
    "\n",
    "4. **Exponential Distribution**\n",
    "   - Models time between events in a Poisson process\n",
    "   - Key for reliability analysis and queueing theory\n",
    "\n",
    "5. **Gamma Distribution**\n",
    "   - Generalizes the Exponential distribution\n",
    "   - Versatile for modeling positive, right-skewed data\n",
    "\n",
    "6. **Beta Distribution**\n",
    "   - Models probabilities and proportions\n",
    "   - Essential in Bayesian inference and modeling bounded outcomes\n"
   ]
  },
  {
   "cell_type": "markdown",
   "metadata": {},
   "source": [
    "Key concepts and insights from this lecture include:\n",
    "1. **Distribution Selection**: Choosing the right distribution is critical. Consider the nature of your data, its bounds, symmetry, and domain knowledge.\n",
    "\n",
    "2. **Parameter Estimation**: Each distribution has parameters that need to be estimated from data. Understanding these parameters is crucial for proper modeling.\n",
    "\n",
    "3. **Relationships Between Distributions**: Many of these distributions are related. Understanding these relationships can provide insights and alternative modeling approaches.\n",
    "\n",
    "4. **Central Limit Theorem**: The Normal distribution's prominence is partly due to the CLT, which explains why many phenomena tend towards normality.\n",
    "\n",
    "5. **Flexibility and Constraints**: Some distributions (like Beta and Gamma) are highly flexible, while others (like Uniform) are more constrained. Choose based on your modeling needs.\n",
    "\n",
    "6. **Bayesian Perspective**: Continuous distributions play a crucial role in Bayesian inference, particularly in specifying priors and interpreting posteriors.\n",
    "\n",
    "7. **Real-world Complexity**: While these distributions are powerful tools, real-world data often doesn't perfectly fit theoretical distributions. Be prepared to use mixture models, transformations, or non-parametric methods when necessary.\n"
   ]
  },
  {
   "cell_type": "markdown",
   "metadata": {},
   "source": [
    "As you continue your journey in data science and machine learning:\n",
    "\n",
    "1. Practice identifying which distribution might be appropriate for different scenarios you encounter.\n",
    "\n",
    "2. Explore how these distributions are implemented in popular data science libraries like NumPy, SciPy, or PyMC.\n",
    "\n",
    "3. Look for these distributions in real-world datasets and scientific literature. Understanding how they're applied in practice will deepen your intuition.\n",
    "\n",
    "4. Consider how these continuous distributions relate to the discrete distributions you've learned about previously.\n",
    "\n",
    "5. As you learn more advanced topics, notice how these fundamental distributions often underlie more complex statistical and machine learning concepts.\n"
   ]
  },
  {
   "cell_type": "markdown",
   "metadata": {},
   "source": [
    "Remember, mastering these distributions and understanding when to apply them is a key skill that will serve you well throughout your career in data science and machine learning. They provide a powerful toolkit for understanding uncertainty, making predictions, and drawing insights from data across a wide range of domains and applications."
   ]
  }
 ],
 "metadata": {
  "kernelspec": {
   "display_name": "py310",
   "language": "python",
   "name": "python3"
  },
  "language_info": {
   "codemirror_mode": {
    "name": "ipython",
    "version": 3
   },
   "file_extension": ".py",
   "mimetype": "text/x-python",
   "name": "python",
   "nbconvert_exporter": "python",
   "pygments_lexer": "ipython3",
   "version": "3.10.12"
  }
 },
 "nbformat": 4,
 "nbformat_minor": 2
}
