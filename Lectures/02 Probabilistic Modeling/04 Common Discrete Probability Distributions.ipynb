{
 "cells": [
  {
   "cell_type": "markdown",
   "metadata": {},
   "source": [
    "<img src=\"./images/banner.png\" width=\"800\">"
   ]
  },
  {
   "cell_type": "markdown",
   "metadata": {},
   "source": [
    "# Common Discrete Probability Distributions"
   ]
  },
  {
   "cell_type": "markdown",
   "metadata": {},
   "source": [
    "Welcome to our lecture on Common Discrete Probability Distributions. In this session, we'll explore some of the most frequently encountered probability distributions for discrete random variables. These distributions serve as fundamental building blocks in probability theory, statistics, and machine learning.\n"
   ]
  },
  {
   "cell_type": "markdown",
   "metadata": {},
   "source": [
    "در واقع توزیع احتمالاتی یک مدله که انطباقش با فیزیک مسئله باید تحقیق و validate  بشه"
   ]
  },
  {
   "cell_type": "markdown",
   "metadata": {},
   "source": [
    "**What are discrete probability distributions?**\n",
    "\n",
    "Discrete probability distributions describe the probability of occurrence for each value of a discrete random variable. Remember, a discrete random variable can only take on a countable number of distinct values, such as integers or a finite set of outcomes.\n"
   ]
  },
  {
   "cell_type": "markdown",
   "metadata": {},
   "source": [
    "**Why are they important?**\n",
    "\n",
    "1. **Modeling Real-World Phenomena**: Many real-world events naturally follow discrete distributions. For example:\n",
    "   - The number of defective items in a production batch\n",
    "   - The count of customers arriving at a store in an hour\n",
    "   - The number of successes in a series of trials\n",
    "\n",
    "2. **Foundation for Statistical Inference**: These distributions form the basis for many statistical tests and estimation procedures.\n",
    "\n",
    "3. **Machine Learning Applications**: Many machine learning algorithms, especially in classification and natural language processing, rely on discrete probability distributions.\n",
    "\n",
    "4. **Data Science Tools**: Understanding these distributions helps in data analysis, hypothesis testing, and predictive modeling.\n"
   ]
  },
  {
   "cell_type": "markdown",
   "metadata": {},
   "source": [
    "**Distributions we'll cover:**\n",
    "\n",
    "1. Bernoulli Distribution\n",
    "2. Binomial Distribution\n",
    "3. Poisson Distribution\n",
    "4. Geometric Distribution\n",
    "5. Negative Binomial Distribution\n",
    "6. Hypergeometric Distribution\n"
   ]
  },
  {
   "cell_type": "markdown",
   "metadata": {},
   "source": [
    "For each distribution, we'll discuss:\n",
    "- Its definition and key properties\n",
    "- The probability mass function (PMF)\n",
    "- Mean and variance\n",
    "- Typical applications and examples\n"
   ]
  },
  {
   "cell_type": "markdown",
   "metadata": {},
   "source": [
    "**Why learn multiple distributions?**\n",
    "\n",
    "Different phenomena in nature and various data-generating processes follow different probability distributions. By understanding a range of distributions, you'll be better equipped to:\n",
    "\n",
    "- Choose the appropriate model for your data\n",
    "- Make more accurate predictions and inferences\n",
    "- Understand the assumptions and limitations of statistical models\n"
   ]
  },
  {
   "cell_type": "markdown",
   "metadata": {},
   "source": [
    "As we progress through this lecture, try to think about real-world scenarios where each distribution might apply. This will help you develop an intuition for when and how to use these powerful mathematical tools in your data science and machine learning projects.\n"
   ]
  },
  {
   "cell_type": "markdown",
   "metadata": {},
   "source": [
    "Let's begin our journey through the world of discrete probability distributions!"
   ]
  },
  {
   "cell_type": "markdown",
   "metadata": {},
   "source": [
    "**Table of contents**<a id='toc0_'></a>    \n",
    "- [Bernoulli Distribution](#toc1_)    \n",
    "  - [Probability Mass Function](#toc1_1_)    \n",
    "  - [Mean and Variance](#toc1_2_)    \n",
    "  - [Examples and Applications](#toc1_3_)    \n",
    "- [Binomial Distribution](#toc2_)    \n",
    "  - [Relationship to Bernoulli Distribution](#toc2_1_)    \n",
    "  - [Probability Mass Function](#toc2_2_)    \n",
    "  - [Mean and Variance](#toc2_3_)    \n",
    "  - [Examples and Applications](#toc2_4_)    \n",
    "- [Multinomial Distribution](#toc3_)    \n",
    "  - [Relationship to Binomial Distribution](#toc3_1_)    \n",
    "  - [Probability Mass Function](#toc3_2_)    \n",
    "  - [Mean and Variance](#toc3_3_)    \n",
    "  - [Examples and Applications](#toc3_4_)    \n",
    "- [Poisson Distribution](#toc4_)    \n",
    "  - [Examples of Poisson distributions](#toc4_1_)    \n",
    "  - [Probability mass function](#toc4_2_)    \n",
    "  - [Visual representation](#toc4_3_)    \n",
    "  - [Mean and variance](#toc4_4_)    \n",
    "  - [Applications in data science and machine learning](#toc4_5_)    \n",
    "- [(Optional) Geometric Distribution](#toc5_)    \n",
    "  - [When to use a Geometric distribution](#toc5_1_)    \n",
    "  - [Probability mass function](#toc5_2_)    \n",
    "  - [Mean and variance](#toc5_3_)    \n",
    "  - [Visual representation](#toc5_4_)    \n",
    "  - [Examples of Geometric distributions](#toc5_5_)    \n",
    "  - [Applications in data science and machine learning](#toc5_6_)    \n",
    "  - [Relationship to other distributions](#toc5_7_)    \n",
    "- [Comparison of Distributions](#toc6_)    \n",
    "  - [When to use each distribution](#toc6_1_)    \n",
    "  - [Relationships between distributions](#toc6_2_)    \n",
    "  - [Comparison table](#toc6_3_)    \n",
    "  - [Key considerations for selection](#toc6_4_)    \n",
    "  - [Practical example: Customer behavior modeling](#toc6_5_)    \n",
    "\n",
    "<!-- vscode-jupyter-toc-config\n",
    "\tnumbering=false\n",
    "\tanchor=true\n",
    "\tflat=false\n",
    "\tminLevel=2\n",
    "\tmaxLevel=6\n",
    "\t/vscode-jupyter-toc-config -->\n",
    "<!-- THIS CELL WILL BE REPLACED ON TOC UPDATE. DO NOT WRITE YOUR TEXT IN THIS CELL -->"
   ]
  },
  {
   "cell_type": "markdown",
   "metadata": {},
   "source": [
    "## <a id='toc1_'></a>[Bernoulli Distribution](#toc0_)"
   ]
  },
  {
   "cell_type": "markdown",
   "metadata": {},
   "source": [
    "The Bernoulli distribution is one of the simplest discrete probability distributions, yet it forms the foundation for many more complex distributions and statistical concepts.\n"
   ]
  },
  {
   "cell_type": "markdown",
   "metadata": {},
   "source": [
    "The Bernoulli distribution models a random experiment with exactly two possible outcomes, typically labeled as \"success\" and \"failure.\"\n"
   ]
  },
  {
   "cell_type": "markdown",
   "metadata": {},
   "source": [
    "**Key Properties:**\n",
    "1. It's defined by a single parameter p, which represents the probability of success.\n",
    "2. The probability of failure is q = 1 - p.\n",
    "3. Each trial is independent.\n",
    "4. It's a special case of the Binomial distribution with n = 1 trial.\n"
   ]
  },
  {
   "cell_type": "markdown",
   "metadata": {},
   "source": [
    "<img src=\"./images/tmp/bernoulli.webp\" width=\"600\">"
   ]
  },
  {
   "cell_type": "markdown",
   "metadata": {},
   "source": [
    "### <a id='toc1_1_'></a>[Probability Mass Function](#toc0_)\n"
   ]
  },
  {
   "cell_type": "markdown",
   "metadata": {},
   "source": [
    "For a Bernoulli random variable X:\n",
    "\n",
    "$P(X = x) = \\begin{cases} \n",
    "p & \\text{if } x = 1 \\text{ (success)} \\\\\n",
    "1-p & \\text{if } x = 0 \\text{ (failure)}\n",
    "\\end{cases}$\n"
   ]
  },
  {
   "cell_type": "markdown",
   "metadata": {},
   "source": [
    "This can be written more compactly as:\n",
    "\n",
    "$P(X = x) = p^x(1-p)^{1-x}, \\text{ for } x \\in \\{0, 1\\}$\n"
   ]
  },
  {
   "cell_type": "markdown",
   "metadata": {},
   "source": [
    "### <a id='toc1_2_'></a>[Mean and Variance](#toc0_)\n"
   ]
  },
  {
   "cell_type": "markdown",
   "metadata": {},
   "source": [
    "For a Bernoulli(p) distribution:\n",
    "\n",
    "**Mean (Expected Value):**\n",
    "- $E[X] = p$\n"
   ]
  },
  {
   "cell_type": "markdown",
   "metadata": {},
   "source": [
    "**Variance:**\n",
    "- $Var(X) = p(1-p)$\n"
   ]
  },
  {
   "cell_type": "markdown",
   "metadata": {},
   "source": [
    "### <a id='toc1_3_'></a>[Examples and Applications](#toc0_)\n"
   ]
  },
  {
   "cell_type": "markdown",
   "metadata": {},
   "source": [
    "1. **Coin Flip**: \n",
    "   The classic example of a Bernoulli trial. For a fair coin, p = 0.5.\n",
    "\n",
    "2. **Quality Control**: \n",
    "   Testing if a manufactured item is defective (success) or not (failure).\n",
    "\n",
    "3. **Medical Tests**: \n",
    "   The outcome of a diagnostic test (positive or negative).\n",
    "\n",
    "4. **Click-through Rate**: \n",
    "   In digital marketing, whether a user clicks on an ad (success) or not (failure).\n",
    "\n",
    "5. **Machine Learning**:\n",
    "   - Binary classification problems (e.g., spam detection)\n",
    "   - Dropout regularization in neural networks\n",
    "\n",
    "6. **Financial Modeling**:\n",
    "   Modeling the occurrence of rare events, like defaults in credit risk models.\n",
    "\n",
    "7. **A/B Testing**:\n",
    "   Comparing the performance of two versions of a website or app.\n"
   ]
  },
  {
   "cell_type": "markdown",
   "metadata": {},
   "source": [
    "Understanding the Bernoulli distribution is crucial as it forms the basis for more complex distributions and many statistical concepts. Its simplicity makes it a powerful tool for modeling binary outcomes, which are prevalent in various fields of study and real-world applications."
   ]
  },
  {
   "cell_type": "markdown",
   "metadata": {},
   "source": [
    "## <a id='toc2_'></a>[Binomial Distribution](#toc0_)"
   ]
  },
  {
   "cell_type": "markdown",
   "metadata": {},
   "source": [
    "<img src=\"./images/tmp/binomial.jpg\" width=\"600\">"
   ]
  },
  {
   "cell_type": "markdown",
   "metadata": {},
   "source": [
    "The Binomial distribution is a fundamental discrete probability distribution that models the number of successes in a fixed number of independent Bernoulli trials.\n"
   ]
  },
  {
   "cell_type": "markdown",
   "metadata": {},
   "source": [
    "A random variable X follows a Binomial distribution if:\n",
    "\n",
    "1. There is a fixed number of trials (n).\n",
    "2. Each trial is independent.\n",
    "3. Each trial has two possible outcomes (success or failure).\n",
    "4. The probability of success (p) is constant for each trial.\n"
   ]
  },
  {
   "cell_type": "markdown",
   "metadata": {},
   "source": [
    "We denote this as X ~ Bin(n, p), where:\n",
    "- n is the number of trials\n",
    "- p is the probability of success on each trial\n"
   ]
  },
  {
   "cell_type": "markdown",
   "metadata": {},
   "source": [
    "<img src=\"./images/tmp/binomial-dist.jpg\" width=\"600\">"
   ]
  },
  {
   "cell_type": "markdown",
   "metadata": {},
   "source": [
    "<img src=\"./images/tmp/De_moivre-laplace.gif\" width=\"600\">"
   ]
  },
  {
   "cell_type": "markdown",
   "metadata": {},
   "source": [
    "> **Note:** If the sample size for binomial distribution is large enough, its shape will be quite similar to that of normal distribution. This is known as the **De Moivre-Laplace theorem**. You can see this in the image above. You will learn more about normal distribution in the next lecture."
   ]
  },
  {
   "cell_type": "markdown",
   "metadata": {},
   "source": [
    "### <a id='toc2_1_'></a>[Relationship to Bernoulli Distribution](#toc0_)\n"
   ]
  },
  {
   "cell_type": "markdown",
   "metadata": {},
   "source": [
    "The Binomial distribution is essentially a sum of n independent Bernoulli trials:\n",
    "\n",
    "If X₁, X₂, ..., Xn are independent Bernoulli(p) random variables, then:\n",
    "\n",
    "- X = X₁ + X₂ + ... + Xn ~ Bin(n, p)\n",
    "\n",
    "In other words, a Binomial distribution with n=1 is equivalent to a Bernoulli distribution.\n"
   ]
  },
  {
   "cell_type": "markdown",
   "metadata": {},
   "source": [
    "### <a id='toc2_2_'></a>[Probability Mass Function](#toc0_)\n"
   ]
  },
  {
   "cell_type": "markdown",
   "metadata": {},
   "source": [
    "For a Binomial(n, p) distribution, the probability of exactly k successes is given by:\n",
    "\n",
    "$P(X = k) = \\binom{n}{k} p^k (1-p)^{n-k}$\n",
    "\n",
    "Where:\n",
    "- $\\binom{n}{k}$ is the binomial coefficient (\"n choose k\")\n",
    "- k ranges from 0 to n\n"
   ]
  },
  {
   "cell_type": "markdown",
   "metadata": {},
   "source": [
    "### <a id='toc2_3_'></a>[Mean and Variance](#toc0_)\n"
   ]
  },
  {
   "cell_type": "markdown",
   "metadata": {},
   "source": [
    "For X ~ Bin(n, p):\n",
    "\n",
    "**Mean (Expected Value):**\n",
    "- $E[X] = np$\n",
    "\n",
    "**Variance:**\n",
    "- $Var(X) = np(1-p)$\n"
   ]
  },
  {
   "cell_type": "markdown",
   "metadata": {},
   "source": [
    "### <a id='toc2_4_'></a>[Examples and Applications](#toc0_)\n"
   ]
  },
  {
   "cell_type": "markdown",
   "metadata": {},
   "source": [
    "1. **Coin Flips**: \n",
    "   Number of heads in n coin flips.\n",
    "\n",
    "2. **Quality Control**: \n",
    "   Number of defective items in a batch of n products.\n",
    "\n",
    "3. **Epidemiology**: \n",
    "   Number of individuals contracting a disease in a population of size n.\n",
    "\n",
    "4. **A/B Testing**: \n",
    "   Number of conversions in n trials of a new website design.\n",
    "\n",
    "5. **Elections**: \n",
    "   Modeling the number of votes for a candidate in n districts.\n",
    "\n",
    "6. **Machine Learning**:\n",
    "   - Feature selection (e.g., number of relevant features out of n total)\n",
    "   - Ensemble methods (e.g., number of classifiers agreeing on a prediction)\n",
    "\n",
    "7. **Natural Language Processing**:\n",
    "   Modeling word frequencies in text analysis.\n"
   ]
  },
  {
   "cell_type": "markdown",
   "metadata": {},
   "source": [
    "Understanding the Binomial distribution is crucial in many areas of data science and machine learning, particularly in scenarios involving repeated trials or counts of successes. Its versatility makes it a powerful tool for modeling and analysis in various fields."
   ]
  },
  {
   "cell_type": "markdown",
   "metadata": {},
   "source": [
    "## <a id='toc3_'></a>[Multinomial Distribution](#toc0_)"
   ]
  },
  {
   "cell_type": "markdown",
   "metadata": {},
   "source": [
    "The Multinomial distribution is a generalization of the Binomial distribution to scenarios where there are more than two possible outcomes for each trial.\n"
   ]
  },
  {
   "cell_type": "markdown",
   "metadata": {},
   "source": [
    "A random variable X follows a Multinomial distribution if:\n",
    "\n",
    "1. There is a fixed number of independent trials (n).\n",
    "2. Each trial results in exactly one of k possible outcomes.\n",
    "3. The probability of each outcome remains constant from trial to trial.\n",
    "4. The trials are independent.\n"
   ]
  },
  {
   "cell_type": "markdown",
   "metadata": {},
   "source": [
    "We denote this as X ~ Multinomial(n, p₁, p₂, ..., pₖ), where:\n",
    "- n is the number of trials\n",
    "- pᵢ is the probability of outcome i, and Σpᵢ = 1\n"
   ]
  },
  {
   "cell_type": "markdown",
   "metadata": {},
   "source": [
    "<img src=\"./images/tmp/trinomial-dist.png\" width=\"600\">"
   ]
  },
  {
   "cell_type": "markdown",
   "metadata": {},
   "source": [
    "> A trinomial distribution is a special case of the multinomial distribution where there are three possible outcomes. In the image above, we see a trinomial distribution with three possible outcomes: x₁, x₂, and x₃. The probabilities of these outcomes are p₁, p₂, and p₃, respectively. The total number of trials is n. In this case, the multinomial distribution is Multinomial(n, p₁, p₂, p₃). x₁ and x₂ are shown on the x-axis, and the probability mass function (PMF) is represented by the height of the bars. x₃ is not shown separately but can be calculated as x₃ = n - (x₁ + x₂)."
   ]
  },
  {
   "cell_type": "markdown",
   "metadata": {},
   "source": [
    "### <a id='toc3_1_'></a>[Relationship to Binomial Distribution](#toc0_)\n"
   ]
  },
  {
   "cell_type": "markdown",
   "metadata": {},
   "source": [
    "The Multinomial distribution is a multivariate generalization of the Binomial distribution. When k = 2, the Multinomial distribution reduces to the Binomial distribution.\n"
   ]
  },
  {
   "cell_type": "markdown",
   "metadata": {},
   "source": [
    "### <a id='toc3_2_'></a>[Probability Mass Function](#toc0_)\n"
   ]
  },
  {
   "cell_type": "markdown",
   "metadata": {},
   "source": [
    "For a Multinomial(n, p₁, p₂, ..., pₖ) distribution, the probability of observing x₁ occurrences of outcome 1, x₂ occurrences of outcome 2, and so on, is given by:\n",
    "\n",
    "$P(X_1 = x_1, X_2 = x_2, ..., X_k = x_k) = \\frac{n!}{x_1! x_2! ... x_k!} p_1^{x_1} p_2^{x_2} ... p_k^{x_k}$\n",
    "\n",
    "Where:\n",
    "- Σxᵢ = n\n",
    "- x₁, x₂, ..., xₖ are non-negative integers\n"
   ]
  },
  {
   "cell_type": "markdown",
   "metadata": {},
   "source": [
    "### <a id='toc3_3_'></a>[Mean and Variance](#toc0_)\n"
   ]
  },
  {
   "cell_type": "markdown",
   "metadata": {},
   "source": [
    "For each component Xᵢ of a Multinomial(n, p₁, p₂, ..., pₖ) distribution:\n",
    "\n",
    "**Mean (Expected Value):**\n",
    "- $E[X_i] = np_i$\n",
    "\n",
    "**Variance:**\n",
    "- $Var(X_i) = np_i(1-p_i)$\n",
    "\n",
    "**Covariance:**\n",
    "- $Cov(X_i, X_j) = -np_ip_j$ for i ≠ j\n"
   ]
  },
  {
   "cell_type": "markdown",
   "metadata": {},
   "source": [
    "### <a id='toc3_4_'></a>[Examples and Applications](#toc0_)\n"
   ]
  },
  {
   "cell_type": "markdown",
   "metadata": {},
   "source": [
    "1. **Dice Rolls**: \n",
    "   Counting occurrences of each number when rolling a die n times.\n",
    "\n",
    "2. **Market Research**: \n",
    "   Modeling consumer choices among multiple product options.\n",
    "\n",
    "3. **Genetics**: \n",
    "   Distribution of genotypes in a population.\n",
    "\n",
    "4. **Natural Language Processing**:\n",
    "   - Modeling word frequencies in text analysis\n",
    "   - Topic modeling in document classification\n",
    "\n",
    "5. **Machine Learning**:\n",
    "   - Naive Bayes classifiers for multi-class problems\n",
    "   - Modeling categorical data in various algorithms\n",
    "\n",
    "6. **Ecology**: \n",
    "   Species distribution in different habitats.\n",
    "\n",
    "7. **Political Science**: \n",
    "   Modeling voting outcomes in multi-party systems.\n"
   ]
  },
  {
   "cell_type": "markdown",
   "metadata": {},
   "source": [
    "Understanding the Multinomial distribution is crucial in many areas of data science and machine learning, especially when dealing with categorical data or multi-class classification problems. Its ability to model multiple outcomes makes it a versatile tool for various real-world applications."
   ]
  },
  {
   "cell_type": "markdown",
   "metadata": {},
   "source": [
    "## <a id='toc4_'></a>[Poisson Distribution](#toc0_)"
   ]
  },
  {
   "cell_type": "markdown",
   "metadata": {},
   "source": [
    "A Poisson distribution is a discrete probability distribution that models the number of events occurring within a fixed interval of time or space. It's particularly useful for count data, where we're interested in the number of times an event happens.\n"
   ]
  },
  {
   "cell_type": "markdown",
   "metadata": {},
   "source": [
    "<img src=\"./images/tmp/poisson-dist.webp\" width=\"600\">"
   ]
  },
  {
   "cell_type": "markdown",
   "metadata": {},
   "source": [
    "Key characteristics of a Poisson distribution:\n",
    "\n",
    "1. It deals with discrete, countable outcomes (represented by k).\n",
    "2. Events occur randomly and independently.\n",
    "3. The average rate of occurrence (λ) is known and constant.\n",
    "4. λ is the only parameter needed to describe the distribution.\n"
   ]
  },
  {
   "cell_type": "markdown",
   "metadata": {},
   "source": [
    "You can use a Poisson distribution if:\n",
    "\n",
    "1. Individual events happen randomly and independently.\n",
    "2. You know the mean number of events (λ) occurring within a given interval.\n",
    "3. The occurrence of one event doesn't affect the probability of another event.\n"
   ]
  },
  {
   "cell_type": "markdown",
   "metadata": {},
   "source": [
    "### <a id='toc4_1_'></a>[Examples of Poisson distributions](#toc0_)\n"
   ]
  },
  {
   "cell_type": "markdown",
   "metadata": {},
   "source": [
    "1. **Classic example: Horse kick deaths**\n",
    "   - Studied by Ladislaus Bortkiewicz in the late 1800s\n",
    "   - Analyzed deaths by horse kicks in Prussian army corps\n",
    "   - Found a mean of 0.61 deaths per corps per year (λ = 0.61)\n",
    "   - Most years had zero deaths, but some had up to four\n",
    "\n",
    "2. **Modern applications:**\n",
    "   - Text messages received per hour\n",
    "   - Website visitors per day\n",
    "   - Machine malfunctions per month\n",
    "   - Rare disease cases per year in a population\n"
   ]
  },
  {
   "cell_type": "markdown",
   "metadata": {},
   "source": [
    "### <a id='toc4_2_'></a>[Probability mass function](#toc0_)\n"
   ]
  },
  {
   "cell_type": "markdown",
   "metadata": {},
   "source": [
    "The probability mass function (PMF) of a Poisson distribution is given by:\n",
    "\n",
    "$P(X = k) = \\frac{e^{-λ} λ^k}{k!}$\n",
    "\n",
    "Where:\n",
    "- e is Euler's number (approximately 2.71828)\n",
    "- λ is the average number of events per interval\n",
    "- k is the number of events we're calculating the probability for\n"
   ]
  },
  {
   "cell_type": "markdown",
   "metadata": {},
   "source": [
    "### <a id='toc4_3_'></a>[Visual representation](#toc0_)\n"
   ]
  },
  {
   "cell_type": "markdown",
   "metadata": {},
   "source": [
    "Poisson distributions can be visualized as graphs of their probability mass function:\n",
    "\n",
    "- The peak of the distribution represents the most probable number of events (the mode).\n",
    "- For low λ values, the distribution is right-skewed.\n",
    "- As λ increases (≥ 10), the distribution approximates a normal distribution.\n"
   ]
  },
  {
   "cell_type": "markdown",
   "metadata": {},
   "source": [
    "[Placeholder for graph showing Poisson distributions with different λ values]\n"
   ]
  },
  {
   "cell_type": "markdown",
   "metadata": {},
   "source": [
    "### <a id='toc4_4_'></a>[Mean and variance](#toc0_)\n"
   ]
  },
  {
   "cell_type": "markdown",
   "metadata": {},
   "source": [
    "A unique property of the Poisson distribution is that its mean and variance are both equal to λ:\n",
    "\n",
    "- Mean (expected value): E[X] = λ\n",
    "- Variance: Var(X) = λ\n"
   ]
  },
  {
   "cell_type": "markdown",
   "metadata": {},
   "source": [
    "This equality of mean and variance is a distinguishing feature of the Poisson distribution.\n"
   ]
  },
  {
   "cell_type": "markdown",
   "metadata": {},
   "source": [
    "### <a id='toc4_5_'></a>[Applications in data science and machine learning](#toc0_)\n"
   ]
  },
  {
   "cell_type": "markdown",
   "metadata": {},
   "source": [
    "1. **Anomaly detection:** Identifying unusual patterns in event occurrences\n",
    "2. **Text analysis:** Modeling the occurrence of rare words in documents\n",
    "3. **Network traffic:** Predicting packet arrivals in computer networks\n",
    "4. **Customer behavior:** Modeling purchase frequencies or service requests\n"
   ]
  },
  {
   "cell_type": "markdown",
   "metadata": {},
   "source": [
    "The Poisson distribution is closely related to the Binomial distribution. As the number of trials in a Binomial distribution approaches infinity and the probability of success approaches zero, while their product remains constant, the Binomial distribution approaches a Poisson distribution. This relationship is known as the Poisson limit theorem.\n"
   ]
  },
  {
   "cell_type": "markdown",
   "metadata": {},
   "source": [
    "Understanding the Poisson distribution is crucial for data scientists and analysts working with count data or rare event occurrences. Its simplicity and well-defined properties make it a powerful tool for modeling and predicting in various fields, from quality control to epidemiology."
   ]
  },
  {
   "cell_type": "markdown",
   "metadata": {},
   "source": [
    "## <a id='toc5_'></a>[(Optional) Geometric Distribution](#toc0_)"
   ]
  },
  {
   "cell_type": "markdown",
   "metadata": {},
   "source": [
    "A Geometric distribution is a discrete probability distribution that models the number of trials needed to achieve the first success in a sequence of independent Bernoulli trials. It's often described as the \"wait until success\" distribution.\n"
   ]
  },
  {
   "cell_type": "markdown",
   "metadata": {},
   "source": [
    "<img src=\"./images/tmp/geometric-dist.png\" width=\"800\">"
   ]
  },
  {
   "cell_type": "markdown",
   "metadata": {},
   "source": [
    "Key characteristics of a Geometric distribution:\n",
    "\n",
    "1. It deals with discrete, countable outcomes (represented by k).\n",
    "2. Trials are independent and identically distributed.\n",
    "3. Each trial has only two possible outcomes: success or failure.\n",
    "4. The probability of success (p) remains constant for each trial.\n"
   ]
  },
  {
   "cell_type": "markdown",
   "metadata": {},
   "source": [
    "### <a id='toc5_1_'></a>[When to use a Geometric distribution](#toc0_)\n"
   ]
  },
  {
   "cell_type": "markdown",
   "metadata": {},
   "source": [
    "You can use a Geometric distribution if:\n",
    "\n",
    "1. You're interested in the number of trials until the first success occurs.\n",
    "2. Each trial is independent of the others.\n",
    "3. The probability of success remains constant across all trials.\n",
    "4. You're dealing with a sequence of yes/no questions or pass/fail scenarios.\n"
   ]
  },
  {
   "cell_type": "markdown",
   "metadata": {},
   "source": [
    "### <a id='toc5_2_'></a>[Probability mass function](#toc0_)\n"
   ]
  },
  {
   "cell_type": "markdown",
   "metadata": {},
   "source": [
    "The probability mass function (PMF) of a Geometric distribution is given by:\n",
    "\n",
    "$P(X = k) = (1-p)^{k-1}p$\n",
    "\n",
    "Where:\n",
    "- p is the probability of success on each trial\n",
    "- k is the number of trials until the first success (k = 1, 2, 3, ...)\n"
   ]
  },
  {
   "cell_type": "markdown",
   "metadata": {},
   "source": [
    "This formula gives the probability of getting the first success on the kth trial.\n"
   ]
  },
  {
   "cell_type": "markdown",
   "metadata": {},
   "source": [
    "### <a id='toc5_3_'></a>[Mean and variance](#toc0_)\n"
   ]
  },
  {
   "cell_type": "markdown",
   "metadata": {},
   "source": [
    "For a Geometric distribution:\n",
    "\n",
    "- Mean (expected value): E[X] = 1/p\n",
    "- Variance: Var(X) = (1-p)/p²\n"
   ]
  },
  {
   "cell_type": "markdown",
   "metadata": {},
   "source": [
    "These formulas provide insights into the average number of trials needed for success and the spread of possible outcomes.\n"
   ]
  },
  {
   "cell_type": "markdown",
   "metadata": {},
   "source": [
    "### <a id='toc5_4_'></a>[Visual representation](#toc0_)\n"
   ]
  },
  {
   "cell_type": "markdown",
   "metadata": {},
   "source": [
    "Geometric distributions can be visualized as graphs of their probability mass function:\n",
    "\n",
    "- The distribution is always right-skewed.\n",
    "- As p increases, the peak of the distribution shifts left, indicating fewer trials are likely needed for success.\n"
   ]
  },
  {
   "cell_type": "markdown",
   "metadata": {},
   "source": [
    "[Placeholder for graph showing Geometric distributions with different p values]\n"
   ]
  },
  {
   "cell_type": "markdown",
   "metadata": {},
   "source": [
    "### <a id='toc5_5_'></a>[Examples of Geometric distributions](#toc0_)\n"
   ]
  },
  {
   "cell_type": "markdown",
   "metadata": {},
   "source": [
    "1. **Classic example: Coin flips until heads**\n",
    "   - Flipping a fair coin until you get heads\n",
    "   - p = 0.5 for each flip\n",
    "   - The number of flips needed follows a Geometric distribution\n",
    "\n",
    "2. **Modern applications:**\n",
    "   - Number of sales calls until making a sale\n",
    "   - Number of job applications until getting an offer\n",
    "   - Number of attempts until passing a test\n",
    "   - Number of days until it rains in a dry climate\n"
   ]
  },
  {
   "cell_type": "markdown",
   "metadata": {},
   "source": [
    "### <a id='toc5_6_'></a>[Applications in data science and machine learning](#toc0_)\n"
   ]
  },
  {
   "cell_type": "markdown",
   "metadata": {},
   "source": [
    "1. **Survival analysis:** Modeling time until an event occurs\n",
    "2. **Quality control:** Number of items inspected until finding a defect\n",
    "3. **Customer behavior:** Modeling customer churn or time between purchases\n",
    "4. **Network reliability:** Time until a system failure occurs\n"
   ]
  },
  {
   "cell_type": "markdown",
   "metadata": {},
   "source": [
    "### <a id='toc5_7_'></a>[Relationship to other distributions](#toc0_)\n"
   ]
  },
  {
   "cell_type": "markdown",
   "metadata": {},
   "source": [
    "The Geometric distribution is closely related to the Exponential distribution, its continuous counterpart. If you were to measure the time between successes in a Poisson process, that time would follow an Exponential distribution.\n"
   ]
  },
  {
   "cell_type": "markdown",
   "metadata": {},
   "source": [
    "A unique characteristic of the Geometric distribution is its **\"memory-less\"** property. This means that the probability of success on the next trial is always p, regardless of how many failures have occurred previously. Mathematically:\n",
    "\n",
    "$P(X > n + k | X > n) = P(X > k)$\n"
   ]
  },
  {
   "cell_type": "markdown",
   "metadata": {},
   "source": [
    "This property makes the Geometric distribution particularly useful in modeling scenarios where past failures don't influence future probabilities of success.\n"
   ]
  },
  {
   "cell_type": "markdown",
   "metadata": {},
   "source": [
    "Understanding the Geometric distribution is valuable for data scientists and analysts working with scenarios involving repeated trials until a success occurs. Its simplicity and well-defined properties make it a powerful tool for modeling and predicting in various fields, from marketing to reliability engineering."
   ]
  },
  {
   "cell_type": "markdown",
   "metadata": {},
   "source": [
    "## <a id='toc6_'></a>[Comparison of Distributions](#toc0_)"
   ]
  },
  {
   "cell_type": "markdown",
   "metadata": {},
   "source": [
    "Understanding when to use each discrete probability distribution and how they relate to one another is crucial for effective data analysis and modeling. This section provides a comprehensive comparison of the distributions we've covered.\n"
   ]
  },
  {
   "cell_type": "markdown",
   "metadata": {},
   "source": [
    "### <a id='toc6_1_'></a>[When to use each distribution](#toc0_)\n"
   ]
  },
  {
   "cell_type": "markdown",
   "metadata": {},
   "source": [
    "1. **Bernoulli Distribution**\n",
    "   - Use when: Modeling a single trial with only two possible outcomes (success/failure).\n",
    "   - Examples: Coin flip, yes/no survey response, pass/fail test.\n",
    "\n",
    "2. **Binomial Distribution**\n",
    "   - Use when: Counting the number of successes in a fixed number of independent Bernoulli trials.\n",
    "   - Examples: Number of heads in 10 coin flips, number of defective items in a batch of 100.\n",
    "\n",
    "3. **Multinomial Distribution**\n",
    "   - Use when: Counting outcomes in a fixed number of trials with more than two possible outcomes.\n",
    "   - Examples: Roll outcomes for multiple dice, market share among several competitors.\n",
    "\n",
    "4. **Poisson Distribution**\n",
    "   - Use when: Counting rare events in a fixed interval of time or space, with a known average rate.\n",
    "   - Examples: Number of customer arrivals per hour, number of typos per page.\n",
    "\n",
    "5. **Geometric Distribution**\n",
    "   - Use when: Counting the number of trials until the first success occurs.\n",
    "   - Examples: Number of sales calls until a sale, number of coin flips until heads appears.\n"
   ]
  },
  {
   "cell_type": "markdown",
   "metadata": {},
   "source": [
    "### <a id='toc6_2_'></a>[Relationships between distributions](#toc0_)\n"
   ]
  },
  {
   "cell_type": "markdown",
   "metadata": {},
   "source": [
    "1. **Bernoulli and Binomial**\n",
    "   - A Binomial distribution with n=1 is equivalent to a Bernoulli distribution.\n",
    "   - A Binomial distribution is the sum of n independent Bernoulli trials.\n",
    "\n",
    "2. **Binomial and Multinomial**\n",
    "   - The Multinomial distribution is a generalization of the Binomial to more than two outcomes.\n",
    "   - If you collapse a Multinomial into two categories, it becomes a Binomial.\n",
    "\n",
    "3. **Binomial and Poisson**\n",
    "   - As n increases and p decreases in a Binomial(n,p), keeping np constant, it approaches a Poisson distribution.\n",
    "   - This relationship is known as the Poisson limit theorem.\n",
    "\n",
    "4. **Geometric and Negative Binomial**\n",
    "   - The Geometric distribution is a special case of the Negative Binomial, where we're only interested in the first success.\n",
    "\n",
    "5. **Poisson and Exponential**\n",
    "   - If events occur according to a Poisson process, the time between events follows an Exponential distribution.\n"
   ]
  },
  {
   "cell_type": "markdown",
   "metadata": {},
   "source": [
    "### <a id='toc6_3_'></a>[Comparison table](#toc0_)\n"
   ]
  },
  {
   "cell_type": "markdown",
   "metadata": {},
   "source": [
    "| Distribution | Parameters | Mean | Variance | Use Case |\n",
    "|--------------|------------|------|----------|----------|\n",
    "| Bernoulli    | p          | p    | p(1-p)   | Single binary trial |\n",
    "| Binomial     | n, p       | np   | np(1-p)  | Fixed trials, binary outcomes |\n",
    "| Multinomial  | n, p₁...pₖ | npᵢ  | npᵢ(1-pᵢ) | Fixed trials, multiple outcomes |\n",
    "| Poisson      | λ          | λ    | λ        | Rate of rare events |\n",
    "| Geometric    | p          | 1/p  | (1-p)/p² | Trials until first success |\n"
   ]
  },
  {
   "cell_type": "markdown",
   "metadata": {},
   "source": [
    "### <a id='toc6_4_'></a>[Key considerations for selection](#toc0_)\n"
   ]
  },
  {
   "cell_type": "markdown",
   "metadata": {},
   "source": [
    "1. **Nature of the event:** Is it a count, a rate, or a \"time until\" scenario?\n",
    "2. **Number of trials:** Fixed or potentially infinite?\n",
    "3. **Number of possible outcomes:** Two or more?\n",
    "4. **Independence:** Are events independent of each other?\n",
    "5. **Constancy:** Does the probability of success remain constant?\n"
   ]
  },
  {
   "cell_type": "markdown",
   "metadata": {},
   "source": [
    "### <a id='toc6_5_'></a>[Practical example: Customer behavior modeling](#toc0_)\n"
   ]
  },
  {
   "cell_type": "markdown",
   "metadata": {},
   "source": [
    "Consider modeling different aspects of customer behavior:\n",
    "\n",
    "1. Whether a customer makes a purchase on a visit (Bernoulli)\n",
    "2. Number of purchases in 10 visits (Binomial)\n",
    "3. Choice among multiple product categories (Multinomial)\n",
    "4. Number of customer support requests per day (Poisson)\n",
    "5. Number of visits until a purchase is made (Geometric)\n"
   ]
  },
  {
   "cell_type": "markdown",
   "metadata": {},
   "source": [
    "Understanding these relationships and selection criteria allows data scientists to choose the most appropriate distribution for their specific scenario, leading to more accurate models and insights.\n"
   ]
  },
  {
   "cell_type": "markdown",
   "metadata": {},
   "source": [
    "Remember, while these theoretical distributions are powerful tools, real-world data often doesn't perfectly fit any single distribution. It's crucial to validate your assumptions and consider more complex models when necessary."
   ]
  }
 ],
 "metadata": {
  "kernelspec": {
   "display_name": "py310",
   "language": "python",
   "name": "python3"
  },
  "language_info": {
   "codemirror_mode": {
    "name": "ipython",
    "version": 3
   },
   "file_extension": ".py",
   "mimetype": "text/x-python",
   "name": "python",
   "nbconvert_exporter": "python",
   "pygments_lexer": "ipython3",
   "version": "3.10.12"
  }
 },
 "nbformat": 4,
 "nbformat_minor": 2
}
