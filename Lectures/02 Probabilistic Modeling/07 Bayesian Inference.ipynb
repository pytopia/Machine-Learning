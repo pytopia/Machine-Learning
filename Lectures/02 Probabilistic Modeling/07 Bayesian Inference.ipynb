{
 "cells": [
  {
   "cell_type": "markdown",
   "metadata": {},
   "source": [
    "<img src=\"./images/banner.png\" width=\"800\">"
   ]
  },
  {
   "cell_type": "markdown",
   "metadata": {},
   "source": [
    "# Bayesian Inference: Understanding the Probabilistic Approach"
   ]
  },
  {
   "cell_type": "markdown",
   "metadata": {},
   "source": [
    "Imagine you're a detective trying to solve a mystery. As you gather clues, your suspicions about what happened change and evolve. This process of updating your beliefs as new evidence comes to light is the essence of **Bayesian inference**.\n"
   ]
  },
  {
   "cell_type": "markdown",
   "metadata": {},
   "source": [
    "Bayesian inference is a powerful approach to statistical reasoning that allows us to:\n",
    "\n",
    "- **Incorporate prior knowledge** into our analyses\n",
    "- **Update our beliefs** as we collect new data\n",
    "- **Quantify uncertainty** in a natural and intuitive way\n"
   ]
  },
  {
   "cell_type": "markdown",
   "metadata": {},
   "source": [
    "Named after Thomas Bayes, an 18th-century statistician, Bayesian inference has become increasingly popular in recent years, thanks to advances in computational power and its ability to handle complex, real-world problems.\n"
   ]
  },
  {
   "cell_type": "markdown",
   "metadata": {},
   "source": [
    "In today's data-driven world, Bayesian inference is more relevant than ever:\n",
    "\n",
    "1. **Handling Uncertainty**: It provides a framework for making decisions under uncertainty, crucial in fields like finance, healthcare, and AI.\n",
    "\n",
    "2. **Flexibility**: Bayesian methods can handle small datasets and complex models where traditional methods might fail.\n",
    "\n",
    "3. **Interpretability**: Results are often more intuitive, expressing probabilities of hypotheses rather than abstract p-values.\n",
    "\n",
    "4. **Continuous Learning**: The Bayesian approach naturally incorporates new information, making it ideal for adaptive systems and online learning.\n"
   ]
  },
  {
   "cell_type": "markdown",
   "metadata": {},
   "source": [
    "In this lecture, we'll dive deep into the world of Bayesian inference:\n",
    "\n",
    "- The fundamental concepts and thinking behind the Bayesian approach\n",
    "- How Bayes' Theorem works and why it's so powerful\n",
    "- The step-by-step process of Bayesian inference\n",
    "- Practical examples to illustrate these concepts\n",
    "- Applications in machine learning and data science\n"
   ]
  },
  {
   "cell_type": "markdown",
   "metadata": {},
   "source": [
    "By the end of this lecture, you'll have a solid understanding of how Bayesian inference works and why it's become an essential tool in the modern data scientist's toolkit.\n"
   ]
  },
  {
   "cell_type": "markdown",
   "metadata": {},
   "source": [
    "So, put on your detective hat, and let's embark on this journey of probabilistic reasoning and updated beliefs!"
   ]
  },
  {
   "cell_type": "markdown",
   "metadata": {},
   "source": [
    "**Table of contents**<a id='toc0_'></a>    \n",
    "- [Fundamentals of Bayesian Thinking](#toc1_)    \n",
    "  - [The Bayesian Framework](#toc1_1_)    \n",
    "- [Bayes' Theorem: The Heart of Bayesian Inference](#toc2_)    \n",
    "  - [Components: Prior, Likelihood, and Posterior](#toc2_1_)    \n",
    "- [The Bayesian Inference Process](#toc3_)    \n",
    "  - [Step 1: Defining the Prior](#toc3_1_)    \n",
    "  - [Step 2: Specifying the Likelihood](#toc3_2_)    \n",
    "  - [Step 3: Calculating the Posterior](#toc3_3_)    \n",
    "  - [Step 4: Making Inferences](#toc3_4_)    \n",
    "  - [Putting It All Together](#toc3_5_)    \n",
    "- [Practical Examples](#toc4_)    \n",
    "  - [Simplified Coin Flip Example](#toc4_1_)    \n",
    "  - [Medical Diagnosis Example](#toc4_2_)    \n",
    "  - [Key Takeaways from These Examples](#toc4_3_)    \n",
    "- [Conclusion](#toc5_)    \n",
    "\n",
    "<!-- vscode-jupyter-toc-config\n",
    "\tnumbering=false\n",
    "\tanchor=true\n",
    "\tflat=false\n",
    "\tminLevel=2\n",
    "\tmaxLevel=6\n",
    "\t/vscode-jupyter-toc-config -->\n",
    "<!-- THIS CELL WILL BE REPLACED ON TOC UPDATE. DO NOT WRITE YOUR TEXT IN THIS CELL -->"
   ]
  },
  {
   "cell_type": "markdown",
   "metadata": {},
   "source": [
    "## <a id='toc1_'></a>[Fundamentals of Bayesian Thinking](#toc0_)"
   ]
  },
  {
   "cell_type": "markdown",
   "metadata": {},
   "source": [
    "In the Bayesian world, probability isn't just about coin flips and dice rolls. It's a way to quantify our uncertainty about the world. Here's how to think about it:\n",
    "\n",
    "- **Subjective Probability**: Unlike the frequentist view, which sees probability as long-term frequency, Bayesians view probability as a *degree of belief*.\n",
    "\n",
    "- **Uncertainty Quantification**: Probability becomes a tool to express how sure (or unsure) we are about something.\n",
    "\n",
    "- **Dynamic Beliefs**: These probabilities can change as we gather new information.\n",
    "\n",
    "**Example**: You might say, \"I'm 70% sure it will rain tomorrow.\" This isn't based on it raining on 70% of all tomorrows, but on your current belief given the information you have.\n"
   ]
  },
  {
   "cell_type": "markdown",
   "metadata": {},
   "source": [
    "### <a id='toc1_1_'></a>[The Bayesian Framework](#toc0_)\n"
   ]
  },
  {
   "cell_type": "markdown",
   "metadata": {},
   "source": [
    "The Bayesian framework is built on a few key ideas:\n",
    "\n",
    "1. **Prior Beliefs**: We start with what we already know (or think we know). This is called the *prior*.\n",
    "\n",
    "2. **New Evidence**: We collect data or make observations. This is our *likelihood*.\n",
    "\n",
    "3. **Updated Beliefs**: We combine our prior beliefs with the new evidence to form our *posterior* beliefs.\n",
    "\n",
    "4. **Continuous Learning**: This process can be repeated, with today's posterior becoming tomorrow's prior.\n"
   ]
  },
  {
   "cell_type": "markdown",
   "metadata": {},
   "source": [
    "This framework is often represented mathematically as:\n",
    "\n",
    "$$ \\text{Posterior} \\propto \\text{Prior} \\times \\text{Likelihood} $$\n"
   ]
  },
  {
   "cell_type": "markdown",
   "metadata": {},
   "source": [
    "Where $\\propto$ means \"proportional to\".\n"
   ]
  },
  {
   "cell_type": "markdown",
   "metadata": {},
   "source": [
    "**Key Principles**:\n"
   ]
  },
  {
   "cell_type": "markdown",
   "metadata": {},
   "source": [
    "- **All parameters are random variables**: In the Bayesian view, we're not trying to find fixed, \"true\" values, but rather distributions of possible values.\n",
    "\n",
    "- **Conditioning on known information**: We always work with probabilities that are conditional on what we know.\n",
    "\n",
    "- **Coherence**: Our beliefs should be logically consistent with each other.\n"
   ]
  },
  {
   "cell_type": "markdown",
   "metadata": {},
   "source": [
    "**Example in Action**:\n",
    "Imagine you're guessing the skill of a basketball player:\n",
    "\n",
    "1. *Prior*: Based on the league average, you think they might make about 50% of their shots.\n",
    "2. *New Data*: You watch them make 8 out of 10 shots in practice.\n",
    "3. *Posterior*: You update your belief, now thinking they're probably better than average.\n"
   ]
  },
  {
   "cell_type": "markdown",
   "metadata": {},
   "source": [
    "This simple example encapsulates the essence of Bayesian thinking: starting with a belief, observing evidence, and updating our belief accordingly.\n"
   ]
  },
  {
   "cell_type": "markdown",
   "metadata": {},
   "source": [
    "Understanding these fundamentals sets the stage for diving deeper into how Bayesian inference works in practice. Next, we'll explore the mathematical heart of this approach: Bayes' Theorem."
   ]
  },
  {
   "cell_type": "markdown",
   "metadata": {},
   "source": [
    "## <a id='toc2_'></a>[Bayes' Theorem: The Heart of Bayesian Inference](#toc0_)"
   ]
  },
  {
   "cell_type": "markdown",
   "metadata": {},
   "source": [
    "Bayes' Theorem is a fundamental principle in probability theory and statistics that describes how to update the probability of a hypothesis based on new evidence. It's named after Reverend Thomas Bayes, who first formulated the theorem in the 18th century. Bayes' Theorem is the mathematical foundation of Bayesian inference. It's a way to calculate the probability of an event based on prior knowledge of conditions that might be related to the event. Here's the theorem in its simplest form:\n",
    "\n",
    "$$ P(A|B) = \\frac{P(B|A) \\times P(A)}{P(B)} $$\n"
   ]
  },
  {
   "cell_type": "markdown",
   "metadata": {},
   "source": [
    "<img src=\"./images/tmp/bayesian.png\" width=\"800\">"
   ]
  },
  {
   "cell_type": "markdown",
   "metadata": {},
   "source": [
    "Where:\n",
    "- $P(A|B)$ is the probability of A given B (posterior)\n",
    "- $P(B|A)$ is the probability of B given A (likelihood)\n",
    "- $P(A)$ is the probability of A (prior)\n",
    "- $P(B)$ is the probability of B (evidence)\n"
   ]
  },
  {
   "cell_type": "markdown",
   "metadata": {},
   "source": [
    "**Intuitive Explanation**:\n",
    "Imagine you're a doctor diagnosing a rare disease. Bayes' Theorem helps you update your belief about whether a patient has the disease based on test results.\n"
   ]
  },
  {
   "cell_type": "markdown",
   "metadata": {},
   "source": [
    "<img src=\"./images/tmp/bayesian-ai-system.png\" width=\"800\">"
   ]
  },
  {
   "cell_type": "markdown",
   "metadata": {},
   "source": [
    "### <a id='toc2_1_'></a>[Components: Prior, Likelihood, and Posterior](#toc0_)\n"
   ]
  },
  {
   "cell_type": "markdown",
   "metadata": {},
   "source": [
    "Let's break down the key components of Bayes' Theorem:\n",
    "\n",
    "1. **Prior - $P(A)$**\n",
    "   - This is our initial belief before seeing new evidence.\n",
    "   - It represents what we know (or assume) beforehand.\n",
    "   - Example: The general prevalence of the disease in the population.\n",
    "\n",
    "2. **Likelihood - $P(B|A)$**\n",
    "   - This is the probability of seeing the evidence if our hypothesis is true.\n",
    "   - It relates our hypothesis to observable data.\n",
    "   - Example: The probability of a positive test result given that the patient has the disease.\n",
    "\n",
    "3. **Posterior - $P(A|B)$**\n",
    "   - This is our updated belief after considering the new evidence.\n",
    "   - It's what we're ultimately interested in calculating.\n",
    "   - Example: The probability that the patient has the disease, given a positive test result.\n",
    "\n",
    "4. **Evidence - $P(B)$**\n",
    "   - This is the probability of seeing the evidence, regardless of whether our hypothesis is true.\n",
    "   - It acts as a normalizing constant.\n",
    "   - Example: The overall probability of getting a positive test result.\n"
   ]
  },
  {
   "cell_type": "markdown",
   "metadata": {},
   "source": [
    "**Putting It All Together**:\n",
    "\n",
    "Let's use our medical diagnosis example:\n",
    "- Prior: 1% of the population has the disease.\n",
    "- Likelihood: The test is 95% accurate (for both positive and negative results).\n",
    "- Evidence: A patient tests positive.\n"
   ]
  },
  {
   "cell_type": "markdown",
   "metadata": {},
   "source": [
    "Applying Bayes' Theorem:\n",
    "\n",
    "$$ P(\\text{Disease|Positive}) = \\frac{P(\\text{Positive|Disease}) \\times P(\\text{Disease})}{P(\\text{Positive})} $$\n",
    "\n",
    "$$ = \\frac{0.95 \\times 0.01}{(0.95 \\times 0.01) + (0.05 \\times 0.99)} \\approx 0.16 $$\n"
   ]
  },
  {
   "cell_type": "markdown",
   "metadata": {},
   "source": [
    "This means that even with a positive test result, there's only about a 16% chance the patient has the disease. This counterintuitive result demonstrates the power of Bayes' Theorem in handling real-world probabilities.\n"
   ]
  },
  {
   "cell_type": "markdown",
   "metadata": {},
   "source": [
    "Understanding these components and how they interact in Bayes' Theorem is crucial for applying Bayesian inference to practical problems. In the next section, we'll walk through the step-by-step process of applying this knowledge in Bayesian inference."
   ]
  },
  {
   "cell_type": "markdown",
   "metadata": {},
   "source": [
    "## <a id='toc3_'></a>[The Bayesian Inference Process](#toc0_)"
   ]
  },
  {
   "cell_type": "markdown",
   "metadata": {},
   "source": [
    "The Bayesian inference process is like updating a mental model as new information comes in. Let's break it down step-by-step:\n"
   ]
  },
  {
   "cell_type": "markdown",
   "metadata": {},
   "source": [
    "### <a id='toc3_1_'></a>[Step 1: Defining the Prior](#toc0_)\n"
   ]
  },
  {
   "cell_type": "markdown",
   "metadata": {},
   "source": [
    "This is where we formalize our initial beliefs:\n",
    "\n",
    "- **What**: The prior is our belief about the parameter(s) of interest before seeing the data.\n",
    "- **How**: We express this as a probability distribution.\n",
    "- **Example**: If we're estimating the fairness of a coin, we might start with a prior that it's probably fair, but we're not certain.\n"
   ]
  },
  {
   "cell_type": "markdown",
   "metadata": {},
   "source": [
    "**Key Point**: The prior can be:\n",
    "- *Informative*: Based on previous studies or expert knowledge.\n",
    "- *Uninformative* or *Flat*: When we have little prior knowledge.\n"
   ]
  },
  {
   "cell_type": "markdown",
   "metadata": {},
   "source": [
    "### <a id='toc3_2_'></a>[Step 2: Specifying the Likelihood](#toc0_)\n"
   ]
  },
  {
   "cell_type": "markdown",
   "metadata": {},
   "source": [
    "This step involves modeling how our data relates to the parameter(s):\n",
    "\n",
    "- **What**: The likelihood is the probability of observing our data, given different possible values of the parameter(s).\n",
    "- **How**: We choose a probability distribution that best represents our data-generating process.\n",
    "- **Example**: For coin flips, we might use a Binomial distribution.\n"
   ]
  },
  {
   "cell_type": "markdown",
   "metadata": {},
   "source": [
    "**Key Point**: The likelihood function connects our theoretical model to the observed data.\n"
   ]
  },
  {
   "cell_type": "markdown",
   "metadata": {},
   "source": [
    "### <a id='toc3_3_'></a>[Step 3: Calculating the Posterior](#toc0_)\n"
   ]
  },
  {
   "cell_type": "markdown",
   "metadata": {},
   "source": [
    "Now we combine our prior beliefs with the observed data:\n",
    "\n",
    "- **What**: The posterior is our updated belief about the parameter(s) after seeing the data.\n",
    "- **How**: We use Bayes' Theorem to compute this:\n",
    "\n",
    "  $$ P(\\theta|D) \\propto P(D|\\theta) \\times P(\\theta) $$\n",
    "\n",
    "  Where $\\theta$ is our parameter and $D$ is our data.\n",
    "\n",
    "- **Example**: After seeing 60 heads in 100 flips, our belief about the coin's fairness would shift towards it being slightly biased.\n"
   ]
  },
  {
   "cell_type": "markdown",
   "metadata": {},
   "source": [
    "**Key Point**: The posterior combines prior knowledge with observed data.\n"
   ]
  },
  {
   "cell_type": "markdown",
   "metadata": {},
   "source": [
    "### <a id='toc3_4_'></a>[Step 4: Making Inferences](#toc0_)\n"
   ]
  },
  {
   "cell_type": "markdown",
   "metadata": {},
   "source": [
    "Finally, we use our posterior distribution to draw conclusions:\n",
    "\n",
    "- **Point Estimates**: We might use the mean or mode of the posterior as our best guess for the parameter value.\n",
    "- **Credible Intervals**: We can find ranges where we're X% sure the true parameter lies.\n",
    "- **Predictions**: We can generate predictions for future data.\n",
    "- **Decision Making**: We can use the posterior to inform decisions under uncertainty.\n"
   ]
  },
  {
   "cell_type": "markdown",
   "metadata": {},
   "source": [
    "**Example**: We might conclude that there's a 95% chance the coin's probability of heads lies between 0.51 and 0.69.\n"
   ]
  },
  {
   "cell_type": "markdown",
   "metadata": {},
   "source": [
    "**Key Point**: Bayesian inference provides a full distribution of possible parameter values, allowing for rich and nuanced conclusions.\n"
   ]
  },
  {
   "cell_type": "markdown",
   "metadata": {},
   "source": [
    "### <a id='toc3_5_'></a>[Putting It All Together](#toc0_)\n"
   ]
  },
  {
   "cell_type": "markdown",
   "metadata": {},
   "source": [
    "Let's revisit our coin flip example:\n",
    "\n",
    "1. **Prior**: We start believing the coin is probably fair (Beta(10,10) distribution).\n",
    "2. **Likelihood**: We model 100 flips as a Binomial distribution.\n",
    "3. **Data**: We observe 60 heads out of 100 flips.\n",
    "4. **Posterior**: We update our belief, now leaning towards the coin being slightly biased (Beta(70,50) distribution).\n",
    "5. **Inference**: We might conclude there's strong evidence the coin is biased, with a 95% credible interval for the probability of heads being (0.51, 0.69).\n"
   ]
  },
  {
   "cell_type": "markdown",
   "metadata": {},
   "source": [
    "This process allows us to start with our prior knowledge, incorporate new evidence, and end up with a nuanced understanding of the situation, complete with a measure of our uncertainty. It's this ability to handle uncertainty and update beliefs that makes Bayesian inference so powerful in real-world applications."
   ]
  },
  {
   "cell_type": "markdown",
   "metadata": {},
   "source": [
    "## <a id='toc4_'></a>[Practical Examples](#toc0_)"
   ]
  },
  {
   "cell_type": "markdown",
   "metadata": {},
   "source": [
    "### <a id='toc4_1_'></a>[Simplified Coin Flip Example](#toc0_)\n"
   ]
  },
  {
   "cell_type": "markdown",
   "metadata": {},
   "source": [
    "Let's determine if a coin is fair using a simpler Bayesian approach.\n"
   ]
  },
  {
   "cell_type": "markdown",
   "metadata": {},
   "source": [
    "1. **Define the Prior**:\n",
    "   - We start believing the coin is probably fair.\n",
    "   - Let's say we're 80% sure it's fair (50% chance of heads).\n",
    "   - Prior: P(Fair) = 0.8, P(Biased) = 0.2\n",
    "\n",
    "2. **Specify the Likelihood**:\n",
    "   - If the coin is fair, P(Heads|Fair) = 0.5\n",
    "   - If it's biased, let's assume P(Heads|Biased) = 0.7\n",
    "\n",
    "3. **Observe Data**:\n",
    "   - We flip the coin 10 times and get 7 heads.\n",
    "\n",
    "4. **Calculate the Posterior**:\n",
    "   Using Bayes' Theorem:\n",
    "\n",
    "   P(Fair|7 Heads) = P(7 Heads|Fair) × P(Fair) / P(7 Heads)\n",
    "\n",
    "   P(Biased|7 Heads) = P(7 Heads|Biased) × P(Biased) / P(7 Heads)\n",
    "\n",
    "   We can calculate these probabilities:\n",
    "\n",
    "   P(7 Heads|Fair) ≈ 0.117\n",
    "   P(7 Heads|Biased) ≈ 0.267\n",
    "\n",
    "   P(Fair|7 Heads) ≈ 0.637\n",
    "   P(Biased|7 Heads) ≈ 0.363\n",
    "\n",
    "5. **Make Inferences**:\n",
    "   - Our belief in the coin being fair has decreased from 80% to about 64%.\n",
    "   - There's now a 36% chance the coin is biased, up from our initial 20%.\n"
   ]
  },
  {
   "cell_type": "markdown",
   "metadata": {},
   "source": [
    "This simplified example shows how our belief updates based on the observed data, without using complex distributions.\n"
   ]
  },
  {
   "cell_type": "markdown",
   "metadata": {},
   "source": [
    "### <a id='toc4_2_'></a>[Medical Diagnosis Example](#toc0_)\n"
   ]
  },
  {
   "cell_type": "markdown",
   "metadata": {},
   "source": [
    "Now, let's consider a more complex scenario: diagnosing a rare disease.\n",
    "\n",
    "1. **Define the Prior**:\n",
    "   - The disease affects 1% of the population.\n",
    "   - Prior probability of having the disease: P(D) = 0.01\n",
    "\n",
    "2. **Specify the Likelihood**:\n",
    "   - We have a test that's 95% accurate for both positive and negative results.\n",
    "   - P(Positive|Disease) = 0.95 (true positive rate)\n",
    "   - P(Negative|No Disease) = 0.95 (true negative rate)\n",
    "\n",
    "3. **Observe Data**:\n",
    "   - A patient tests positive.\n",
    "\n",
    "4. **Calculate the Posterior**:\n",
    "   Using Bayes' Theorem:\n",
    "   \n",
    "   $P(D|+) = \\frac{P(+|D) \\times P(D)}{P(+)}$\n",
    "   \n",
    "   Where $P(+) = P(+|D)P(D) + P(+|\\text{Not D})P(\\text{Not D})$\n",
    "              $= 0.95 \\times 0.01 + 0.05 \\times 0.99 = 0.0585$\n",
    "   \n",
    "   So, $P(D|+) = \\frac{0.95 \\times 0.01}{0.0585} \\approx 0.162$\n",
    "\n",
    "5. **Make Inferences**:\n",
    "   - Despite the positive test, there's only about a 16.2% chance the patient has the disease.\n",
    "   - This counterintuitive result demonstrates the importance of considering base rates (our prior) in medical diagnosis.\n"
   ]
  },
  {
   "cell_type": "markdown",
   "metadata": {},
   "source": [
    "### <a id='toc4_3_'></a>[Key Takeaways from These Examples](#toc0_)\n"
   ]
  },
  {
   "cell_type": "markdown",
   "metadata": {},
   "source": [
    "1. **Beliefs Update with Data**: In the coin example, our confidence in the coin's fairness decreased after seeing more heads than expected.\n",
    "\n",
    "2. **Prior Matters**: The medical example shows how the rarity of a disease affects the interpretation of a positive test.\n",
    "\n",
    "3. **Intuition vs. Calculation**: Both examples demonstrate how Bayesian calculations can sometimes contradict our initial intuitions.\n",
    "\n",
    "4. **Practical Application**: These examples show how Bayesian thinking applies to everyday scenarios, from games to important medical decisions.\n"
   ]
  },
  {
   "cell_type": "markdown",
   "metadata": {},
   "source": [
    "By simplifying the coin flip example, we can more clearly see the process of updating beliefs based on new evidence, which is the core of Bayesian inference."
   ]
  },
  {
   "cell_type": "markdown",
   "metadata": {},
   "source": [
    "## <a id='toc5_'></a>[Conclusion](#toc0_)"
   ]
  },
  {
   "cell_type": "markdown",
   "metadata": {},
   "source": [
    "As we wrap up our journey through Bayesian inference, let's revisit the core ideas we've explored:\n",
    "\n",
    "1. **Probability as Belief**: \n",
    "   - In Bayesian thinking, probability represents our degree of certainty about something.\n",
    "   - This allows us to quantify and update our beliefs as we gather new information.\n",
    "\n",
    "2. **Bayes' Theorem**: \n",
    "   - The mathematical heart of Bayesian inference.\n",
    "   - It shows us how to update probabilities given new evidence.\n",
    "\n",
    "3. **Prior, Likelihood, and Posterior**:\n",
    "   - *Prior*: Our initial beliefs before seeing data.\n",
    "   - *Likelihood*: How probable the data is given our hypothesis.\n",
    "   - *Posterior*: Our updated beliefs after considering the data.\n",
    "\n",
    "4. **The Inference Process**:\n",
    "   - Start with a prior belief.\n",
    "   - Collect data and specify how it relates to our hypothesis.\n",
    "   - Use Bayes' Theorem to update our beliefs.\n",
    "   - Make decisions or predictions based on the posterior.\n",
    "\n",
    "5. **Practical Applications**:\n",
    "   - From simple examples like coin flips to complex scenarios like medical diagnoses.\n",
    "   - Bayesian methods shine in handling uncertainty and incorporating prior knowledge.\n"
   ]
  },
  {
   "cell_type": "markdown",
   "metadata": {},
   "source": [
    "By mastering Bayesian inference, you're not just learning a statistical technique – you're adopting a way of thinking that will serve you well in navigating the uncertain, data-rich world of modern data science. Keep exploring, keep questioning, and keep updating your beliefs as you encounter new evidence. That's the Bayesian way!"
   ]
  },
  {
   "cell_type": "markdown",
   "metadata": {
    "vscode": {
     "languageId": "plaintext"
    }
   },
   "source": [
    "# add resources from youtube and medium"
   ]
  },
  {
   "cell_type": "code",
   "execution_count": null,
   "metadata": {
    "vscode": {
     "languageId": "plaintext"
    }
   },
   "outputs": [],
   "source": []
  }
 ],
 "metadata": {
  "language_info": {
   "name": "python"
  }
 },
 "nbformat": 4,
 "nbformat_minor": 2
}
