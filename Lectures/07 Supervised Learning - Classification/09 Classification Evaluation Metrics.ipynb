{
 "cells": [
  {
   "cell_type": "markdown",
   "metadata": {},
   "source": [
    "<img src=\"./images/banner.png\" width=\"800\">"
   ]
  },
  {
   "cell_type": "markdown",
   "metadata": {},
   "source": [
    "# Evaluation Metrics for Classification"
   ]
  },
  {
   "cell_type": "markdown",
   "metadata": {},
   "source": [
    "Classification is a fundamental task where we aim to predict categorical outcomes. Whether we're detecting spam emails, diagnosing diseases, or recognizing handwritten digits, the success of our classification models hinges on their ability to make accurate predictions. But how do we quantify this success? How can we be confident that our model is performing well, and how do we compare different models? This is where evaluation metrics for classification come into play.\n"
   ]
  },
  {
   "cell_type": "markdown",
   "metadata": {},
   "source": [
    "🔑 **Key Concept:** Evaluation metrics are quantitative measures that assess the performance of classification models, providing insights into their strengths and weaknesses.\n"
   ]
  },
  {
   "cell_type": "markdown",
   "metadata": {},
   "source": [
    "Classification evaluation is not just about determining if a model is \"good\" or \"bad.\" It's a nuanced process that involves understanding various aspects of model performance, such as:\n",
    "\n",
    "1. Overall accuracy\n",
    "2. Performance on different classes\n",
    "3. Ability to handle imbalanced datasets\n",
    "4. Robustness across different thresholds\n",
    "5. Generalization to unseen data\n"
   ]
  },
  {
   "cell_type": "markdown",
   "metadata": {},
   "source": [
    "<img src=\"./images/dog-clf.webp\" width=\"800\">"
   ]
  },
  {
   "cell_type": "markdown",
   "metadata": {},
   "source": [
    "Imagine you've developed a model to detect a rare disease that affects only 1% of the population. If your model simply predicts \"no disease\" for every patient, it would be correct 99% of the time! However, this model is clearly useless for its intended purpose. This example illustrates why accuracy alone is often insufficient, and why we need a more comprehensive toolkit of evaluation metrics.\n"
   ]
  },
  {
   "cell_type": "markdown",
   "metadata": {},
   "source": [
    "💡 **Pro Tip:** Always consider the context of your classification problem when choosing evaluation metrics. What's most important: minimizing false positives, minimizing false negatives, or balancing both?\n"
   ]
  },
  {
   "cell_type": "markdown",
   "metadata": {},
   "source": [
    "Evaluation is not a one-time step at the end of model development. It's an integral part of the entire machine learning pipeline:\n",
    "\n",
    "1. **During Model Selection:** Evaluation metrics guide us in choosing between different algorithms or model architectures.\n",
    "2. **During Hyperparameter Tuning:** We use evaluation metrics to fine-tune our models and find the best configuration.\n",
    "3. **For Model Validation:** Evaluation on a held-out test set helps us estimate how well our model will perform on unseen data.\n",
    "4. **In Production Monitoring:** Ongoing evaluation ensures our deployed model continues to perform well over time.\n"
   ]
  },
  {
   "cell_type": "markdown",
   "metadata": {},
   "source": [
    "The process of evaluating a classification model typically involves the following steps:\n",
    "\n",
    "1. **Split the Data:** Divide your dataset into training, validation, and test sets.\n",
    "2. **Train the Model:** Use the training data to build your model.\n",
    "3. **Make Predictions:** Use your model to make predictions on the validation or test set.\n",
    "4. **Compare Predictions:** Compare these predictions to the true labels.\n",
    "5. **Calculate Metrics:** Compute various evaluation metrics based on this comparison.\n",
    "6. **Interpret Results:** Analyze these metrics to understand model performance.\n",
    "7. **Iterate:** Use insights from evaluation to improve your model if necessary.\n"
   ]
  },
  {
   "cell_type": "markdown",
   "metadata": {},
   "source": [
    "While evaluation might seem straightforward, several challenges can complicate the process:\n",
    "\n",
    "1. **Class Imbalance:** When some classes are much more frequent than others, many metrics can be misleading.\n",
    "2. **Multi-class Problems:** Some metrics designed for binary classification don't extend easily to multi-class scenarios.\n",
    "3. **Probabilistic Outputs:** Many models output probabilities rather than hard classifications, requiring threshold-based metrics.\n",
    "4. **Cost-sensitive Classification:** In some domains, different types of errors have vastly different consequences.\n"
   ]
  },
  {
   "cell_type": "markdown",
   "metadata": {},
   "source": [
    "🤔 **Why This Matters:** Understanding these challenges is crucial for choosing appropriate evaluation metrics and interpreting them correctly in the context of your specific problem.\n"
   ]
  },
  {
   "cell_type": "markdown",
   "metadata": {},
   "source": [
    "As we dive deeper into various evaluation metrics in the following sections, we'll explore how to address these challenges and gain a comprehensive understanding of classification model performance.\n"
   ]
  },
  {
   "cell_type": "markdown",
   "metadata": {},
   "source": [
    "In the next section, we'll start our journey into specific evaluation metrics by examining the confusion matrix - a fundamental tool that forms the basis for many other metrics we'll encounter."
   ]
  },
  {
   "cell_type": "markdown",
   "metadata": {},
   "source": [
    "**Table of contents**<a id='toc0_'></a>    \n",
    "- [Confusion Matrix: The Foundation of Classification Metrics](#toc1_)    \n",
    "  - [Constructing a Confusion Matrix](#toc1_1_)    \n",
    "  - [Interpreting the Confusion Matrix](#toc1_2_)    \n",
    "  - [Beyond Binary Classification](#toc1_3_)    \n",
    "  - [Limitations and Considerations](#toc1_4_)    \n",
    "  - [From Confusion Matrix to Metrics](#toc1_5_)    \n",
    "- [Basic Metrics: Accuracy, Precision, Recall, and F1-Score](#toc2_)    \n",
    "  - [Accuracy: The Simplest Metric](#toc2_1_)    \n",
    "  - [Precision: Focus on False Positives](#toc2_2_)    \n",
    "  - [Recall: Focus on False Negatives](#toc2_3_)    \n",
    "  - [F1-Score: Balancing Precision and Recall](#toc2_4_)    \n",
    "  - [When to Use Each Metric](#toc2_5_)    \n",
    "  - [Beyond Binary Classification](#toc2_6_)    \n",
    "  - [Limitations and Considerations](#toc2_7_)    \n",
    "- [Advanced Metrics: ROC Curve and AUC](#toc3_)    \n",
    "  - [Constructing the ROC Curve](#toc3_1_)    \n",
    "  - [Interpreting the ROC Curve](#toc3_2_)    \n",
    "  - [Area Under the Curve (AUC)](#toc3_3_)    \n",
    "  - [Advantages of ROC and AUC](#toc3_4_)    \n",
    "  - [Limitations and Considerations](#toc3_5_)    \n",
    "  - [ROC for Multi-class Problems](#toc3_6_)    \n",
    "  - [Practical Considerations](#toc3_7_)    \n",
    "- [Cross-validation Techniques for Robust Evaluation](#toc4_)    \n",
    "  - [Setting Up the Environment](#toc4_1_)    \n",
    "  - [Basic Hold-out Validation](#toc4_2_)    \n",
    "  - [K-Fold Cross-Validation](#toc4_3_)    \n",
    "  - [Stratified K-Fold Cross-Validation](#toc4_4_)    \n",
    "  - [Leave-One-Out Cross-Validation (LOOCV)](#toc4_5_)    \n",
    "  - [Choosing the Right Cross-Validation Technique](#toc4_6_)    \n",
    "  - [Practical Considerations](#toc4_7_)    \n",
    "- [Practical Considerations and Choosing the Right Metric](#toc5_)    \n",
    "  - [Understanding the Problem Context](#toc5_1_)    \n",
    "  - [Choosing the Right Metric](#toc5_2_)    \n",
    "  - [Practical Example: Breast Cancer Classification](#toc5_3_)    \n",
    "  - [Handling Class Imbalance](#toc5_4_)    \n",
    "  - [Cross-Validation and Metric Stability](#toc5_5_)    \n",
    "  - [Threshold Adjustment](#toc5_6_)    \n",
    "  - [Interpretability and Communication](#toc5_7_)    \n",
    "  - [Continuous Monitoring](#toc5_8_)    \n",
    "- [Summary](#toc6_)    \n",
    "\n",
    "<!-- vscode-jupyter-toc-config\n",
    "\tnumbering=false\n",
    "\tanchor=true\n",
    "\tflat=false\n",
    "\tminLevel=2\n",
    "\tmaxLevel=6\n",
    "\t/vscode-jupyter-toc-config -->\n",
    "<!-- THIS CELL WILL BE REPLACED ON TOC UPDATE. DO NOT WRITE YOUR TEXT IN THIS CELL -->"
   ]
  },
  {
   "cell_type": "markdown",
   "metadata": {},
   "source": [
    "## <a id='toc1_'></a>[Confusion Matrix: The Foundation of Classification Metrics](#toc0_)"
   ]
  },
  {
   "cell_type": "markdown",
   "metadata": {},
   "source": [
    "The confusion matrix is a cornerstone of classification evaluation, providing a tabular summary of a model's performance. Despite its simple structure, the confusion matrix encapsulates rich information about how well a classifier is performing, serving as the foundation for many other evaluation metrics.\n"
   ]
  },
  {
   "cell_type": "markdown",
   "metadata": {},
   "source": [
    "A confusion matrix is a table that allows visualization of a classification model's performance. For a binary classification problem, it's typically a 2x2 matrix:\n"
   ]
  },
  {
   "cell_type": "markdown",
   "metadata": {},
   "source": [
    "<img src=\"./images/cm.png\" width=\"800\">"
   ]
  },
  {
   "cell_type": "markdown",
   "metadata": {},
   "source": [
    "Where:\n",
    "- TN (True Negative): Correctly predicted negative class\n",
    "- FP (False Positive): Incorrectly predicted positive class\n",
    "- FN (False Negative): Incorrectly predicted negative class\n",
    "- TP (True Positive): Correctly predicted positive class\n"
   ]
  },
  {
   "cell_type": "markdown",
   "metadata": {},
   "source": [
    "🔑 **Key Concept:** The confusion matrix shows not just how many predictions were correct, but also the types of errors the model is making.\n"
   ]
  },
  {
   "cell_type": "markdown",
   "metadata": {},
   "source": [
    "### <a id='toc1_1_'></a>[Constructing a Confusion Matrix](#toc0_)\n"
   ]
  },
  {
   "cell_type": "markdown",
   "metadata": {},
   "source": [
    "Let's walk through the process of creating a confusion matrix:\n",
    "\n",
    "1. Make predictions on your validation or test set.\n",
    "2. Compare these predictions to the true labels.\n",
    "3. Count the occurrences of each possible outcome (TN, FP, FN, TP).\n",
    "4. Organize these counts into the matrix structure.\n"
   ]
  },
  {
   "cell_type": "markdown",
   "metadata": {},
   "source": [
    "Here's a Python example using scikit-learn:\n"
   ]
  },
  {
   "cell_type": "code",
   "execution_count": 1,
   "metadata": {},
   "outputs": [
    {
     "name": "stderr",
     "output_type": "stream",
     "text": [
      "/Users/hejazizo/miniconda3/envs/py310/lib/python3.10/site-packages/sklearn/linear_model/_logistic.py:469: ConvergenceWarning: lbfgs failed to converge (status=1):\n",
      "STOP: TOTAL NO. of ITERATIONS REACHED LIMIT.\n",
      "\n",
      "Increase the number of iterations (max_iter) or scale the data as shown in:\n",
      "    https://scikit-learn.org/stable/modules/preprocessing.html\n",
      "Please also refer to the documentation for alternative solver options:\n",
      "    https://scikit-learn.org/stable/modules/linear_model.html#logistic-regression\n",
      "  n_iter_i = _check_optimize_result(\n"
     ]
    },
    {
     "data": {
      "text/plain": [
       "array([[28, 15],\n",
       "       [ 0, 71]])"
      ]
     },
     "execution_count": 1,
     "metadata": {},
     "output_type": "execute_result"
    }
   ],
   "source": [
    "from sklearn.metrics import confusion_matrix\n",
    "import numpy as np\n",
    "\n",
    "from sklearn.metrics import roc_curve, auc\n",
    "import matplotlib.pyplot as plt\n",
    "from sklearn.datasets import load_breast_cancer\n",
    "from sklearn.model_selection import train_test_split\n",
    "from sklearn.linear_model import LogisticRegression\n",
    "\n",
    "# Load the data\n",
    "data = load_breast_cancer()\n",
    "X = data.data\n",
    "y = data.target\n",
    "\n",
    "# Split the data into training and testing sets\n",
    "X_train, X_test, y_train, y_test = train_test_split(X, y, test_size=0.2, random_state=42)\n",
    "\n",
    "# Train a model\n",
    "model = LogisticRegression(max_iter=5)  # max_iter is set low on purpose to show the ROC curve\n",
    "model.fit(X_train, y_train)\n",
    "\n",
    "# Make predictions\n",
    "y_pred = model.predict(X_test)\n",
    "y_scores = model.predict_proba(X_test)[:, 1]\n",
    "\n",
    "y_true = y_test\n",
    "confusion_matrix(y_test, y_pred)"
   ]
  },
  {
   "cell_type": "code",
   "execution_count": 2,
   "metadata": {},
   "outputs": [
    {
     "data": {
      "text/plain": [
       "<sklearn.metrics._plot.confusion_matrix.ConfusionMatrixDisplay at 0x106aaacb0>"
      ]
     },
     "execution_count": 2,
     "metadata": {},
     "output_type": "execute_result"
    },
    {
     "data": {
      "image/png": "[encoded data removed]",
      "text/plain": [
       "<Figure size 640x480 with 2 Axes>"
      ]
     },
     "metadata": {},
     "output_type": "display_data"
    }
   ],
   "source": [
    "from sklearn.metrics import ConfusionMatrixDisplay\n",
    "\n",
    "ConfusionMatrixDisplay.from_predictions(y_true, y_pred, cmap=\"Blues\")"
   ]
  },
  {
   "cell_type": "markdown",
   "metadata": {},
   "source": [
    "Interpreting this:\n",
    "- 28 true negatives\n",
    "- 71 true positives\n",
    "- 15 false positives\n",
    "- 0 false negatives\n"
   ]
  },
  {
   "cell_type": "markdown",
   "metadata": {},
   "source": [
    "### <a id='toc1_2_'></a>[Interpreting the Confusion Matrix](#toc0_)\n"
   ]
  },
  {
   "cell_type": "markdown",
   "metadata": {},
   "source": [
    "The confusion matrix provides immediate insights into model performance:\n",
    "\n",
    "1. **Correct Classifications:** The diagonal elements (top-left to bottom-right) represent correct classifications.\n",
    "2. **Misclassifications:** Off-diagonal elements represent errors.\n",
    "3. **Type I and Type II Errors:** False positives are Type I errors, while false negatives are Type II errors.\n"
   ]
  },
  {
   "cell_type": "markdown",
   "metadata": {},
   "source": [
    "💡 **Pro Tip:** Always consider the context of your problem when interpreting a confusion matrix. In some cases, false positives might be more problematic, while in others, false negatives could be more critical.\n"
   ]
  },
  {
   "cell_type": "markdown",
   "metadata": {},
   "source": [
    "### <a id='toc1_3_'></a>[Beyond Binary Classification](#toc0_)\n"
   ]
  },
  {
   "cell_type": "markdown",
   "metadata": {},
   "source": [
    "While we've focused on binary classification, confusion matrices extend to multi-class problems as well. For a problem with $n$ classes, you'll have an $n \\times n$ matrix:\n",
    "\n",
    "```\n",
    "           Predicted Class\n",
    "           Class 1   Class 2   ...   Class n\n",
    "Class 1      TP1       E12     ...     E1n\n",
    "Class 2      E21       TP2     ...     E2n\n",
    "...          ...       ...     ...     ...\n",
    "Class n      En1       En2     ...     TPn\n",
    "```\n"
   ]
  },
  {
   "cell_type": "markdown",
   "metadata": {},
   "source": [
    "<img src=\"./images/cm-multiclass.png\" width=\"800\">"
   ]
  },
  {
   "cell_type": "code",
   "execution_count": 3,
   "metadata": {},
   "outputs": [
    {
     "data": {
      "text/plain": [
       "array([[18, 15, 17],\n",
       "       [16, 21, 13],\n",
       "       [19, 18, 13]])"
      ]
     },
     "execution_count": 3,
     "metadata": {},
     "output_type": "execute_result"
    }
   ],
   "source": [
    "from sklearn.datasets import load_iris\n",
    "\n",
    "data = load_iris()\n",
    "X = data.data\n",
    "y_true_multi = data.target\n",
    "\n",
    "y_pred_multi = np.random.randint(0, 3, size=len(y_true_multi))\n",
    "\n",
    "cm = confusion_matrix(y_true_multi, y_pred_multi)\n",
    "cm"
   ]
  },
  {
   "cell_type": "code",
   "execution_count": 4,
   "metadata": {},
   "outputs": [
    {
     "data": {
      "text/plain": [
       "<sklearn.metrics._plot.confusion_matrix.ConfusionMatrixDisplay at 0x140a0fc70>"
      ]
     },
     "execution_count": 4,
     "metadata": {},
     "output_type": "execute_result"
    },
    {
     "data": {
      "image/png": "[encoded data removed]",
      "text/plain": [
       "<Figure size 640x480 with 2 Axes>"
      ]
     },
     "metadata": {},
     "output_type": "display_data"
    }
   ],
   "source": [
    "ConfusionMatrixDisplay.from_predictions(y_true_multi, y_pred_multi, cmap=\"Blues\")"
   ]
  },
  {
   "cell_type": "code",
   "execution_count": 5,
   "metadata": {},
   "outputs": [
    {
     "data": {
      "text/plain": [
       "<Axes: >"
      ]
     },
     "execution_count": 5,
     "metadata": {},
     "output_type": "execute_result"
    },
    {
     "data": {
      "image/png": "[encoded data removed]",
      "text/plain": [
       "<Figure size 640x480 with 2 Axes>"
      ]
     },
     "metadata": {},
     "output_type": "display_data"
    }
   ],
   "source": [
    "import seaborn as sns\n",
    "\n",
    "sns.heatmap(cm, annot=True, fmt='d', cmap='Blues')"
   ]
  },
  {
   "cell_type": "markdown",
   "metadata": {},
   "source": [
    "Here, TPi represents true positives for class i, and Eij represents misclassifications where class i was predicted as class j.\n"
   ]
  },
  {
   "cell_type": "markdown",
   "metadata": {},
   "source": [
    "### <a id='toc1_4_'></a>[Limitations and Considerations](#toc0_)\n"
   ]
  },
  {
   "cell_type": "markdown",
   "metadata": {},
   "source": [
    "While incredibly useful, the confusion matrix has some limitations:\n",
    "\n",
    "1. **Threshold Dependency:** For models that output probabilities, the confusion matrix depends on the chosen classification threshold.\n",
    "2. **Class Imbalance:** In imbalanced datasets, the matrix might not fully represent model performance.\n",
    "3. **Interpretability:** As the number of classes increases, the matrix becomes harder to interpret at a glance.\n"
   ]
  },
  {
   "cell_type": "markdown",
   "metadata": {},
   "source": [
    "🤔 **Why This Matters:** Understanding these limitations helps us know when to rely on the confusion matrix and when to seek additional metrics for a complete picture of model performance.\n"
   ]
  },
  {
   "cell_type": "markdown",
   "metadata": {},
   "source": [
    "### <a id='toc1_5_'></a>[From Confusion Matrix to Metrics](#toc0_)\n"
   ]
  },
  {
   "cell_type": "markdown",
   "metadata": {},
   "source": [
    "The true power of the confusion matrix lies in its ability to generate various performance metrics. In the following sections, we'll explore how elements of the confusion matrix are combined to create metrics like accuracy, precision, recall, and F1-score.\n"
   ]
  },
  {
   "cell_type": "markdown",
   "metadata": {},
   "source": [
    "❗️ **Important Note:** While the confusion matrix provides valuable insights, it's often most useful when combined with other evaluation metrics. No single metric tells the whole story of model performance.\n"
   ]
  },
  {
   "cell_type": "markdown",
   "metadata": {},
   "source": [
    "In the next section, we'll dive into these derived metrics, starting with the most basic: accuracy, precision, recall, and the F1-score. These metrics build upon the foundation laid by the confusion matrix, providing more specific insights into different aspects of classifier performance."
   ]
  },
  {
   "cell_type": "markdown",
   "metadata": {},
   "source": [
    "## <a id='toc2_'></a>[Basic Metrics: Accuracy, Precision, Recall, and F1-Score](#toc0_)"
   ]
  },
  {
   "cell_type": "markdown",
   "metadata": {},
   "source": [
    "Building upon the foundation of the confusion matrix, we now turn our attention to four fundamental metrics in classification evaluation: accuracy, precision, recall, and the F1-score. These metrics provide different perspectives on model performance and are essential tools in any data scientist's toolkit.\n"
   ]
  },
  {
   "cell_type": "markdown",
   "metadata": {},
   "source": [
    "<img src=\"./images/disease-metric.png\" width=\"800\">"
   ]
  },
  {
   "cell_type": "markdown",
   "metadata": {},
   "source": [
    "### <a id='toc2_1_'></a>[Accuracy: The Simplest Metric](#toc0_)\n"
   ]
  },
  {
   "cell_type": "markdown",
   "metadata": {},
   "source": [
    "Accuracy is the most intuitive metric, measuring the proportion of correct predictions among the total number of cases examined.\n"
   ]
  },
  {
   "cell_type": "markdown",
   "metadata": {},
   "source": [
    "🔑 **Key Concept:** Accuracy = (Number of Correct Predictions) / (Total Number of Predictions)\n"
   ]
  },
  {
   "cell_type": "markdown",
   "metadata": {},
   "source": [
    "In terms of the confusion matrix:\n",
    "\n",
    "$Accuracy = \\frac{TP + TN}{TP + TN + FP + FN}$\n"
   ]
  },
  {
   "cell_type": "markdown",
   "metadata": {},
   "source": [
    "While accuracy is easy to understand and communicate, it has limitations, particularly when dealing with imbalanced datasets. Consider a disease detection model where only 1% of the population has the disease. A model that always predicts \"no disease\" would have 99% accuracy but would be useless in practice.\n"
   ]
  },
  {
   "cell_type": "code",
   "execution_count": 6,
   "metadata": {},
   "outputs": [
    {
     "name": "stdout",
     "output_type": "stream",
     "text": [
      "Accuracy: 0.87\n"
     ]
    }
   ],
   "source": [
    "from sklearn.metrics import accuracy_score\n",
    "\n",
    "accuracy = accuracy_score(y_true, y_pred)\n",
    "print(f\"Accuracy: {accuracy:.2f}\")"
   ]
  },
  {
   "cell_type": "markdown",
   "metadata": {},
   "source": [
    "### <a id='toc2_2_'></a>[Precision: Focus on False Positives](#toc0_)\n"
   ]
  },
  {
   "cell_type": "markdown",
   "metadata": {},
   "source": [
    "Precision measures the accuracy of positive predictions. It's the ratio of correctly predicted positive examples to the total predicted positive examples.\n",
    "\n",
    "$Precision = \\frac{TP}{TP + FP}$"
   ]
  },
  {
   "cell_type": "markdown",
   "metadata": {},
   "source": [
    "Precision is particularly useful when the cost of false positives is high. For instance, in a spam detection system, high precision ensures that legitimate emails are not incorrectly classified as spam.\n"
   ]
  },
  {
   "cell_type": "code",
   "execution_count": 7,
   "metadata": {},
   "outputs": [
    {
     "name": "stdout",
     "output_type": "stream",
     "text": [
      "Precision: 0.83\n"
     ]
    }
   ],
   "source": [
    "from sklearn.metrics import precision_score\n",
    "\n",
    "precision = precision_score(y_true, y_pred)\n",
    "print(f\"Precision: {precision:.2f}\")\n"
   ]
  },
  {
   "cell_type": "markdown",
   "metadata": {},
   "source": [
    "### <a id='toc2_3_'></a>[Recall: Focus on False Negatives](#toc0_)\n"
   ]
  },
  {
   "cell_type": "markdown",
   "metadata": {},
   "source": [
    "Recall, also known as sensitivity or true positive rate, measures the proportion of actual positive cases that were correctly identified.\n",
    "\n",
    "$Recall = \\frac{TP}{TP + FN}$\n"
   ]
  },
  {
   "cell_type": "markdown",
   "metadata": {},
   "source": [
    "Recall is crucial when the cost of false negatives is high. In medical diagnosis, for example, high recall ensures that we don't miss actual cases of a disease.\n"
   ]
  },
  {
   "cell_type": "code",
   "execution_count": 8,
   "metadata": {},
   "outputs": [
    {
     "name": "stdout",
     "output_type": "stream",
     "text": [
      "Recall: 1.00\n"
     ]
    }
   ],
   "source": [
    "from sklearn.metrics import recall_score\n",
    "\n",
    "recall = recall_score(y_true, y_pred)\n",
    "print(f\"Recall: {recall:.2f}\")\n"
   ]
  },
  {
   "cell_type": "markdown",
   "metadata": {},
   "source": [
    "💡 **Pro Tip:** There's often a trade-off between precision and recall. Increasing one typically decreases the other. The balance you choose depends on your specific problem and the relative costs of different types of errors.\n"
   ]
  },
  {
   "cell_type": "markdown",
   "metadata": {},
   "source": [
    "<img src=\"./images/clf-metrics-viz.webp\" width=\"800\">"
   ]
  },
  {
   "cell_type": "markdown",
   "metadata": {},
   "source": [
    "### <a id='toc2_4_'></a>[F1-Score: Balancing Precision and Recall](#toc0_)\n"
   ]
  },
  {
   "cell_type": "markdown",
   "metadata": {},
   "source": [
    "The F1-score is the harmonic mean of precision and recall, providing a single score that balances both metrics.\n",
    "\n",
    "$F1 = 2 \\times \\frac{Precision \\times Recall}{Precision + Recall}$\n"
   ]
  },
  {
   "cell_type": "markdown",
   "metadata": {},
   "source": [
    "The F1-score is particularly useful when you have an uneven class distribution. It reaches its best value at 1 and worst at 0.\n"
   ]
  },
  {
   "cell_type": "code",
   "execution_count": 9,
   "metadata": {},
   "outputs": [
    {
     "name": "stdout",
     "output_type": "stream",
     "text": [
      "F1-score: 0.90\n"
     ]
    }
   ],
   "source": [
    "from sklearn.metrics import f1_score\n",
    "\n",
    "f1 = f1_score(y_true, y_pred)\n",
    "print(f\"F1-score: {f1:.2f}\")"
   ]
  },
  {
   "cell_type": "markdown",
   "metadata": {},
   "source": [
    "### <a id='toc2_5_'></a>[When to Use Each Metric](#toc0_)\n"
   ]
  },
  {
   "cell_type": "markdown",
   "metadata": {},
   "source": [
    "<img src=\"./images/metrics-comparison.jpg\" width=\"800\">"
   ]
  },
  {
   "cell_type": "markdown",
   "metadata": {},
   "source": [
    "<img src=\"./images/case-1-cm.png\" width=\"800\">"
   ]
  },
  {
   "cell_type": "markdown",
   "metadata": {},
   "source": [
    "<img src=\"./images/case-2-cm.png\" width=\"800\">"
   ]
  },
  {
   "cell_type": "markdown",
   "metadata": {},
   "source": [
    "<img src=\"./images/loan-cm.png\" width=\"800\">"
   ]
  },
  {
   "cell_type": "markdown",
   "metadata": {},
   "source": [
    "- **Accuracy:** Best when the classes are balanced and all misclassifications have similar cost.\n",
    "- **Precision:** Use when the cost of false positives is high.\n",
    "- **Recall:** Use when the cost of false negatives is high.\n",
    "- **F1-Score:** Use when you need to balance precision and recall, especially with imbalanced datasets.\n"
   ]
  },
  {
   "cell_type": "markdown",
   "metadata": {},
   "source": [
    "### <a id='toc2_7_'></a>[Limitations and Considerations](#toc0_)\n"
   ]
  },
  {
   "cell_type": "markdown",
   "metadata": {},
   "source": [
    "While these metrics are powerful, they have limitations:\n",
    "\n",
    "1. **Threshold Dependency:** For models that output probabilities, these metrics depend on the chosen classification threshold.\n",
    "2. **Class Imbalance:** In highly imbalanced datasets, even these metrics can be misleading.\n",
    "3. **Equal Error Costs:** These metrics assume that all types of errors are equally costly, which isn't always true in practice.\n"
   ]
  },
  {
   "cell_type": "markdown",
   "metadata": {},
   "source": [
    "Understanding these limitations helps you choose the right metrics for your specific problem and interpret them correctly.\n"
   ]
  },
  {
   "cell_type": "markdown",
   "metadata": {},
   "source": [
    "❗️ **Important Note:** While these basic metrics provide valuable insights, they don't tell the whole story. In the next section, we'll explore more advanced metrics like ROC curves and AUC, which provide a more comprehensive view of classifier performance across all possible thresholds.\n"
   ]
  },
  {
   "cell_type": "markdown",
   "metadata": {},
   "source": [
    "By mastering these basic metrics and understanding their strengths and limitations, you'll be well-equipped to evaluate and compare classification models effectively. Remember, the choice of metric should always be guided by the specific requirements and constraints of your problem."
   ]
  },
  {
   "cell_type": "markdown",
   "metadata": {},
   "source": [
    "## <a id='toc3_'></a>[Advanced Metrics: ROC Curve and AUC](#toc0_)"
   ]
  },
  {
   "cell_type": "markdown",
   "metadata": {},
   "source": [
    "While the basic metrics we've discussed provide valuable insights, they often depend on a specific classification threshold. The Receiver Operating Characteristic (ROC) curve and the Area Under the Curve (AUC) offer a more comprehensive view of classifier performance across all possible thresholds. These advanced metrics are particularly useful for comparing different models and for problems where the optimal threshold isn't known in advance.\n"
   ]
  },
  {
   "cell_type": "markdown",
   "metadata": {},
   "source": [
    "<img src=\"./images/roc.png\" width=\"800\">"
   ]
  },
  {
   "cell_type": "markdown",
   "metadata": {},
   "source": [
    "The ROC curve is a graphical plot that illustrates the diagnostic ability of a binary classifier system as its discrimination threshold is varied. It's created by plotting the True Positive Rate (TPR) against the False Positive Rate (FPR) at various threshold settings.\n"
   ]
  },
  {
   "cell_type": "markdown",
   "metadata": {},
   "source": [
    "🔑 **Key Concept:** \n",
    "- True Positive Rate (TPR) = Recall = $\\frac{TP}{TP + FN}$\n",
    "- False Positive Rate (FPR) = $\\frac{FP}{FP + TN}$\n"
   ]
  },
  {
   "cell_type": "markdown",
   "metadata": {},
   "source": [
    "The ROC curve starts at the point (0,0) and ends at (1,1). A perfect classifier would reach the top-left corner of the plot (0,1), representing 100% TPR and 0% FPR.\n"
   ]
  },
  {
   "cell_type": "markdown",
   "metadata": {},
   "source": [
    "> The term \"Receiver Operating Characteristic\" (ROC) has its origins in signal detection theory and dates back to World War II. Here's a brief explanation of why it's called ROC:\n",
    "> \n",
    "> 1. Historical Context:\n",
    ">    - The concept was developed during World War II for radar signal detection.\n",
    ">    - It was used to analyze radar signals to distinguish actual aircraft from noise.\n",
    "> \n",
    "> 2. \"Receiver\":\n",
    ">    - Refers to the radio operator (the \"receiver\" of the signal) who had to decide whether a blip on the radar screen represented an enemy aircraft or just noise.\n",
    "> \n",
    "> 3. \"Operating\":\n",
    ">    - Relates to the operator's task of making decisions based on the received signals.\n",
    "> \n",
    "> 4. \"Characteristic\":\n",
    ">    - Describes the performance or behavior of the receiver (operator) in distinguishing between signal and noise.\n",
    "> \n",
    "> 5. Original Application:\n",
    ">    - The ROC curve plotted the probability of detecting a real aircraft (true positive rate) against the probability of a false alarm (false positive rate) at various threshold settings.\n",
    "> \n",
    "> 6. Evolution:\n",
    ">    - Over time, the concept was adopted and adapted for use in psychology, medicine, and eventually machine learning and data science.\n",
    "> \n",
    "> The name \"Receiver Operating Characteristic\" stuck, even as its application expanded far beyond its original radar signal detection context. Today, while the term might seem a bit outdated given its current uses, it remains the standard terminology in various fields, including machine learning and medical diagnostics."
   ]
  },
  {
   "cell_type": "markdown",
   "metadata": {},
   "source": [
    "### <a id='toc3_1_'></a>[Constructing the ROC Curve](#toc0_)\n"
   ]
  },
  {
   "cell_type": "markdown",
   "metadata": {},
   "source": [
    "To create an ROC curve:\n",
    "\n",
    "1. For each possible threshold:\n",
    "   - Calculate the TPR and FPR\n",
    "   - Plot these values as a single point\n",
    "2. Connect these points to form the curve\n"
   ]
  },
  {
   "cell_type": "markdown",
   "metadata": {},
   "source": [
    "Here's how to plot an ROC curve using scikit-learn:\n"
   ]
  },
  {
   "cell_type": "code",
   "execution_count": 17,
   "metadata": {},
   "outputs": [
    {
     "data": {
      "image/png": "[encoded data removed]",
      "text/plain": [
       "<Figure size 640x480 with 1 Axes>"
      ]
     },
     "metadata": {},
     "output_type": "display_data"
    }
   ],
   "source": [
    "# Assume y_true are the true labels and y_scores are the predicted probabilities\n",
    "fpr, tpr, thresholds = roc_curve(y_true, y_scores)\n",
    "roc_auc = auc(fpr, tpr)\n",
    "\n",
    "plt.figure()\n",
    "plt.plot(fpr, tpr, color='darkorange', lw=2, label=f'ROC curve (AUC = {roc_auc:.2f})')\n",
    "plt.plot([0, 1], [0, 1], color='navy', lw=2, linestyle='--')\n",
    "plt.xlim([0.0, 1.0])\n",
    "plt.ylim([0.0, 1.05])\n",
    "plt.xlabel('False Positive Rate')\n",
    "plt.ylabel('True Positive Rate')\n",
    "plt.title('Receiver Operating Characteristic (ROC) Curve')\n",
    "plt.legend(loc=\"lower right\")\n",
    "plt.show()"
   ]
  },
  {
   "cell_type": "code",
   "execution_count": 18,
   "metadata": {},
   "outputs": [
    {
     "data": {
      "text/plain": [
       "array([           inf, 8.42317447e-01, 7.82316602e-01, 7.78008790e-01,\n",
       "       7.72733722e-01, 7.60519794e-01, 6.87652632e-01, 6.87571704e-01,\n",
       "       6.59893221e-01, 6.57982394e-01, 6.50286397e-01, 6.48869031e-01,\n",
       "       6.43320799e-01, 6.40265603e-01, 6.30707048e-01, 6.29851037e-01,\n",
       "       6.21101392e-01, 6.14515410e-01, 5.96530306e-01, 5.84480149e-01,\n",
       "       5.83437853e-01, 5.75713383e-01, 5.75429569e-01, 5.67061878e-01,\n",
       "       5.57752826e-01, 8.80724638e-05])"
      ]
     },
     "execution_count": 18,
     "metadata": {},
     "output_type": "execute_result"
    }
   ],
   "source": [
    "thresholds"
   ]
  },
  {
   "cell_type": "markdown",
   "metadata": {},
   "source": [
    "### <a id='toc3_2_'></a>[Interpreting the ROC Curve](#toc0_)\n"
   ]
  },
  {
   "cell_type": "markdown",
   "metadata": {},
   "source": [
    "<img src=\"./images/roc-comparison.png\" width=\"800\">"
   ]
  },
  {
   "cell_type": "markdown",
   "metadata": {},
   "source": [
    "The ROC curve provides several insights:\n",
    "\n",
    "1. **Diagonal Line:** A diagonal line from (0,0) to (1,1) represents the performance of a random classifier. Any useful classifier should perform better than this.\n",
    "\n",
    "2. **Above the Diagonal:** Points above the diagonal represent good classification results (better than random).\n",
    "\n",
    "3. **Below the Diagonal:** Points below the diagonal represent poor classification results (worse than random).\n",
    "\n",
    "4. **Curve Shape:** The more the curve hugs the top-left corner, the better the model's performance.\n"
   ]
  },
  {
   "cell_type": "markdown",
   "metadata": {},
   "source": [
    "💡 **Pro Tip:** The ROC curve is especially useful when you need to visualize and compare the performance of multiple classifiers.\n"
   ]
  },
  {
   "cell_type": "markdown",
   "metadata": {},
   "source": [
    "### <a id='toc3_3_'></a>[Area Under the Curve (AUC)](#toc0_)\n"
   ]
  },
  {
   "cell_type": "markdown",
   "metadata": {},
   "source": [
    "While the ROC curve is informative, it can be challenging to compare multiple models using curves alone. This is where AUC comes in.\n"
   ]
  },
  {
   "cell_type": "markdown",
   "metadata": {},
   "source": [
    "AUC provides an aggregate measure of performance across all possible classification thresholds. It represents the probability that the classifier will rank a randomly chosen positive instance higher than a randomly chosen negative instance.\n",
    "\n",
    "AUC ranges from 0 to 1, where:\n",
    "- AUC = 0.5 represents a random classifier\n",
    "- AUC = 1.0 represents a perfect classifier\n",
    "- AUC < 0.5 represents a classifier performing worse than random guessing\n"
   ]
  },
  {
   "cell_type": "code",
   "execution_count": 19,
   "metadata": {},
   "outputs": [
    {
     "name": "stdout",
     "output_type": "stream",
     "text": [
      "AUC: 0.83\n"
     ]
    }
   ],
   "source": [
    "from sklearn.metrics import roc_auc_score\n",
    "\n",
    "auc = roc_auc_score(y_true, y_pred)\n",
    "print(f\"AUC: {auc:.2f}\")"
   ]
  },
  {
   "cell_type": "markdown",
   "metadata": {},
   "source": [
    "### <a id='toc3_4_'></a>[Advantages of ROC and AUC](#toc0_)\n"
   ]
  },
  {
   "cell_type": "markdown",
   "metadata": {},
   "source": [
    "1. **Threshold Independence:** ROC and AUC evaluate model performance across all possible thresholds.\n",
    "\n",
    "2. **Insensitivity to Class Imbalance:** Unlike accuracy, ROC is not affected by class imbalance.\n",
    "\n",
    "3. **Model Comparison:** AUC provides a single number to compare different models.\n",
    "\n",
    "4. **Interpretability:** AUC has a probabilistic interpretation, making it intuitive to understand.\n"
   ]
  },
  {
   "cell_type": "markdown",
   "metadata": {},
   "source": [
    "### <a id='toc3_5_'></a>[Limitations and Considerations](#toc0_)\n"
   ]
  },
  {
   "cell_type": "markdown",
   "metadata": {},
   "source": [
    "While powerful, ROC and AUC have some limitations:\n",
    "\n",
    "1. **Irrelevance of Predicted Probabilities:** AUC only considers the ranking of the predictions, not their absolute values.\n",
    "\n",
    "2. **Insensitivity to Class Distribution Changes:** If the class distribution in your test set doesn't match real-world conditions, AUC might not reflect real-world performance.\n",
    "\n",
    "3. **Equal Treatment of Errors:** ROC treats the costs of false positives and false negatives as equal, which isn't always appropriate.\n"
   ]
  },
  {
   "cell_type": "markdown",
   "metadata": {},
   "source": [
    "Understanding these limitations helps you decide when ROC and AUC are appropriate and when you might need additional metrics.\n"
   ]
  },
  {
   "cell_type": "markdown",
   "metadata": {},
   "source": [
    "### <a id='toc3_6_'></a>[ROC for Multi-class Problems](#toc0_)\n"
   ]
  },
  {
   "cell_type": "markdown",
   "metadata": {},
   "source": [
    "For multi-class problems, we can use a one-vs-rest approach:\n",
    "\n",
    "1. For each class, treat it as the positive class and all others as negative.\n",
    "2. Compute the ROC curve and AUC for each class.\n",
    "3. Average the AUCs (macro-averaging) or weight them by class frequency (micro-averaging).\n"
   ]
  },
  {
   "cell_type": "code",
   "execution_count": 20,
   "metadata": {},
   "outputs": [],
   "source": [
    "from sklearn.datasets import load_iris\n",
    "\n",
    "iris = load_iris()\n",
    "X = iris.data\n",
    "y = iris.target\n",
    "\n",
    "X_train, X_test, y_train, y_test = train_test_split(X, y, test_size=0.3, random_state=42)\n",
    "y_true = y_test"
   ]
  },
  {
   "cell_type": "code",
   "execution_count": 21,
   "metadata": {},
   "outputs": [
    {
     "data": {
      "text/plain": [
       "array([[0, 1, 0],\n",
       "       [1, 0, 0],\n",
       "       [0, 0, 1],\n",
       "       [0, 1, 0],\n",
       "       [0, 1, 0],\n",
       "       [1, 0, 0],\n",
       "       [0, 1, 0],\n",
       "       [0, 0, 1],\n",
       "       [0, 1, 0],\n",
       "       [0, 1, 0],\n",
       "       [0, 0, 1],\n",
       "       [1, 0, 0],\n",
       "       [1, 0, 0],\n",
       "       [1, 0, 0],\n",
       "       [1, 0, 0],\n",
       "       [0, 1, 0],\n",
       "       [0, 0, 1],\n",
       "       [0, 1, 0],\n",
       "       [0, 1, 0],\n",
       "       [0, 0, 1],\n",
       "       [1, 0, 0],\n",
       "       [0, 0, 1],\n",
       "       [1, 0, 0],\n",
       "       [0, 0, 1],\n",
       "       [0, 0, 1],\n",
       "       [0, 0, 1],\n",
       "       [0, 0, 1],\n",
       "       [0, 0, 1],\n",
       "       [1, 0, 0],\n",
       "       [1, 0, 0],\n",
       "       [1, 0, 0],\n",
       "       [1, 0, 0],\n",
       "       [0, 1, 0],\n",
       "       [1, 0, 0],\n",
       "       [1, 0, 0],\n",
       "       [0, 0, 1],\n",
       "       [0, 1, 0],\n",
       "       [1, 0, 0],\n",
       "       [1, 0, 0],\n",
       "       [1, 0, 0],\n",
       "       [0, 0, 1],\n",
       "       [0, 1, 0],\n",
       "       [0, 1, 0],\n",
       "       [1, 0, 0],\n",
       "       [1, 0, 0]])"
      ]
     },
     "execution_count": 21,
     "metadata": {},
     "output_type": "execute_result"
    }
   ],
   "source": [
    "from sklearn.preprocessing import label_binarize\n",
    "from sklearn.metrics import roc_auc_score\n",
    "\n",
    "# Assume y_true are the true labels and y_scores are the predicted probabilities for each class\n",
    "# Binarize the output\n",
    "y_true_bin = label_binarize(y_true, classes=[0, 1, 2])\n",
    "y_true_bin"
   ]
  },
  {
   "cell_type": "code",
   "execution_count": 22,
   "metadata": {},
   "outputs": [
    {
     "name": "stderr",
     "output_type": "stream",
     "text": [
      "/Users/hejazizo/miniconda3/envs/py310/lib/python3.10/site-packages/sklearn/linear_model/_logistic.py:469: ConvergenceWarning: lbfgs failed to converge (status=1):\n",
      "STOP: TOTAL NO. of ITERATIONS REACHED LIMIT.\n",
      "\n",
      "Increase the number of iterations (max_iter) or scale the data as shown in:\n",
      "    https://scikit-learn.org/stable/modules/preprocessing.html\n",
      "Please also refer to the documentation for alternative solver options:\n",
      "    https://scikit-learn.org/stable/modules/linear_model.html#logistic-regression\n",
      "  n_iter_i = _check_optimize_result(\n"
     ]
    },
    {
     "data": {
      "text/plain": [
       "0.7111111111111111"
      ]
     },
     "execution_count": 22,
     "metadata": {},
     "output_type": "execute_result"
    }
   ],
   "source": [
    "from sklearn.linear_model import LogisticRegression\n",
    "\n",
    "log_clf = LogisticRegression(max_iter=3)\n",
    "log_clf.fit(X_train, y_train)\n",
    "\n",
    "y_scores = log_clf.predict_proba(X_test)\n",
    "accuracy_score(y_true, log_clf.predict(X_test))\n"
   ]
  },
  {
   "cell_type": "code",
   "execution_count": 23,
   "metadata": {},
   "outputs": [
    {
     "data": {
      "text/plain": [
       "array([0, 1, 2])"
      ]
     },
     "execution_count": 23,
     "metadata": {},
     "output_type": "execute_result"
    }
   ],
   "source": [
    "log_clf.classes_"
   ]
  },
  {
   "cell_type": "code",
   "execution_count": 24,
   "metadata": {},
   "outputs": [
    {
     "data": {
      "text/plain": [
       "array([[0.20859509, 0.42681668, 0.36458823],\n",
       "       [0.44032149, 0.34045412, 0.21922439],\n",
       "       [0.11486006, 0.45028574, 0.4348542 ],\n",
       "       [0.21358075, 0.42280784, 0.36361141],\n",
       "       [0.20574904, 0.43387802, 0.36037294],\n",
       "       [0.43093595, 0.34212227, 0.22694178],\n",
       "       [0.25980713, 0.40686661, 0.33332626],\n",
       "       [0.18357023, 0.43452815, 0.38190162],\n",
       "       [0.19587148, 0.42895866, 0.37516987],\n",
       "       [0.2419593 , 0.41477638, 0.34326432],\n",
       "       [0.1887659 , 0.43089199, 0.38034211],\n",
       "       [0.42331878, 0.34219381, 0.23448741],\n",
       "       [0.45584792, 0.33201072, 0.21214136],\n",
       "       [0.42183857, 0.3436393 , 0.23452213],\n",
       "       [0.4469483 , 0.33292016, 0.22013154],\n",
       "       [0.21608242, 0.42485957, 0.359058  ],\n",
       "       [0.15257277, 0.43527695, 0.41215028],\n",
       "       [0.23621348, 0.41487666, 0.34890986],\n",
       "       [0.21237055, 0.42103722, 0.36659224],\n",
       "       [0.15475814, 0.43386483, 0.41137703],\n",
       "       [0.41386825, 0.34521097, 0.24092078],\n",
       "       [0.19286998, 0.42682354, 0.38030648],\n",
       "       [0.41953795, 0.34421495, 0.2362471 ],\n",
       "       [0.15643926, 0.43429439, 0.40926635],\n",
       "       [0.16140568, 0.4515292 , 0.38706512],\n",
       "       [0.17538809, 0.43376713, 0.39084478],\n",
       "       [0.1495215 , 0.44031983, 0.41015866],\n",
       "       [0.15376609, 0.43800312, 0.40823079],\n",
       "       [0.41731637, 0.34402896, 0.23865467],\n",
       "       [0.41096531, 0.3472662 , 0.24176849],\n",
       "       [0.47002468, 0.31887849, 0.21109683],\n",
       "       [0.47578984, 0.32310606, 0.2011041 ],\n",
       "       [0.23268078, 0.42569654, 0.34162268],\n",
       "       [0.4232066 , 0.3418642 , 0.2349292 ],\n",
       "       [0.43058191, 0.33547978, 0.23393831],\n",
       "       [0.17550009, 0.43162236, 0.39287756],\n",
       "       [0.22583553, 0.42391782, 0.35024665],\n",
       "       [0.43874994, 0.33783893, 0.22341113],\n",
       "       [0.44734816, 0.33237839, 0.22027345],\n",
       "       [0.46662948, 0.32515469, 0.20821583],\n",
       "       [0.17257093, 0.42651127, 0.4009178 ],\n",
       "       [0.22599345, 0.41912704, 0.35487951],\n",
       "       [0.21592756, 0.42970818, 0.35436425],\n",
       "       [0.46521957, 0.32607992, 0.20870052],\n",
       "       [0.44933274, 0.33439176, 0.21627549]])"
      ]
     },
     "execution_count": 24,
     "metadata": {},
     "output_type": "execute_result"
    }
   ],
   "source": [
    "y_scores"
   ]
  },
  {
   "cell_type": "code",
   "execution_count": 25,
   "metadata": {},
   "outputs": [
    {
     "name": "stdout",
     "output_type": "stream",
     "text": [
      "Micro-average AUC: 0.89\n"
     ]
    }
   ],
   "source": [
    "# Compute micro-average ROC curve and AUC\n",
    "auc_micro = roc_auc_score(y_true_bin, y_scores, average=\"micro\")\n",
    "print(f\"Micro-average AUC: {auc_micro:.2f}\")"
   ]
  },
  {
   "cell_type": "code",
   "execution_count": 26,
   "metadata": {},
   "outputs": [
    {
     "name": "stdout",
     "output_type": "stream",
     "text": [
      "Macro-average AUC: 0.87\n"
     ]
    }
   ],
   "source": [
    "# Compute macro-average AUC\n",
    "auc_macro = roc_auc_score(y_true_bin, y_scores, average=\"macro\")\n",
    "print(f\"Macro-average AUC: {auc_macro:.2f}\")"
   ]
  },
  {
   "cell_type": "markdown",
   "metadata": {},
   "source": [
    "### <a id='toc3_7_'></a>[Practical Considerations](#toc0_)\n"
   ]
  },
  {
   "cell_type": "markdown",
   "metadata": {},
   "source": [
    "When using ROC and AUC:\n",
    "\n",
    "1. **Calibration:** If you need well-calibrated probability outputs, consider techniques like Platt scaling or isotonic regression.\n",
    "\n",
    "2. **Threshold Selection:** While ROC considers all thresholds, you may still need to choose a specific threshold for deployment. Consider using the point on the ROC curve closest to (0,1) or use domain knowledge.\n",
    "\n",
    "3. **Comparison with Other Metrics:** Always consider ROC/AUC in conjunction with other metrics like precision, recall, and F1-score for a comprehensive evaluation.\n"
   ]
  },
  {
   "cell_type": "markdown",
   "metadata": {},
   "source": [
    "<img src=\"./images/clf-performance-metrics.png\" width=\"800\">"
   ]
  },
  {
   "cell_type": "markdown",
   "metadata": {},
   "source": [
    "❗️ **Important Note:** While ROC and AUC are powerful tools, they're not always the best choice. For highly imbalanced datasets, precision-recall curves might be more informative.\n"
   ]
  },
  {
   "cell_type": "markdown",
   "metadata": {},
   "source": [
    "By mastering ROC curves and AUC, you add powerful tools to your evaluation toolkit. These metrics provide a nuanced view of classifier performance, allowing for robust model comparison and selection. In the next section, we'll explore how to handle evaluation in multi-class classification scenarios, building on the concepts we've covered so far."
   ]
  },
  {
   "cell_type": "markdown",
   "metadata": {},
   "source": [
    "## <a id='toc4_'></a>[Cross-validation Techniques for Robust Evaluation](#toc0_)"
   ]
  },
  {
   "cell_type": "markdown",
   "metadata": {},
   "source": [
    "Cross-validation is a crucial technique in machine learning that helps us assess how well our models will generalize to independent datasets. It's particularly important when we have limited data or when we want to ensure our model's performance is consistent across different subsets of our data.\n"
   ]
  },
  {
   "cell_type": "markdown",
   "metadata": {},
   "source": [
    "Let's explore various cross-validation techniques using the breast cancer dataset, a popular binary classification problem in machine learning.\n"
   ]
  },
  {
   "cell_type": "markdown",
   "metadata": {},
   "source": [
    "### <a id='toc4_1_'></a>[Setting Up the Environment](#toc0_)\n"
   ]
  },
  {
   "cell_type": "markdown",
   "metadata": {},
   "source": [
    "First, let's import the necessary libraries and load the breast cancer dataset:\n"
   ]
  },
  {
   "cell_type": "code",
   "execution_count": 29,
   "metadata": {},
   "outputs": [],
   "source": [
    "import numpy as np\n",
    "from sklearn.datasets import load_breast_cancer\n",
    "from sklearn.model_selection import train_test_split, cross_val_score, KFold, StratifiedKFold, LeaveOneOut\n",
    "from sklearn.svm import SVC\n",
    "from sklearn.metrics import accuracy_score, precision_score, recall_score, f1_score\n",
    "\n",
    "# Load the breast cancer dataset\n",
    "data = load_breast_cancer()\n",
    "X, y = data.data, data.target\n",
    "\n",
    "# Split the data into training and testing sets\n",
    "X_train, X_test, y_train, y_test = train_test_split(X, y, test_size=0.2, random_state=42)\n",
    "\n",
    "# Initialize our classifier\n",
    "clf = SVC(kernel='rbf', random_state=42)"
   ]
  },
  {
   "cell_type": "markdown",
   "metadata": {},
   "source": [
    "### <a id='toc4_2_'></a>[Basic Hold-out Validation](#toc0_)\n"
   ]
  },
  {
   "cell_type": "markdown",
   "metadata": {},
   "source": [
    "The simplest form of validation is the hold-out method, which we've already used by splitting our data into training and testing sets. While simple, this method can be sensitive to how the data is split:\n"
   ]
  },
  {
   "cell_type": "code",
   "execution_count": 30,
   "metadata": {},
   "outputs": [
    {
     "name": "stdout",
     "output_type": "stream",
     "text": [
      "Accuracy: 0.9474\n",
      "Precision: 0.9221\n",
      "Recall: 1.0000\n",
      "F1-score: 0.9595\n"
     ]
    }
   ],
   "source": [
    "clf.fit(X_train, y_train)\n",
    "y_pred = clf.predict(X_test)\n",
    "\n",
    "print(f\"Accuracy: {accuracy_score(y_test, y_pred):.4f}\")\n",
    "print(f\"Precision: {precision_score(y_test, y_pred):.4f}\")\n",
    "print(f\"Recall: {recall_score(y_test, y_pred):.4f}\")\n",
    "print(f\"F1-score: {f1_score(y_test, y_pred):.4f}\")"
   ]
  },
  {
   "cell_type": "markdown",
   "metadata": {},
   "source": [
    "🔑 **Key Concept:** Hold-out validation is quick but may not provide a robust estimate of model performance, especially with limited data.\n"
   ]
  },
  {
   "cell_type": "markdown",
   "metadata": {},
   "source": [
    "**When to use:** \n",
    "- When you have a very large dataset\n",
    "- When computational resources are limited\n",
    "- For quick, initial model evaluations\n"
   ]
  },
  {
   "cell_type": "markdown",
   "metadata": {},
   "source": [
    "### <a id='toc4_3_'></a>[K-Fold Cross-Validation](#toc0_)\n"
   ]
  },
  {
   "cell_type": "markdown",
   "metadata": {},
   "source": [
    "K-Fold CV divides the data into K subsets (folds), trains on K-1 folds, and validates on the remaining fold. This process is repeated K times:\n"
   ]
  },
  {
   "cell_type": "markdown",
   "metadata": {},
   "source": [
    "<img src=\"./images/kfold.png\" width=\"800\">"
   ]
  },
  {
   "cell_type": "code",
   "execution_count": 31,
   "metadata": {},
   "outputs": [
    {
     "name": "stdout",
     "output_type": "stream",
     "text": [
      "K-Fold CV Scores: [0.94736842 0.94736842 0.89473684 0.92982456 0.86725664]\n",
      "Mean CV Score: 0.9173 (+/- 0.0631)\n"
     ]
    }
   ],
   "source": [
    "k = 5\n",
    "kf = KFold(n_splits=k, shuffle=True, random_state=42)\n",
    "\n",
    "cv_scores = cross_val_score(clf, X, y, cv=kf)\n",
    "\n",
    "print(f\"K-Fold CV Scores: {cv_scores}\")\n",
    "print(f\"Mean CV Score: {cv_scores.mean():.4f} (+/- {cv_scores.std() * 2:.4f})\")"
   ]
  },
  {
   "cell_type": "markdown",
   "metadata": {},
   "source": [
    "💡 **Pro Tip:** K-Fold CV provides a more robust estimate of model performance by using all data for both training and validation.\n"
   ]
  },
  {
   "cell_type": "markdown",
   "metadata": {},
   "source": [
    "**When to use:**\n",
    "- When you have a moderate amount of data\n",
    "- When you want a good balance between bias and variance in your performance estimate\n",
    "- When your classes are roughly balanced\n"
   ]
  },
  {
   "cell_type": "markdown",
   "metadata": {},
   "source": [
    "### <a id='toc4_4_'></a>[Stratified K-Fold Cross-Validation](#toc0_)\n"
   ]
  },
  {
   "cell_type": "markdown",
   "metadata": {},
   "source": [
    "Stratified K-Fold CV ensures that the proportion of samples for each class is roughly the same in each fold:\n"
   ]
  },
  {
   "cell_type": "markdown",
   "metadata": {},
   "source": [
    "<img src=\"./images/stratified-kfold.png\" width=\"800\">"
   ]
  },
  {
   "cell_type": "code",
   "execution_count": 32,
   "metadata": {},
   "outputs": [
    {
     "name": "stdout",
     "output_type": "stream",
     "text": [
      "Stratified K-Fold CV Scores: [0.93859649 0.87719298 0.89473684 0.93859649 0.92035398]\n",
      "Mean CV Score: 0.9139 (+/- 0.0488)\n"
     ]
    }
   ],
   "source": [
    "skf = StratifiedKFold(n_splits=k, shuffle=True, random_state=42)\n",
    "\n",
    "cv_scores = cross_val_score(clf, X, y, cv=skf)\n",
    "\n",
    "print(f\"Stratified K-Fold CV Scores: {cv_scores}\")\n",
    "print(f\"Mean CV Score: {cv_scores.mean():.4f} (+/- {cv_scores.std() * 2:.4f})\")"
   ]
  },
  {
   "cell_type": "markdown",
   "metadata": {},
   "source": [
    "🔑 **Key Concept:** Stratified K-Fold is particularly useful for imbalanced datasets, ensuring each fold is representative of the overall class distribution.\n"
   ]
  },
  {
   "cell_type": "markdown",
   "metadata": {},
   "source": [
    "**When to use:**\n",
    "- When you have imbalanced classes\n",
    "- When you want to ensure each fold is representative of the overall class distribution\n",
    "- In most classification problems, as it generally provides a more reliable estimate than regular K-Fold CV\n"
   ]
  },
  {
   "cell_type": "markdown",
   "metadata": {},
   "source": [
    "### <a id='toc4_5_'></a>[Leave-One-Out Cross-Validation (LOOCV)](#toc0_)\n"
   ]
  },
  {
   "cell_type": "markdown",
   "metadata": {},
   "source": [
    "LOOCV is an extreme form of K-Fold CV where K equals the number of samples:\n"
   ]
  },
  {
   "cell_type": "markdown",
   "metadata": {},
   "source": [
    "<img src=\"./images/loo-kfold.png\" width=\"800\">"
   ]
  },
  {
   "cell_type": "code",
   "execution_count": 33,
   "metadata": {},
   "outputs": [
    {
     "name": "stdout",
     "output_type": "stream",
     "text": [
      "LOOCV Mean Score: 0.9121\n"
     ]
    }
   ],
   "source": [
    "loo = LeaveOneOut()\n",
    "\n",
    "cv_scores = cross_val_score(clf, X, y, cv=loo)\n",
    "\n",
    "print(f\"LOOCV Mean Score: {cv_scores.mean():.4f}\")"
   ]
  },
  {
   "cell_type": "markdown",
   "metadata": {},
   "source": [
    "❗️ **Important Note:** While LOOCV provides an nearly unbiased estimate of model performance, it can be computationally expensive for large datasets.\n"
   ]
  },
  {
   "cell_type": "markdown",
   "metadata": {},
   "source": [
    "**When to use:**\n",
    "- When you have a very small dataset\n",
    "- When you need an nearly unbiased estimate of model performance\n",
    "- When computational resources are not a concern\n"
   ]
  },
  {
   "cell_type": "markdown",
   "metadata": {},
   "source": [
    "### <a id='toc4_6_'></a>[Choosing the Right Cross-Validation Technique](#toc0_)\n"
   ]
  },
  {
   "cell_type": "markdown",
   "metadata": {},
   "source": [
    "The choice of cross-validation technique depends on several factors:\n",
    "\n",
    "1. **Dataset Size:**\n",
    "   - Large datasets: Hold-out or K-Fold CV\n",
    "   - Small datasets: LOOCV or K-Fold with higher K\n",
    "\n",
    "2. **Class Balance:**\n",
    "   - Balanced classes: K-Fold CV\n",
    "   - Imbalanced classes: Stratified K-Fold CV\n",
    "\n",
    "3. **Computational Resources:**\n",
    "   - Limited resources: Hold-out or K-Fold with smaller K\n",
    "   - Abundant resources: LOOCV or K-Fold with larger K\n",
    "\n",
    "4. **Model Complexity:**\n",
    "   - Simple models: Any method\n",
    "   - Complex models: K-Fold or Stratified K-Fold to get a more robust estimate\n",
    "\n",
    "5. **Evaluation Goals:**\n",
    "   - Quick initial assessment: Hold-out\n",
    "   - Robust performance estimate: K-Fold or Stratified K-Fold\n",
    "   - Nearly unbiased estimate: LOOCV\n"
   ]
  },
  {
   "cell_type": "markdown",
   "metadata": {},
   "source": [
    "### <a id='toc4_7_'></a>[Practical Considerations](#toc0_)\n"
   ]
  },
  {
   "cell_type": "markdown",
   "metadata": {},
   "source": [
    "1. **Choosing K:** Common choices for K are 5 or 10. Higher K gives a less biased estimate but higher variance and more computational cost.\n",
    "\n",
    "2. **Shuffling:** Always shuffle your data before splitting, unless you're dealing with time series data.\n",
    "\n",
    "3. **Reporting Results:** Always report both the mean and standard deviation of CV scores to give a sense of the model's performance variability.\n"
   ]
  },
  {
   "cell_type": "code",
   "execution_count": 34,
   "metadata": {},
   "outputs": [
    {
     "name": "stdout",
     "output_type": "stream",
     "text": [
      "CV Scores: [0.93859649 0.87719298 0.89473684 0.93859649 0.92035398]\n",
      "Mean CV Score: 0.9139 (+/- 0.0488)\n"
     ]
    }
   ],
   "source": [
    "def report_cv_results(cv_scores):\n",
    "    print(f\"CV Scores: {cv_scores}\")\n",
    "    print(f\"Mean CV Score: {cv_scores.mean():.4f} (+/- {cv_scores.std() * 2:.4f})\")\n",
    "\n",
    "# Example usage\n",
    "skf = StratifiedKFold(n_splits=5, shuffle=True, random_state=42)\n",
    "cv_scores = cross_val_score(clf, X, y, cv=skf)\n",
    "report_cv_results(cv_scores)"
   ]
  },
  {
   "cell_type": "markdown",
   "metadata": {},
   "source": [
    "4. **Data Leakage:** Be cautious of potential data leakage. Ensure that any preprocessing steps are performed within the CV loop, not on the entire dataset beforehand.\n"
   ]
  },
  {
   "cell_type": "markdown",
   "metadata": {},
   "source": [
    "Cross-validation is a powerful tool for robust model evaluation. By understanding and appropriately applying these techniques, you can gain confidence in your model's performance and its ability to generalize to new, unseen data. Remember, the choice of CV technique should be guided by your dataset characteristics, computational resources, and the specific requirements of your machine learning task."
   ]
  },
  {
   "cell_type": "markdown",
   "metadata": {},
   "source": [
    "## <a id='toc5_'></a>[Practical Considerations and Choosing the Right Metric](#toc0_)"
   ]
  },
  {
   "cell_type": "markdown",
   "metadata": {},
   "source": [
    "Selecting the appropriate evaluation metrics and applying them correctly is crucial for developing effective machine learning models. This section will guide you through practical considerations and help you choose the right metrics for your classification tasks.\n"
   ]
  },
  {
   "cell_type": "markdown",
   "metadata": {},
   "source": [
    "### <a id='toc5_1_'></a>[Understanding the Problem Context](#toc0_)\n"
   ]
  },
  {
   "cell_type": "markdown",
   "metadata": {},
   "source": [
    "Before diving into metrics, it's essential to understand the context of your problem:\n",
    "\n",
    "1. **Business Objectives:** What are the goals of your model? Are false positives or false negatives more costly?\n",
    "\n",
    "2. **Class Distribution:** Is your dataset balanced or imbalanced?\n",
    "\n",
    "3. **Number of Classes:** Is it a binary or multi-class problem?\n",
    "\n",
    "4. **Interpretability Requirements:** Do stakeholders need to easily understand the model's performance?\n"
   ]
  },
  {
   "cell_type": "markdown",
   "metadata": {},
   "source": [
    "🔑 **Key Concept:** The choice of metric should align with your problem's specific requirements and constraints.\n"
   ]
  },
  {
   "cell_type": "markdown",
   "metadata": {},
   "source": [
    "### <a id='toc5_2_'></a>[Choosing the Right Metric](#toc0_)\n"
   ]
  },
  {
   "cell_type": "markdown",
   "metadata": {},
   "source": [
    "Here's a guide to help you choose the right metric based on different scenarios:\n",
    "\n",
    "1. **Balanced Dataset, Equal Error Costs:**\n",
    "   - Accuracy\n",
    "   - F1-Score\n",
    "\n",
    "2. **Imbalanced Dataset:**\n",
    "   - Precision-Recall curve\n",
    "   - F1-Score\n",
    "   - Area Under the ROC Curve (AUC-ROC)\n",
    "\n",
    "3. **High Cost of False Positives:**\n",
    "   - Precision\n",
    "   - Specificity\n",
    "\n",
    "4. **High Cost of False Negatives:**\n",
    "   - Recall (Sensitivity)\n",
    "   - Negative Predictive Value\n",
    "\n",
    "6. **Multi-class Problems (Will be covered in the next lecture):**\n",
    "   - Macro/Micro/Weighted averages of Precision, Recall, F1-Score\n",
    "   - Cohen's Kappa\n",
    "\n",
    "7. **Ranking Performance:**\n",
    "   - Area Under the ROC Curve (AUC-ROC)\n",
    "   - Mean Average Precision\n"
   ]
  },
  {
   "cell_type": "markdown",
   "metadata": {},
   "source": [
    "### <a id='toc5_3_'></a>[Practical Example: Breast Cancer Classification](#toc0_)\n"
   ]
  },
  {
   "cell_type": "markdown",
   "metadata": {},
   "source": [
    "Let's use the breast cancer dataset to illustrate how to choose and apply different metrics:\n"
   ]
  },
  {
   "cell_type": "code",
   "execution_count": 35,
   "metadata": {},
   "outputs": [
    {
     "name": "stdout",
     "output_type": "stream",
     "text": [
      "Accuracy: 0.9825\n",
      "Precision: 0.9726\n",
      "Recall: 1.0000\n",
      "F1-Score: 0.9861\n",
      "AUC-ROC: 0.9974\n"
     ]
    }
   ],
   "source": [
    "from sklearn.datasets import load_breast_cancer\n",
    "from sklearn.model_selection import train_test_split\n",
    "from sklearn.svm import SVC\n",
    "from sklearn.metrics import accuracy_score, precision_score, recall_score, f1_score, roc_auc_score\n",
    "from sklearn.preprocessing import StandardScaler\n",
    "\n",
    "# Load data\n",
    "data = load_breast_cancer()\n",
    "X, y = data.data, data.target\n",
    "\n",
    "# Split and preprocess\n",
    "X_train, X_test, y_train, y_test = train_test_split(X, y, test_size=0.2, random_state=42)\n",
    "scaler = StandardScaler()\n",
    "X_train_scaled = scaler.fit_transform(X_train)\n",
    "X_test_scaled = scaler.transform(X_test)\n",
    "\n",
    "# Train model\n",
    "clf = SVC(probability=True, random_state=42)\n",
    "clf.fit(X_train_scaled, y_train)\n",
    "\n",
    "# Predict\n",
    "y_pred = clf.predict(X_test_scaled)\n",
    "y_pred_proba = clf.predict_proba(X_test_scaled)[:, 1]\n",
    "\n",
    "# Evaluate\n",
    "print(f\"Accuracy: {accuracy_score(y_test, y_pred):.4f}\")\n",
    "print(f\"Precision: {precision_score(y_test, y_pred):.4f}\")\n",
    "print(f\"Recall: {recall_score(y_test, y_pred):.4f}\")\n",
    "print(f\"F1-Score: {f1_score(y_test, y_pred):.4f}\")\n",
    "print(f\"AUC-ROC: {roc_auc_score(y_test, y_pred_proba):.4f}\")"
   ]
  },
  {
   "cell_type": "markdown",
   "metadata": {},
   "source": [
    "💡 **Pro Tip:** Always evaluate your model using multiple metrics to get a comprehensive view of its performance.\n"
   ]
  },
  {
   "cell_type": "markdown",
   "metadata": {},
   "source": [
    "### <a id='toc5_4_'></a>[Handling Class Imbalance](#toc0_)\n"
   ]
  },
  {
   "cell_type": "markdown",
   "metadata": {},
   "source": [
    "When dealing with imbalanced datasets:\n",
    "\n",
    "1. **Use Appropriate Metrics:** Precision, Recall, F1-Score, and AUC-ROC are often more informative than accuracy.\n",
    "\n",
    "2. **Consider Resampling:** Techniques like oversampling, undersampling, or SMOTE can help balance your dataset.\n",
    "\n",
    "3. **Adjust Class Weights:** Many algorithms allow you to assign higher weights to the minority class.\n"
   ]
  },
  {
   "cell_type": "markdown",
   "metadata": {},
   "source": [
    "```python\n",
    "from imblearn.over_sampling import SMOTE\n",
    "from sklearn.utils.class_weight import compute_class_weight\n",
    "\n",
    "# Resampling example\n",
    "smote = SMOTE(random_state=42)\n",
    "X_train_resampled, y_train_resampled = smote.fit_resample(X_train_scaled, y_train)\n",
    "\n",
    "# Class weights example\n",
    "class_weights = compute_class_weight('balanced', classes=np.unique(y_train), y=y_train)\n",
    "clf_weighted = SVC(probability=True, class_weight=dict(enumerate(class_weights)), random_state=42)\n",
    "```\n"
   ]
  },
  {
   "cell_type": "markdown",
   "metadata": {},
   "source": [
    "### <a id='toc5_5_'></a>[Cross-Validation and Metric Stability](#toc0_)\n"
   ]
  },
  {
   "cell_type": "markdown",
   "metadata": {},
   "source": [
    "To ensure the stability of your metrics:\n",
    "\n",
    "1. **Use Cross-Validation:** This provides a more robust estimate of model performance.\n",
    "\n",
    "2. **Report Mean and Standard Deviation:** This gives insight into the variability of your model's performance.\n"
   ]
  },
  {
   "cell_type": "code",
   "execution_count": 37,
   "metadata": {},
   "outputs": [
    {
     "name": "stdout",
     "output_type": "stream",
     "text": [
      "Mean AUC-ROC: 0.9949 (+/- 0.0119)\n"
     ]
    }
   ],
   "source": [
    "from sklearn.model_selection import cross_val_score\n",
    "\n",
    "cv_scores = cross_val_score(clf, X_train_scaled, y_train, cv=5, scoring='roc_auc')\n",
    "print(f\"Mean AUC-ROC: {cv_scores.mean():.4f} (+/- {cv_scores.std() * 2:.4f})\")"
   ]
  },
  {
   "cell_type": "markdown",
   "metadata": {},
   "source": [
    "### <a id='toc5_6_'></a>[Threshold Adjustment](#toc0_)\n"
   ]
  },
  {
   "cell_type": "markdown",
   "metadata": {},
   "source": [
    "For binary classifiers that output probabilities:\n",
    "\n",
    "1. **ROC Curve:** Use this to visualize the trade-off between true positive rate and false positive rate at various thresholds.\n",
    "\n",
    "2. **Precision-Recall Curve:** Particularly useful for imbalanced datasets.\n"
   ]
  },
  {
   "cell_type": "code",
   "execution_count": 38,
   "metadata": {},
   "outputs": [
    {
     "data": {
      "text/plain": [
       "<matplotlib.legend.Legend at 0x151112560>"
      ]
     },
     "execution_count": 38,
     "metadata": {},
     "output_type": "execute_result"
    },
    {
     "data": {
      "image/png": "[encoded data removed]",
      "text/plain": [
       "<Figure size 640x480 with 1 Axes>"
      ]
     },
     "metadata": {},
     "output_type": "display_data"
    }
   ],
   "source": [
    "from sklearn.metrics import roc_curve, precision_recall_curve\n",
    "import matplotlib.pyplot as plt\n",
    "\n",
    "# ROC Curve\n",
    "fpr, tpr, thresholds = roc_curve(y_test, y_pred_proba)\n",
    "plt.figure()\n",
    "plt.plot(fpr, tpr, label='ROC curve')\n",
    "plt.plot([0, 1], [0, 1], linestyle='--')\n",
    "plt.xlabel('False Positive Rate')\n",
    "plt.ylabel('True Positive Rate')\n",
    "plt.title('Receiver Operating Characteristic (ROC) Curve')\n",
    "plt.legend()"
   ]
  },
  {
   "cell_type": "code",
   "execution_count": 39,
   "metadata": {},
   "outputs": [
    {
     "data": {
      "image/png": "[encoded data removed]",
      "text/plain": [
       "<Figure size 640x480 with 1 Axes>"
      ]
     },
     "metadata": {},
     "output_type": "display_data"
    }
   ],
   "source": [
    "# Precision-Recall Curve\n",
    "precision, recall, _ = precision_recall_curve(y_test, y_pred_proba)\n",
    "plt.figure()\n",
    "plt.plot(recall, precision, label='Precision-Recall curve')\n",
    "plt.xlabel('Recall')\n",
    "plt.ylabel('Precision')\n",
    "plt.title('Precision-Recall Curve')\n",
    "plt.legend()\n",
    "plt.show()"
   ]
  },
  {
   "cell_type": "markdown",
   "metadata": {},
   "source": [
    "❗️ **Important Note:** The choice of threshold can significantly impact your model's performance. Always consider the business context when setting this threshold.\n"
   ]
  },
  {
   "cell_type": "markdown",
   "metadata": {},
   "source": [
    "### <a id='toc5_7_'></a>[Interpretability and Communication](#toc0_)\n"
   ]
  },
  {
   "cell_type": "markdown",
   "metadata": {},
   "source": [
    "1. **Confusion Matrix:** Provides a detailed breakdown of correct and incorrect classifications.\n",
    "\n",
    "2. **Feature Importance:** Helps stakeholders understand which features are driving the model's decisions.\n",
    "\n",
    "3. **Visualizations:** ROC curves, Precision-Recall curves, and confusion matrices can help communicate model performance effectively.\n"
   ]
  },
  {
   "cell_type": "markdown",
   "metadata": {},
   "source": [
    "🤔 **Why This Matters:** Clear communication of model performance is crucial for stakeholder buy-in and effective decision-making.\n"
   ]
  },
  {
   "cell_type": "markdown",
   "metadata": {},
   "source": [
    "### <a id='toc5_8_'></a>[Continuous Monitoring](#toc0_)\n"
   ]
  },
  {
   "cell_type": "markdown",
   "metadata": {},
   "source": [
    "In production environments:\n",
    "\n",
    "1. **Monitor Metric Drift:** Regularly check if your model's performance is degrading over time.\n",
    "\n",
    "2. **Update Baselines:** As your data distribution changes, you may need to update your performance baselines.\n",
    "\n",
    "3. **A/B Testing:** When introducing new models, use A/B testing to compare performance metrics.\n"
   ]
  },
  {
   "cell_type": "markdown",
   "metadata": {},
   "source": [
    "By considering these practical aspects and choosing the right metrics, you can ensure that your classification models are not only performing well but also aligned with your business objectives. Remember, the goal is not just to optimize a single number, but to create models that provide real value in their intended applications."
   ]
  },
  {
   "cell_type": "markdown",
   "metadata": {},
   "source": [
    "## <a id='toc6_'></a>[Summary](#toc0_)"
   ]
  },
  {
   "cell_type": "markdown",
   "metadata": {},
   "source": [
    "Throughout this lecture, we've explored the crucial topic of evaluation metrics for classification problems. Let's recap the key points:\n",
    "\n",
    "1. **Importance of Evaluation:** Proper evaluation is essential for understanding model performance, comparing different models, and ensuring our solutions meet business requirements.\n",
    "\n",
    "2. **Confusion Matrix:** We started with the confusion matrix, the foundation for many classification metrics, providing a detailed view of correct and incorrect predictions.\n",
    "\n",
    "3. **Basic Metrics:** We covered accuracy, precision, recall, and F1-score, understanding their calculations and use cases.\n",
    "\n",
    "4. **Advanced Metrics:** We explored ROC curves and AUC, which provide a threshold-independent evaluation of classifier performance.\n",
    "\n",
    "5. **Cross-validation:** We learned about various cross-validation techniques, including K-Fold, Stratified K-Fold, and Leave-One-Out CV, understanding when to use each.\n",
    "\n",
    "6. **Practical Considerations:** We discussed how to choose the right metrics based on problem context, handle class imbalance, and adjust classification thresholds.\n"
   ]
  },
  {
   "cell_type": "markdown",
   "metadata": {},
   "source": [
    "Here are some key takeaways:\n",
    "- No single metric tells the whole story. Use a combination of metrics for a comprehensive evaluation.\n",
    "- Always consider the business context and costs associated with different types of errors.\n",
    "- Cross-validation is crucial for getting reliable estimates of model performance.\n",
    "- For imbalanced datasets, look beyond accuracy to metrics like precision, recall, F1-score, and AUC.\n",
    "- Visualizations like ROC curves and Precision-Recall curves can provide valuable insights.\n"
   ]
  },
  {
   "cell_type": "markdown",
   "metadata": {},
   "source": [
    "💡 **Pro Tip:** Remember that the goal of model evaluation is not just to optimize a metric, but to ensure your model solves the real-world problem it's designed for.\n"
   ]
  },
  {
   "cell_type": "markdown",
   "metadata": {},
   "source": [
    "As you continue your journey in machine learning:\n",
    "\n",
    "1. Practice applying these metrics to various datasets and problems.\n",
    "2. Explore how different algorithms perform under various evaluation criteria.\n",
    "3. Stay updated on new evaluation techniques, especially for specific domains or problem types.\n",
    "4. Always tie your evaluation back to the business or research question you're trying to answer.\n"
   ]
  },
  {
   "cell_type": "markdown",
   "metadata": {},
   "source": [
    "By mastering these evaluation techniques, you'll be well-equipped to develop, select, and deploy classification models that truly meet the needs of your projects and stakeholders."
   ]
  }
 ],
 "metadata": {
  "kernelspec": {
   "display_name": "py310",
   "language": "python",
   "name": "python3"
  },
  "language_info": {
   "codemirror_mode": {
    "name": "ipython",
    "version": 3
   },
   "file_extension": ".py",
   "mimetype": "text/x-python",
   "name": "python",
   "nbconvert_exporter": "python",
   "pygments_lexer": "ipython3",
   "version": "3.10.12"
  }
 },
 "nbformat": 4,
 "nbformat_minor": 2
}
