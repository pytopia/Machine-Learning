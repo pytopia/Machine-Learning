{
 "cells": [
  {
   "cell_type": "markdown",
   "metadata": {},
   "source": [
    "<img src=\"./images/banner.png\" width=\"800\">"
   ]
  },
  {
   "cell_type": "markdown",
   "metadata": {},
   "source": [
    "# Regression Evaluation Metrics"
   ]
  },
  {
   "cell_type": "markdown",
   "metadata": {},
   "source": [
    "Model evaluation is a critical step in the machine learning pipeline, particularly for regression models. It allows us to assess how well our model performs, compare different models, and make informed decisions about model selection and improvement.\n"
   ]
  },
  {
   "cell_type": "markdown",
   "metadata": {},
   "source": [
    "Evaluating our models serves several crucial purposes:\n",
    "\n",
    "1. **Performance Assessment**: It helps us understand how well our model is performing its intended task.\n",
    "2. **Model Comparison**: We can compare different models or variations of the same model to choose the best one.\n",
    "3. **Overfitting Detection**: Proper evaluation techniques can help us detect if our model is overfitting the training data.\n",
    "4. **Generalization Estimation**: It gives us an idea of how well our model might perform on unseen data.\n"
   ]
  },
  {
   "cell_type": "markdown",
   "metadata": {},
   "source": [
    "🔑 **Key Concept:** Model evaluation is not just about finding the \"best\" model, but about understanding the model's strengths, weaknesses, and behavior.\n"
   ]
  },
  {
   "cell_type": "markdown",
   "metadata": {},
   "source": [
    "For regression problems, we typically use metrics that measure the difference between predicted values and actual values. These metrics fall into several categories:\n",
    "\n",
    "1. **Error-based Metrics**: These measure the magnitude of prediction errors (e.g., Mean Squared Error, Mean Absolute Error).\n",
    "2. **Goodness-of-Fit Metrics**: These assess how well the model explains the variance in the data (e.g., R-squared).\n",
    "3. **Residual-based Analysis**: These involve examining the patterns and distributions of prediction errors.\n"
   ]
  },
  {
   "cell_type": "markdown",
   "metadata": {},
   "source": [
    "When evaluating models, it's crucial to consider the context of your problem:\n",
    "\n",
    "- **Domain Knowledge**: Understanding the specific requirements and constraints of your field can guide metric selection.\n",
    "- **Stakeholder Needs**: Different stakeholders may prioritize different aspects of model performance.\n",
    "- **Data Characteristics**: The nature of your data (e.g., presence of outliers) can influence which metrics are most appropriate.\n"
   ]
  },
  {
   "cell_type": "markdown",
   "metadata": {},
   "source": [
    "Always use multiple evaluation metrics to get a comprehensive view of your model's performance. Relying on a single metric can be misleading.\n"
   ]
  },
  {
   "cell_type": "markdown",
   "metadata": {},
   "source": [
    "Be aware of these common mistakes:\n",
    "\n",
    "1. **Overfitting to the Evaluation Metric**: Optimizing too aggressively for a single metric can lead to poor generalization.\n",
    "2. **Ignoring Model Complexity**: Simpler models that perform slightly worse might be preferable in some situations.\n",
    "3. **Neglecting Statistical Significance**: Especially with small datasets, differences in metrics might not be statistically significant.\n"
   ]
  },
  {
   "cell_type": "markdown",
   "metadata": {},
   "source": [
    "In the following sections, we'll dive deep into specific evaluation metrics for regression models. We'll explore how to calculate them, interpret their results, and understand their strengths and limitations.\n"
   ]
  },
  {
   "cell_type": "markdown",
   "metadata": {},
   "source": [
    "> **Important Note:** Remember that no single metric tells the whole story. A holistic approach to model evaluation, combining multiple metrics and domain expertise, is key to building effective and reliable regression models.\n"
   ]
  },
  {
   "cell_type": "markdown",
   "metadata": {},
   "source": [
    "By mastering these evaluation techniques, you'll be better equipped to develop high-quality regression models and communicate their performance effectively to stakeholders."
   ]
  },
  {
   "cell_type": "markdown",
   "metadata": {},
   "source": [
    "**Table of contents**<a id='toc0_'></a>    \n",
    "- [Mean Squared Error (MSE) and Root Mean Squared Error (RMSE)](#toc1_)    \n",
    "  - [Mean Squared Error (MSE)](#toc1_1_)    \n",
    "  - [Root Mean Squared Error (RMSE)](#toc1_2_)    \n",
    "  - [Implementing MSE and RMSE in Python](#toc1_3_)    \n",
    "  - [When to Use MSE vs RMSE](#toc1_4_)    \n",
    "- [Mean Absolute Error (MAE)](#toc2_)    \n",
    "  - [Implementing MAE in Python](#toc2_1_)    \n",
    "  - [When to Use MAE](#toc2_2_)    \n",
    "  - [Limitations of MAE](#toc2_3_)    \n",
    "- [R-squared (Coefficient of Determination)](#toc3_)    \n",
    "  - [Interpreting R-squared](#toc3_1_)    \n",
    "  - [Implementing R-squared in Python](#toc3_2_)    \n",
    "  - [Advantages and Limitations of R-squared](#toc3_3_)    \n",
    "  - [When to Use R-squared](#toc3_4_)    \n",
    "- [Adjusted R-squared](#toc4_)    \n",
    "  - [Implementing Adjusted R-squared in Python](#toc4_1_)    \n",
    "  - [Advantages and Limiations of Adjusted R-squared](#toc4_2_)    \n",
    "  - [When to Use Adjusted R-squared](#toc4_3_)    \n",
    "- [Residual Analysis](#toc5_)    \n",
    "  - [What are Residuals?](#toc5_1_)    \n",
    "  - [Key Components of Residual Analysis](#toc5_2_)    \n",
    "  - [Interpreting Residual Plots](#toc5_3_)    \n",
    "- [Comparing and Choosing Evaluation Metrics](#toc6_)    \n",
    "  - [Comparison of Metrics](#toc6_1_)    \n",
    "  - [Factors to Consider When Choosing Metrics](#toc6_2_)    \n",
    "  - [Guidelines for Choosing Metrics](#toc6_3_)    \n",
    "  - [Example Scenario](#toc6_4_)    \n",
    "- [Summary and Best Practices](#toc7_)    \n",
    "\n",
    "<!-- vscode-jupyter-toc-config\n",
    "\tnumbering=false\n",
    "\tanchor=true\n",
    "\tflat=false\n",
    "\tminLevel=2\n",
    "\tmaxLevel=6\n",
    "\t/vscode-jupyter-toc-config -->\n",
    "<!-- THIS CELL WILL BE REPLACED ON TOC UPDATE. DO NOT WRITE YOUR TEXT IN THIS CELL -->"
   ]
  },
  {
   "cell_type": "markdown",
   "metadata": {},
   "source": [
    "## <a id='toc1_'></a>[Mean Squared Error (MSE) and Root Mean Squared Error (RMSE)](#toc0_)"
   ]
  },
  {
   "cell_type": "markdown",
   "metadata": {},
   "source": [
    "Mean Squared Error (MSE) and Root Mean Squared Error (RMSE) are fundamental metrics for evaluating regression models. They provide a measure of the average magnitude of the model's prediction errors. MSE is widely used in practice due to its simplicity and mathematical properties, while RMSE is preferred when we want the error metric to be in the same units as the target variable. The difference is similar to that between variance and standard deviation. While variance gives a measure of the spread of data, standard deviation provides a more interpretable measure in the original units.\n"
   ]
  },
  {
   "cell_type": "markdown",
   "metadata": {},
   "source": [
    "### <a id='toc1_1_'></a>[Mean Squared Error (MSE)](#toc0_)\n"
   ]
  },
  {
   "cell_type": "markdown",
   "metadata": {},
   "source": [
    "MSE is calculated by taking the average of the squared differences between predicted and actual values. It's one of the most widely used metrics for regression problems:\n",
    "\n",
    "$$ MSE = \\frac{1}{n} \\sum_{i=1}^n (y_i - \\hat{y}_i)^2 $$\n",
    "\n",
    "Where:\n",
    "- $n$ is the number of observations\n",
    "- $y_i$ is the actual value\n",
    "- $\\hat{y}_i$ is the predicted value\n"
   ]
  },
  {
   "cell_type": "markdown",
   "metadata": {},
   "source": [
    "<img src=\"./images/mse.jpeg\" width=\"600\">"
   ]
  },
  {
   "cell_type": "markdown",
   "metadata": {},
   "source": [
    "Some key characteristics of MSE include:\n",
    "1. **Always Non-Negative**: MSE is always ≥ 0, with 0 indicating perfect prediction.\n",
    "2. **Sensitive to Outliers**: Squaring the errors makes MSE particularly sensitive to large errors.\n",
    "3. **Units**: MSE is expressed in squared units of the target variable.\n"
   ]
  },
  {
   "cell_type": "markdown",
   "metadata": {},
   "source": [
    "> MSE heavily penalizes large errors due to the squaring operation, making it particularly useful when large errors are especially undesirable.\n"
   ]
  },
  {
   "cell_type": "markdown",
   "metadata": {},
   "source": [
    "### <a id='toc1_2_'></a>[Root Mean Squared Error (RMSE)](#toc0_)\n"
   ]
  },
  {
   "cell_type": "markdown",
   "metadata": {},
   "source": [
    "RMSE is simply the square root of the MSE. It's often preferred over MSE because it's in the same units as the target variable. RMSE is calculated as:\n",
    "\n",
    "$$ RMSE = \\sqrt{MSE} = \\sqrt{\\frac{1}{n} \\sum_{i=1}^n (y_i - \\hat{y}_i)^2} $$\n"
   ]
  },
  {
   "cell_type": "markdown",
   "metadata": {},
   "source": [
    "RMSE shares many properties with MSE but has some distinct advantages:\n",
    "1. **Interpretability**: RMSE is in the same units as the target variable, making it more interpretable than MSE.\n",
    "2. **Still Sensitive to Outliers**: Like MSE, RMSE is sensitive to large errors.\n",
    "3. **Popular in Practice**: RMSE is widely used and reported in many regression problems.\n"
   ]
  },
  {
   "cell_type": "markdown",
   "metadata": {},
   "source": [
    "### <a id='toc1_3_'></a>[Implementing MSE and RMSE in Python](#toc0_)\n"
   ]
  },
  {
   "cell_type": "markdown",
   "metadata": {},
   "source": [
    "Here's a simple implementation using NumPy:\n"
   ]
  },
  {
   "cell_type": "code",
   "execution_count": 1,
   "metadata": {},
   "outputs": [
    {
     "name": "stdout",
     "output_type": "stream",
     "text": [
      "MSE: 0.3750\n",
      "RMSE: 0.6124\n"
     ]
    }
   ],
   "source": [
    "import numpy as np\n",
    "\n",
    "def mse(y_true, y_pred):\n",
    "    return np.mean((y_true - y_pred)**2)\n",
    "\n",
    "def rmse(y_true, y_pred):\n",
    "    return np.sqrt(mse(y_true, y_pred))\n",
    "\n",
    "# Example usage\n",
    "y_true = np.array([3, -0.5, 2, 7])\n",
    "y_pred = np.array([2.5, 0.0, 2, 8])\n",
    "\n",
    "print(f\"MSE: {mse(y_true, y_pred):.4f}\")\n",
    "print(f\"RMSE: {rmse(y_true, y_pred):.4f}\")"
   ]
  },
  {
   "cell_type": "markdown",
   "metadata": {},
   "source": [
    "### <a id='toc1_4_'></a>[When to Use MSE vs RMSE](#toc0_)\n"
   ]
  },
  {
   "cell_type": "markdown",
   "metadata": {},
   "source": [
    "- Use **MSE** when:\n",
    "  - You want to give more weight to large errors.\n",
    "  - You're using it as a loss function for optimization.\n",
    "\n",
    "- Use **RMSE** when:\n",
    "  - You want the error metric to be in the same units as the target variable.\n",
    "  - You're communicating results to non-technical stakeholders.\n"
   ]
  },
  {
   "cell_type": "markdown",
   "metadata": {},
   "source": [
    "> **Important Note:** Both MSE and RMSE are sensitive to outliers. In datasets with extreme outliers, consider using robust metrics like Mean Absolute Error (MAE) or median-based metrics.\n"
   ]
  },
  {
   "cell_type": "markdown",
   "metadata": {},
   "source": [
    "Now that you understand MSE and RMSE, let's explore their strengths and limitations:\n",
    "1. **Scale Dependence**: Both MSE and RMSE are scale-dependent, making it difficult to compare models across different datasets or target variables with different scales.\n",
    "2. **Outlier Sensitivity**: Large errors have a disproportionate effect on these metrics.\n",
    "3. **Lack of Direction**: They don't indicate whether the model is overpredicting or underpredicting.\n"
   ]
  },
  {
   "cell_type": "markdown",
   "metadata": {},
   "source": [
    "Understanding the nuances of MSE and RMSE helps in choosing the right metric for your specific problem and interpreting the results correctly. Remember, a lower MSE or RMSE indicates better model performance, but always consider these metrics in conjunction with other evaluation techniques for a comprehensive assessment."
   ]
  },
  {
   "cell_type": "markdown",
   "metadata": {},
   "source": [
    "## <a id='toc2_'></a>[Mean Absolute Error (MAE)](#toc0_)"
   ]
  },
  {
   "cell_type": "markdown",
   "metadata": {},
   "source": [
    "Mean Absolute Error (MAE) is another popular metric for evaluating regression models. It provides a measure of the average magnitude of errors in a set of predictions, without considering their direction. MAE is particularly useful when you want a metric that's easy to interpret and less sensitive to outliers compared to MSE/RMSE.\n"
   ]
  },
  {
   "cell_type": "markdown",
   "metadata": {},
   "source": [
    "MAE is calculated by taking the average of the absolute differences between predicted and actual values. It's defined as:\n",
    "\n",
    "$$ MAE = \\frac{1}{n} \\sum_{i=1}^n |y_i - \\hat{y}_i| $$\n",
    "\n",
    "Where:\n",
    "- $n$ is the number of observations\n",
    "- $y_i$ is the actual value\n",
    "- $\\hat{y}_i$ is the predicted value\n"
   ]
  },
  {
   "cell_type": "markdown",
   "metadata": {},
   "source": [
    "🔑 **Key Concept:** MAE represents the average absolute deviation of predictions from the actual values.\n"
   ]
  },
  {
   "cell_type": "markdown",
   "metadata": {},
   "source": [
    "Key features of MAE include:\n",
    "1. **Interpretability**: MAE is easy to understand as it's in the same units as the target variable.\n",
    "2. **Robustness to Outliers**: Unlike MSE/RMSE, MAE is less sensitive to outliers.\n",
    "3. **Linear Scale**: MAE treats all errors on a linear scale, unlike MSE which squares the errors.\n",
    "4. **Always Non-Negative**: Like MSE, MAE is always ≥ 0, with 0 indicating perfect prediction.\n"
   ]
  },
  {
   "cell_type": "markdown",
   "metadata": {},
   "source": [
    "### <a id='toc2_1_'></a>[Implementing MAE in Python](#toc0_)\n"
   ]
  },
  {
   "cell_type": "markdown",
   "metadata": {},
   "source": [
    "Here's a simple implementation using NumPy:\n"
   ]
  },
  {
   "cell_type": "code",
   "execution_count": 2,
   "metadata": {},
   "outputs": [
    {
     "name": "stdout",
     "output_type": "stream",
     "text": [
      "MAE: 0.5000\n"
     ]
    }
   ],
   "source": [
    "import numpy as np\n",
    "\n",
    "def mae(y_true, y_pred):\n",
    "    return np.mean(np.abs(y_true - y_pred))\n",
    "\n",
    "# Example usage\n",
    "y_true = np.array([3, -0.5, 2, 7])\n",
    "y_pred = np.array([2.5, 0.0, 2, 8])\n",
    "\n",
    "print(f\"MAE: {mae(y_true, y_pred):.4f}\")"
   ]
  },
  {
   "cell_type": "markdown",
   "metadata": {},
   "source": [
    "### <a id='toc2_2_'></a>[When to Use MAE](#toc0_)\n"
   ]
  },
  {
   "cell_type": "markdown",
   "metadata": {},
   "source": [
    "MAE is particularly useful in the following scenarios:\n",
    "\n",
    "1. **Outlier Presence**: When your dataset contains outliers, MAE can provide a more robust measure of model performance.\n",
    "2. **Uniform Error Importance**: When all errors should be treated equally, regardless of their magnitude.\n",
    "3. **Interpretability Priority**: When you need a metric that's easily interpretable by non-technical stakeholders.\n"
   ]
  },
  {
   "cell_type": "markdown",
   "metadata": {},
   "source": [
    "💡 **Pro Tip:** Consider using MAE in conjunction with MSE/RMSE. If MAE is significantly lower than RMSE, it might indicate the presence of outliers or high variance in individual errors.\n"
   ]
  },
  {
   "cell_type": "markdown",
   "metadata": {},
   "source": [
    "Here's a comparison of MAE with MSE/RMSE:\n",
    "| Aspect | MAE | MSE/RMSE |\n",
    "|--------|-----|----------|\n",
    "| Outlier Sensitivity | Less sensitive | More sensitive |\n",
    "| Error Scale | Linear | Quadratic |\n",
    "| Interpretability | Directly interpretable | RMSE is interpretable, MSE is not |\n",
    "| Mathematical Properties | L1 norm | L2 norm |\n"
   ]
  },
  {
   "cell_type": "markdown",
   "metadata": {},
   "source": [
    "### <a id='toc2_3_'></a>[Limitations of MAE](#toc0_)\n"
   ]
  },
  {
   "cell_type": "markdown",
   "metadata": {},
   "source": [
    "1. **Insensitivity to Error Magnitude**: MAE treats all errors equally, which might not be desirable if larger errors are disproportionately more important in your context.\n",
    "2. **Lack of Gradient**: The absolute value function isn't differentiable at zero, which can be problematic for some optimization algorithms.\n",
    "3. **No Direction Information**: Like MSE/RMSE, MAE doesn't indicate whether the model is overpredicting or underpredicting.\n"
   ]
  },
  {
   "cell_type": "markdown",
   "metadata": {},
   "source": [
    "> **Important Note:** While MAE is more robust to outliers, this can sometimes be a disadvantage if detecting and responding to large errors is crucial for your application.\n"
   ]
  },
  {
   "cell_type": "markdown",
   "metadata": {},
   "source": [
    "When using MAE:\n",
    "\n",
    "1. **Context Matters**: Consider the specific requirements of your problem. Is robustness to outliers more important than penalizing large errors?\n",
    "2. **Combine with Other Metrics**: Use MAE alongside other metrics like MSE/RMSE and R-squared for a more comprehensive evaluation.\n",
    "3. **Visualization**: Complement MAE with visualizations of residuals to get a fuller picture of model performance.\n"
   ]
  },
  {
   "cell_type": "markdown",
   "metadata": {},
   "source": [
    "Choosing between MAE and MSE/RMSE can significantly impact how you interpret your model's performance and make decisions about model selection or improvement. Understanding the nuances of MAE helps in making informed choices and communicating results effectively."
   ]
  },
  {
   "cell_type": "markdown",
   "metadata": {},
   "source": [
    "## <a id='toc3_'></a>[R-squared (Coefficient of Determination)](#toc0_)"
   ]
  },
  {
   "cell_type": "markdown",
   "metadata": {},
   "source": [
    "R in a regression analysis is called the correlation coefficient and it is defined as the correlation or relationship between an independent and a dependent variable. It ranges from -1 to +1. An R-value of -1 and +1 indicates respectively a perfect negative and positive relationship between the independent and dependent variable. Thus, an R-value of 0 shows that there is no relationship between these variables. So, depending on your study, the higher the R-value, i.e. closer to -1 or +1, the better the relationship. Most often, it is expressed in percentages."
   ]
  },
  {
   "cell_type": "markdown",
   "metadata": {},
   "source": [
    "R squared is a statistical measure of how close the data are to the fitted regression line. It is also known as the coefficient of determination, or the coefficient of multiple determination for multiple regression. The definition of R squared is fairly straight-forward; it is the percentage of the response variable variation that is explained by a linear model. Or: R squared = Explained variation / Total variation"
   ]
  },
  {
   "cell_type": "markdown",
   "metadata": {},
   "source": [
    "R-squared represents the proportion of the variance in the dependent variable that is predictable from the independent variable(s). It's calculated as:\n",
    "\n",
    "$$ R^2 = \\frac{\\sum_{i=1}^n (y_i - \\bar{y})^2 - {\\sum_{i=1}^n (y_i - \\hat{y}_i)^2}}{\\sum_{i=1}^n (y_i - \\bar{y})^2} = 1 - \\frac{\\sum_{i=1}^n (y_i - \\hat{y}_i)^2}{\\sum_{i=1}^n (y_i - \\bar{y})^2} = 1 - \\frac{\\text{Var}(\\text{error})}{\\text{Var}(Y)}  $$\n",
    "\n",
    "Where:\n",
    "- $y_i$ is the actual value\n",
    "- $\\hat{y}_i$ is the predicted value\n",
    "- $\\bar{y}$ is the mean of the actual values\n"
   ]
  },
  {
   "cell_type": "markdown",
   "metadata": {},
   "source": [
    "<img src=\"./images/r-squared.png\" width=\"600\">"
   ]
  },
  {
   "cell_type": "markdown",
   "metadata": {},
   "source": [
    "**Note**:  Coefficient of Correlation is the degree of relationship between two variables say x and y. It can go between -1 and 1.  1 indicates that the two variables are moving in unison. They rise and fall together and have perfect correlation. -1 means that the two variables are in perfect opposites. One goes up and other goes down, in perfect negative way. Any two variables in this universe can be argued to have a correlation value. If they are not correlated then the correlation value can still be computed which would be 0. The correlation value always lies between -1 and 1 (going thru 0 – which means no correlation at all – perfectly not related). Correlation can be rightfully explalined for simple linear regression – because you only have one x and one y variable. For multiple linear regression R is computed, but then it is difficult to explain because we have multiple variables invovled here. Thats why R square is a better term. You can explain R square for both simple linear regressions and also for multiple linear regressions."
   ]
  },
  {
   "cell_type": "markdown",
   "metadata": {},
   "source": [
    "🔑 **Key Concept:** R-squared compares the fit of the chosen model with that of a horizontal straight line (the null hypothesis).\n"
   ]
  },
  {
   "cell_type": "markdown",
   "metadata": {},
   "source": [
    "### <a id='toc3_1_'></a>[Interpreting R-squared](#toc0_)\n"
   ]
  },
  {
   "cell_type": "markdown",
   "metadata": {},
   "source": [
    "- R-squared ranges from 0 to 1.\n",
    "- An R-squared of 1 indicates that the model explains all the variability in the target variable.\n",
    "- An R-squared of 0 means the model explains none of the variability.\n"
   ]
  },
  {
   "cell_type": "markdown",
   "metadata": {},
   "source": [
    "For example, an R-squared of 0.7 suggests that 70% of the variance in the target variable is predictable from the independent variable(s).\n"
   ]
  },
  {
   "cell_type": "markdown",
   "metadata": {},
   "source": [
    "### <a id='toc3_2_'></a>[Implementing R-squared in Python](#toc0_)\n"
   ]
  },
  {
   "cell_type": "markdown",
   "metadata": {},
   "source": [
    "Here's a simple implementation using NumPy:\n"
   ]
  },
  {
   "cell_type": "code",
   "execution_count": 3,
   "metadata": {},
   "outputs": [
    {
     "name": "stdout",
     "output_type": "stream",
     "text": [
      "R-squared: 0.9466\n"
     ]
    }
   ],
   "source": [
    "import numpy as np\n",
    "\n",
    "def r_squared(y_true, y_pred):\n",
    "    ssr = np.sum((y_true - y_pred)**2)\n",
    "    sst = np.sum((y_true - np.mean(y_true))**2)\n",
    "    return 1 - (ssr / sst)\n",
    "\n",
    "# Example usage\n",
    "y_true = np.array([3, -0.5, 2, 7, 5])\n",
    "y_pred = np.array([2.5, 0.0, 2, 8, 5.5])\n",
    "\n",
    "print(f\"R-squared: {r_squared(y_true, y_pred):.4f}\")"
   ]
  },
  {
   "cell_type": "markdown",
   "metadata": {},
   "source": [
    "### <a id='toc3_3_'></a>[Advantages and Limitations of R-squared](#toc0_)\n"
   ]
  },
  {
   "cell_type": "markdown",
   "metadata": {},
   "source": [
    "The key advantages of R-squared include:\n",
    "1. **Interpretability**: It provides an easily understandable measure of fit.\n",
    "2. **Comparability**: It allows for comparison between models with different numbers of predictors.\n",
    "3. **Scale Independence**: Unlike MSE or MAE, R-squared is not affected by the scale of the target variable.\n"
   ]
  },
  {
   "cell_type": "markdown",
   "metadata": {},
   "source": [
    "While a higher R-squared generally indicates a better fit, be cautious of overfitting when R-squared is very close to 1, especially with a large number of predictors.\n"
   ]
  },
  {
   "cell_type": "markdown",
   "metadata": {},
   "source": [
    "However, R-squared has several limitations:\n",
    "1. **Sensitivity to Outliers**: R-squared can be sensitive to outliers, as they can significantly impact the total sum of squares.\n",
    "\n",
    "2. **No Indication of Bias**: A high R-squared doesn't necessarily mean the model is unbiased. Always check residual plots.\n",
    "\n",
    "3. **Doesn't Indicate Prediction Accuracy**: R-squared measures goodness of fit, not predictive accuracy. Note that R-squared compares the model to a baseline (the mean of the target variable). MSE/RMSE don't have this implicit comparison\n",
    "\n",
    "4. **Increases with More Predictors**: Adding more predictors to a model will always increase R-squared, even if these predictors are not meaningful.\n",
    "\n",
    "5. **Not Suitable for Nonlinear Relationships**: R-squared assumes a linear relationship between variables.\n"
   ]
  },
  {
   "cell_type": "markdown",
   "metadata": {},
   "source": [
    "> **Important Note:** A low R-squared isn't always bad, and a high R-squared isn't always good. The interpretation depends heavily on the context of the problem and the nature of the data.\n"
   ]
  },
  {
   "cell_type": "markdown",
   "metadata": {},
   "source": [
    "### <a id='toc3_4_'></a>[When to Use R-squared](#toc0_)\n"
   ]
  },
  {
   "cell_type": "markdown",
   "metadata": {},
   "source": [
    "- Use R-squared when:\n",
    "  - You want to understand how much of the variance in Y is explained by X.\n",
    "  - Comparing the fit of different models for the same dataset.\n",
    "  - Communicating model performance to non-technical stakeholders.\n"
   ]
  },
  {
   "cell_type": "markdown",
   "metadata": {},
   "source": [
    "In practice, consider the following when using R-squared:\n",
    "1. **Combine with Other Metrics**: Use R-squared in conjunction with error metrics like RMSE or MAE for a more comprehensive evaluation.\n",
    "\n",
    "2. **Check Assumptions**: Ensure the assumptions of linear regression (linearity, independence, homoscedasticity, normality) are met for R-squared to be meaningful.\n",
    "\n",
    "3. **Consider Adjusted R-squared**: For models with multiple predictors, adjusted R-squared can provide a more accurate measure of fit.\n"
   ]
  },
  {
   "cell_type": "markdown",
   "metadata": {},
   "source": [
    "🤔 **Why This Matters:** Understanding R-squared helps in assessing how well your model captures the underlying patterns in the data. It's a crucial tool for model evaluation and selection, but it should be used thoughtfully and in context with other evaluation metrics and domain knowledge."
   ]
  },
  {
   "cell_type": "markdown",
   "metadata": {},
   "source": [
    "## <a id='toc4_'></a>[Adjusted R-squared](#toc0_)"
   ]
  },
  {
   "cell_type": "markdown",
   "metadata": {},
   "source": [
    "Adjusted R-squared is a modified version of R-squared that addresses some of the limitations of the standard R-squared metric, particularly when dealing with multiple predictor variables. Adjusted R-squared penalizes the addition of extraneous predictors to the model, providing a more accurate measure of model fit.\n"
   ]
  },
  {
   "cell_type": "markdown",
   "metadata": {},
   "source": [
    "While R-squared is a useful metric, it has a notable flaw: it always increases when you add more predictors to the model, even if those predictors are not actually improving the model's performance. Adjusted R-squared aims to solve this problem.\n"
   ]
  },
  {
   "cell_type": "markdown",
   "metadata": {},
   "source": [
    "🔑 **Key Concept:** Adjusted R-squared penalizes the addition of extraneous predictors to the model.\n"
   ]
  },
  {
   "cell_type": "markdown",
   "metadata": {},
   "source": [
    "Adjusted R-squared modifies the R-squared formula to account for the number of predictors in the model. It's calculated as:\n",
    "\n",
    "$$ \\text{Adjusted } R^2 = 1 - \\left[\\frac{(1-R^2)(n-1)}{n-k-1}\\right] $$\n",
    "\n",
    "Where:\n",
    "- $R^2$ is the standard R-squared\n",
    "- $n$ is the number of observations\n",
    "- $k$ is the number of predictor variables\n"
   ]
  },
  {
   "cell_type": "markdown",
   "metadata": {},
   "source": [
    "<img src=\"./images/adjusted-r-squared.jpg\" width=\"600\">"
   ]
  },
  {
   "cell_type": "markdown",
   "metadata": {},
   "source": [
    "Here's how Adjusted R-squared differs from R-squared:\n",
    "- Like R-squared, Adjusted R-squared ranges from 0 to 1 (it can be negative in extreme cases).\n",
    "- A higher Adjusted R-squared indicates a better fit, considering the number of predictors.\n",
    "- Adjusted R-squared will always be less than or equal to R-squared.\n"
   ]
  },
  {
   "cell_type": "markdown",
   "metadata": {},
   "source": [
    "The form (n - 1) / (n - p - 1) in the adjusted R² formula isn't arbitrary. It's derived from statistical theory and has specific reasons for its structure. Let's break it down:\n",
    "\n",
    "- **Statistical Basis:** The form (n - 1) / (n - p - 1) is related to the degrees of freedom in the model. In regression analysis, degrees of freedom are important for understanding the amount of \"free\" information available to estimate model parameters.\n",
    "\n",
    "- **Unbiased Estimation:** This particular form helps create an unbiased estimator of the population R². The goal is to correct for the positive bias in R² that occurs when estimating from a sample.\n",
    "\n",
    "- **Connection to F-distribution:** The form is related to the expected value of the F-statistic under the null hypothesis (when there's no real relationship between predictors and the dependent variable).\n",
    "\n",
    "- **Asymptotic Properties:** As the sample size n approaches infinity, (n - 1) / (n - p - 1) approaches 1, which means for very large samples, adjusted R² converges to R².\n",
    "\n",
    "Penalty Scaling:\n",
    "This form provides an appropriate scaling of the penalty. As you add more predictors (increase p), the denominator (n - p - 1) decreases, increasing the overall fraction and thus the penalty."
   ]
  },
  {
   "cell_type": "markdown",
   "metadata": {},
   "source": [
    "💡 **Pro Tip:** When comparing models with different numbers of predictors, always use Adjusted R-squared instead of standard R-squared.\n"
   ]
  },
  {
   "cell_type": "markdown",
   "metadata": {},
   "source": [
    "### <a id='toc4_1_'></a>[Implementing Adjusted R-squared in Python](#toc0_)\n"
   ]
  },
  {
   "cell_type": "markdown",
   "metadata": {},
   "source": [
    "Here's a simple implementation using NumPy:\n"
   ]
  },
  {
   "cell_type": "code",
   "execution_count": 4,
   "metadata": {},
   "outputs": [
    {
     "name": "stdout",
     "output_type": "stream",
     "text": [
      "Adjusted R-squared: 0.8933\n"
     ]
    }
   ],
   "source": [
    "import numpy as np\n",
    "\n",
    "def adjusted_r_squared(y_true, y_pred, n_predictors):\n",
    "    n = len(y_true)\n",
    "    r2 = r_squared(y_true, y_pred)  # Assuming r_squared function is defined\n",
    "    return 1 - (1 - r2) * (n - 1) / (n - n_predictors - 1)\n",
    "\n",
    "# Example usage\n",
    "y_true = np.array([3, -0.5, 2, 7, 5])\n",
    "y_pred = np.array([2.5, 0.0, 2, 8, 5.5])\n",
    "n_predictors = 2\n",
    "\n",
    "print(f\"Adjusted R-squared: {adjusted_r_squared(y_true, y_pred, n_predictors):.4f}\")"
   ]
  },
  {
   "cell_type": "markdown",
   "metadata": {},
   "source": [
    "### <a id='toc4_2_'></a>[Advantages and Limiations of Adjusted R-squared](#toc0_)\n"
   ]
  },
  {
   "cell_type": "markdown",
   "metadata": {},
   "source": [
    "Adjusted R-squared offers several advantages over standard R-squared:\n",
    "1. **Penalizes Complexity**: It adjusts for the number of predictors in the model, preventing overfitting.\n",
    "2. **Model Comparison**: It allows for a fairer comparison between models with different numbers of predictors.\n",
    "3. **Feature Selection**: It can be used as a criterion for feature selection, helping to identify the most parsimonious model.\n"
   ]
  },
  {
   "cell_type": "markdown",
   "metadata": {},
   "source": [
    "However, Adjusted R-squared has some limitations:\n",
    "1. **Still Sensitive to Outliers**: Like R-squared, Adjusted R-squared can be influenced by outliers.\n",
    "2. **Doesn't Guarantee Best Model**: A higher Adjusted R-squared doesn't always mean a better predictive model.\n",
    "3. **Assumes Linear Relationships**: It's based on the same assumptions as R-squared and linear regression.\n"
   ]
  },
  {
   "cell_type": "markdown",
   "metadata": {},
   "source": [
    "> **Important Note:** While Adjusted R-squared addresses the issue of adding irrelevant predictors, it doesn't completely solve the problem of overfitting. Always use it in conjunction with other evaluation methods.\n"
   ]
  },
  {
   "cell_type": "markdown",
   "metadata": {},
   "source": [
    "### <a id='toc4_3_'></a>[When to Use Adjusted R-squared](#toc0_)\n"
   ]
  },
  {
   "cell_type": "markdown",
   "metadata": {},
   "source": [
    "- Use Adjusted R-squared when:\n",
    "  - Comparing models with different numbers of predictors.\n",
    "  - Performing stepwise regression or feature selection.\n",
    "  - Evaluating whether adding a new predictor improves the model significantly.\n"
   ]
  },
  {
   "cell_type": "markdown",
   "metadata": {},
   "source": [
    "In practice, consider the following when using Adjusted R-squared:\n",
    "1. **Interpretation**: A decrease in Adjusted R-squared when adding a predictor suggests that the new predictor may not be improving the model.\n",
    "\n",
    "2. **Combine with Other Metrics**: Use Adjusted R-squared alongside other metrics and techniques like cross-validation for a comprehensive evaluation.\n",
    "\n",
    "3. **Domain Knowledge**: Always consider the practical significance of predictors, not just their statistical significance.\n"
   ]
  },
  {
   "cell_type": "markdown",
   "metadata": {},
   "source": [
    "| Aspect | R-squared | Adjusted R-squared |\n",
    "|--------|-----------|---------------------|\n",
    "| Accounts for Model Complexity | No | Yes |\n",
    "| Always Increases with More Predictors | Yes | No |\n",
    "| Can Decrease | No | Yes |\n",
    "| Useful for Model Comparison | Limited | Yes |\n"
   ]
  },
  {
   "cell_type": "markdown",
   "metadata": {},
   "source": [
    "Understanding and using Adjusted R-squared helps in building more parsimonious models and avoiding the pitfall of overfitting by adding unnecessary predictors. It's a crucial tool in the model selection process, especially when dealing with multiple linear regression models."
   ]
  },
  {
   "cell_type": "markdown",
   "metadata": {},
   "source": [
    "## <a id='toc5_'></a>[Residual Analysis](#toc0_)"
   ]
  },
  {
   "cell_type": "markdown",
   "metadata": {},
   "source": [
    "Residual analysis is a crucial step in evaluating the performance and assumptions of linear regression models. It involves examining the differences between the observed values and the predicted values (residuals) to gain insights into the model's fit and potential improvements. Residual analysis helps in validating model assumptions, detecting outliers, and assessing the model's predictive accuracy.\n"
   ]
  },
  {
   "cell_type": "markdown",
   "metadata": {},
   "source": [
    "### <a id='toc5_1_'></a>[What are Residuals?](#toc0_)\n"
   ]
  },
  {
   "cell_type": "markdown",
   "metadata": {},
   "source": [
    "Residuals are the differences between the observed values and the values predicted by the model.\n",
    "\n",
    "$$ \\text{Residual} = y_i - \\hat{y}_i $$\n",
    "\n",
    "Where:\n",
    "- $y_i$ is the observed value\n",
    "- $\\hat{y}_i$ is the predicted value\n"
   ]
  },
  {
   "cell_type": "markdown",
   "metadata": {},
   "source": [
    "🔑 **Key Concept:** Residuals represent the portion of the dependent variable that the model fails to explain.\n"
   ]
  },
  {
   "cell_type": "markdown",
   "metadata": {},
   "source": [
    "Residual analysis helps in:\n",
    "1. Validating model assumptions\n",
    "2. Identifying patterns the model missed\n",
    "3. Detecting outliers and influential points\n",
    "4. Assessing the appropriateness of the linear model\n"
   ]
  },
  {
   "cell_type": "markdown",
   "metadata": {},
   "source": [
    "### <a id='toc5_2_'></a>[Key Components of Residual Analysis](#toc0_)\n"
   ]
  },
  {
   "cell_type": "markdown",
   "metadata": {},
   "source": [
    "**1. Residual Plot**\n",
    "\n",
    "A scatter plot of residuals versus predicted values.\n"
   ]
  },
  {
   "cell_type": "code",
   "execution_count": 5,
   "metadata": {},
   "outputs": [
    {
     "data": {
      "image/png": "[encoded data removed]",
      "text/plain": [
       "<Figure size 640x480 with 1 Axes>"
      ]
     },
     "metadata": {},
     "output_type": "display_data"
    }
   ],
   "source": [
    "import matplotlib.pyplot as plt\n",
    "\n",
    "X = np.random.rand(100)\n",
    "y_true = 5 + 3*X + np.random.randn(100)\n",
    "y_pred = 5 + 3*X\n",
    "plt.scatter(y_pred, y_true - y_pred)\n",
    "plt.xlabel('Predicted Values')\n",
    "plt.ylabel('Residuals')\n",
    "plt.title('Residual Plot')\n",
    "plt.axhline(y=0, color='r', linestyle='--')\n",
    "plt.show()"
   ]
  },
  {
   "cell_type": "markdown",
   "metadata": {},
   "source": [
    "**What to Look For:**\n",
    "- Random scatter around the horizontal line at y=0\n",
    "- No obvious patterns or trends\n",
    "- Consistent spread across predicted values\n"
   ]
  },
  {
   "cell_type": "markdown",
   "metadata": {},
   "source": [
    "**2. Q-Q Plot (Quantile-Quantile Plot)**\n",
    "\n",
    "QQ plots, or Quantile-Quantile plots, are graphical tools used to assess whether a dataset follows a particular theoretical distribution, most commonly the normal distribution. They are especially useful in statistical analysis and data science for checking the normality assumption of many statistical methods. Here they are used to assess if residuals are normally distributed.\n"
   ]
  },
  {
   "cell_type": "code",
   "execution_count": 6,
   "metadata": {},
   "outputs": [
    {
     "name": "stdout",
     "output_type": "stream",
     "text": [
      "(100,) (100,)\n"
     ]
    },
    {
     "data": {
      "image/png": "[encoded data removed]",
      "text/plain": [
       "<Figure size 640x480 with 1 Axes>"
      ]
     },
     "metadata": {},
     "output_type": "display_data"
    }
   ],
   "source": [
    "import scipy.stats as stats\n",
    "\n",
    "fig, ax = plt.subplots()\n",
    "stats.probplot(y_true - y_pred, plot=ax, fit=True, dist='norm')\n",
    "ax.set_title(\"Q-Q plot\")\n",
    "plt.show()"
   ]
  },
  {
   "cell_type": "markdown",
   "metadata": {},
   "source": [
    "**What to Look For:**\n",
    "- Points should roughly follow a straight line\n",
    "- Significant deviations suggest non-normality\n"
   ]
  },
  {
   "cell_type": "markdown",
   "metadata": {},
   "source": [
    "**3. Scale-Location Plot**\n",
    "A Scale-Location plot, also known as a Spread-Location plot or Residuals vs. Fitted Values plot, is a diagnostic tool used primarily in regression analysis to check for homoscedasticity (constant variance) of residuals. It helps identify if the variance of residuals changes with the fitted values, which is an important assumption in many regression models. It shows if residuals are spread equally along the ranges of predictors.\n"
   ]
  },
  {
   "cell_type": "code",
   "execution_count": 7,
   "metadata": {},
   "outputs": [
    {
     "data": {
      "image/png": "[encoded data removed]",
      "text/plain": [
       "<Figure size 640x480 with 1 Axes>"
      ]
     },
     "metadata": {},
     "output_type": "display_data"
    }
   ],
   "source": [
    "plt.scatter(y_pred, np.sqrt(np.abs(y_true - y_pred)))\n",
    "plt.xlabel('Predicted Values')\n",
    "plt.ylabel('√|Standardized Residuals|')\n",
    "plt.title('Scale-Location Plot')\n",
    "plt.show()"
   ]
  },
  {
   "cell_type": "markdown",
   "metadata": {},
   "source": [
    "> **Note:** **Studentizing** involves dividing a statistical estimate by its estimated standard error. This process creates a scale-free measure that follows a t-distribution under certain conditions."
   ]
  },
  {
   "cell_type": "markdown",
   "metadata": {},
   "source": [
    "**What to Look For:**\n",
    "- A horizontal line with randomly spread points\n"
   ]
  },
  {
   "cell_type": "markdown",
   "metadata": {},
   "source": [
    "**Patterns to look for which may indicate issues with the model:**\n",
    "\n",
    "- Funnel shape: Indicates heteroscedasticity (non-constant variance)\n",
    "- Curved patterns: May suggest non-linearity in the relationship\n",
    "- Clustering: Could indicate issues with the model specification"
   ]
  },
  {
   "cell_type": "markdown",
   "metadata": {},
   "source": [
    "**4. Leverage Plot**\n",
    "\n",
    "The Leverage Plot helps identify data points that have a disproportionate influence on the regression model or are potential outliers.\n",
    "Leverage Plot can identify influential cases that have a large effect on the regression line.\n",
    "\n",
    "- **Leverage (X-axis)**:\n",
    "    - Measures how far an observation is from the mean of the predictor variable(s)\n",
    "    - High leverage points are far from the center of the X space\n",
    "    - Points with leverage > 2p/n (where p is the number of predictors including intercept, and n is the sample size) are often considered high leverage\n",
    "- **Studentized Residuals (Y-axis)**\n",
    "    - Measures how many standard deviations an observed value deviates from its predicted value\n",
    "    - Points with absolute studentized residuals > 3 are often considered outliers\n",
    "\n",
    "- **Cook's Distance (Size of points)**\n",
    "    - Measures the overall influence of an observation\n",
    "    - Larger points have higher Cook's distance and are more influential"
   ]
  },
  {
   "cell_type": "code",
   "execution_count": 8,
   "metadata": {},
   "outputs": [
    {
     "data": {
      "image/png": "[encoded data removed]",
      "text/plain": [
       "<Figure size 800x600 with 1 Axes>"
      ]
     },
     "metadata": {},
     "output_type": "display_data"
    }
   ],
   "source": [
    "import numpy as np\n",
    "import statsmodels.api as sm\n",
    "import matplotlib.pyplot as plt\n",
    "\n",
    "# Adding a constant to the model (intercept)\n",
    "X = sm.add_constant(X)\n",
    "\n",
    "# Fitting the linear regression model\n",
    "model = sm.OLS(y_true, X).fit()\n",
    "\n",
    "# Creating the leverage plot\n",
    "fig, ax = plt.subplots(figsize=(8, 6))\n",
    "sm.graphics.influence_plot(model, ax=ax, criterion=\"cooks\")\n",
    "\n",
    "plt.title('Leverage Plot showing influence of data points')\n",
    "plt.show()"
   ]
  },
  {
   "cell_type": "markdown",
   "metadata": {},
   "source": [
    "**What to Look For:**\n",
    "- Points in the upper right or lower right corners: High leverage and high residual, potentially influential outliers\n",
    "- Large points: High Cook's distance, indicating high influence on the model\n",
    "- Points far from the center horizontally: High leverage\n",
    "- Points far from the center vertically: Large residuals (potential outliers)\n"
   ]
  },
  {
   "cell_type": "markdown",
   "metadata": {},
   "source": [
    "> Always use multiple plots in your residual analysis. Each plot reveals different aspects of the model's performance and assumptions.\n"
   ]
  },
  {
   "cell_type": "markdown",
   "metadata": {},
   "source": [
    "### <a id='toc5_3_'></a>[Interpreting Residual Plots](#toc0_)\n"
   ]
  },
  {
   "cell_type": "markdown",
   "metadata": {},
   "source": [
    "When analyzing residual plots, consider the following aspects:\n",
    "1. **Linearity**: If the relationship is linear, residuals should be randomly scattered around the horizontal line at 0.\n",
    "2. **Homoscedasticity**: The spread of residuals should be consistent across predicted values.\n",
    "3. **Independence**: There should be no clear pattern in the residual plot.\n",
    "4. **Normality**: Residuals should be approximately normally distributed.\n"
   ]
  },
  {
   "cell_type": "markdown",
   "metadata": {},
   "source": [
    "And watch out for these patterns:\n",
    "- **Funnel Shape**: Indicates heteroscedasticity (non-constant variance)\n",
    "- **U-Shape**: Suggests a non-linear relationship\n",
    "- **Sloping Pattern**: Indicates a missing predictor or non-linear term\n"
   ]
  },
  {
   "cell_type": "markdown",
   "metadata": {},
   "source": [
    "> **Important Note:** Violations of assumptions don't necessarily invalidate your model, but they do suggest areas for improvement or the need for different modeling approaches.\n"
   ]
  },
  {
   "cell_type": "markdown",
   "metadata": {},
   "source": [
    "In practice, use residual analysis to guide your model development:\n",
    "1. **Outliers**: Look for residuals that are much larger than others. These may be outliers or influential points.\n",
    "2. **Transformation**: If assumptions are violated, consider transforming variables (e.g., log transformation).\n",
    "3. **Model Refinement**: Use insights from residual analysis to refine your model, perhaps by adding interaction terms or polynomial features.\n",
    "4. **Cross-Validation**: Remember that residual analysis on training data alone can be misleading. Always validate your findings with cross-validation.\n"
   ]
  },
  {
   "cell_type": "markdown",
   "metadata": {},
   "source": [
    "🤔 **Why This Matters:** Residual analysis is not just about checking boxes; it's about deeply understanding your model's behavior. It can reveal subtle issues that summary statistics might miss and guide you towards more accurate and reliable models.\n"
   ]
  },
  {
   "cell_type": "markdown",
   "metadata": {},
   "source": [
    "By mastering residual analysis, you gain a powerful tool for diagnosing model issues, improving model performance, and ensuring the validity of your regression results."
   ]
  },
  {
   "cell_type": "markdown",
   "metadata": {},
   "source": [
    "## <a id='toc6_'></a>[Comparing and Choosing Evaluation Metrics](#toc0_)"
   ]
  },
  {
   "cell_type": "markdown",
   "metadata": {},
   "source": [
    "Selecting the right evaluation metrics is crucial for accurately assessing and comparing regression models. Different metrics provide different insights, and the choice depends on your specific problem, data characteristics, and stakeholder requirements. By understanding the strengths and limitations of each metric, you can make informed decisions about model selection, refinement, and deployment.\n"
   ]
  },
  {
   "cell_type": "markdown",
   "metadata": {},
   "source": [
    "Let's recap the main metrics we've discussed:\n",
    "\n",
    "1. Mean Squared Error (MSE) and Root Mean Squared Error (RMSE)\n",
    "2. Mean Absolute Error (MAE)\n",
    "3. R-squared (R²)\n",
    "4. Adjusted R-squared\n",
    "5. Residual Analysis\n"
   ]
  },
  {
   "cell_type": "markdown",
   "metadata": {},
   "source": [
    "🔑 **Key Concept:** No single metric tells the whole story. A combination of metrics often provides the most comprehensive evaluation.\n"
   ]
  },
  {
   "cell_type": "markdown",
   "metadata": {},
   "source": [
    "### <a id='toc6_1_'></a>[Comparison of Metrics](#toc0_)\n"
   ]
  },
  {
   "cell_type": "markdown",
   "metadata": {},
   "source": [
    "| Metric | Pros | Cons | Best Used When |\n",
    "|--------|------|------|----------------|\n",
    "| MSE/RMSE | - Penalizes large errors<br>- Widely used and understood | - Sensitive to outliers<br>- Scale-dependent | - Outliers are important<br>- Errors are normally distributed |\n",
    "| MAE | - Robust to outliers<br>- Easily interpretable | - Doesn't penalize large errors as heavily | - Outliers should be treated equally<br>- Working with non-normal error distributions |\n",
    "| R-squared | - Scale-independent<br>- Easy to interpret | - Can be misleading for non-linear relationships<br>- Sensitive to outliers | - Comparing models on the same dataset<br>- Communicating with non-technical stakeholders |\n",
    "| Adjusted R-squared | - Accounts for model complexity<br>- Useful for feature selection | - Still sensitive to outliers<br>- Can be negative | - Comparing models with different numbers of predictors |\n",
    "| Residual Analysis | - Provides visual insights<br>- Checks model assumptions | - Requires interpretation<br>- Can be subjective | - Diagnosing model issues<br>- Validating model assumptions |\n"
   ]
  },
  {
   "cell_type": "markdown",
   "metadata": {},
   "source": [
    "### <a id='toc6_2_'></a>[Factors to Consider When Choosing Metrics](#toc0_)\n"
   ]
  },
  {
   "cell_type": "markdown",
   "metadata": {},
   "source": [
    "1. **Nature of the Problem**\n",
    "   - Are large errors more critical than small ones?\n",
    "   - Is the goal prediction or explanation?\n",
    "\n",
    "2. **Data Characteristics**\n",
    "   - Presence of outliers\n",
    "   - Scale of the target variable\n",
    "   - Distribution of errors\n",
    "\n",
    "3. **Model Complexity**\n",
    "   - Number of predictors\n",
    "   - Linear vs. non-linear relationships\n",
    "\n",
    "4. **Stakeholder Requirements**\n",
    "   - Need for interpretability\n",
    "   - Specific business or domain constraints\n",
    "\n",
    "5. **Comparison Context**\n",
    "   - Are you comparing models with different scales or units?\n",
    "   - Are you performing feature selection?\n"
   ]
  },
  {
   "cell_type": "markdown",
   "metadata": {},
   "source": [
    "💡 **Pro Tip:** Always use a combination of metrics that cover different aspects of model performance. This provides a more robust evaluation.\n"
   ]
  },
  {
   "cell_type": "markdown",
   "metadata": {},
   "source": [
    "### <a id='toc6_3_'></a>[Guidelines for Choosing Metrics](#toc0_)\n"
   ]
  },
  {
   "cell_type": "markdown",
   "metadata": {},
   "source": [
    "1. **For General Performance Assessment:**\n",
    "   - Use RMSE if you want to penalize large errors more heavily.\n",
    "   - Use MAE if you want to treat all errors equally.\n",
    "\n",
    "2. **For Model Comparison:**\n",
    "   - Use R-squared or Adjusted R-squared for models with the same target variable.\n",
    "   - Use scale-independent metrics like MAPE (Mean Absolute Percentage Error) when comparing across different scales.\n",
    "\n",
    "3. **For Feature Selection:**\n",
    "   - Adjusted R-squared is particularly useful.\n",
    "   - Consider AIC (Akaike Information Criterion) or BIC (Bayesian Information Criterion) for more rigorous selection.\n",
    "\n",
    "4. **For Assumption Checking:**\n",
    "   - Always include residual analysis.\n",
    "\n",
    "5. **For Communicating Results:**\n",
    "   - R-squared is often easiest for non-technical audiences to understand.\n",
    "   - RMSE or MAE can be useful when the units are meaningful in the business context.\n"
   ]
  },
  {
   "cell_type": "markdown",
   "metadata": {},
   "source": [
    "In practice, be prepared to iterate on your choice of metrics as you gain more insights into your data and model. Always consider the specific requirements of your problem and the context in which your model will be used. \n",
    "1. **Start Broad:** Begin with a combination of error-based (RMSE/MAE), goodness-of-fit (R-squared), and visual (residual plots) metrics.\n",
    "\n",
    "2. **Refine Based on Data:** If you discover outliers or non-normal distributions, adjust your choice of metrics accordingly.\n",
    "\n",
    "3. **Consider Domain Knowledge:** Incorporate metrics that are standard or particularly meaningful in your field.\n",
    "\n",
    "4. **Validate with Cross-Validation:** Use techniques like k-fold cross-validation to ensure your metrics are robust across different subsets of your data.\n",
    "\n",
    "5. **Iterate:** As you gain more insights into your data and model, be prepared to revisit and adjust your choice of metrics.\n"
   ]
  },
  {
   "cell_type": "markdown",
   "metadata": {},
   "source": [
    "> **Important Note:** Be cautious of optimizing for a single metric, as this can lead to overfitting or missing important aspects of model performance.\n"
   ]
  },
  {
   "cell_type": "markdown",
   "metadata": {},
   "source": [
    "### <a id='toc6_4_'></a>[Example Scenario](#toc0_)\n"
   ]
  },
  {
   "cell_type": "markdown",
   "metadata": {},
   "source": [
    "Imagine you're predicting house prices:\n",
    "\n",
    "- Use RMSE to capture the impact of large prediction errors, as these could be costly in real estate.\n",
    "- Include MAE for a more robust average error that's less affected by occasional large mispredictions.\n",
    "- Report R-squared to give stakeholders an idea of how much variance your model explains.\n",
    "- Perform residual analysis to check for any systematic biases in predictions across different price ranges.\n"
   ]
  },
  {
   "cell_type": "markdown",
   "metadata": {},
   "source": [
    "🤔 **Why This Matters:** Choosing the right combination of evaluation metrics ensures that you're getting a comprehensive and accurate picture of your model's performance. It helps you make informed decisions about model selection, refinement, and deployment, ultimately leading to more reliable and useful regression models."
   ]
  },
  {
   "cell_type": "markdown",
   "metadata": {},
   "source": [
    "## <a id='toc7_'></a>[Summary and Best Practices](#toc0_)"
   ]
  },
  {
   "cell_type": "markdown",
   "metadata": {},
   "source": [
    "As we conclude our exploration of evaluation metrics for linear regression models, let's recap the key points and outline some best practices to ensure effective model evaluation:\n"
   ]
  },
  {
   "cell_type": "markdown",
   "metadata": {},
   "source": [
    "1. **Multiple Metrics Matter**: No single metric provides a complete picture of model performance. Use a combination of error-based metrics (MSE, RMSE, MAE), goodness-of-fit measures (R-squared, Adjusted R-squared), and visual tools (residual analysis).\n",
    "\n",
    "2. **Context is Crucial**: The choice of metrics should be guided by the specific problem, data characteristics, and stakeholder needs.\n",
    "\n",
    "3. **Assumptions Check**: Residual analysis is vital for validating the assumptions of linear regression and identifying potential issues.\n",
    "\n",
    "4. **Model Complexity**: Adjusted R-squared helps in comparing models with different numbers of predictors, addressing the issue of overfitting.\n",
    "\n",
    "5. **Interpretability**: Consider the ease of interpretation when choosing metrics, especially when communicating with non-technical stakeholders.\n"
   ]
  },
  {
   "cell_type": "markdown",
   "metadata": {},
   "source": [
    "To ensure a robust evaluation process, follow these best practices:\n",
    "1. **Start with a Diverse Set of Metrics**\n",
    "   - Include at least one error-based metric (e.g., RMSE or MAE)\n",
    "   - Use R-squared or Adjusted R-squared for goodness-of-fit\n",
    "   - Always perform residual analysis\n",
    "\n",
    "2. **Validate Assumptions**\n",
    "   - Use residual plots to check linearity, homoscedasticity, and normality assumptions\n",
    "   - Address violations through data transformations or alternative modeling approaches\n",
    "\n",
    "3. **Cross-Validate**\n",
    "   - Use techniques like k-fold cross-validation to ensure your metrics are robust\n",
    "   - Be wary of overfitting, especially with complex models\n",
    "\n",
    "4. **Consider the Scale**\n",
    "   - Use scale-independent metrics (e.g., R-squared) when comparing models across different datasets\n",
    "   - Be cautious when interpreting scale-dependent metrics (e.g., RMSE) across different scales\n",
    "\n",
    "5. **Balance Complexity and Performance**\n",
    "   - Use Adjusted R-squared or information criteria (AIC, BIC) for feature selection\n",
    "   - Be wary of overly complex models that may not generalize well\n",
    "\n",
    "6. **Contextualize Your Results**\n",
    "   - Compare your model's performance to relevant benchmarks or baseline models\n",
    "   - Consider the practical significance of improvements in metrics\n",
    "\n",
    "7. **Communicate Effectively**\n",
    "   - Choose metrics that resonate with your audience\n",
    "   - Provide clear interpretations and visualizations of your results\n",
    "\n",
    "8. **Iterate and Refine**\n",
    "   - Use insights from your evaluation to guide model improvements\n",
    "   - Be prepared to revisit your choice of metrics as you learn more about your data and problem\n"
   ]
  },
  {
   "cell_type": "markdown",
   "metadata": {},
   "source": [
    "Always Document your evaluation process, including the rationale for chosen metrics. This aids in reproducibility and helps stakeholders understand your approach.\n"
   ]
  },
  {
   "cell_type": "markdown",
   "metadata": {},
   "source": [
    "Effective evaluation of linear regression models is as much an art as it is a science. While the metrics and techniques we've discussed provide a solid framework, always be prepared to adapt your approach based on the specific nuances of your problem and data.\n"
   ]
  },
  {
   "cell_type": "markdown",
   "metadata": {},
   "source": [
    "> **Important Note**: The goal of model evaluation is not just to get good numbers, but to gain insights that lead to better models and more informed decisions. Remember that model evaluation is an ongoing process. As new data becomes available or as the problem evolves, be prepared to reassess your model's performance and adjust your evaluation strategy accordingly.\n"
   ]
  },
  {
   "cell_type": "markdown",
   "metadata": {},
   "source": [
    "By following these best practices and maintaining a thoughtful, comprehensive approach to model evaluation, you'll be well-equipped to develop robust, reliable linear regression models that provide genuine value in real-world applications."
   ]
  }
 ],
 "metadata": {
  "kernelspec": {
   "display_name": "py310",
   "language": "python",
   "name": "python3"
  },
  "language_info": {
   "codemirror_mode": {
    "name": "ipython",
    "version": 3
   },
   "file_extension": ".py",
   "mimetype": "text/x-python",
   "name": "python",
   "nbconvert_exporter": "python",
   "pygments_lexer": "ipython3",
   "version": "3.10.12"
  }
 },
 "nbformat": 4,
 "nbformat_minor": 2
}
