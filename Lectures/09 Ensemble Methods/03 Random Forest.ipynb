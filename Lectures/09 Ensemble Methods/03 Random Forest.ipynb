{
 "cells": [
  {
   "cell_type": "markdown",
   "metadata": {},
   "source": [
    "<img src=\"./images/banner.png\" width=\"800\">"
   ]
  },
  {
   "cell_type": "markdown",
   "metadata": {},
   "source": [
    "# Random Forests: A Powerful Ensemble Method"
   ]
  },
  {
   "cell_type": "markdown",
   "metadata": {},
   "source": [
    "Decision trees, while intuitive and interpretable, often suffer from high variance and a tendency to overfit. Random Forests address these limitations by introducing powerful ensemble techniques that maintain the interpretability of decision trees while significantly improving predictive performance. Let's explore this evolution and understand what makes Random Forests special.\n"
   ]
  },
  {
   "cell_type": "markdown",
   "metadata": {},
   "source": [
    "Decision trees have several well-known limitations that can impact their performance in real-world applications:\n",
    "\n",
    "1. **High Variance**\n",
    "   - Individual trees are sensitive to small changes in the training data\n",
    "   - Different splits of the data can produce very different trees\n",
    "   - This instability can lead to poor generalization\n",
    "\n",
    "2. **Overfitting**\n",
    "   - Decision trees can easily overfit the training data\n",
    "   - Trees trained on small datasets or with high complexity can produce highly specific models that don't generalize well\n"
   ]
  },
  {
   "cell_type": "markdown",
   "metadata": {},
   "source": [
    "Random Forests, introduced by Leo Breiman in 2001, combine multiple decision trees in a way that reduces overfitting while maintaining the strong predictive capabilities of tree-based methods.\n"
   ]
  },
  {
   "cell_type": "markdown",
   "metadata": {},
   "source": [
    "<img src=\"./images/random-forest.webp\" width=\"600\">"
   ]
  },
  {
   "cell_type": "markdown",
   "metadata": {},
   "source": [
    "<img src=\"./images/decision-tree-vs-random-forest.png\" width=\"600\">"
   ]
  },
  {
   "cell_type": "markdown",
   "metadata": {},
   "source": [
    "💡 **Key Insight:** Random Forests leverage two key ideas:\n",
    "1. Building multiple decorrelated trees using bootstrap samples\n",
    "2. Random feature selection at each split\n"
   ]
  },
  {
   "cell_type": "markdown",
   "metadata": {},
   "source": [
    "The fundamental principle can be expressed mathematically as:\n",
    "\n",
    "$f_{rf}(x) = \\frac{1}{B}\\sum_{b=1}^{B} f_b(x)$\n"
   ]
  },
  {
   "cell_type": "markdown",
   "metadata": {},
   "source": [
    "Where:\n",
    "- $f_{rf}(x)$ is the Random Forest prediction\n",
    "- $B$ is the number of trees\n",
    "- $f_b(x)$ is the prediction of the b-th tree\n"
   ]
  },
  {
   "cell_type": "markdown",
   "metadata": {},
   "source": [
    "Random Forests introduce several innovative features that distinguish them from simple bagged decision trees:\n",
    "\n",
    "1. **Random Feature Selection**\n",
    "   - At each split, only a random subset of features is considered\n",
    "   - For classification: typically $\\sqrt{p}$ features are selected\n",
    "   - For regression: typically $p/3$ features are selected\n",
    "   where $p$ is the total number of features\n",
    "\n",
    "2. **Tree Growth Strategy**\n",
    "   - Trees are grown to maximum depth with no pruning\n",
    "   - Each tree sees a different bootstrap sample\n",
    "\n",
    "3. **Ensemble Properties**\n",
    "   - Trees are grown independently, so it's a bagging method\n",
    "   - Predictions are combined through voting (classification) or averaging (regression)"
   ]
  },
  {
   "cell_type": "markdown",
   "metadata": {},
   "source": [
    "<img src=\"./images/bagging.png\" width=\"800\">"
   ]
  },
  {
   "cell_type": "markdown",
   "metadata": {},
   "source": [
    "❗️ **Important Note:** The randomness in feature selection is what distinguishes Random Forests from simple bagging of decision trees. This additional source of randomness helps to decorrelate the trees, leading to better generalization.\n"
   ]
  },
  {
   "cell_type": "markdown",
   "metadata": {},
   "source": [
    "The success of Random Forests can be attributed to several theoretical properties:\n",
    "\n",
    "1. **Variance Reduction**\n",
    "   - Multiple decorrelated trees reduce overall variance\n",
    "   - The random feature selection ensures diversity among trees\n",
    "\n",
    "2. **Bias-Variance Trade-off**\n",
    "   - Deep individual trees maintain low bias\n",
    "   - Averaging across trees reduces variance\n",
    "   - The result is a better bias-variance trade-off than single trees\n",
    "\n",
    "3. **Built-in Protection Against Overfitting**\n",
    "   - Random feature selection acts as a form of regularization\n",
    "   - Bootstrap sampling provides robustness to noise\n"
   ]
  },
  {
   "cell_type": "markdown",
   "metadata": {},
   "source": [
    "**💡 Pro Tip:** The mathematical expectation of the variance reduction can be expressed as:\n",
    "\n",
    "$$Var(average) = \\rho \\sigma^2 + \\frac{1-\\rho}{B}\\sigma^2$$\n",
    "\n",
    "Where:\n",
    "- $\\rho$ is the correlation between trees\n",
    "- $\\sigma^2$ is the variance of individual trees\n",
    "- $B$ is the number of trees\n"
   ]
  },
  {
   "cell_type": "markdown",
   "metadata": {},
   "source": [
    "This formula shows why reducing correlation between trees (through random feature selection) is crucial for the algorithm's success."
   ]
  },
  {
   "cell_type": "markdown",
   "metadata": {},
   "source": [
    "**Table of contents**<a id='toc0_'></a>    \n",
    "- [Core Components of Random Forests](#toc1_)    \n",
    "  - [Random Feature Selection](#toc1_1_)    \n",
    "  - [Tree Diversity Mechanisms](#toc1_2_)    \n",
    "  - [Voting/Averaging Strategies](#toc1_3_)    \n",
    "  - [Out-of-Bag (OOB) Estimation](#toc1_4_)    \n",
    "- [Feature Importance and Selection](#toc2_)    \n",
    "  - [Understanding Feature Importance](#toc2_1_)    \n",
    "  - [Using Feature Importance in Practice](#toc2_2_)    \n",
    "  - [Visualizing Feature Importance](#toc2_3_)    \n",
    "- [Hyperparameter Tuning](#toc3_)    \n",
    "  - [Key Hyperparameters](#toc3_1_)    \n",
    "  - [Practical Tuning Approach](#toc3_2_)    \n",
    "  - [Monitoring and Validation](#toc3_3_)    \n",
    "  - [Practical Guidelines](#toc3_4_)    \n",
    "- [Implementation and Best Practices](#toc4_)    \n",
    "  - [Loading and Preparing Data](#toc4_1_)    \n",
    "  - [Basic Implementation](#toc4_2_)    \n",
    "  - [Improved Implementation with Best Practices](#toc4_3_)    \n",
    "  - [Feature Importance Analysis](#toc4_4_)    \n",
    "  - [Performance Monitoring](#toc4_5_)    \n",
    "  - [Best Practices Summary](#toc4_6_)    \n",
    "- [Summary](#toc5_)    \n",
    "\n",
    "<!-- vscode-jupyter-toc-config\n",
    "\tnumbering=false\n",
    "\tanchor=true\n",
    "\tflat=false\n",
    "\tminLevel=2\n",
    "\tmaxLevel=6\n",
    "\t/vscode-jupyter-toc-config -->\n",
    "<!-- THIS CELL WILL BE REPLACED ON TOC UPDATE. DO NOT WRITE YOUR TEXT IN THIS CELL -->"
   ]
  },
  {
   "cell_type": "markdown",
   "metadata": {},
   "source": [
    "## <a id='toc1_'></a>[Core Components of Random Forests](#toc0_)"
   ]
  },
  {
   "cell_type": "markdown",
   "metadata": {},
   "source": [
    "Random Forests achieve their remarkable performance through several fundamental components working together. Understanding these components is crucial for effectively implementing and tuning Random Forest models. Let's dive deep into each core mechanism that makes Random Forests work.\n"
   ]
  },
  {
   "cell_type": "markdown",
   "metadata": {},
   "source": [
    "### <a id='toc1_1_'></a>[Random Feature Selection](#toc0_)\n"
   ]
  },
  {
   "cell_type": "markdown",
   "metadata": {},
   "source": [
    "The hallmark of Random Forests is its unique approach to feature selection at each split. This mechanism ensures tree diversity and reduces the correlation between trees.\n"
   ]
  },
  {
   "cell_type": "markdown",
   "metadata": {},
   "source": [
    "1. **Feature Sampling Process**\n",
    "```python\n",
    "def select_random_features(features, n_features_to_consider):\n",
    "    \"\"\"\n",
    "    Randomly select features for splitting\n",
    "    \"\"\"\n",
    "    total_features = len(features)\n",
    "    n = min(n_features_to_consider, total_features)\n",
    "    return np.random.choice(features, size=n, replace=False)\n",
    "```\n"
   ]
  },
  {
   "cell_type": "markdown",
   "metadata": {},
   "source": [
    "The number of features to consider ($m_{try}$) typically follows these guidelines:\n",
    "- For classification: $m_{try} = \\sqrt{p}$\n",
    "- For regression: $m_{try} = p/3$\n",
    "where $p$ is the total number of features\n"
   ]
  },
  {
   "cell_type": "markdown",
   "metadata": {},
   "source": [
    "<img src=\"./images/random-forest-features.png\" width=\"800\">"
   ]
  },
  {
   "cell_type": "markdown",
   "metadata": {},
   "source": [
    "💡 **Tip:** These are default values, but optimal $m_{try}$ can be found through cross-validation for your specific problem.\n"
   ]
  },
  {
   "cell_type": "markdown",
   "metadata": {},
   "source": [
    "### <a id='toc1_2_'></a>[Tree Diversity Mechanisms](#toc0_)\n"
   ]
  },
  {
   "cell_type": "markdown",
   "metadata": {},
   "source": [
    "Random Forests employ multiple strategies to ensure each tree in the forest is unique and contributes meaningful information to the ensemble.\n",
    "\n",
    "1. **Bootstrap Sampling**\n",
    "   - Each tree is trained on a bootstrap sample of size $n$ (same as original dataset)\n",
    "   - Probability of a sample being selected: $P(selected) = 1 - (1 - \\frac{1}{n})^n \\approx 0.632$\n",
    "\n",
    "2. **Tree Growing Process**\n",
    "   - Each tree is grown to maximum depth with no pruning. Pruning is the process of reducing the size of decision trees by removing sections of the tree that provide little predictive power. Think of it like trimming a bush to prevent it from growing wild.\n",
    "\n",
    "```\n",
    "Before Pruning:                After Pruning:\n",
    "       A                            A\n",
    "     /   \\                       /   \\\n",
    "    B     C                     B     C\n",
    "   / \\   / \\                   /     / \\\n",
    "  D   E F   G                 D     F   G\n",
    " / \\\n",
    "H   I\n",
    "```\n",
    "```python\n",
    "class RandomForestTree:\n",
    "    def fit(self, X, y):\n",
    "        # Bootstrap sampling\n",
    "        bootstrap_indices = np.random.choice(len(X), size=len(X), replace=True)\n",
    "        X_bootstrap = X[bootstrap_indices]\n",
    "        y_bootstrap = y[bootstrap_indices]\n",
    "\n",
    "        # Track out-of-bag samples\n",
    "        self.oob_indices = np.setdiff1d(np.arange(len(X)), bootstrap_indices)\n",
    "\n",
    "        # Grow tree with random feature selection at each split\n",
    "        self.tree = self._grow_tree(X_bootstrap, y_bootstrap)\n",
    "```\n"
   ]
  },
  {
   "cell_type": "markdown",
   "metadata": {},
   "source": [
    "### <a id='toc1_3_'></a>[Voting/Averaging Strategies](#toc0_)\n"
   ]
  },
  {
   "cell_type": "markdown",
   "metadata": {},
   "source": [
    "The way Random Forests combine predictions from individual trees is crucial for their performance:\n",
    "\n",
    "1. **Classification Tasks**\n",
    "   - Each tree votes for a class\n",
    "   - Final prediction is the majority vote\n",
    "\n",
    "   $\\hat{y} = \\text{mode}\\{f_b(x) : b = 1,\\ldots,B\\}$\n",
    "\n",
    "2. **Regression Tasks**\n",
    "   - Each tree provides a numerical prediction\n",
    "   - Final prediction is the average\n",
    "\n",
    "   $\\hat{y} = \\frac{1}{B}\\sum_{b=1}^{B}f_b(x)$\n"
   ]
  },
  {
   "cell_type": "markdown",
   "metadata": {},
   "source": [
    "### <a id='toc1_4_'></a>[Out-of-Bag (OOB) Estimation](#toc0_)\n"
   ]
  },
  {
   "cell_type": "markdown",
   "metadata": {},
   "source": [
    "OOB estimation is a unique feature of Random Forests that provides an unbiased estimate of the generalization error without requiring a separate validation set.\n",
    "\n",
    "1. **OOB Error Calculation**\n",
    "```python\n",
    "def calculate_oob_error(forest, X, y):\n",
    "    predictions = np.zeros((X.shape[0], forest.n_classes_))\n",
    "    n_predictions = np.zeros(X.shape[0])\n",
    "\n",
    "    for tree in forest.trees:\n",
    "        # Get OOB samples for this tree\n",
    "        oob_indices = tree.oob_indices\n",
    "\n",
    "        # Predict for OOB samples\n",
    "        pred = tree.predict_proba(X[oob_indices])\n",
    "        predictions[oob_indices] += pred\n",
    "        n_predictions[oob_indices] += 1\n",
    "\n",
    "    # Average predictions\n",
    "    with np.errstate(divide='ignore', invalid='ignore'):\n",
    "        predictions /= n_predictions[:, np.newaxis]\n",
    "\n",
    "    return predictions\n",
    "```\n"
   ]
  },
  {
   "cell_type": "markdown",
   "metadata": {},
   "source": [
    "❗️ **Important Note:** OOB error estimation is particularly valuable because:\n",
    "- It's computed during training at no additional computational cost\n",
    "- It provides an unbiased estimate of the test error\n",
    "- It can be used for feature importance estimation\n"
   ]
  },
  {
   "cell_type": "markdown",
   "metadata": {},
   "source": [
    "The mathematical formulation for OOB error is:\n",
    "\n",
    "$E_{OOB} = \\frac{1}{n}\\sum_{i=1}^n L(y_i, \\hat{f}_{OOB}(x_i))$\n",
    "\n",
    "Where:\n",
    "- $L$ is the loss function\n",
    "- $\\hat{f}_{OOB}(x_i)$ is the prediction for observation $i$ using only trees where $i$ was OOB\n"
   ]
  },
  {
   "cell_type": "markdown",
   "metadata": {},
   "source": [
    "This built-in cross-validation mechanism is one of the most powerful features of Random Forests, as it provides reliable error estimates without the need for a separate validation set or cross-validation procedure.\n"
   ]
  },
  {
   "cell_type": "markdown",
   "metadata": {},
   "source": [
    "The combination of these components creates a robust and effective ensemble learning method that:\n",
    "- Reduces overfitting through averaging and random feature selection\n",
    "- Provides reliable error estimates through OOB\n",
    "- Maintains high prediction accuracy while being relatively simple to tune"
   ]
  },
  {
   "cell_type": "markdown",
   "metadata": {},
   "source": [
    "## <a id='toc2_'></a>[Feature Importance and Selection](#toc0_)"
   ]
  },
  {
   "cell_type": "markdown",
   "metadata": {},
   "source": [
    "Feature importance is one of the most valuable aspects of Random Forests, helping us understand which variables are most influential in making predictions. Let's explore how Random Forests help us identify and interpret important features.\n"
   ]
  },
  {
   "cell_type": "markdown",
   "metadata": {},
   "source": [
    "### <a id='toc2_1_'></a>[Understanding Feature Importance](#toc0_)\n"
   ]
  },
  {
   "cell_type": "markdown",
   "metadata": {},
   "source": [
    "Random Forests provide two main ways to measure feature importance:\n",
    "\n",
    "1. **Gini Importance (Mean Decrease in Impurity)**\n",
    "   - Measures how much each feature contributes to reducing impurity across all trees\n",
    "   - Calculated automatically during training\n",
    "   - Built into most Random Forest implementations\n",
    "\n",
    "2. **Permutation Importance**\n",
    "   - Measures how much model performance decreases when a feature is randomly shuffled\n",
    "   - More intuitive and reliable, especially when features are correlated\n",
    "   - Computationally more expensive\n"
   ]
  },
  {
   "cell_type": "code",
   "execution_count": 4,
   "metadata": {},
   "outputs": [
    {
     "data": {
      "image/png": "[encoded data removed]",
      "text/plain": [
       "<Figure size 640x480 with 1 Axes>"
      ]
     },
     "metadata": {},
     "output_type": "display_data"
    }
   ],
   "source": [
    "from sklearn.ensemble import RandomForestClassifier\n",
    "from sklearn.datasets import make_classification\n",
    "import matplotlib.pyplot as plt\n",
    "# Create sample dataset\n",
    "X, y = make_classification(n_samples=1000, n_features=10, random_state=42)\n",
    "\n",
    "# Train Random Forest\n",
    "rf = RandomForestClassifier(n_estimators=100, random_state=42)\n",
    "rf.fit(X, y)\n",
    "\n",
    "# Get feature importance\n",
    "importance = rf.feature_importances_\n",
    "\n",
    "plt.bar(range(len(importance)), importance)\n",
    "plt.xlabel('Feature Index')\n",
    "plt.ylabel('Importance')\n",
    "plt.title('Feature Importance in Random Forest')\n",
    "plt.show()"
   ]
  },
  {
   "cell_type": "markdown",
   "metadata": {},
   "source": [
    "💡 **Tip:** Feature importance values always sum to 1.0, making them easy to interpret as relative importance percentages.\n"
   ]
  },
  {
   "cell_type": "markdown",
   "metadata": {},
   "source": [
    "### <a id='toc2_2_'></a>[Using Feature Importance in Practice](#toc0_)\n"
   ]
  },
  {
   "cell_type": "markdown",
   "metadata": {},
   "source": [
    "Feature importance helps in several practical ways:\n",
    "\n",
    "1. **Feature Selection**\n",
    "   - Identify and remove irrelevant features\n",
    "   - Reduce model complexity\n",
    "   - Improve model performance\n"
   ]
  },
  {
   "cell_type": "markdown",
   "metadata": {},
   "source": [
    "```python\n",
    "# Select top K most important features\n",
    "def select_top_features(X, importance, k=5):\n",
    "    # Get indices of top K features\n",
    "    top_features = importance.argsort()[-k:][::-1]\n",
    "\n",
    "    # Return selected features\n",
    "    return X[:, top_features]\n",
    "```\n"
   ]
  },
  {
   "cell_type": "markdown",
   "metadata": {},
   "source": [
    "2. **Model Interpretation**\n",
    "   - Understand which features drive predictions\n",
    "   - Explain model decisions to stakeholders\n",
    "   - Validate model behavior\n"
   ]
  },
  {
   "cell_type": "markdown",
   "metadata": {},
   "source": [
    "❗️ **Important Note:** High feature importance doesn't always mean causation. It only indicates predictive power within the model.\n"
   ]
  },
  {
   "cell_type": "markdown",
   "metadata": {},
   "source": [
    "### <a id='toc2_3_'></a>[Visualizing Feature Importance](#toc0_)\n"
   ]
  },
  {
   "cell_type": "markdown",
   "metadata": {},
   "source": [
    "Visualization makes feature importance more interpretable:\n"
   ]
  },
  {
   "cell_type": "code",
   "execution_count": 7,
   "metadata": {},
   "outputs": [
    {
     "data": {
      "image/png": "[encoded data removed]",
      "text/plain": [
       "<Figure size 600x400 with 1 Axes>"
      ]
     },
     "metadata": {},
     "output_type": "display_data"
    }
   ],
   "source": [
    "import matplotlib.pyplot as plt\n",
    "import numpy as np\n",
    "\n",
    "def plot_feature_importance(importance, feature_names=None):\n",
    "    if feature_names is None:\n",
    "        feature_names = [f'Feature {i}' for i in range(len(importance))]\n",
    "\n",
    "    # Sort importance in descending order\n",
    "    indices = np.argsort(importance)[::-1]\n",
    "\n",
    "    plt.figure(figsize=(6, 4))\n",
    "    plt.bar(range(len(importance)), importance[indices])\n",
    "    plt.xticks(range(len(importance)), [feature_names[i] for i in indices], rotation=45)\n",
    "    plt.xlabel('Features')\n",
    "    plt.ylabel('Importance')\n",
    "    plt.title('Feature Importance in Random Forest')\n",
    "    plt.tight_layout()\n",
    "    plt.show()\n",
    "\n",
    "plot_feature_importance(importance)"
   ]
  },
  {
   "cell_type": "markdown",
   "metadata": {},
   "source": [
    "This simple visualization helps to:\n",
    "- Quickly identify most important features\n",
    "- Compare relative importance between features\n",
    "- Communicate results to non-technical audiences\n"
   ]
  },
  {
   "cell_type": "markdown",
   "metadata": {},
   "source": [
    "Understanding feature importance helps you:\n",
    "- Focus on collecting better data for important features\n",
    "- Simplify your model by removing unimportant features\n",
    "- Gain insights about your problem domain\n",
    "- Build more trustworthy and interpretable models\n"
   ]
  },
  {
   "cell_type": "markdown",
   "metadata": {},
   "source": [
    "Remember that feature importance should be used alongside domain knowledge and careful validation to make the best decisions about your model."
   ]
  },
  {
   "cell_type": "markdown",
   "metadata": {},
   "source": [
    "## <a id='toc3_'></a>[Hyperparameter Tuning](#toc0_)\n"
   ]
  },
  {
   "cell_type": "markdown",
   "metadata": {},
   "source": [
    "While Random Forests work well with default parameters, proper tuning can significantly improve their performance. Let's explore the key hyperparameters and how to tune them effectively.\n"
   ]
  },
  {
   "cell_type": "markdown",
   "metadata": {},
   "source": [
    "### <a id='toc3_1_'></a>[Key Hyperparameters](#toc0_)\n"
   ]
  },
  {
   "cell_type": "markdown",
   "metadata": {},
   "source": [
    "Let's focus on the most important hyperparameters that typically have the largest impact on model performance:"
   ]
  },
  {
   "cell_type": "markdown",
   "metadata": {},
   "source": [
    "1. **n_estimators**: Number of trees in the forest\n",
    "   - More trees generally lead to better performance but increase computation time\n",
    "   - Usually, performance stabilizes after a certain number of trees\n",
    "   ```python\n",
    "   # Example of impact of n_estimators\n",
    "   from sklearn.ensemble import RandomForestClassifier\n",
    "   from sklearn.model_selection import cross_val_score\n",
    "\n",
    "   scores = []\n",
    "   for n in [10, 50, 100, 200, 500]:\n",
    "       rf = RandomForestClassifier(n_estimators=n, random_state=42)\n",
    "       score = cross_val_score(rf, X, y, cv=5).mean()\n",
    "       scores.append(score)\n",
    "   ```"
   ]
  },
  {
   "cell_type": "markdown",
   "metadata": {},
   "source": [
    "2. **max_depth**: Maximum depth of each tree\n",
    "   - Controls how deep each tree can grow\n",
    "   - Deeper trees can capture more complex patterns but may overfit\n",
    "   - Consider leaving it as None and controlling complexity with min_samples_split instead\n"
   ]
  },
  {
   "cell_type": "markdown",
   "metadata": {},
   "source": [
    "3. **min_samples_split**: Minimum samples required to split a node\n",
    "   - Higher values prevent splitting small groups of samples\n",
    "   - Helps control overfitting\n",
    "   - Default is 2, but increasing it can help with noisy data\n"
   ]
  },
  {
   "cell_type": "markdown",
   "metadata": {},
   "source": [
    "💡 **Tip:** Start with default parameters and adjust based on cross-validation scores and computational constraints.\n"
   ]
  },
  {
   "cell_type": "markdown",
   "metadata": {},
   "source": [
    "### <a id='toc3_2_'></a>[Practical Tuning Approach](#toc0_)\n"
   ]
  },
  {
   "cell_type": "markdown",
   "metadata": {},
   "source": [
    "Here's a systematic approach to tuning Random Forests:\n"
   ]
  },
  {
   "cell_type": "markdown",
   "metadata": {},
   "source": [
    "```python\n",
    "from sklearn.model_selection import GridSearchCV\n",
    "\n",
    "# Define parameter grid\n",
    "param_grid = {\n",
    "    'n_estimators': [100, 200, 300],\n",
    "    'min_samples_split': [2, 5, 10],\n",
    "    'max_features': ['sqrt', 'log2', None]\n",
    "}\n",
    "\n",
    "# Create Random Forest model\n",
    "rf = RandomForestClassifier(random_state=42)\n",
    "\n",
    "# Perform grid search\n",
    "grid_search = GridSearchCV(\n",
    "    rf, param_grid,\n",
    "    cv=5,\n",
    "    scoring='accuracy',\n",
    "    n_jobs=-1  # Use all available cores\n",
    ")\n",
    "\n",
    "# Fit grid search\n",
    "grid_search.fit(X, y)\n",
    "\n",
    "# Best parameters\n",
    "print(\"Best parameters:\", grid_search.best_params_)\n",
    "```\n"
   ]
  },
  {
   "cell_type": "markdown",
   "metadata": {},
   "source": [
    "❗️ **Important Note:** Grid search can be computationally expensive. Start with a coarse grid and refine around promising values.\n"
   ]
  },
  {
   "cell_type": "markdown",
   "metadata": {},
   "source": [
    "### <a id='toc3_3_'></a>[Monitoring and Validation](#toc0_)\n"
   ]
  },
  {
   "cell_type": "markdown",
   "metadata": {},
   "source": [
    "Always validate your tuning process:"
   ]
  },
  {
   "cell_type": "markdown",
   "metadata": {},
   "source": [
    "1. **Learning Curves**\n",
    "```python\n",
    "def plot_learning_curves(X, y, model):\n",
    "    train_sizes, train_scores, valid_scores = learning_curve(\n",
    "        model, X, y, train_sizes=np.linspace(0.1, 1.0, 10),\n",
    "        cv=5, n_jobs=-1\n",
    "    )\n",
    "\n",
    "    plt.plot(train_sizes, train_scores.mean(axis=1), label='Training score')\n",
    "    plt.plot(train_sizes, valid_scores.mean(axis=1), label='Cross-validation score')\n",
    "    plt.xlabel('Training set size')\n",
    "    plt.ylabel('Score')\n",
    "    plt.legend()\n",
    "    plt.show()\n",
    "```\n"
   ]
  },
  {
   "cell_type": "markdown",
   "metadata": {},
   "source": [
    "2. **Common Pitfalls to Avoid**\n",
    "   - Overfitting to validation set through excessive tuning\n",
    "   - Ignoring computational costs\n",
    "   - Focusing too much on small performance improvements\n"
   ]
  },
  {
   "cell_type": "markdown",
   "metadata": {},
   "source": [
    "### <a id='toc3_4_'></a>[Practical Guidelines](#toc0_)\n"
   ]
  },
  {
   "cell_type": "markdown",
   "metadata": {},
   "source": [
    "Here are some practical guidelines for tuning Random Forests:\n",
    "\n",
    "1. **Start Simple**\n",
    "   - Begin with default parameters\n",
    "   - Evaluate performance\n",
    "   - Identify bottlenecks (bias vs. variance)\n",
    "\n",
    "2. **Systematic Tuning**\n",
    "   ```python\n",
    "   # Example of systematic tuning approach\n",
    "   def systematic_tune(X, y):\n",
    "       # 1. Start with baseline\n",
    "       baseline = RandomForestClassifier().fit(X, y)\n",
    "       baseline_score = cross_val_score(baseline, X, y, cv=5).mean()\n",
    "\n",
    "       # 2. Tune n_estimators\n",
    "       # 3. Tune tree complexity (max_depth or min_samples_split)\n",
    "       # 4. Fine-tune other parameters\n",
    "       return best_model\n",
    "   ```\n",
    "\n",
    "3. **Performance vs. Complexity Trade-offs**\n",
    "   - Consider computational resources\n",
    "   - Think about model deployment requirements\n",
    "   - Balance accuracy with training/inference time\n"
   ]
  },
  {
   "cell_type": "markdown",
   "metadata": {},
   "source": [
    "Remember:\n",
    "- Not all parameters need tuning\n",
    "- Small improvements might not be worth the computational cost\n",
    "- Cross-validation is crucial for reliable tuning\n",
    "- Monitor both training and validation performance\n"
   ]
  },
  {
   "cell_type": "markdown",
   "metadata": {},
   "source": [
    "By following these guidelines, you can effectively tune your Random Forest models while avoiding common pitfalls and unnecessary complexity."
   ]
  },
  {
   "cell_type": "markdown",
   "metadata": {},
   "source": [
    "## <a id='toc4_'></a>[Implementation and Best Practices](#toc0_)"
   ]
  },
  {
   "cell_type": "markdown",
   "metadata": {},
   "source": [
    "Let's explore how to implement Random Forests effectively using the popular breast cancer dataset. We'll cover best practices and common pitfalls while working through a practical example.\n"
   ]
  },
  {
   "cell_type": "markdown",
   "metadata": {},
   "source": [
    "### <a id='toc4_1_'></a>[Loading and Preparing Data](#toc0_)\n"
   ]
  },
  {
   "cell_type": "markdown",
   "metadata": {},
   "source": [
    "First, let's load and prepare our data:\n"
   ]
  },
  {
   "cell_type": "code",
   "execution_count": 8,
   "metadata": {},
   "outputs": [
    {
     "name": "stdout",
     "output_type": "stream",
     "text": [
      "Training set shape: (455, 30)\n",
      "Test set shape: (114, 30)\n"
     ]
    }
   ],
   "source": [
    "from sklearn.datasets import load_breast_cancer\n",
    "from sklearn.model_selection import train_test_split\n",
    "from sklearn.ensemble import RandomForestClassifier\n",
    "import numpy as np\n",
    "import pandas as pd\n",
    "\n",
    "# Load the breast cancer dataset\n",
    "data = load_breast_cancer()\n",
    "X = pd.DataFrame(data.data, columns=data.feature_names)\n",
    "y = data.target\n",
    "\n",
    "# Split the data\n",
    "X_train, X_test, y_train, y_test = train_test_split(\n",
    "    X, y, test_size=0.2, random_state=42\n",
    ")\n",
    "\n",
    "print(f\"Training set shape: {X_train.shape}\")\n",
    "print(f\"Test set shape: {X_test.shape}\")"
   ]
  },
  {
   "cell_type": "markdown",
   "metadata": {},
   "source": [
    "### <a id='toc4_2_'></a>[Basic Implementation](#toc0_)\n"
   ]
  },
  {
   "cell_type": "markdown",
   "metadata": {},
   "source": [
    "Let's start with a basic Random Forest implementation and gradually improve it:\n"
   ]
  },
  {
   "cell_type": "code",
   "execution_count": 10,
   "metadata": {},
   "outputs": [
    {
     "data": {
      "text/html": [
       "<style>#sk-container-id-1 {\n",
       "  /* Definition of color scheme common for light and dark mode */\n",
       "  --sklearn-color-text: black;\n",
       "  --sklearn-color-line: gray;\n",
       "  /* Definition of color scheme for unfitted estimators */\n",
       "  --sklearn-color-unfitted-level-0: #fff5e6;\n",
       "  --sklearn-color-unfitted-level-1: #f6e4d2;\n",
       "  --sklearn-color-unfitted-level-2: #ffe0b3;\n",
       "  --sklearn-color-unfitted-level-3: chocolate;\n",
       "  /* Definition of color scheme for fitted estimators */\n",
       "  --sklearn-color-fitted-level-0: #f0f8ff;\n",
       "  --sklearn-color-fitted-level-1: #d4ebff;\n",
       "  --sklearn-color-fitted-level-2: #b3dbfd;\n",
       "  --sklearn-color-fitted-level-3: cornflowerblue;\n",
       "\n",
       "  /* Specific color for light theme */\n",
       "  --sklearn-color-text-on-default-background: var(--sg-text-color, var(--theme-code-foreground, var(--jp-content-font-color1, black)));\n",
       "  --sklearn-color-background: var(--sg-background-color, var(--theme-background, var(--jp-layout-color0, white)));\n",
       "  --sklearn-color-border-box: var(--sg-text-color, var(--theme-code-foreground, var(--jp-content-font-color1, black)));\n",
       "  --sklearn-color-icon: #696969;\n",
       "\n",
       "  @media (prefers-color-scheme: dark) {\n",
       "    /* Redefinition of color scheme for dark theme */\n",
       "    --sklearn-color-text-on-default-background: var(--sg-text-color, var(--theme-code-foreground, var(--jp-content-font-color1, white)));\n",
       "    --sklearn-color-background: var(--sg-background-color, var(--theme-background, var(--jp-layout-color0, #111)));\n",
       "    --sklearn-color-border-box: var(--sg-text-color, var(--theme-code-foreground, var(--jp-content-font-color1, white)));\n",
       "    --sklearn-color-icon: #878787;\n",
       "  }\n",
       "}\n",
       "\n",
       "#sk-container-id-1 {\n",
       "  color: var(--sklearn-color-text);\n",
       "}\n",
       "\n",
       "#sk-container-id-1 pre {\n",
       "  padding: 0;\n",
       "}\n",
       "\n",
       "#sk-container-id-1 input.sk-hidden--visually {\n",
       "  border: 0;\n",
       "  clip: rect(1px 1px 1px 1px);\n",
       "  clip: rect(1px, 1px, 1px, 1px);\n",
       "  height: 1px;\n",
       "  margin: -1px;\n",
       "  overflow: hidden;\n",
       "  padding: 0;\n",
       "  position: absolute;\n",
       "  width: 1px;\n",
       "}\n",
       "\n",
       "#sk-container-id-1 div.sk-dashed-wrapped {\n",
       "  border: 1px dashed var(--sklearn-color-line);\n",
       "  margin: 0 0.4em 0.5em 0.4em;\n",
       "  box-sizing: border-box;\n",
       "  padding-bottom: 0.4em;\n",
       "  background-color: var(--sklearn-color-background);\n",
       "}\n",
       "\n",
       "#sk-container-id-1 div.sk-container {\n",
       "  /* jupyter's `normalize.less` sets `[hidden] { display: none; }`\n",
       "     but bootstrap.min.css set `[hidden] { display: none !important; }`\n",
       "     so we also need the `!important` here to be able to override the\n",
       "     default hidden behavior on the sphinx rendered scikit-learn.org.\n",
       "     See: https://github.com/scikit-learn/scikit-learn/issues/21755 */\n",
       "  display: inline-block !important;\n",
       "  position: relative;\n",
       "}\n",
       "\n",
       "#sk-container-id-1 div.sk-text-repr-fallback {\n",
       "  display: none;\n",
       "}\n",
       "\n",
       "div.sk-parallel-item,\n",
       "div.sk-serial,\n",
       "div.sk-item {\n",
       "  /* draw centered vertical line to link estimators */\n",
       "  background-image: linear-gradient(var(--sklearn-color-text-on-default-background), var(--sklearn-color-text-on-default-background));\n",
       "  background-size: 2px 100%;\n",
       "  background-repeat: no-repeat;\n",
       "  background-position: center center;\n",
       "}\n",
       "\n",
       "/* Parallel-specific style estimator block */\n",
       "\n",
       "#sk-container-id-1 div.sk-parallel-item::after {\n",
       "  content: \"\";\n",
       "  width: 100%;\n",
       "  border-bottom: 2px solid var(--sklearn-color-text-on-default-background);\n",
       "  flex-grow: 1;\n",
       "}\n",
       "\n",
       "#sk-container-id-1 div.sk-parallel {\n",
       "  display: flex;\n",
       "  align-items: stretch;\n",
       "  justify-content: center;\n",
       "  background-color: var(--sklearn-color-background);\n",
       "  position: relative;\n",
       "}\n",
       "\n",
       "#sk-container-id-1 div.sk-parallel-item {\n",
       "  display: flex;\n",
       "  flex-direction: column;\n",
       "}\n",
       "\n",
       "#sk-container-id-1 div.sk-parallel-item:first-child::after {\n",
       "  align-self: flex-end;\n",
       "  width: 50%;\n",
       "}\n",
       "\n",
       "#sk-container-id-1 div.sk-parallel-item:last-child::after {\n",
       "  align-self: flex-start;\n",
       "  width: 50%;\n",
       "}\n",
       "\n",
       "#sk-container-id-1 div.sk-parallel-item:only-child::after {\n",
       "  width: 0;\n",
       "}\n",
       "\n",
       "/* Serial-specific style estimator block */\n",
       "\n",
       "#sk-container-id-1 div.sk-serial {\n",
       "  display: flex;\n",
       "  flex-direction: column;\n",
       "  align-items: center;\n",
       "  background-color: var(--sklearn-color-background);\n",
       "  padding-right: 1em;\n",
       "  padding-left: 1em;\n",
       "}\n",
       "\n",
       "\n",
       "/* Toggleable style: style used for estimator/Pipeline/ColumnTransformer box that is\n",
       "clickable and can be expanded/collapsed.\n",
       "- Pipeline and ColumnTransformer use this feature and define the default style\n",
       "- Estimators will overwrite some part of the style using the `sk-estimator` class\n",
       "*/\n",
       "\n",
       "/* Pipeline and ColumnTransformer style (default) */\n",
       "\n",
       "#sk-container-id-1 div.sk-toggleable {\n",
       "  /* Default theme specific background. It is overwritten whether we have a\n",
       "  specific estimator or a Pipeline/ColumnTransformer */\n",
       "  background-color: var(--sklearn-color-background);\n",
       "}\n",
       "\n",
       "/* Toggleable label */\n",
       "#sk-container-id-1 label.sk-toggleable__label {\n",
       "  cursor: pointer;\n",
       "  display: block;\n",
       "  width: 100%;\n",
       "  margin-bottom: 0;\n",
       "  padding: 0.5em;\n",
       "  box-sizing: border-box;\n",
       "  text-align: center;\n",
       "}\n",
       "\n",
       "#sk-container-id-1 label.sk-toggleable__label-arrow:before {\n",
       "  /* Arrow on the left of the label */\n",
       "  content: \"▸\";\n",
       "  float: left;\n",
       "  margin-right: 0.25em;\n",
       "  color: var(--sklearn-color-icon);\n",
       "}\n",
       "\n",
       "#sk-container-id-1 label.sk-toggleable__label-arrow:hover:before {\n",
       "  color: var(--sklearn-color-text);\n",
       "}\n",
       "\n",
       "/* Toggleable content - dropdown */\n",
       "\n",
       "#sk-container-id-1 div.sk-toggleable__content {\n",
       "  max-height: 0;\n",
       "  max-width: 0;\n",
       "  overflow: hidden;\n",
       "  text-align: left;\n",
       "  /* unfitted */\n",
       "  background-color: var(--sklearn-color-unfitted-level-0);\n",
       "}\n",
       "\n",
       "#sk-container-id-1 div.sk-toggleable__content.fitted {\n",
       "  /* fitted */\n",
       "  background-color: var(--sklearn-color-fitted-level-0);\n",
       "}\n",
       "\n",
       "#sk-container-id-1 div.sk-toggleable__content pre {\n",
       "  margin: 0.2em;\n",
       "  border-radius: 0.25em;\n",
       "  color: var(--sklearn-color-text);\n",
       "  /* unfitted */\n",
       "  background-color: var(--sklearn-color-unfitted-level-0);\n",
       "}\n",
       "\n",
       "#sk-container-id-1 div.sk-toggleable__content.fitted pre {\n",
       "  /* unfitted */\n",
       "  background-color: var(--sklearn-color-fitted-level-0);\n",
       "}\n",
       "\n",
       "#sk-container-id-1 input.sk-toggleable__control:checked~div.sk-toggleable__content {\n",
       "  /* Expand drop-down */\n",
       "  max-height: 200px;\n",
       "  max-width: 100%;\n",
       "  overflow: auto;\n",
       "}\n",
       "\n",
       "#sk-container-id-1 input.sk-toggleable__control:checked~label.sk-toggleable__label-arrow:before {\n",
       "  content: \"▾\";\n",
       "}\n",
       "\n",
       "/* Pipeline/ColumnTransformer-specific style */\n",
       "\n",
       "#sk-container-id-1 div.sk-label input.sk-toggleable__control:checked~label.sk-toggleable__label {\n",
       "  color: var(--sklearn-color-text);\n",
       "  background-color: var(--sklearn-color-unfitted-level-2);\n",
       "}\n",
       "\n",
       "#sk-container-id-1 div.sk-label.fitted input.sk-toggleable__control:checked~label.sk-toggleable__label {\n",
       "  background-color: var(--sklearn-color-fitted-level-2);\n",
       "}\n",
       "\n",
       "/* Estimator-specific style */\n",
       "\n",
       "/* Colorize estimator box */\n",
       "#sk-container-id-1 div.sk-estimator input.sk-toggleable__control:checked~label.sk-toggleable__label {\n",
       "  /* unfitted */\n",
       "  background-color: var(--sklearn-color-unfitted-level-2);\n",
       "}\n",
       "\n",
       "#sk-container-id-1 div.sk-estimator.fitted input.sk-toggleable__control:checked~label.sk-toggleable__label {\n",
       "  /* fitted */\n",
       "  background-color: var(--sklearn-color-fitted-level-2);\n",
       "}\n",
       "\n",
       "#sk-container-id-1 div.sk-label label.sk-toggleable__label,\n",
       "#sk-container-id-1 div.sk-label label {\n",
       "  /* The background is the default theme color */\n",
       "  color: var(--sklearn-color-text-on-default-background);\n",
       "}\n",
       "\n",
       "/* On hover, darken the color of the background */\n",
       "#sk-container-id-1 div.sk-label:hover label.sk-toggleable__label {\n",
       "  color: var(--sklearn-color-text);\n",
       "  background-color: var(--sklearn-color-unfitted-level-2);\n",
       "}\n",
       "\n",
       "/* Label box, darken color on hover, fitted */\n",
       "#sk-container-id-1 div.sk-label.fitted:hover label.sk-toggleable__label.fitted {\n",
       "  color: var(--sklearn-color-text);\n",
       "  background-color: var(--sklearn-color-fitted-level-2);\n",
       "}\n",
       "\n",
       "/* Estimator label */\n",
       "\n",
       "#sk-container-id-1 div.sk-label label {\n",
       "  font-family: monospace;\n",
       "  font-weight: bold;\n",
       "  display: inline-block;\n",
       "  line-height: 1.2em;\n",
       "}\n",
       "\n",
       "#sk-container-id-1 div.sk-label-container {\n",
       "  text-align: center;\n",
       "}\n",
       "\n",
       "/* Estimator-specific */\n",
       "#sk-container-id-1 div.sk-estimator {\n",
       "  font-family: monospace;\n",
       "  border: 1px dotted var(--sklearn-color-border-box);\n",
       "  border-radius: 0.25em;\n",
       "  box-sizing: border-box;\n",
       "  margin-bottom: 0.5em;\n",
       "  /* unfitted */\n",
       "  background-color: var(--sklearn-color-unfitted-level-0);\n",
       "}\n",
       "\n",
       "#sk-container-id-1 div.sk-estimator.fitted {\n",
       "  /* fitted */\n",
       "  background-color: var(--sklearn-color-fitted-level-0);\n",
       "}\n",
       "\n",
       "/* on hover */\n",
       "#sk-container-id-1 div.sk-estimator:hover {\n",
       "  /* unfitted */\n",
       "  background-color: var(--sklearn-color-unfitted-level-2);\n",
       "}\n",
       "\n",
       "#sk-container-id-1 div.sk-estimator.fitted:hover {\n",
       "  /* fitted */\n",
       "  background-color: var(--sklearn-color-fitted-level-2);\n",
       "}\n",
       "\n",
       "/* Specification for estimator info (e.g. \"i\" and \"?\") */\n",
       "\n",
       "/* Common style for \"i\" and \"?\" */\n",
       "\n",
       ".sk-estimator-doc-link,\n",
       "a:link.sk-estimator-doc-link,\n",
       "a:visited.sk-estimator-doc-link {\n",
       "  float: right;\n",
       "  font-size: smaller;\n",
       "  line-height: 1em;\n",
       "  font-family: monospace;\n",
       "  background-color: var(--sklearn-color-background);\n",
       "  border-radius: 1em;\n",
       "  height: 1em;\n",
       "  width: 1em;\n",
       "  text-decoration: none !important;\n",
       "  margin-left: 1ex;\n",
       "  /* unfitted */\n",
       "  border: var(--sklearn-color-unfitted-level-1) 1pt solid;\n",
       "  color: var(--sklearn-color-unfitted-level-1);\n",
       "}\n",
       "\n",
       ".sk-estimator-doc-link.fitted,\n",
       "a:link.sk-estimator-doc-link.fitted,\n",
       "a:visited.sk-estimator-doc-link.fitted {\n",
       "  /* fitted */\n",
       "  border: var(--sklearn-color-fitted-level-1) 1pt solid;\n",
       "  color: var(--sklearn-color-fitted-level-1);\n",
       "}\n",
       "\n",
       "/* On hover */\n",
       "div.sk-estimator:hover .sk-estimator-doc-link:hover,\n",
       ".sk-estimator-doc-link:hover,\n",
       "div.sk-label-container:hover .sk-estimator-doc-link:hover,\n",
       ".sk-estimator-doc-link:hover {\n",
       "  /* unfitted */\n",
       "  background-color: var(--sklearn-color-unfitted-level-3);\n",
       "  color: var(--sklearn-color-background);\n",
       "  text-decoration: none;\n",
       "}\n",
       "\n",
       "div.sk-estimator.fitted:hover .sk-estimator-doc-link.fitted:hover,\n",
       ".sk-estimator-doc-link.fitted:hover,\n",
       "div.sk-label-container:hover .sk-estimator-doc-link.fitted:hover,\n",
       ".sk-estimator-doc-link.fitted:hover {\n",
       "  /* fitted */\n",
       "  background-color: var(--sklearn-color-fitted-level-3);\n",
       "  color: var(--sklearn-color-background);\n",
       "  text-decoration: none;\n",
       "}\n",
       "\n",
       "/* Span, style for the box shown on hovering the info icon */\n",
       ".sk-estimator-doc-link span {\n",
       "  display: none;\n",
       "  z-index: 9999;\n",
       "  position: relative;\n",
       "  font-weight: normal;\n",
       "  right: .2ex;\n",
       "  padding: .5ex;\n",
       "  margin: .5ex;\n",
       "  width: min-content;\n",
       "  min-width: 20ex;\n",
       "  max-width: 50ex;\n",
       "  color: var(--sklearn-color-text);\n",
       "  box-shadow: 2pt 2pt 4pt #999;\n",
       "  /* unfitted */\n",
       "  background: var(--sklearn-color-unfitted-level-0);\n",
       "  border: .5pt solid var(--sklearn-color-unfitted-level-3);\n",
       "}\n",
       "\n",
       ".sk-estimator-doc-link.fitted span {\n",
       "  /* fitted */\n",
       "  background: var(--sklearn-color-fitted-level-0);\n",
       "  border: var(--sklearn-color-fitted-level-3);\n",
       "}\n",
       "\n",
       ".sk-estimator-doc-link:hover span {\n",
       "  display: block;\n",
       "}\n",
       "\n",
       "/* \"?\"-specific style due to the `<a>` HTML tag */\n",
       "\n",
       "#sk-container-id-1 a.estimator_doc_link {\n",
       "  float: right;\n",
       "  font-size: 1rem;\n",
       "  line-height: 1em;\n",
       "  font-family: monospace;\n",
       "  background-color: var(--sklearn-color-background);\n",
       "  border-radius: 1rem;\n",
       "  height: 1rem;\n",
       "  width: 1rem;\n",
       "  text-decoration: none;\n",
       "  /* unfitted */\n",
       "  color: var(--sklearn-color-unfitted-level-1);\n",
       "  border: var(--sklearn-color-unfitted-level-1) 1pt solid;\n",
       "}\n",
       "\n",
       "#sk-container-id-1 a.estimator_doc_link.fitted {\n",
       "  /* fitted */\n",
       "  border: var(--sklearn-color-fitted-level-1) 1pt solid;\n",
       "  color: var(--sklearn-color-fitted-level-1);\n",
       "}\n",
       "\n",
       "/* On hover */\n",
       "#sk-container-id-1 a.estimator_doc_link:hover {\n",
       "  /* unfitted */\n",
       "  background-color: var(--sklearn-color-unfitted-level-3);\n",
       "  color: var(--sklearn-color-background);\n",
       "  text-decoration: none;\n",
       "}\n",
       "\n",
       "#sk-container-id-1 a.estimator_doc_link.fitted:hover {\n",
       "  /* fitted */\n",
       "  background-color: var(--sklearn-color-fitted-level-3);\n",
       "}\n",
       "</style><div id=\"sk-container-id-1\" class=\"sk-top-container\"><div class=\"sk-text-repr-fallback\"><pre>RandomForestClassifier(random_state=42)</pre><b>In a Jupyter environment, please rerun this cell to show the HTML representation or trust the notebook. <br />On GitHub, the HTML representation is unable to render, please try loading this page with nbviewer.org.</b></div><div class=\"sk-container\" hidden><div class=\"sk-item\"><div class=\"sk-estimator fitted sk-toggleable\"><input class=\"sk-toggleable__control sk-hidden--visually\" id=\"sk-estimator-id-1\" type=\"checkbox\" checked><label for=\"sk-estimator-id-1\" class=\"sk-toggleable__label fitted sk-toggleable__label-arrow fitted\">&nbsp;&nbsp;RandomForestClassifier<a class=\"sk-estimator-doc-link fitted\" rel=\"noreferrer\" target=\"_blank\" href=\"https://scikit-learn.org/1.5/modules/generated/sklearn.ensemble.RandomForestClassifier.html\">?<span>Documentation for RandomForestClassifier</span></a><span class=\"sk-estimator-doc-link fitted\">i<span>Fitted</span></span></label><div class=\"sk-toggleable__content fitted\"><pre>RandomForestClassifier(random_state=42)</pre></div> </div></div></div></div>"
      ],
      "text/plain": [
       "RandomForestClassifier(random_state=42)"
      ]
     },
     "execution_count": 10,
     "metadata": {},
     "output_type": "execute_result"
    }
   ],
   "source": [
    "# Basic implementation\n",
    "rf_basic = RandomForestClassifier(\n",
    "    n_estimators=100,\n",
    "    random_state=42\n",
    ")\n",
    "\n",
    "# Fit the model\n",
    "rf_basic.fit(X_train, y_train)"
   ]
  },
  {
   "cell_type": "code",
   "execution_count": 11,
   "metadata": {},
   "outputs": [
    {
     "name": "stdout",
     "output_type": "stream",
     "text": [
      "Basic model accuracy: 0.965\n"
     ]
    }
   ],
   "source": [
    "# Make predictions\n",
    "y_pred = rf_basic.predict(X_test)\n",
    "\n",
    "# Check accuracy\n",
    "print(f\"Basic model accuracy: {rf_basic.score(X_test, y_test):.3f}\")"
   ]
  },
  {
   "cell_type": "markdown",
   "metadata": {},
   "source": [
    "💡 **Tip:** Always set random_state for reproducibility during development.\n"
   ]
  },
  {
   "cell_type": "markdown",
   "metadata": {},
   "source": [
    "### <a id='toc4_3_'></a>[Improved Implementation with Best Practices](#toc0_)\n"
   ]
  },
  {
   "cell_type": "markdown",
   "metadata": {},
   "source": [
    "Here's a more comprehensive implementation incorporating several best practices:\n"
   ]
  },
  {
   "cell_type": "code",
   "execution_count": 12,
   "metadata": {},
   "outputs": [
    {
     "name": "stdout",
     "output_type": "stream",
     "text": [
      "Cross-validation scores: 0.954 (+/- 0.029)\n"
     ]
    }
   ],
   "source": [
    "from sklearn.pipeline import Pipeline\n",
    "from sklearn.preprocessing import StandardScaler\n",
    "from sklearn.model_selection import cross_val_score\n",
    "\n",
    "# Create a pipeline\n",
    "rf_pipeline = Pipeline([\n",
    "    ('scaler', StandardScaler()),  # Scale features\n",
    "    ('rf', RandomForestClassifier(\n",
    "        n_estimators=100,\n",
    "        min_samples_leaf=2,\n",
    "        max_features='sqrt',\n",
    "        n_jobs=-1,  # Use all CPU cores\n",
    "        random_state=42\n",
    "    ))\n",
    "])\n",
    "\n",
    "# Fit pipeline\n",
    "rf_pipeline.fit(X_train, y_train)\n",
    "\n",
    "# Evaluate with cross-validation\n",
    "cv_scores = cross_val_score(rf_pipeline, X_train, y_train, cv=5)\n",
    "print(f\"Cross-validation scores: {cv_scores.mean():.3f} (+/- {cv_scores.std() * 2:.3f})\")"
   ]
  },
  {
   "cell_type": "markdown",
   "metadata": {},
   "source": [
    "### <a id='toc4_4_'></a>[Feature Importance Analysis](#toc0_)\n"
   ]
  },
  {
   "cell_type": "markdown",
   "metadata": {},
   "source": [
    "Understanding feature importance is crucial for model interpretation:\n"
   ]
  },
  {
   "cell_type": "code",
   "execution_count": 25,
   "metadata": {},
   "outputs": [
    {
     "data": {
      "image/png": "[encoded data removed]",
      "text/plain": [
       "<Figure size 800x400 with 1 Axes>"
      ]
     },
     "metadata": {},
     "output_type": "display_data"
    }
   ],
   "source": [
    "def plot_top_features(pipeline, feature_names, top_n=10):\n",
    "    # Get feature importances and indices\n",
    "    importances = pipeline.named_steps['rf'].feature_importances_\n",
    "    indices = np.argsort(importances)[-top_n:]\n",
    "\n",
    "    plt.figure(figsize=(8, 4))\n",
    "    plt.barh(range(top_n), importances[indices])\n",
    "    plt.yticks(range(top_n), [feature_names[i] for i in indices])\n",
    "\n",
    "    plt.xlabel('Feature Importance')\n",
    "    plt.title('Top Feature Importances')\n",
    "    plt.tight_layout()\n",
    "\n",
    "# Plot top features\n",
    "plot_top_features(rf_pipeline, data.feature_names)\n"
   ]
  },
  {
   "cell_type": "markdown",
   "metadata": {},
   "source": [
    "❗️ **Important Note:** Feature importance can help identify which medical measurements are most crucial for diagnosis in this case.\n"
   ]
  },
  {
   "cell_type": "markdown",
   "metadata": {},
   "source": [
    "### <a id='toc4_5_'></a>[Performance Monitoring](#toc0_)\n"
   ]
  },
  {
   "cell_type": "markdown",
   "metadata": {},
   "source": [
    "Monitor your model's performance across different metrics:\n"
   ]
  },
  {
   "cell_type": "code",
   "execution_count": 28,
   "metadata": {},
   "outputs": [
    {
     "name": "stdout",
     "output_type": "stream",
     "text": [
      "\n",
      "Classification Report:\n",
      "              precision    recall  f1-score   support\n",
      "\n",
      "           0       0.98      0.93      0.95        43\n",
      "           1       0.96      0.99      0.97        71\n",
      "\n",
      "    accuracy                           0.96       114\n",
      "   macro avg       0.97      0.96      0.96       114\n",
      "weighted avg       0.97      0.96      0.96       114\n",
      "\n"
     ]
    },
    {
     "data": {
      "image/png": "[encoded data removed]",
      "text/plain": [
       "<Figure size 600x400 with 2 Axes>"
      ]
     },
     "metadata": {},
     "output_type": "display_data"
    }
   ],
   "source": [
    "from sklearn.metrics import classification_report, confusion_matrix\n",
    "import seaborn as sns\n",
    "\n",
    "def evaluate_model(pipeline, X, y, title=\"Model Evaluation\"):\n",
    "    y_pred = pipeline.predict(X)\n",
    "\n",
    "    # Print classification report\n",
    "    print(\"\\nClassification Report:\")\n",
    "    print(classification_report(y, y_pred))\n",
    "\n",
    "    # Plot confusion matrix\n",
    "    plt.figure(figsize=(6, 4))\n",
    "    sns.heatmap(confusion_matrix(y, y_pred), annot=True, fmt='d', cmap='Blues')\n",
    "    plt.title(title)\n",
    "    plt.xlabel('Predicted')\n",
    "    plt.ylabel('Actual')\n",
    "    plt.show()\n",
    "\n",
    "# Evaluate on test set\n",
    "evaluate_model(rf_pipeline, X_test, y_test, \"Test Set Performance\")"
   ]
  },
  {
   "cell_type": "markdown",
   "metadata": {},
   "source": [
    "### <a id='toc4_6_'></a>[Best Practices Summary](#toc0_)\n"
   ]
  },
  {
   "cell_type": "markdown",
   "metadata": {},
   "source": [
    "1. **Data Preprocessing**\n",
    "   - Scale features when they're on different scales\n",
    "   - Handle missing values (if any)\n",
    "   - Consider feature engineering\n"
   ]
  },
  {
   "cell_type": "markdown",
   "metadata": {},
   "source": [
    "2. **Model Configuration**\n",
    "   ```python\n",
    "   # Example of well-configured model\n",
    "   rf_well_configured = RandomForestClassifier(\n",
    "       n_estimators=100,\n",
    "       min_samples_leaf=2,\n",
    "       max_features='sqrt',\n",
    "       n_jobs=-1,\n",
    "       random_state=42,\n",
    "       oob_score=True  # Enable out-of-bag score estimation\n",
    "   )\n",
    "   ```\n"
   ]
  },
  {
   "cell_type": "markdown",
   "metadata": {},
   "source": [
    "3. **Performance Validation**\n",
    "   ```python\n",
    "   # Check for overfitting\n",
    "   print(f\"Training score: {rf_pipeline.score(X_train, y_train):.3f}\")\n",
    "   print(f\"Test score: {rf_pipeline.score(X_test, y_test):.3f}\")\n",
    "   ```\n"
   ]
  },
  {
   "cell_type": "markdown",
   "metadata": {},
   "source": [
    "4. **Prediction Probabilities**\n",
    "   ```python\n",
    "   # Get probability predictions\n",
    "   probabilities = rf_pipeline.predict_proba(X_test)\n",
    "\n",
    "   # Look at probability distribution for first few samples\n",
    "   print(\"\\nPrediction probabilities for first 5 samples:\")\n",
    "   print(pd.DataFrame(probabilities[:5], columns=['Class 0', 'Class 1']))\n",
    "   ```\n"
   ]
  },
  {
   "cell_type": "markdown",
   "metadata": {},
   "source": [
    "Remember these key points:\n",
    "- Use pipelines for reproducible workflows\n",
    "- Monitor both training and test performance\n",
    "- Consider computational resources\n",
    "- Enable out-of-bag scoring when possible\n",
    "- Use cross-validation for reliable performance estimates\n",
    "- Look at multiple performance metrics\n"
   ]
  },
  {
   "cell_type": "markdown",
   "metadata": {},
   "source": [
    "By following these practices, you can build more reliable and maintainable Random Forest models while avoiding common implementation pitfalls."
   ]
  },
  {
   "cell_type": "markdown",
   "metadata": {},
   "source": [
    "## <a id='toc5_'></a>[Summary](#toc0_)"
   ]
  },
  {
   "cell_type": "markdown",
   "metadata": {},
   "source": [
    "Random Forests are a powerful and versatile ensemble learning method that combines multiple decision trees to create a robust and accurate model. Let's recap the key points:\n",
    "\n",
    "- Random Forests improve upon single decision trees by:\n",
    "  - Using multiple trees (typically 100 or more)\n",
    "  - Introducing randomness through bootstrap sampling\n",
    "  - Considering random subsets of features at each split\n"
   ]
  },
  {
   "cell_type": "markdown",
   "metadata": {},
   "source": [
    "Here are the main advantages of Random Forests:\n",
    "1. **Robust Performance**\n",
    "   - Works well on most datasets without extensive tuning\n",
    "   - Handles both numerical and categorical features\n",
    "   - Resistant to overfitting\n",
    "\n",
    "2. **Built-in Features**\n",
    "   - Feature importance rankings\n",
    "   - Out-of-bag error estimation\n",
    "   - Handles missing values well\n",
    "\n",
    "3. **Practical Benefits**\n",
    "   - Parallel processing capability\n",
    "   - Few hyperparameters to tune\n",
    "   - No feature scaling required\n"
   ]
  },
  {
   "cell_type": "markdown",
   "metadata": {},
   "source": [
    "You may be wondering when to use Random Forests:\n",
    "- Classification or regression tasks\n",
    "- When interpretability is important but not crucial\n",
    "- When you have sufficient computational resources\n",
    "- When you need reliable feature importance measures\n"
   ]
  },
  {
   "cell_type": "markdown",
   "metadata": {},
   "source": [
    "❗️ **Important Note:** While powerful, Random Forests might not be the best choice when:\n",
    "- You need a very simple, fully interpretable model\n",
    "- You're working with very high-dimensional sparse data\n",
    "- You have strict latency requirements in production\n"
   ]
  },
  {
   "cell_type": "markdown",
   "metadata": {},
   "source": [
    "Remember: Random Forests combine simplicity, power, and interpretability, making them an excellent default choice for many machine learning problems."
   ]
  }
 ],
 "metadata": {
  "kernelspec": {
   "display_name": "py310",
   "language": "python",
   "name": "python3"
  },
  "language_info": {
   "codemirror_mode": {
    "name": "ipython",
    "version": 3
   },
   "file_extension": ".py",
   "mimetype": "text/x-python",
   "name": "python",
   "nbconvert_exporter": "python",
   "pygments_lexer": "ipython3",
   "version": "3.10.12"
  }
 },
 "nbformat": 4,
 "nbformat_minor": 2
}
