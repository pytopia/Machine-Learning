{
 "cells": [
  {
   "cell_type": "markdown",
   "metadata": {},
   "source": [
    "<img src=\"./images/banner.png\" width=\"800\">"
   ]
  },
  {
   "cell_type": "markdown",
   "metadata": {},
   "source": [
    "## <a id='toc1_'></a>[Foundations of Artificial Neural Networks](#toc0_)"
   ]
  },
  {
   "cell_type": "markdown",
   "metadata": {},
   "source": [
    "Artificial Neural Networks (ANNs) are at the heart of modern machine learning and artificial intelligence systems. They are inspired by the way the human brain processes information, and they form the basis for many advanced applications in computer vision, natural language processing, and beyond. In this section, we'll explore the core ideas behind neural networks, why they originated, and how they serve as powerful tools for tasks that were once considered too complex for traditional algorithms.\n"
   ]
  },
  {
   "cell_type": "markdown",
   "metadata": {},
   "source": [
    "<img src=\"./images/neuron-brain.webp\" width=\"600\">"
   ]
  },
  {
   "cell_type": "markdown",
   "metadata": {},
   "source": [
    "The concept of **artificial neural networks** originates from the study of biological neurons in the human brain. A biological neuron typically receives signals through its dendrites, processes them in the cell body, and then fires an output signal through its axon if certain conditions are met.\n",
    "\n",
    "- **Neuron Communication:** Neurons communicate via electrical impulses, with varying signal strengths depending on inputs and synaptic connections.\n",
    "- **Simplified Model in AI:** In an ANN, each artificial neuron is a simplified representation of a biological neuron. It takes weighted inputs, sums them, applies an activation function, and produces an output.\n"
   ]
  },
  {
   "cell_type": "markdown",
   "metadata": {},
   "source": [
    "<img src=\"./images/brain-process.png\" width=\"600\">"
   ]
  },
  {
   "cell_type": "markdown",
   "metadata": {},
   "source": [
    "**Example Analogy:**  \n",
    "Imagine each neuron as a voting participant. Each input (dendrite) casts a \"vote\" (weighted signal). Once the total votes exceed a threshold, the neuron \"fires\" an output. This high-level abstraction helps us model complex patterns.\n"
   ]
  },
  {
   "cell_type": "markdown",
   "metadata": {},
   "source": [
    "❗️ **Important Note:** Artificial neurons are *not* perfect replicas of real neurons, but they capture enough important features (input processing, threshold-based firing) to be useful for many computational tasks.\n"
   ]
  },
  {
   "cell_type": "markdown",
   "metadata": {},
   "source": [
    "To understand neural networks, let’s define a few key terms and ideas:\n",
    "\n",
    "1. **Inputs and Weights:**  \n",
    "   Each neuron in an ANN typically receives multiple inputs, each multiplied by a parameter called a *weight*. If you have $n$ inputs $\\{x_1, x_2, \\dots, x_n\\}$ with corresponding weights $\\{w_1, w_2, \\dots, w_n\\}$, the neuron computes a weighted sum such as:  \n",
    "   $$\n",
    "   z = \\sum_{i=1}^{n} w_i \\, x_i + b\n",
    "   $$  \n",
    "   where $b$ is a bias term.\n",
    "\n",
    "2. **Activation Function:**  \n",
    "   After computing the weighted sum $z$, an *activation function* (e.g., **sigmoid**, **ReLU**, **tanh**) determines the output. For instance, the sigmoid activation function is given by:  \n",
    "   $$\n",
    "   \\sigma(z) = \\frac{1}{1 + e^{-z}}\n",
    "   $$\n",
    "\n",
    "3. **Layers:**  \n",
    "   - **Input Layer:** Receives raw data (e.g., pixel intensity for an image).  \n",
    "   - **Hidden Layers:** Transform the inputs through a series of weighted connections.  \n",
    "   - **Output Layer:** Delivers the final prediction or classification result.\n",
    "\n",
    "4. **Forward Pass:**  \n",
    "   The process of passing input data through the layers of the network to generate an output is known as the *forward pass*.\n"
   ]
  },
  {
   "cell_type": "markdown",
   "metadata": {},
   "source": [
    "<img src=\"./images/nn-input-output.png\" width=\"800\">"
   ]
  },
  {
   "cell_type": "markdown",
   "metadata": {},
   "source": [
    "**Simple Pseudocode Example:**\n",
    "\n",
    "```python\n",
    "# Pseudocode for a simple neuron\n",
    "inputs = [x1, x2, x3]\n",
    "weights = [w1, w2, w3]\n",
    "bias = b\n",
    "\n",
    "# Weighted sum\n",
    "z = w1 * x1 + w2 * x2 + w3 * x3 + b\n",
    "\n",
    "# Apply activation (sigmoid)\n",
    "output = 1 / (1 + exp(-z))\n",
    "```\n"
   ]
  },
  {
   "cell_type": "markdown",
   "metadata": {},
   "source": [
    "Neural networks have gained popularity because they can **learn complex patterns** directly from data. Unlike traditional algorithms that often require manual feature engineering, ANNs can automatically discover features and representations internally.\n",
    "\n",
    "1. **Complex Problem-Solving:**  \n",
    "   Neural networks excel at tasks like image recognition, speech processing, and language translation—areas where it was historically hard to design hand-crafted features.\n",
    "\n",
    "2. **Adaptability and Learning:**  \n",
    "   By adjusting the *weights* and *biases* (often through a process called *backpropagation*), the network can adapt to new data. This makes ANNs extremely powerful for real-world problems where data and patterns may be very complex.\n",
    "\n",
    "3. **Scalability:**  \n",
    "   With modern computing capabilities, neural networks can scale to handle huge datasets. This is especially vital for tasks in fields like computer vision, where you may have millions of images.\n"
   ]
  },
  {
   "cell_type": "markdown",
   "metadata": {},
   "source": [
    "💡 **Tip:** Neural networks perform best with large amounts of data and may require extensive computational resources. When data is scarce, simpler models or other machine learning techniques might be more appropriate.\n"
   ]
  },
  {
   "cell_type": "markdown",
   "metadata": {},
   "source": [
    "By understanding the biological roots, basic structure, and core benefits of artificial neural networks, we set the stage for more detailed discussions on how they are trained and applied in real-world scenarios. This foundation will help you appreciate how a network's ability to learn from examples makes it an indispensable tool in modern AI."
   ]
  },
  {
   "cell_type": "markdown",
   "metadata": {},
   "source": [
    "**Table of contents**<a id='toc0_'></a>\n",
    "- [Foundations of Artificial Neural Networks](#toc1_)\n",
    "- [Historical Context and Evolution](#toc2_)\n",
    "  - [Early Developments in Neural Networks](#toc2_1_)\n",
    "  - [The AI Winters and Their Impact](#toc2_2_)\n",
    "  - [The Renaissance of Neural Networks](#toc2_3_)\n",
    "- [Core Architecture of Neural Networks](#toc3_)\n",
    "  - [Layers: Input, Hidden, and Output](#toc3_1_)\n",
    "  - [Activation Functions](#toc3_2_)\n",
    "  - [Training and Learning Overview](#toc3_3_)\n",
    "- [Summary](#toc4_)\n",
    "<!-- vscode-jupyter-toc-config\n",
    "\tnumbering=false\n",
    "\tanchor=true\n",
    "\tflat=false\n",
    "\tminLevel=2\n",
    "\tmaxLevel=6\n",
    "\t/vscode-jupyter-toc-config -->\n",
    "<!-- THIS CELL WILL BE REPLACED ON TOC UPDATE. DO NOT WRITE YOUR TEXT IN THIS CELL -->"
   ]
  },
  {
   "cell_type": "markdown",
   "metadata": {},
   "source": [
    "## <a id='toc2_'></a>[Historical Context and Evolution](#toc0_)"
   ]
  },
  {
   "cell_type": "markdown",
   "metadata": {},
   "source": [
    "Neural networks did not become popular overnight. Their development is rooted in a series of breakthroughs, setbacks, and revivals that collectively shaped the field of artificial intelligence (AI). Understanding this history helps us appreciate both the technical and societal factors that influenced neural network research.\n"
   ]
  },
  {
   "cell_type": "markdown",
   "metadata": {},
   "source": [
    "<img src=\"./images/nn-history.jpg\" width=\"600\">"
   ]
  },
  {
   "cell_type": "markdown",
   "metadata": {},
   "source": [
    "### <a id='toc2_1_'></a>[Early Developments in Neural Networks](#toc0_)\n"
   ]
  },
  {
   "cell_type": "markdown",
   "metadata": {},
   "source": [
    "In the early days of computing, researchers were captivated by the idea of creating a machine that could emulate human learning. The concept of the **artificial neuron** emerged as early as the 1940s:\n"
   ]
  },
  {
   "cell_type": "markdown",
   "metadata": {},
   "source": [
    "The first significant milestone came in 1943 when **Warren McCulloch** and **Walter Pitts** proposed a simplified mathematical model of a neuron. They demonstrated how simple neuron-like structures could perform logical computations.\n"
   ]
  },
  {
   "cell_type": "markdown",
   "metadata": {},
   "source": [
    "A few years later, in 1958, **Frank Rosenblatt** introduced the **Perceptron**, which is often regarded as the foundation of modern neural networks. The perceptron algorithm was designed to classify an input into one of two categories by adjusting weights in response to errors—a process resembling the notion of learning from mistakes.\n"
   ]
  },
  {
   "cell_type": "markdown",
   "metadata": {},
   "source": [
    "Despite these beginnings, early neural network models faced limitations:\n",
    "- They could solve only linearly separable problems.\n",
    "- They lacked an efficient method to train multi-layer structures.\n"
   ]
  },
  {
   "cell_type": "markdown",
   "metadata": {},
   "source": [
    "❗️ **Important Note:** The inability to go beyond single-layer nets initially stunted neural networks’ progress, sowing the seeds for a period known as the **AI Winter**.\n"
   ]
  },
  {
   "cell_type": "markdown",
   "metadata": {},
   "source": [
    "### <a id='toc2_2_'></a>[The AI Winters and Their Impact](#toc0_)\n"
   ]
  },
  {
   "cell_type": "markdown",
   "metadata": {},
   "source": [
    "Starting in the 1970s, neural network research encountered setbacks and waning interest. Funding agencies grew skeptical because of:\n",
    "- Overpromises: Bold claims that neural networks would solve complex problems without sufficient technical grounding.\n",
    "- Limited computing resources: Hardware constraints made large-scale experiments virtually impossible.\n",
    "- Theoretical critiques: Influential analyses (like Minsky and Papert’s book, *Perceptrons*) highlighted fundamental challenges with single-layer perceptrons.\n"
   ]
  },
  {
   "cell_type": "markdown",
   "metadata": {},
   "source": [
    "<img src=\"./images/nn-history-3.jpeg\" width=\"600\">"
   ]
  },
  {
   "cell_type": "markdown",
   "metadata": {},
   "source": [
    "<img src=\"./images/nn-history-4.jpeg\" width=\"600\">"
   ]
  },
  {
   "cell_type": "markdown",
   "metadata": {},
   "source": [
    "Two major **AI Winters**—spanning roughly from the mid-1970s to the mid-1980s, and again in the late 1980s to the 1990s— led to severe reductions in AI research funding. Neural network research was particularly hard-hit during these periods.\n"
   ]
  },
  {
   "cell_type": "markdown",
   "metadata": {},
   "source": [
    "Although this era saw fewer publicized breakthroughs, it prompted some researchers to explore foundational ideas in greater depth. This groundwork would later prove crucial in sparking a renewed interest in neural networks.\n"
   ]
  },
  {
   "cell_type": "markdown",
   "metadata": {},
   "source": [
    "### <a id='toc2_3_'></a>[The Renaissance of Neural Networks](#toc0_)\n"
   ]
  },
  {
   "cell_type": "markdown",
   "metadata": {},
   "source": [
    "The tide began to turn in the mid-1980s. A key driver was the **backpropagation algorithm**, popularized by **Rumelhart, Hinton, and Williams** in 1986. This method enabled learning in multi-layer networks by systematically **adjusting** the weights based on errors in the network’s output. Suddenly, it was possible to tackle more elaborate, **non-linear** classification problems.\n"
   ]
  },
  {
   "cell_type": "markdown",
   "metadata": {},
   "source": [
    "<img src=\"./images/nn-history-2.avif\" width=\"600\">"
   ]
  },
  {
   "cell_type": "markdown",
   "metadata": {},
   "source": [
    "From there, a combination of factors fueled the renaissance:\n",
    "- **Increased Computing Power:** Advances in CPU and GPU technology made training deeper networks feasible.\n",
    "- **Big Data Availability:** The internet era offered massive datasets that effectively “fed” neural networks.\n",
    "- **Algorithmic Refinements:** Techniques like the convolutional neural network (CNN) and long short-term memory (LSTM) architecture showed impressive results in vision and language tasks, respectively.\n"
   ]
  },
  {
   "cell_type": "markdown",
   "metadata": {},
   "source": [
    "Today, neural networks underpin everything from **image recognition** to **speech-to-text systems** and **machine translation**. This revival, often referred to as the **Deep Learning Revolution**, continues to redefine the boundaries of what AI can achieve.\n"
   ]
  },
  {
   "cell_type": "markdown",
   "metadata": {},
   "source": [
    "By tracing these historical milestones, we see that neural networks weren’t born fully formed—they evolved through passionate research, skepticism, breakthroughs, and setbacks. This understanding underscores the importance of persistence in research and the interplay between theory, computing resources, and real-world data."
   ]
  },
  {
   "cell_type": "markdown",
   "metadata": {},
   "source": [
    "## <a id='toc3_'></a>[Core Architecture of Neural Networks](#toc0_)"
   ]
  },
  {
   "cell_type": "markdown",
   "metadata": {},
   "source": [
    "Understanding the core architecture of neural networks is essential for grasping how they learn representations of data. In this section, we’ll break down the foundational elements of a typical neural network, examine the role of activation functions, and explore how training is managed at a high level. By the end, you’ll see how these pieces fit together to create a powerful, flexible system that can handle complex prediction tasks.\n"
   ]
  },
  {
   "cell_type": "markdown",
   "metadata": {},
   "source": [
    "### <a id='toc3_1_'></a>[Layers: Input, Hidden, and Output](#toc0_)\n"
   ]
  },
  {
   "cell_type": "markdown",
   "metadata": {},
   "source": [
    "A neural network is composed of **layers** of interconnected nodes (often referred to as *neurons*). Each layer serves a distinct purpose:\n",
    "\n",
    "1. **Input Layer:**  \n",
    "   This is where your raw data enters the network. If you’re processing images, for example, the input layer might receive pixel values. The input layer doesn’t typically perform any computations; it just forwards information to the next layer.\n",
    "\n",
    "2. **Hidden Layers:**  \n",
    "   The “hidden” part comes from the fact that these layers are not directly visible as inputs or outputs. They perform transformations on the data by applying weights, biases, and activation functions. A network can have **one or multiple** hidden layers, depending on the complexity of the problem.  \n",
    "   - **Deep Networks** contain many hidden layers, allowing them to learn complex features from the data.  \n",
    "   - **Shallow Networks** have fewer hidden layers, which can be easier to train but may be less expressive for intricate tasks.\n",
    "\n",
    "3. **Output Layer:**  \n",
    "   This is the final layer that produces the predictions or classifications. For instance, a binary classification network might have a single output neuron with a sigmoid activation to produce a probability value between 0 and 1. For multiclass tasks, you might see a *softmax* function that provides probabilities across multiple categories.\n"
   ]
  },
  {
   "cell_type": "markdown",
   "metadata": {},
   "source": [
    "<img src=\"./images/hidden-layers.jpg\" width=\"600\">"
   ]
  },
  {
   "cell_type": "markdown",
   "metadata": {},
   "source": [
    "In essence, the information flows forward **layer by layer** (the *forward pass*) until an output is generated. The way signals progress between these layers determines how well the network learns to map inputs to desired outputs.\n"
   ]
  },
  {
   "cell_type": "markdown",
   "metadata": {},
   "source": [
    "💡 **Tip:** The number and size of hidden layers significantly influence a network’s performance. More layers (or neurons per layer) can capture greater complexity, but they also require more data and computational power to train effectively.\n"
   ]
  },
  {
   "cell_type": "markdown",
   "metadata": {},
   "source": [
    "### <a id='toc3_2_'></a>[Activation Functions](#toc0_)\n"
   ]
  },
  {
   "cell_type": "markdown",
   "metadata": {},
   "source": [
    "A crucial element that gives neural networks their learning power is the **activation function**. After computing a weighted sum (plus a bias), neurons pass this value through an activation function that introduces **nonlinearity**. This nonlinearity is what enables neural networks to learn complex mappings from inputs to outputs.\n"
   ]
  },
  {
   "cell_type": "markdown",
   "metadata": {},
   "source": [
    "<img src=\"./images/activation-functions.png\" width=\"600\">"
   ]
  },
  {
   "cell_type": "markdown",
   "metadata": {},
   "source": [
    "Some common activation functions include:\n",
    "\n",
    "- **Sigmoid**:\n",
    "  $$\n",
    "  \\sigma(z) = \\frac{1}{1 + e^{-z}}\n",
    "  $$\n",
    "  - Outputs values in the range $(0, 1)$.\n",
    "  - Often used in the output layer for binary classification.\n",
    "\n",
    "- **Tanh**:\n",
    "  $$\n",
    "  \\tanh(z) = \\frac{e^z - e^{-z}}{e^z + e^{-z}}\n",
    "  $$\n",
    "  - Outputs values in the range $(-1, 1)$.\n",
    "  - Can be more effective than sigmoid in hidden layers by providing a mean of 0.\n",
    "\n",
    "- **ReLU (Rectified Linear Unit)**:\n",
    "  $$\n",
    "  \\text{ReLU}(z) = \\max(0, z)\n",
    "  $$\n",
    "  - Outputs 0 when $z < 0$ and $z$ otherwise.\n",
    "  - Popular for deep networks because it helps alleviate the vanishing gradient problem.\n",
    "\n",
    "- **Leaky ReLU** and **ELU**:\n",
    "  - Variations of ReLU designed to fix some of its shortcomings, such as “dying ReLUs” where gradients become zero for negative inputs.\n"
   ]
  },
  {
   "cell_type": "markdown",
   "metadata": {},
   "source": [
    "**Example Usage in Code:**\n",
    "```python\n",
    "def relu(z):\n",
    "    return max(0, z)\n",
    "\n",
    "def sigmoid(z):\n",
    "    import math\n",
    "    return 1 / (1 + math.exp(-z))\n",
    "```\n"
   ]
  },
  {
   "cell_type": "markdown",
   "metadata": {},
   "source": [
    "❗️ **Important Note:** Choosing an activation function is context-dependent. Different tasks may benefit from different functions, and experimentation or domain knowledge often guides this decision.\n"
   ]
  },
  {
   "cell_type": "markdown",
   "metadata": {},
   "source": [
    "### <a id='toc3_3_'></a>[Training and Learning Overview](#toc0_)\n"
   ]
  },
  {
   "cell_type": "markdown",
   "metadata": {},
   "source": [
    "Once we define a network’s layers and activation functions, the next step is **training** the network to perform a specific task, such as classification or regression. While a detailed look at training algorithms (like backpropagation) will come later, here’s a high-level overview:\n",
    "\n",
    "1. **Forward Pass:**  \n",
    "   - Input data is fed into the network.  \n",
    "   - Each layer computes its neurons’ outputs, culminating in final predictions.\n",
    "\n",
    "2. **Loss Calculation:**  \n",
    "   - Compare predictions with *ground truth* labels using a loss function (e.g., Mean Squared Error for regression, Cross-Entropy for classification).  \n",
    "   - The chosen loss function quantifies the difference between the network’s predictions and the correct answers.\n",
    "\n",
    "3. **Backward Pass (Backpropagation):**  \n",
    "   - The network adjusts its weights and biases in the opposite direction of the loss gradient.  \n",
    "   - This step ensures that neurons *contribute less* to errors in future iterations.\n",
    "\n",
    "4. **Optimization and Updates:**  \n",
    "   - Optimizers like **SGD (Stochastic Gradient Descent)** or **Adam** update the parameters in small steps.  \n",
    "   - The network iterates this cycle many times (epochs), gradually reducing error on the training data.\n"
   ]
  },
  {
   "cell_type": "markdown",
   "metadata": {},
   "source": [
    "Over time, the **trained model** ideally generalizes to new, unseen data. The architecture (layers and activations) is what enables complex transformations of inputs through multiple stages, ultimately refining how the network represents data internally.\n"
   ]
  },
  {
   "cell_type": "markdown",
   "metadata": {},
   "source": [
    "By connecting these pieces—layers, activation functions, and the training loop—you gain insight into how a neural network “learns” from its mistakes. This foundational understanding paves the way for delving deeper into specific architectures and specialized networks in more advanced settings.\n",
    "```"
   ]
  },
  {
   "cell_type": "markdown",
   "metadata": {
    "vscode": {
     "languageId": "plaintext"
    }
   },
   "source": [
    "## <a id='toc4_'></a>[Summary](#toc0_)"
   ]
  },
  {
   "cell_type": "markdown",
   "metadata": {},
   "source": [
    "Having explored the foundations, historical milestones, core architecture, and practical applications of artificial neural networks, it's clear that these models are transformative in the way machines learn from data. From simple beginnings in perceptrons to sophisticated deep architectures capable of understanding images, text, and beyond—neural networks have truly revolutionized modern computing.\n"
   ]
  },
  {
   "cell_type": "markdown",
   "metadata": {},
   "source": [
    "Artificial Neural Networks (ANNs) derive their power from their layered structure and the ability to learn complex, nonlinear relationships. Here’s a quick recap of the essentials:\n",
    "\n",
    "- **Biological Inspiration:** ANNs are inspired by how neurons in our brains process information, though they are simplified abstractions.  \n",
    "- **Historical Evolution:** Despite early excitement, neural networks faced setbacks during the AI Winters. However, the resurgence of **backpropagation** and increased computing resources ignited a new era of deep learning.  \n",
    "- **Core Components:** Layers, weights, biases, activation functions, and a training mechanism (often via backpropagation) combine to produce learned models.  \n",
    "- **Widespread Applications:** From computer vision to language applications and beyond, neural networks excel at tasks where traditional machine learning might struggle.\n"
   ]
  },
  {
   "cell_type": "markdown",
   "metadata": {},
   "source": [
    "While neural networks are powerful, they are not a universal solution to every problem. A few critical points to keep in mind:\n",
    "\n",
    "1. **Data Requirements:** Networks typically need large, well-labeled datasets, which can be costly or difficult to obtain.  \n",
    "2. **Computational Demand:** Training deep models often requires specialized hardware like GPUs or TPUs.  \n",
    "3. **Interpretability:** Explaining how a neural network arrives at specific decisions can be challenging, raising concerns in regulated industries.  \n",
    "4. **Overfitting:** With high capacity, ANNs can memorize training data rather than truly learning, necessitating robust regularization and careful evaluation.\n"
   ]
  },
  {
   "cell_type": "markdown",
   "metadata": {},
   "source": [
    "❗️ **Important Note:** Not every data science challenge needs a neural network. Sometimes simpler models are both adequate and more interpretable.\n"
   ]
  },
  {
   "cell_type": "markdown",
   "metadata": {},
   "source": [
    "Neural networks continue to evolve, with **deep learning** methods pushing the boundaries of AI in fields like medical diagnosis, autonomous vehicles, and robotics. Although this lecture provides a foundational understanding, the field is vast. Here are some avenues to explore as you progress:\n",
    "\n",
    "- **Advanced Architectures:** Investigate **Convolutional Neural Networks (CNNs)** and **Recurrent Neural Networks (RNNs)** for more complex tasks.  \n",
    "- **Optimization Techniques:** Learn about momentum-based and adaptive optimizers, such as **Adam** or **RMSProp**, to enhance training performance.  \n",
    "- **Explainable AI:** Delve into methods that make network decisions more understandable and transparent.  \n",
    "- **Ethical and Societal Implications:** As networks become more pervasive, considerations like bias, fairness, and accountability become increasingly important.\n"
   ]
  },
  {
   "cell_type": "markdown",
   "metadata": {},
   "source": [
    "💡 **Tip:** Keep experimenting! Building personal projects, contributing to open-source libraries, or competing in AI challenges can deepen your intuition and practical understanding.\n"
   ]
  },
  {
   "cell_type": "markdown",
   "metadata": {},
   "source": [
    "By combining this knowledge with hands-on experience and continuous learning, you pave the way to becoming proficient in designing, training, and deploying neural network models. This concludes our introduction to Neural Networks, setting the stage for deeper explorations and specialized applications."
   ]
  }
 ],
 "metadata": {
  "kernelspec": {
   "display_name": "py310",
   "language": "python",
   "name": "python3"
  },
  "language_info": {
   "name": "python",
   "version": "3.10.12"
  }
 },
 "nbformat": 4,
 "nbformat_minor": 2
}
