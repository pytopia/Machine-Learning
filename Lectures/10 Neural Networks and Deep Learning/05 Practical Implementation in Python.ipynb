{
 "cells": [
  {
   "cell_type": "markdown",
   "metadata": {},
   "source": [
    "<img src=\"./images/banner.png\" width=\"800\">"
   ]
  },
  {
   "cell_type": "markdown",
   "metadata": {},
   "source": [
    "# Practical Implementation in Python (From Scratch)"
   ]
  },
  {
   "cell_type": "markdown",
   "metadata": {},
   "source": [
    "In this lecture, we will implement a neural network *from scratch* using **pure Python** and **NumPy** to truly understand how forward and backward propagation work under the hood. By the end of this lesson, you should have a clear understanding of how layers are chained together, how errors are computed, and how gradients are efficiently propagated backward through the network.\n"
   ]
  },
  {
   "cell_type": "markdown",
   "metadata": {},
   "source": [
    "In a neural network, data moves through a series of layers until it produces an output. Once we have that output, we compare it to our target (the *desired* output) and compute an **error** (or *loss*):\n",
    "\n",
    "1. **Input →** Feed data into the neural network.\n",
    "2. **Forward Propagation →** Data flows through each layer sequentially until it produces an *output*.\n",
    "3. **Error Calculation →** Compare the network’s output to the desired output to obtain an *error*.\n",
    "4. **Parameter Update →** Use the *error gradient* with respect to each parameter to update weights and biases (via the *chain rule*).\n"
   ]
  },
  {
   "cell_type": "markdown",
   "metadata": {},
   "source": [
    "<img src=\"./images/training-loop.png\" width=\"800\">"
   ]
  },
  {
   "cell_type": "markdown",
   "metadata": {},
   "source": [
    "We repeat these steps iteratively, aiming to reduce the total error over time. This process is the essence of **gradient descent**.\n"
   ]
  },
  {
   "cell_type": "markdown",
   "metadata": {},
   "source": [
    "❗️ **Important Note:**\n",
    "The crucial component is the ability to compute the derivative of the error with respect to each parameter, no matter how we structure our network or what activation functions we use. To achieve this flexibility, we will implement each layer **individually**. Each layer will:\n",
    "\n",
    "- Receive an input (X) and produce an output (Y) during forward propagation.\n",
    "- Calculate partial derivatives ∂E/∂Y during backward propagation and pass ∂E/∂X to the preceding layer.\n"
   ]
  },
  {
   "cell_type": "markdown",
   "metadata": {},
   "source": [
    "This modular design allows us to chain layers in any configuration while still performing correct gradient updates.\n"
   ]
  },
  {
   "cell_type": "markdown",
   "metadata": {},
   "source": [
    "In this lecture, our goal is to demystify the fundamental steps behind backpropagation and gradient descent by constructing a simple, fully connected network completely **from scratch**. We will:\n",
    "\n",
    "- **Define a base Layer class** to handle inputs, outputs, and abstract forward/backward methods.\n",
    "- **Implement a Fully Connected (FC) Layer** that performs matrix multiplication and updates according to calculated gradients.\n",
    "- **Introduce an Activation Layer** (e.g., ReLU or Sigmoid) to add non-linearity to the network.\n",
    "- **Implement a simple Loss function** (such as Mean Squared Error) and show how it interacts with the final network output.\n",
    "- **Assemble everything** into a cohesive Network class, allowing us to train on example tasks like XOR and potentially MNIST (with flattened images).\n"
   ]
  },
  {
   "cell_type": "markdown",
   "metadata": {},
   "source": [
    "💡 **Tip:**\n",
    "Building a neural network in this manner may feel more complex than using a library, but it is the best way to understand how each computation step works internally. Once you grasp these fundamentals, transitioning to higher-level libraries (like `scikit-learn` or deep learning frameworks) becomes more intuitive."
   ]
  },
  {
   "cell_type": "markdown",
   "metadata": {},
   "source": [
    "**Table of contents**<a id='toc0_'></a>    \n",
    "- [Layer-by-Layer Approach](#toc1_)    \n",
    "  - [Forward vs. Backward Propagation](#toc1_1_)    \n",
    "  - [Why Separate Layers and Activations?](#toc1_2_)    \n",
    "  - [Handling Arbitrary Network Architectures](#toc1_3_)    \n",
    "- [Abstract Base Class: Layer](#toc2_)    \n",
    "  - [Inputs and Outputs](#toc2_1_)    \n",
    "  - [Forward Method](#toc2_2_)    \n",
    "  - [Backward Method](#toc2_3_)    \n",
    "  - [Learning Rate Considerations](#toc2_4_)    \n",
    "- [Fully Connected Layer](#toc3_)    \n",
    "  - [Matrix Multiplication for Forward Propagation](#toc3_1_)    \n",
    "  - [Derivatives for Backpropagation](#toc3_2_)    \n",
    "  - [Updating Weights and Biases](#toc3_3_)    \n",
    "- [Activation Layer](#toc4_)    \n",
    "  - [Introducing Non-Linearity](#toc4_1_)    \n",
    "  - [Forward Pass (Element-Wise)](#toc4_2_)    \n",
    "  - [Derivative Computation for Backpropagation](#toc4_3_)    \n",
    "  - [Example Implementation](#toc4_4_)    \n",
    "- [Defining the Loss Function](#toc5_)    \n",
    "  - [Mean Squared Error (MSE)](#toc5_1_)    \n",
    "  - [Implementing the Loss and Its Derivative](#toc5_2_)    \n",
    "  - [Why Keep Loss Separate?](#toc5_3_)    \n",
    "- [Building the Network Class](#toc6_)    \n",
    "  - [Sequential Architecture](#toc6_1_)    \n",
    "  - [Forward Pass Through All Layers](#toc6_2_)    \n",
    "  - [Backpropagation Chaining](#toc6_3_)    \n",
    "  - [Training Loop Structure](#toc6_4_)    \n",
    "- [Example 1: Solving XOR](#toc7_)    \n",
    "  - [Dataset Setup](#toc7_1_)    \n",
    "  - [Network Configuration](#toc7_2_)    \n",
    "  - [Training and Results](#toc7_3_)    \n",
    "  - [Verifying the Model](#toc7_4_)    \n",
    "- [Example 2: Solving MNIST](#toc8_)    \n",
    "  - [Dataset Considerations](#toc8_1_)    \n",
    "  - [Flattening Images for Input](#toc8_2_)    \n",
    "  - [Network Configuration and Training](#toc8_3_)    \n",
    "  - [Evaluating Results](#toc8_4_)    \n",
    "\n",
    "<!-- vscode-jupyter-toc-config\n",
    "\tnumbering=false\n",
    "\tanchor=true\n",
    "\tflat=false\n",
    "\tminLevel=2\n",
    "\tmaxLevel=6\n",
    "\t/vscode-jupyter-toc-config -->\n",
    "<!-- THIS CELL WILL BE REPLACED ON TOC UPDATE. DO NOT WRITE YOUR TEXT IN THIS CELL -->"
   ]
  },
  {
   "cell_type": "markdown",
   "metadata": {},
   "source": [
    "## <a id='toc1_'></a>[Layer-by-Layer Approach](#toc0_)"
   ]
  },
  {
   "cell_type": "markdown",
   "metadata": {},
   "source": [
    "In this section, we will see why building a neural network *one layer at a time* provides us with both **flexibility** and **simplicity** when it comes to forward and backward propagation. By keeping each layer self-contained—handling its own inputs, outputs, and parameter gradients—we can mix and match layers of different types without rewriting large parts of the code.\n"
   ]
  },
  {
   "cell_type": "markdown",
   "metadata": {},
   "source": [
    "<img src=\"./images/nn-layer.jpg\" width=\"800\">"
   ]
  },
  {
   "cell_type": "markdown",
   "metadata": {},
   "source": [
    "### <a id='toc1_1_'></a>[Forward vs. Backward Propagation](#toc0_)\n"
   ]
  },
  {
   "cell_type": "markdown",
   "metadata": {},
   "source": [
    "**Forward propagation** is the step where:\n",
    "1. Input data flows into a layer.\n",
    "2. The layer computes its output based on provided parameters (weights, biases) and any activation function.\n",
    "3. The output of the current layer becomes the input to the next layer.\n"
   ]
  },
  {
   "cell_type": "markdown",
   "metadata": {},
   "source": [
    "<img src=\"./images/forward-propagation.webp\" width=\"800\">"
   ]
  },
  {
   "cell_type": "markdown",
   "metadata": {},
   "source": [
    "**Backward propagation** (often shortened to “backprop”) is the step where:\n",
    "1. We start from the **final** layer and calculate the derivative of the error with respect to the layer’s *output*.\n",
    "2. We then compute the derivative of the error with respect to the layer’s *parameters* (e.g., weights, biases).\n",
    "3. Finally, we determine the derivative of the error with respect to the layer’s *input*, which the previous layer needs in order to continue backpropagation.\n"
   ]
  },
  {
   "cell_type": "markdown",
   "metadata": {},
   "source": [
    "<img src=\"./images/backward-propagation.jpg\" width=\"800\">"
   ]
  },
  {
   "cell_type": "markdown",
   "metadata": {},
   "source": [
    "Remember that the **output** of one layer is the **input** of the next. By systematically propagating gradients from the last layer to the first, we can efficiently update every parameter in the network using the chain rule, regardless of how many layers or types of layers we have.\n"
   ]
  },
  {
   "cell_type": "markdown",
   "metadata": {},
   "source": [
    "Why split these steps?\n",
    "- By splitting these steps, each layer can focus on its local computations—i.e., how it processes an input during forward propagation and how it calculates updates during backward propagation.\n",
    "- The network as a whole benefits from a “plug-and-play” architecture: as long as each layer knows how to handle forward and backward passes, they can be stacked in any order to form complex models.\n"
   ]
  },
  {
   "cell_type": "markdown",
   "metadata": {},
   "source": [
    "### <a id='toc1_2_'></a>[Why Separate Layers and Activations?](#toc0_)\n"
   ]
  },
  {
   "cell_type": "markdown",
   "metadata": {},
   "source": [
    "At first glance, one might be tempted to combine **linear transformations** (like the fully connected layer’s matrix multiplication) with **activation functions** (like ReLU or Sigmoid) in a single class. However, there are practical advantages to defining each as a distinct layer:\n",
    "\n",
    "1. **Modularity:** You can “turn off” or swap out an activation function without altering the rest of your code.\n",
    "2. **Clarity:** Activations often have no trainable parameters (e.g., ReLU); keeping them separate highlights which parts of the network are learning.\n",
    "3. **Extendability:** It becomes trivial to introduce new layer types, such as Convolutional or Dropout layers, when the activation logic is not tangled with the core linear operations.\n"
   ]
  },
  {
   "cell_type": "markdown",
   "metadata": {},
   "source": [
    "<img src=\"./images/nn-layers.jpg\" width=\"800\">"
   ]
  },
  {
   "cell_type": "markdown",
   "metadata": {},
   "source": [
    "Below is a conceptual snippet illustrating how one layer passes its output to the next:\n"
   ]
  },
  {
   "cell_type": "markdown",
   "metadata": {},
   "source": [
    "```python\n",
    "# Pseudocode illustrating separate linear and activation layers\n",
    "\n",
    "X = ...  # Input data\n",
    "fc_layer = FullyConnectedLayer(input_size, output_size)\n",
    "activation_layer = ActivationLayer(activation_function)\n",
    "\n",
    "# Forward pass through FC layer\n",
    "Z = fc_layer.forward(X)\n",
    "\n",
    "# Forward pass through Activation layer\n",
    "Y = activation_layer.forward(Z)\n",
    "```\n"
   ]
  },
  {
   "cell_type": "markdown",
   "metadata": {},
   "source": [
    "If later you decide to switch from a Sigmoid activation to a ReLU, you only change the definition of `activation_layer`—the rest remains the same.\n"
   ]
  },
  {
   "cell_type": "markdown",
   "metadata": {},
   "source": [
    "### <a id='toc1_3_'></a>[Handling Arbitrary Network Architectures](#toc0_)\n"
   ]
  },
  {
   "cell_type": "markdown",
   "metadata": {},
   "source": [
    "By combining multiple layers, we can create powerful neural networks of any depth or composition. For instance, your network might look like this:\n",
    "\n",
    "- **Fully Connected Layer** → **Activation Layer** → **Fully Connected Layer** → **Activation Layer** → **Loss**\n"
   ]
  },
  {
   "cell_type": "markdown",
   "metadata": {},
   "source": [
    "When performing backpropagation, each forward operation has a corresponding **reverse** calculation. Each layer:\n",
    "1. Receives ∂E/∂Y (error derivative w.r.t. its output) from the layer that follows it.\n",
    "2. Computes ∂E/∂X (derivative w.r.t. its input) to pass back to the layer that precedes it.\n",
    "3. Updates any trainable parameters (weights or biases) if applicable.\n"
   ]
  },
  {
   "cell_type": "markdown",
   "metadata": {},
   "source": [
    "In code, you can imagine a loop like:\n"
   ]
  },
  {
   "cell_type": "markdown",
   "metadata": {},
   "source": [
    "```python\n",
    "# Forward pass\n",
    "for layer in network_layers:\n",
    "    X = layer.forward(X)\n",
    "\n",
    "# Compute loss\n",
    "loss = loss_function(X, Y_true)\n",
    "\n",
    "# Backward pass\n",
    "grad = loss_function_prime(X, Y_true)\n",
    "for layer in reversed(network_layers):\n",
    "    grad = layer.backward(grad, learning_rate)\n",
    "```\n"
   ]
  },
  {
   "cell_type": "markdown",
   "metadata": {},
   "source": [
    "Here, `network_layers` might contain different types of layers (fully connected, activation, etc.). Because each layer implements `forward` and `backward` in a standard way, we don’t need special logic for different architectures—everything just *fits* together.\n"
   ]
  },
  {
   "cell_type": "markdown",
   "metadata": {},
   "source": [
    "By adhering to this layer-by-layer approach, we can tackle modifications (e.g., adding layers, changing activation functions) with minimal disruption to the rest of the code. This structure is exactly what enables complex frameworks like PyTorch or TensorFlow to handle diverse network designs while remaining consistent under the hood."
   ]
  },
  {
   "cell_type": "markdown",
   "metadata": {},
   "source": [
    "## <a id='toc2_'></a>[Abstract Base Class: Layer](#toc0_)"
   ]
  },
  {
   "cell_type": "markdown",
   "metadata": {},
   "source": [
    "One of the key insights for building our neural network from scratch is to define a **base class** for layers. Each specific type of layer (e.g., **Fully Connected**, **Convolutional**, **Activation**) will inherit from this class, ensuring consistent *forward* and *backward* method signatures. By doing so, we can handle a variety of layer types in a unified fashion when chaining them together in our **Network**.\n"
   ]
  },
  {
   "cell_type": "markdown",
   "metadata": {},
   "source": [
    "### <a id='toc2_1_'></a>[Inputs and Outputs](#toc0_)\n"
   ]
  },
  {
   "cell_type": "markdown",
   "metadata": {},
   "source": [
    "In general, every layer deals with:\n",
    "\n",
    "- **Input**: The data it receives from the previous layer (or from the dataset if it’s the first layer).\n",
    "- **Output**: The data it computes and sends to the next layer.\n"
   ]
  },
  {
   "cell_type": "markdown",
   "metadata": {},
   "source": [
    "These will be stored in attributes (e.g., `self.input` and `self.output`).\n"
   ]
  },
  {
   "cell_type": "markdown",
   "metadata": {},
   "source": [
    "### <a id='toc2_2_'></a>[Forward Method](#toc0_)\n"
   ]
  },
  {
   "cell_type": "markdown",
   "metadata": {},
   "source": [
    "Each layer must implement a `forward` method that computes its **output** (`self.output`) based on its **input**. For example:\n",
    "\n",
    "- A **fully connected** layer will apply a matrix multiplication.\n",
    "- An **activation** layer will apply a function element-wise.\n"
   ]
  },
  {
   "cell_type": "markdown",
   "metadata": {},
   "source": [
    "However, in the abstract base class, we only define the **interface** and leave the actual implementation for subclasses.\n"
   ]
  },
  {
   "cell_type": "markdown",
   "metadata": {},
   "source": [
    "### <a id='toc2_3_'></a>[Backward Method](#toc0_)\n"
   ]
  },
  {
   "cell_type": "markdown",
   "metadata": {},
   "source": [
    "We go backward in backpropagation because it's the most efficient way to calculate how each weight and bias in a neural network contributed to the overall error. Here's a detailed explanation:"
   ]
  },
  {
   "cell_type": "markdown",
   "metadata": {},
   "source": [
    "Imagine a basic neural network:\n",
    "- Input (x) → Weight1 (w1) → Hidden (h) → Weight2 (w2) → Output (y)\n"
   ]
  },
  {
   "cell_type": "markdown",
   "metadata": {},
   "source": [
    "<img src=\"./images/mnist-cost.png\" width=\"800\">"
   ]
  },
  {
   "cell_type": "markdown",
   "metadata": {},
   "source": [
    "<img src=\"./images/mnist-cost-2.png\" width=\"800\">"
   ]
  },
  {
   "cell_type": "markdown",
   "metadata": {},
   "source": [
    "Let's compare Forward vs Backward approaches:\n"
   ]
  },
  {
   "cell_type": "markdown",
   "metadata": {},
   "source": [
    "FORWARD APPROACH (Why it's problematic):\n",
    "1. Start at input (x)\n",
    "2. You want to know how changing w1 affects the final error\n",
    "3. BUT you don't know yet how the hidden layer (h) will influence the final output\n",
    "4. You'd have to:\n",
    "   - Calculate ∂h/∂w1 (effect on hidden layer)\n",
    "   - Then calculate ∂y/∂h (effect on output)\n",
    "   - Then combine these to get ∂y/∂w1\n",
    "   - Do this for EVERY possible path\n"
   ]
  },
  {
   "cell_type": "markdown",
   "metadata": {},
   "source": [
    "It's like trying to predict how changing your first chess move will affect the game's outcome without knowing future moves!\n"
   ]
  },
  {
   "cell_type": "markdown",
   "metadata": {},
   "source": [
    "BACKWARD APPROACH (Why it's better):\n",
    "1. Start at output (y) where you know the error\n",
    "2. Calculate ∂error/∂w2 directly\n",
    "3. Then use this to calculate ∂error/∂w1\n",
    "4. Each step uses information we already have\n"
   ]
  },
  {
   "cell_type": "markdown",
   "metadata": {},
   "source": [
    "<img src=\"./images/chain-rule.svg\" width=\"800\">"
   ]
  },
  {
   "cell_type": "markdown",
   "metadata": {},
   "source": [
    "It's like watching a recorded chess game and working backwards to see which moves led to the final result.\n"
   ]
  },
  {
   "cell_type": "markdown",
   "metadata": {},
   "source": [
    "Think of it like a chain of dominoes:\n",
    "- Forward: You're trying to predict how hard to push the first domino without knowing the path ahead\n",
    "- Backward: You see which dominoes fell and trace back to understand why\n"
   ]
  },
  {
   "cell_type": "markdown",
   "metadata": {},
   "source": [
    "During backpropagation, each layer must receive the derivative of the error with respect to its *own* output, commonly denoted as ∂E/∂Y or `dE_dY`. From there, the layer should:\n",
    "\n",
    "1. Compute the derivative with respect to its parameters (if it has any, like weights or biases).\n",
    "2. Update those parameters (e.g., via *gradient descent*).\n",
    "3. Compute ∂E/∂X (the derivative of the error with respect to the **layer’s input**).\n"
   ]
  },
  {
   "cell_type": "markdown",
   "metadata": {},
   "source": [
    "The **backward** method should return ∂E/∂X so that the previous layer can continue the chain of backward propagation.\n"
   ]
  },
  {
   "cell_type": "markdown",
   "metadata": {},
   "source": [
    "### <a id='toc2_4_'></a>[Learning Rate Considerations](#toc0_)\n"
   ]
  },
  {
   "cell_type": "markdown",
   "metadata": {},
   "source": [
    "Notice that our abstract `backward` method includes a parameter for **learning_rate**. In more sophisticated implementations, you might replace this with an *optimizer class/strategy* (e.g., Momentum, Adam). For simplicity, we will stick to a basic learning rate in this scratch implementation.\n"
   ]
  },
  {
   "cell_type": "markdown",
   "metadata": {},
   "source": [
    "Below is an example of how we might define this class in code:\n"
   ]
  },
  {
   "cell_type": "code",
   "execution_count": 1,
   "metadata": {},
   "outputs": [],
   "source": [
    "class Layer:\n",
    "    \"\"\"\n",
    "    Abstract base class for network layers.\n",
    "\n",
    "    Every layer must implement:\n",
    "        - forward(input_data)\n",
    "        - backward(dE_dY, learning_rate)\n",
    "    \"\"\"\n",
    "    def __init__(self):\n",
    "        # Store input and output data for reference\n",
    "        self.input = None\n",
    "        self.output = None\n",
    "\n",
    "    def forward(self, input_data):\n",
    "        \"\"\"\n",
    "        Computes the output Y of the layer given the input X.\n",
    "\n",
    "        :param input_data: numpy array of shape (batch_size, input_dim)\n",
    "        :return: output_data: numpy array of shape (batch_size, output_dim)\n",
    "        \"\"\"\n",
    "        raise NotImplementedError\n",
    "\n",
    "    def backward(self, dE_dY, learning_rate):\n",
    "        \"\"\"\n",
    "        Backward pass that computes dE/dX for this layer,\n",
    "        and updates parameters if the layer has any.\n",
    "\n",
    "        :param dE_dY: derivative of the network error with respect to this layer's output\n",
    "        :param learning_rate: the learning rate for parameter updates\n",
    "        :return: dE_dX: derivative of the network error with respect to this layer's input\n",
    "        \"\"\"\n",
    "        raise NotImplementedError"
   ]
  },
  {
   "cell_type": "markdown",
   "metadata": {},
   "source": [
    "With this **Layer** abstract class, we have a template for **forward** and **backward** propagation that all subsequent layers will follow. This pattern keeps our code clean, consistent, and easy to extend with new layer types."
   ]
  },
  {
   "cell_type": "markdown",
   "metadata": {},
   "source": [
    "## <a id='toc3_'></a>[Fully Connected Layer](#toc0_)"
   ]
  },
  {
   "cell_type": "markdown",
   "metadata": {},
   "source": [
    "A **Fully Connected (FC) Layer** (also known as a **Dense Layer**) takes each input neuron and connects it to every output neuron via a **weight matrix** and **bias** vector. This layer is entirely responsible for the linear component of the transformation:\n",
    "\n",
    "$$\\mathbf{Y} = \\mathbf{X}\\mathbf{W} + \\mathbf{B}$$\n"
   ]
  },
  {
   "cell_type": "markdown",
   "metadata": {},
   "source": [
    "<img src=\"./images/fully-connected-layer.png\" width=\"800\">"
   ]
  },
  {
   "cell_type": "markdown",
   "metadata": {},
   "source": [
    "While we're focusing on fully connected layers today, I want you to know that there are many other fascinating types of neural network layers that you'll encounter in your advanced courses. These include:\n",
    "\n",
    "- **Convolutional layers** - which you'll see in your Computer Vision courses\n",
    "- **Recurrent layers** (like LSTM and GRU) - which you'll learn about in Sequential Data Processing\n",
    "- **Attention layers** - which are fundamental to modern Natural Language Processing\n",
    "- **Pooling layers** - often used alongside convolutional layers\n",
    "- **Normalization layers** - which help in training deep networks\n",
    "- **Dropout layers** - important for preventing overfitting\n",
    "- **Embedding layers** - crucial for text and categorical data processing\n",
    "\n",
    "You'll get hands-on experience with these layers in your advanced deep learning courses, but for now, let's focus on understanding fully connected layers, which form the foundation of neural networks"
   ]
  },
  {
   "cell_type": "markdown",
   "metadata": {},
   "source": [
    "<img src=\"./images/cnn_banner.webp\" width=\"800\">"
   ]
  },
  {
   "cell_type": "markdown",
   "metadata": {},
   "source": [
    "Here,\n",
    "- $\\mathbf{X}$ is the input to this layer (shape: *batch_size × input_dim*),\n",
    "- $\\mathbf{W}$ is the weight matrix (shape: *input_dim × output_dim*),\n",
    "- $\\mathbf{B}$ is the bias vector (shape: *1 × output_dim*),\n",
    "- $\\mathbf{Y}$ is the output (shape: *batch_size × output_dim*).\n"
   ]
  },
  {
   "cell_type": "markdown",
   "metadata": {},
   "source": [
    "### <a id='toc3_1_'></a>[Matrix Multiplication for Forward Propagation](#toc0_)\n"
   ]
  },
  {
   "cell_type": "markdown",
   "metadata": {},
   "source": [
    "During the **forward** pass, we simply perform this matrix multiplication and add the bias:\n",
    "\n",
    "1. **Retrieve input**: The layer takes the incoming data from `self.input`.\n",
    "2. **Compute output**: Multiply it by the weight matrix and add the bias.\n",
    "3. **Store the result** in `self.output` so it can be used later during backpropagation.\n"
   ]
  },
  {
   "cell_type": "markdown",
   "metadata": {},
   "source": [
    "Below is an example of how this might look in code:\n"
   ]
  },
  {
   "cell_type": "code",
   "execution_count": 2,
   "metadata": {},
   "outputs": [],
   "source": [
    "import numpy as np\n",
    "\n",
    "\n",
    "class FCLayer(Layer):\n",
    "    def __init__(self, input_size, output_size):\n",
    "        # Initialize weights and biases randomly\n",
    "        self.weights = np.random.randn(input_size, output_size) * 0.01\n",
    "        self.bias = np.zeros((1, output_size))\n",
    "        self.input = None\n",
    "        self.output = None\n",
    "\n",
    "    def forward(self, input_data):\n",
    "        \"\"\"\n",
    "        Perform the forward pass for a fully connected layer:\n",
    "        Y = XW + B\n",
    "        \"\"\"\n",
    "        self.input = input_data\n",
    "        self.output = np.dot(self.input, self.weights) + self.bias\n",
    "        return self.output"
   ]
  },
  {
   "cell_type": "markdown",
   "metadata": {},
   "source": [
    "By separating the **Fully Connected Layer** from any **Activation** layer, we make our design more modular and easier to maintain or modify.\n"
   ]
  },
  {
   "cell_type": "markdown",
   "metadata": {},
   "source": [
    "### <a id='toc3_2_'></a>[Derivatives for Backpropagation](#toc0_)\n"
   ]
  },
  {
   "cell_type": "markdown",
   "metadata": {},
   "source": [
    "During **backpropagation**, we must compute:\n",
    "1. $\\frac{\\partial E}{\\partial \\mathbf{W}}$ and $\\frac{\\partial E}{\\partial \\mathbf{B}}$ to update our trainable parameters.\n",
    "2. $\\frac{\\partial E}{\\partial \\mathbf{X}}$ so the previous layer knows how the error changes with respect to its output.\n"
   ]
  },
  {
   "cell_type": "markdown",
   "metadata": {},
   "source": [
    "Given $\\mathbf{dE\\_dY}$ (the derivative of the error $E$ with respect to this layer’s output $\\mathbf{Y}$), we use the chain rule:\n",
    "\n",
    "1. **Weight Gradient** ($\\frac{\\partial E}{\\partial \\mathbf{W}}$):\n",
    "   $$\\frac{\\partial E}{\\partial \\mathbf{W}} = \\mathbf{X}^T \\cdot \\mathbf{dE\\_dY}$$\n",
    "2. **Bias Gradient** ($\\frac{\\partial E}{\\partial \\mathbf{B}}$):\n",
    "   $$\\frac{\\partial E}{\\partial \\mathbf{B}} = \\sum_{\\text{all samples}} \\mathbf{dE\\_dY}$$\n",
    "3. **Input Gradient** ($\\frac{\\partial E}{\\partial \\mathbf{X}}$):\n",
    "   $$\\frac{\\partial E}{\\partial \\mathbf{X}} = \\mathbf{dE\\_dY} \\cdot \\mathbf{W}^T$$\n"
   ]
  },
  {
   "cell_type": "markdown",
   "metadata": {},
   "source": [
    "We then pass $\\frac{\\partial E}{\\partial \\mathbf{X}}$ to the previous layer and update $\\mathbf{W}$ and $\\mathbf{B}$ using the chosen learning rate $\\alpha$:\n",
    "\n",
    "$$\\mathbf{W} \\leftarrow \\mathbf{W} - \\alpha \\,\\frac{\\partial E}{\\partial \\mathbf{W}}, \\quad \\mathbf{B} \\leftarrow \\mathbf{B} - \\alpha \\,\\frac{\\partial E}{\\partial \\mathbf{B}}.$$\n"
   ]
  },
  {
   "cell_type": "markdown",
   "metadata": {},
   "source": [
    "### <a id='toc3_3_'></a>[Updating Weights and Biases](#toc0_)\n"
   ]
  },
  {
   "cell_type": "markdown",
   "metadata": {},
   "source": [
    "Putting it all together, our `backward` method might look like this:\n"
   ]
  },
  {
   "cell_type": "code",
   "execution_count": 3,
   "metadata": {},
   "outputs": [],
   "source": [
    "class FCLayer(Layer):\n",
    "    def __init__(self, input_size, output_size):\n",
    "        # Initialize weights and biases randomly\n",
    "        self.weights = np.random.randn(input_size, output_size) * 0.01\n",
    "        self.bias = np.zeros((1, output_size))\n",
    "        self.input = None\n",
    "        self.output = None\n",
    "\n",
    "    def forward(self, input_data):\n",
    "        \"\"\"\n",
    "        Perform the forward pass for a fully connected layer:\n",
    "        Y = XW + B\n",
    "        \"\"\"\n",
    "        self.input = input_data\n",
    "        self.output = np.dot(self.input, self.weights) + self.bias\n",
    "        return self.output\n",
    "\n",
    "    def backward(self, dE_dY, learning_rate):\n",
    "        \"\"\"\n",
    "        Performs the backward pass:\n",
    "            1. Compute gradients for weights and biases using dE_dY.\n",
    "            2. Update weights and biases.\n",
    "            3. Return dE_dX to propagate the error backward.\n",
    "        \"\"\"\n",
    "        # Number of training examples in the batch\n",
    "        batch_size = self.input.shape[0]\n",
    "\n",
    "        # dE/dW = X^T * dE/dY\n",
    "        dE_dW = np.dot(self.input.T, dE_dY)\n",
    "\n",
    "        # dE/dB = sum of dE/dY across every sample\n",
    "        dE_dB = np.sum(dE_dY, axis=0, keepdims=True)\n",
    "\n",
    "        # dE/dX = dE/dY * W^T\n",
    "        dE_dX = np.dot(dE_dY, self.weights.T)\n",
    "\n",
    "        # Update weights and biases\n",
    "        self.weights -= learning_rate * dE_dW\n",
    "        self.bias -= learning_rate * dE_dB\n",
    "\n",
    "        return dE_dX"
   ]
  },
  {
   "cell_type": "markdown",
   "metadata": {},
   "source": [
    "1. We compute $\\frac{\\partial E}{\\partial \\mathbf{W}}$ and $\\frac{\\partial E}{\\partial \\mathbf{B}}$ based on the inputs and $\\mathbf{dE\\_dY}$.\n",
    "2. We update our weight matrix and bias vector via the learning rate.\n",
    "3. Finally, we compute and return $\\mathbf{dE\\_dX}$, which will serve as $\\mathbf{dE\\_dY}$ for the preceding layer.\n"
   ]
  },
  {
   "cell_type": "markdown",
   "metadata": {},
   "source": [
    "Notice how this layer class handles **only** the linear transformation—activations will be handled as a separate layer, making our code more modular."
   ]
  },
  {
   "cell_type": "markdown",
   "metadata": {},
   "source": [
    "## <a id='toc4_'></a>[Activation Layer](#toc0_)"
   ]
  },
  {
   "cell_type": "markdown",
   "metadata": {},
   "source": [
    "When using only fully connected layers and matrix multiplications, the model behaves like a simple linear function, which severely limits its ability to learn complex patterns. To remedy this, we introduce **activation functions**. By applying a non-linear element-wise transformation, we give the network enough flexibility to capture non-linear relationships in the data.\n"
   ]
  },
  {
   "cell_type": "markdown",
   "metadata": {},
   "source": [
    "<img src=\"./images/activation-functions-3.png\" width=\"800\">"
   ]
  },
  {
   "cell_type": "markdown",
   "metadata": {},
   "source": [
    "### <a id='toc4_1_'></a>[Introducing Non-Linearity](#toc0_)\n"
   ]
  },
  {
   "cell_type": "markdown",
   "metadata": {},
   "source": [
    "An **activation function** takes an input $X$ (the output of a previous linear transformation) and applies a non-linear function $f$, producing an output $Y$ of the same shape:\n",
    "\n",
    "$$\n",
    "Y = f(X)\n",
    "$$\n"
   ]
  },
  {
   "cell_type": "markdown",
   "metadata": {},
   "source": [
    "Typical examples of activation functions include **Sigmoid**, **Tanh**, and **ReLU**:\n",
    "\n",
    "- **Sigmoid** $\\sigma(x) = \\frac{1}{1 + e^{-x}}$\n",
    "- **Tanh** $\\tanh(x) = \\frac{e^x - e^{-x}}{e^x + e^{-x}}$\n",
    "- **ReLU** $\\mathrm{ReLU}(x) = \\max(0, x)$\n"
   ]
  },
  {
   "cell_type": "markdown",
   "metadata": {},
   "source": [
    "By separating activations into their own layer, we can easily change which activation function we use without altering our fully connected layers.\n"
   ]
  },
  {
   "cell_type": "markdown",
   "metadata": {},
   "source": [
    "### <a id='toc4_2_'></a>[Forward Pass (Element-Wise)](#toc0_)\n"
   ]
  },
  {
   "cell_type": "markdown",
   "metadata": {},
   "source": [
    "During the **forward** pass, the activation layer simply takes the output of the previous layer (e.g., a **Fully Connected** layer) and applies the chosen activation function *element-wise*. This means if the input is a matrix $\\mathbf{X}$, each element $x_{i,j}$ is mapped to $f(x_{i,j})$.\n"
   ]
  },
  {
   "cell_type": "markdown",
   "metadata": {},
   "source": [
    "❗️ **Important Note:**\n",
    "Because each element of the input is independently transformed, the shape of the output matches the shape of the input for this layer.\n"
   ]
  },
  {
   "cell_type": "markdown",
   "metadata": {},
   "source": [
    "### <a id='toc4_3_'></a>[Derivative Computation for Backpropagation](#toc0_)\n"
   ]
  },
  {
   "cell_type": "markdown",
   "metadata": {},
   "source": [
    "Unlike the **Fully Connected** layer, an activation layer typically has **no trainable parameters** (no weights or biases). However, we still need to compute how the error changes with respect to its input $\\mathbf{X}$. Given $\\frac{\\partial E}{\\partial Y}$ (the derivative of the error with respect to this layer’s output), we use the chain rule:\n",
    "\n",
    "$$\n",
    "\\frac{\\partial E}{\\partial X}\n",
    "= \\frac{\\partial E}{\\partial Y} \\odot f'(X)\n",
    "$$\n"
   ]
  },
  {
   "cell_type": "markdown",
   "metadata": {},
   "source": [
    "Here, $\\odot$ denotes the *element-wise multiplication*, and $f'(X)$ is the derivative of the activation function evaluated at each element of $X$.\n"
   ]
  },
  {
   "cell_type": "markdown",
   "metadata": {},
   "source": [
    "### <a id='toc4_4_'></a>[Example Implementation](#toc0_)\n"
   ]
  },
  {
   "cell_type": "markdown",
   "metadata": {},
   "source": [
    "Below is a simple **ActivationLayer** class. We pass it two functions at initialization:\n",
    "• **activation**: The forward pass function $f$\n",
    "• **activation_prime**: The derivative $f'$ for the backward pass\n"
   ]
  },
  {
   "cell_type": "code",
   "execution_count": 4,
   "metadata": {},
   "outputs": [],
   "source": [
    "import numpy as np\n",
    "\n",
    "\n",
    "class ActivationLayer(Layer):\n",
    "    \"\"\"\n",
    "    An activation layer to apply a non-linear function element-wise.\n",
    "    \"\"\"\n",
    "    def __init__(self, activation, activation_prime):\n",
    "        super().__init__()\n",
    "        self.activation = activation\n",
    "        self.activation_prime = activation_prime\n",
    "\n",
    "    def forward(self, input_data):\n",
    "        \"\"\"\n",
    "        Applies the activation function element-wise.\n",
    "        \"\"\"\n",
    "        self.input = input_data\n",
    "        self.output = self.activation(self.input)\n",
    "        return self.output\n",
    "\n",
    "    def backward(self, dE_dY, learning_rate):\n",
    "        \"\"\"\n",
    "        Computes dE/dX by multiplying dE/dY element-wise with f'(X).\n",
    "        Activation layers have no trainable parameters to update.\n",
    "        \"\"\"\n",
    "        return dE_dY * self.activation_prime(self.input)"
   ]
  },
  {
   "cell_type": "markdown",
   "metadata": {},
   "source": [
    "An example activation function might look like:\n"
   ]
  },
  {
   "cell_type": "code",
   "execution_count": 5,
   "metadata": {},
   "outputs": [],
   "source": [
    "def relu(x):\n",
    "    return np.maximum(0, x)\n",
    "\n",
    "def relu_prime(x):\n",
    "    return (x > 0).astype(x.dtype)"
   ]
  },
  {
   "cell_type": "markdown",
   "metadata": {},
   "source": [
    "This decoupled design allows us to mix and match any activation function we like. For instance, we might switch from **ReLU** to **Sigmoid** with minimal code changes. By keeping this layer separate, we maintain a flexible framework that can accommodate the many non-linearities essential to modern neural networks."
   ]
  },
  {
   "cell_type": "markdown",
   "metadata": {},
   "source": [
    "## <a id='toc5_'></a>[Defining the Loss Function](#toc0_)"
   ]
  },
  {
   "cell_type": "markdown",
   "metadata": {},
   "source": [
    "Every neural network’s goal is to *minimize* an error, or **loss**, that quantifies the difference between the **predicted output** and the **desired output**. This means we need:\n",
    "\n",
    "1. A function to compute the **loss** value (e.g., **Mean Squared Error**, **Cross-Entropy**, etc.).\n",
    "2. A corresponding function to compute the **gradient** of the loss with respect to the network’s output.\n"
   ]
  },
  {
   "cell_type": "markdown",
   "metadata": {},
   "source": [
    "<img src=\"./images/loss.png\" width=\"800\">"
   ]
  },
  {
   "cell_type": "markdown",
   "metadata": {},
   "source": [
    "### <a id='toc5_1_'></a>[Mean Squared Error (MSE)](#toc0_)\n"
   ]
  },
  {
   "cell_type": "markdown",
   "metadata": {},
   "source": [
    "One of the simplest loss functions is **Mean Squared Error (MSE)**, particularly suitable for **regression** tasks. For predictions $ \\mathbf{Y} $ and true values $ \\mathbf{Y^*} $, the MSE is defined as:\n",
    "\n",
    "$$\n",
    "E(\\mathbf{Y^*}, \\mathbf{Y}) = \\frac{1}{n} \\sum_i (y_i^* - y_i)^2\n",
    "$$\n"
   ]
  },
  {
   "cell_type": "markdown",
   "metadata": {},
   "source": [
    "where $n$ is the number of samples in the batch.\n",
    "\n",
    "- A **low** MSE means our predictions are close to the target values.\n",
    "- A **high** MSE means there is a large discrepancy between predictions and targets.\n"
   ]
  },
  {
   "cell_type": "markdown",
   "metadata": {},
   "source": [
    "To perform backpropagation, we also need the **derivative** of $ E $ with respect to $ \\mathbf{Y} $:\n",
    "\n",
    "$$\n",
    "\\frac{\\partial E}{\\partial \\mathbf{Y}}\n",
    "= \\frac{2}{n} (\\mathbf{Y} - \\mathbf{Y^*})\n",
    "$$\n"
   ]
  },
  {
   "cell_type": "markdown",
   "metadata": {},
   "source": [
    "### <a id='toc5_2_'></a>[Implementing the Loss and Its Derivative](#toc0_)\n"
   ]
  },
  {
   "cell_type": "markdown",
   "metadata": {},
   "source": [
    "Unlike a layer, which has trainable parameters and a structure for forward/backward passes, the loss can be implemented as two simple functions in Python. Below is an example:\n"
   ]
  },
  {
   "cell_type": "code",
   "execution_count": 6,
   "metadata": {},
   "outputs": [],
   "source": [
    "import numpy as np\n",
    "\n",
    "def mse(y_true, y_pred):\n",
    "    \"\"\"\n",
    "    Mean Squared Error (MSE) loss function.\n",
    "    :param y_true: numpy array of shape (batch_size, output_dim)\n",
    "    :param y_pred: numpy array of shape (batch_size, output_dim)\n",
    "    :return: scalar (average MSE for the batch)\n",
    "    \"\"\"\n",
    "    return np.mean(np.power(y_true - y_pred, 2))\n",
    "\n",
    "def mse_prime(y_true, y_pred):\n",
    "    \"\"\"\n",
    "    Derivative of the MSE loss function with respect to y_pred.\n",
    "    :param y_true: numpy array of shape (batch_size, output_dim)\n",
    "    :param y_pred: numpy array of shape (batch_size, output_dim)\n",
    "    :return: numpy array of the same shape as y_pred\n",
    "    \"\"\"\n",
    "    return 2 * (y_pred - y_true) / y_true.size"
   ]
  },
  {
   "cell_type": "markdown",
   "metadata": {},
   "source": [
    "Here’s how these functions integrate into the **training loop** later:\n",
    "\n",
    "1. **Forward Pass**: The network outputs predicted values $ \\mathbf{Y} $.\n",
    "2. **Loss Computation**: We calculate $ E = \\text{mse}( \\mathbf{Y^*}, \\mathbf{Y} ) $.\n",
    "3. **Gradient w.r.t. Output**: We compute $ \\mathbf{dE_dY} = \\text{mse\\_prime} ( \\mathbf{Y^*}, \\mathbf{Y} ) $.\n",
    "4. **Backward Pass**: We feed $ \\mathbf{dE_dY} $ into the final layer’s `backward` method, which passes gradients backward through the network.\n"
   ]
  },
  {
   "cell_type": "markdown",
   "metadata": {},
   "source": [
    "### <a id='toc5_3_'></a>[Why Keep Loss Separate?](#toc0_)\n"
   ]
  },
  {
   "cell_type": "markdown",
   "metadata": {},
   "source": [
    "- **Simplicity:** Loss functions typically do not have trainable parameters.\n",
    "- **Flexibility:** If you want to try **Cross-Entropy** or a custom loss function, you just replace these two functions without changing the layers’ code.\n",
    "- **Clarity:** Separating the network architecture from the definition of the loss improves overall readability and maintainability.\n"
   ]
  },
  {
   "cell_type": "markdown",
   "metadata": {},
   "source": [
    "By isolating the loss function in independent functions, we ensure that the network can easily adapt to different **metrics** and **objectives**—essentially, this completes the picture of how data flows from **input** to **loss** and then how gradients flow back from **loss** to **parameters**."
   ]
  },
  {
   "cell_type": "markdown",
   "metadata": {},
   "source": [
    "## <a id='toc6_'></a>[Building the Network Class](#toc0_)"
   ]
  },
  {
   "cell_type": "markdown",
   "metadata": {},
   "source": [
    "Bringing all the pieces together—layers, activation functions, and the loss—we can create a **Network** class to streamline the forward and backward passes over *any* collection of layers. This class will:\n",
    "\n",
    "1. Maintain an **ordered list of layers** (fully connected, activation, etc.) to be passed data in sequence.\n",
    "2. Provide a **forward** method that feeds the input through each layer in order.\n",
    "3. Provide a **backward** method that propagates gradients back through the network (in reverse order), updating parameters along the way.\n",
    "4. Offer a **train** method to run multiple epochs of forward/backward cycles, compute loss, and track progress.\n"
   ]
  },
  {
   "cell_type": "markdown",
   "metadata": {},
   "source": [
    "### <a id='toc6_1_'></a>[Sequential Architecture](#toc0_)\n"
   ]
  },
  {
   "cell_type": "markdown",
   "metadata": {},
   "source": [
    "The **Network** class holds a list (e.g., `self.layers`) to represent a sequence of transformations. When you add layers, you simply append them:\n"
   ]
  },
  {
   "cell_type": "markdown",
   "metadata": {},
   "source": [
    "```python\n",
    "class Network:\n",
    "    def __init__(self):\n",
    "        # List to store layers in order\n",
    "        self.layers = []\n",
    "\n",
    "    def add(self, layer):\n",
    "        \"\"\"\n",
    "        Add a layer to the network sequence.\n",
    "        \"\"\"\n",
    "        self.layers.append(layer)\n",
    "```"
   ]
  },
  {
   "cell_type": "markdown",
   "metadata": {},
   "source": [
    "This design allows total flexibility in layering:\n",
    "• Fully Connected layers → Activation layers → More Fully Connected layers → …\n",
    "The network simply forwards data from the first layer to the last, then backpropagates in reverse.\n"
   ]
  },
  {
   "cell_type": "markdown",
   "metadata": {},
   "source": [
    "### <a id='toc6_2_'></a>[Forward Pass Through All Layers](#toc0_)\n"
   ]
  },
  {
   "cell_type": "markdown",
   "metadata": {},
   "source": [
    "During the **forward** pass, we take an input (e.g., a batch of data) and feed it sequentially through each layer’s `forward` method. By the time we reach the final layer, we have the network’s prediction for that batch.\n"
   ]
  },
  {
   "cell_type": "markdown",
   "metadata": {},
   "source": [
    "```python\n",
    "def forward(self, input_data):\n",
    "    \"\"\"\n",
    "    Feeds input_data through each layer in the model.\n",
    "    \"\"\"\n",
    "    result = input_data\n",
    "    for layer in self.layers:\n",
    "        result = layer.forward(result)\n",
    "    return result\n",
    "```"
   ]
  },
  {
   "cell_type": "markdown",
   "metadata": {},
   "source": [
    "Having a dedicated `forward` method makes it easy to distinguish between *pure inference* (when we just want predictions) and *training* (when we also need gradients).\n"
   ]
  },
  {
   "cell_type": "markdown",
   "metadata": {},
   "source": [
    "### <a id='toc6_3_'></a>[Backpropagation Chaining](#toc0_)\n"
   ]
  },
  {
   "cell_type": "markdown",
   "metadata": {},
   "source": [
    "Once we compute the loss between the network’s final output and the true labels, we calculate the derivative of the loss w.r.t. the **output** (e.g., using `mse_prime`) and propagate that backwards through each layer:\n"
   ]
  },
  {
   "cell_type": "markdown",
   "metadata": {},
   "source": [
    "```python\n",
    "def backward(self, loss_grad, learning_rate):\n",
    "    \"\"\"\n",
    "    Propagates the loss gradient backward through the network,\n",
    "    updating parameters in each layer as needed.\n",
    "    \"\"\"\n",
    "    grad = loss_grad\n",
    "    # Traverse layers in reverse order\n",
    "    for layer in reversed(self.layers):\n",
    "        grad = layer.backward(grad, learning_rate)\n",
    "```"
   ]
  },
  {
   "cell_type": "markdown",
   "metadata": {},
   "source": [
    "Here, `loss_grad` is simply $\\frac{\\partial E}{\\partial Y}$ (the derivative of the error with respect to the network’s final output). Each layer:\n",
    "- Computes parameter gradients (if any), updates them via gradient descent.\n",
    "- Returns $\\frac{\\partial E}{\\partial X}$ to feed into the previous layer.\n"
   ]
  },
  {
   "cell_type": "markdown",
   "metadata": {},
   "source": [
    "### <a id='toc6_4_'></a>[Training Loop Structure](#toc0_)\n"
   ]
  },
  {
   "cell_type": "markdown",
   "metadata": {},
   "source": [
    "A typical **training** method brings everything together. Over multiple epochs, it:\n",
    "\n",
    "1. **Forward pass** the input data.\n",
    "2. **Compute the loss**.\n",
    "3. **Compute the loss gradient**.\n",
    "4. **Backward pass** to update all parameters.\n"
   ]
  },
  {
   "cell_type": "markdown",
   "metadata": {},
   "source": [
    "Below is a simplified outline:\n"
   ]
  },
  {
   "cell_type": "markdown",
   "metadata": {},
   "source": [
    "```python\n",
    "def train(self, x_train, y_train, loss, loss_prime, epochs, learning_rate):\n",
    "    for epoch in range(epochs):\n",
    "        # Forward pass\n",
    "        output = self.forward(x_train)\n",
    "\n",
    "        # Compute loss (scalar)\n",
    "        error = loss(y_train, output)\n",
    "\n",
    "        # Print or log the error for tracking\n",
    "        print(f\"epoch {epoch+1}/{epochs}   error={error:.6f}\")\n",
    "\n",
    "        # Compute gradient of the loss w.r.t output\n",
    "        grad = loss_prime(y_train, output)\n",
    "\n",
    "        # Backward pass\n",
    "        self.backward(grad, learning_rate)\n",
    "```"
   ]
  },
  {
   "cell_type": "markdown",
   "metadata": {},
   "source": [
    "1. **Forward**: `output = self.forward(x_train)`\n",
    "2. **Loss**: `error = loss(y_train, output)`\n",
    "3. **Derivative**: `grad = loss_prime(y_train, output)`\n",
    "4. **Backward**: `self.backward(grad, learning_rate)`\n"
   ]
  },
  {
   "cell_type": "markdown",
   "metadata": {},
   "source": [
    "Here is the complete code for the **Network** class:"
   ]
  },
  {
   "cell_type": "code",
   "execution_count": 7,
   "metadata": {},
   "outputs": [],
   "source": [
    "class Network:\n",
    "    def __init__(self):\n",
    "        # List to store layers in order\n",
    "        self.layers = []\n",
    "\n",
    "    def add(self, layer):\n",
    "        \"\"\"\n",
    "        Add a layer to the network sequence.\n",
    "        \"\"\"\n",
    "        self.layers.append(layer)\n",
    "\n",
    "    def forward(self, input_data):\n",
    "        \"\"\"\n",
    "        Feeds input_data through each layer in the model.\n",
    "        \"\"\"\n",
    "        result = input_data\n",
    "        for layer in self.layers:\n",
    "            result = layer.forward(result)\n",
    "        return result\n",
    "\n",
    "    def backward(self, loss_grad, learning_rate):\n",
    "        \"\"\"\n",
    "        Propagates the loss gradient backward through the network,\n",
    "        updating parameters in each layer as needed.\n",
    "        \"\"\"\n",
    "        grad = loss_grad\n",
    "        # Traverse layers in reverse order\n",
    "        for layer in reversed(self.layers):\n",
    "            grad = layer.backward(grad, learning_rate)\n",
    "\n",
    "    def train(self, x_train, y_train, loss, loss_prime, epochs, learning_rate):\n",
    "        for epoch in range(epochs):\n",
    "            # Forward pass\n",
    "            output = self.forward(x_train)\n",
    "\n",
    "            # Compute loss (scalar)\n",
    "            error = loss(y_train, output)\n",
    "\n",
    "            # Print or log the error for tracking\n",
    "            print(f\"epoch {epoch+1}/{epochs}   error={error:.6f}\")\n",
    "\n",
    "            # Compute gradient of the loss w.r.t output\n",
    "            grad = loss_prime(y_train, output)\n",
    "\n",
    "            # Backward pass\n",
    "            self.backward(grad, learning_rate)"
   ]
  },
  {
   "cell_type": "markdown",
   "metadata": {},
   "source": [
    "❗️ **Important Note:**\n",
    "For larger datasets, you would typically iterate over batches or mini-batches of data rather than the entire dataset at once. This example focuses on *simple* usage but can be extended to handle batching or more advanced techniques.\n"
   ]
  },
  {
   "cell_type": "markdown",
   "metadata": {},
   "source": [
    "By encapsulating these steps in a **Network** class, we have a clear, organized way to build and train arbitrarily complex architectures. Each **layer**, whether it’s fully connected or an activation layer, follows the same contract:\n",
    "• `forward(input_data)` → outputs a transformed result.\n",
    "• `backward(dE_dY, learning_rate)` → updates parameters and returns the gradient for the previous layer.\n"
   ]
  },
  {
   "cell_type": "markdown",
   "metadata": {},
   "source": [
    "This flexible structure is the core principle underpinning many modern deep learning frameworks—you now have a miniature version built entirely from scratch."
   ]
  },
  {
   "cell_type": "markdown",
   "metadata": {},
   "source": [
    "## <a id='toc7_'></a>[Example 1: Solving XOR](#toc0_)"
   ]
  },
  {
   "cell_type": "markdown",
   "metadata": {},
   "source": [
    "A classic demonstration of neural networks’ capability to learn non-linear functions is the **XOR (exclusive OR)** problem. XOR takes two binary inputs (0 or 1) and outputs 1 if exactly one of the inputs is 1, otherwise 0. Formally:\n",
    "\n",
    "- (0, 0) → 0\n",
    "- (0, 1) → 1\n",
    "- (1, 0) → 1\n",
    "- (1, 1) → 0\n"
   ]
  },
  {
   "cell_type": "markdown",
   "metadata": {},
   "source": [
    "<img src=\"./images/xor.png\" width=\"800\">"
   ]
  },
  {
   "cell_type": "markdown",
   "metadata": {},
   "source": [
    "Because XOR is *linearly inseparable*, a single-layer perceptron (without non-linear activation) fails to learn it. However, once we introduce at least one **hidden layer** with a non-linear activation, the network can *exactly* model this function.\n"
   ]
  },
  {
   "cell_type": "markdown",
   "metadata": {},
   "source": [
    "### <a id='toc7_1_'></a>[Dataset Setup](#toc0_)\n"
   ]
  },
  {
   "cell_type": "markdown",
   "metadata": {},
   "source": [
    "Our XOR dataset consists of four samples, each with **two features**:\n",
    "\n",
    "1. (0, 0)\n",
    "2. (0, 1)\n",
    "3. (1, 0)\n",
    "4. (1, 1)\n"
   ]
  },
  {
   "cell_type": "markdown",
   "metadata": {},
   "source": [
    "The corresponding target outputs (labels) are $[0, 1, 1, 0]$. For a fully connected network, we need to shape the data properly:\n",
    "\n",
    "- **Input** should have one sample per row (shape $\\text{(num\\_samples, input\\_dim)}$).\n",
    "- **Target** in this case is also 1D (shape $\\text{(num\\_samples, 1)}$).\n"
   ]
  },
  {
   "cell_type": "markdown",
   "metadata": {},
   "source": [
    "Below is a typical way to define this in NumPy:\n"
   ]
  },
  {
   "cell_type": "code",
   "execution_count": 8,
   "metadata": {},
   "outputs": [],
   "source": [
    "import numpy as np\n",
    "\n",
    "# XOR Input (4 samples, each with 2 features)\n",
    "x_train = np.array([\n",
    "    [0, 0],\n",
    "    [0, 1],\n",
    "    [1, 0],\n",
    "    [1, 1]\n",
    "])\n",
    "\n",
    "# XOR Target Output (4 samples, each with 1 label)\n",
    "y_train = np.array([\n",
    "    [0],\n",
    "    [1],\n",
    "    [1],\n",
    "    [0]\n",
    "])"
   ]
  },
  {
   "cell_type": "markdown",
   "metadata": {},
   "source": [
    "### <a id='toc7_2_'></a>[Network Configuration](#toc0_)\n"
   ]
  },
  {
   "cell_type": "markdown",
   "metadata": {},
   "source": [
    "To solve XOR, we need at least one hidden layer with a non-linear activation. A configuration might look like this:\n",
    "\n",
    "1. **Fully Connected Layer** with 2 inputs and, say, 3 hidden units.\n",
    "2. **Activation Layer** (e.g., ReLU or Sigmoid).\n",
    "3. **Fully Connected Layer** to map from 3 hidden units down to 1 output.\n",
    "4. **Activation Layer** (often Sigmoid in a binary classification context).\n"
   ]
  },
  {
   "cell_type": "markdown",
   "metadata": {},
   "source": [
    "Here’s what assembling it with our classes might look like:\n"
   ]
  },
  {
   "cell_type": "code",
   "execution_count": 9,
   "metadata": {},
   "outputs": [],
   "source": [
    "def sigmoid(x):\n",
    "    return 1 / (1 + np.exp(-x))\n",
    "\n",
    "def sigmoid_prime(x):\n",
    "    return sigmoid(x) * (1 - sigmoid(x))\n",
    "\n",
    "# Build a simple network for XOR\n",
    "network = Network()\n",
    "network.add(FCLayer(2, 3))  # Fully connected (input_dim=2, output_dim=3)\n",
    "network.add(ActivationLayer(relu, relu_prime))\n",
    "network.add(FCLayer(3, 1))  # Fully connected (input_dim=3, output_dim=1)\n",
    "network.add(ActivationLayer(sigmoid, sigmoid_prime))"
   ]
  },
  {
   "cell_type": "markdown",
   "metadata": {},
   "source": [
    "### <a id='toc7_3_'></a>[Training and Results](#toc0_)\n"
   ]
  },
  {
   "cell_type": "markdown",
   "metadata": {},
   "source": [
    "Next, we train the network using our **Mean Squared Error** loss (though in binary classification, other losses like **Binary Cross-Entropy** are common). For XOR, our dataset is tiny, so we can train on the entire set in each epoch:\n"
   ]
  },
  {
   "cell_type": "code",
   "execution_count": 10,
   "metadata": {},
   "outputs": [
    {
     "name": "stdout",
     "output_type": "stream",
     "text": [
      "epoch 1/1000   error=0.250000\n",
      "epoch 2/1000   error=0.250000\n",
      "epoch 3/1000   error=0.250000\n",
      "epoch 4/1000   error=0.250000\n",
      "epoch 5/1000   error=0.250000\n",
      "epoch 6/1000   error=0.250000\n",
      "epoch 7/1000   error=0.250000\n",
      "epoch 8/1000   error=0.250000\n",
      "epoch 9/1000   error=0.250000\n",
      "epoch 10/1000   error=0.250000\n",
      "epoch 11/1000   error=0.250000\n",
      "epoch 12/1000   error=0.250000\n",
      "epoch 13/1000   error=0.250000\n",
      "epoch 14/1000   error=0.250000\n",
      "epoch 15/1000   error=0.250000\n",
      "epoch 16/1000   error=0.250000\n",
      "epoch 17/1000   error=0.250000\n",
      "epoch 18/1000   error=0.249999\n",
      "epoch 19/1000   error=0.249999\n",
      "epoch 20/1000   error=0.249999\n",
      "epoch 21/1000   error=0.249999\n",
      "epoch 22/1000   error=0.249999\n",
      "epoch 23/1000   error=0.249999\n",
      "epoch 24/1000   error=0.249999\n",
      "epoch 25/1000   error=0.249999\n",
      "epoch 26/1000   error=0.249999\n",
      "epoch 27/1000   error=0.249998\n",
      "epoch 28/1000   error=0.249998\n",
      "epoch 29/1000   error=0.249998\n",
      "epoch 30/1000   error=0.249998\n",
      "epoch 31/1000   error=0.249997\n",
      "epoch 32/1000   error=0.249997\n",
      "epoch 33/1000   error=0.249997\n",
      "epoch 34/1000   error=0.249996\n",
      "epoch 35/1000   error=0.249996\n",
      "epoch 36/1000   error=0.249995\n",
      "epoch 37/1000   error=0.249995\n",
      "epoch 38/1000   error=0.249994\n",
      "epoch 39/1000   error=0.249993\n",
      "epoch 40/1000   error=0.249993\n",
      "epoch 41/1000   error=0.249992\n",
      "epoch 42/1000   error=0.249990\n",
      "epoch 43/1000   error=0.249989\n",
      "epoch 44/1000   error=0.249988\n",
      "epoch 45/1000   error=0.249988\n",
      "epoch 46/1000   error=0.249986\n",
      "epoch 47/1000   error=0.249986\n",
      "epoch 48/1000   error=0.249983\n",
      "epoch 49/1000   error=0.249983\n",
      "epoch 50/1000   error=0.249980\n",
      "epoch 51/1000   error=0.249980\n",
      "epoch 52/1000   error=0.249976\n",
      "epoch 53/1000   error=0.249976\n",
      "epoch 54/1000   error=0.249972\n",
      "epoch 55/1000   error=0.249971\n",
      "epoch 56/1000   error=0.249967\n",
      "epoch 57/1000   error=0.249966\n",
      "epoch 58/1000   error=0.249961\n",
      "epoch 59/1000   error=0.249960\n",
      "epoch 60/1000   error=0.249954\n",
      "epoch 61/1000   error=0.249952\n",
      "epoch 62/1000   error=0.249946\n",
      "epoch 63/1000   error=0.249943\n",
      "epoch 64/1000   error=0.249936\n",
      "epoch 65/1000   error=0.249933\n",
      "epoch 66/1000   error=0.249924\n",
      "epoch 67/1000   error=0.249920\n",
      "epoch 68/1000   error=0.249911\n",
      "epoch 69/1000   error=0.249906\n",
      "epoch 70/1000   error=0.249895\n",
      "epoch 71/1000   error=0.249889\n",
      "epoch 72/1000   error=0.249876\n",
      "epoch 73/1000   error=0.249868\n",
      "epoch 74/1000   error=0.249853\n",
      "epoch 75/1000   error=0.249844\n",
      "epoch 76/1000   error=0.249827\n",
      "epoch 77/1000   error=0.249815\n",
      "epoch 78/1000   error=0.249795\n",
      "epoch 79/1000   error=0.249781\n",
      "epoch 80/1000   error=0.249758\n",
      "epoch 81/1000   error=0.249741\n",
      "epoch 82/1000   error=0.249715\n",
      "epoch 83/1000   error=0.249694\n",
      "epoch 84/1000   error=0.249663\n",
      "epoch 85/1000   error=0.249638\n",
      "epoch 86/1000   error=0.249603\n",
      "epoch 87/1000   error=0.249572\n",
      "epoch 88/1000   error=0.249531\n",
      "epoch 89/1000   error=0.249494\n",
      "epoch 90/1000   error=0.249447\n",
      "epoch 91/1000   error=0.249401\n",
      "epoch 92/1000   error=0.249347\n",
      "epoch 93/1000   error=0.249292\n",
      "epoch 94/1000   error=0.249230\n",
      "epoch 95/1000   error=0.249163\n",
      "epoch 96/1000   error=0.249092\n",
      "epoch 97/1000   error=0.249011\n",
      "epoch 98/1000   error=0.248930\n",
      "epoch 99/1000   error=0.248831\n",
      "epoch 100/1000   error=0.248739\n",
      "epoch 101/1000   error=0.248618\n",
      "epoch 102/1000   error=0.248515\n",
      "epoch 103/1000   error=0.248368\n",
      "epoch 104/1000   error=0.248253\n",
      "epoch 105/1000   error=0.248072\n",
      "epoch 106/1000   error=0.247945\n",
      "epoch 107/1000   error=0.247723\n",
      "epoch 108/1000   error=0.247586\n",
      "epoch 109/1000   error=0.247312\n",
      "epoch 110/1000   error=0.247168\n",
      "epoch 111/1000   error=0.246828\n",
      "epoch 112/1000   error=0.246680\n",
      "epoch 113/1000   error=0.246258\n",
      "epoch 114/1000   error=0.246115\n",
      "epoch 115/1000   error=0.245587\n",
      "epoch 116/1000   error=0.245461\n",
      "epoch 117/1000   error=0.244800\n",
      "epoch 118/1000   error=0.244708\n",
      "epoch 119/1000   error=0.243875\n",
      "epoch 120/1000   error=0.243845\n",
      "epoch 121/1000   error=0.242791\n",
      "epoch 122/1000   error=0.242860\n",
      "epoch 123/1000   error=0.241522\n",
      "epoch 124/1000   error=0.241743\n",
      "epoch 125/1000   error=0.240039\n",
      "epoch 126/1000   error=0.240484\n",
      "epoch 127/1000   error=0.238431\n",
      "epoch 128/1000   error=0.238990\n",
      "epoch 129/1000   error=0.236981\n",
      "epoch 130/1000   error=0.236871\n",
      "epoch 131/1000   error=0.235388\n",
      "epoch 132/1000   error=0.234415\n",
      "epoch 133/1000   error=0.233654\n",
      "epoch 134/1000   error=0.231575\n",
      "epoch 135/1000   error=0.231787\n",
      "epoch 136/1000   error=0.228388\n",
      "epoch 137/1000   error=0.229822\n",
      "epoch 138/1000   error=0.226629\n",
      "epoch 139/1000   error=0.225694\n",
      "epoch 140/1000   error=0.224753\n",
      "epoch 141/1000   error=0.221078\n",
      "epoch 142/1000   error=0.222776\n",
      "epoch 143/1000   error=0.218410\n",
      "epoch 144/1000   error=0.218414\n",
      "epoch 145/1000   error=0.217029\n",
      "epoch 146/1000   error=0.212528\n",
      "epoch 147/1000   error=0.214894\n",
      "epoch 148/1000   error=0.211811\n",
      "epoch 149/1000   error=0.207272\n",
      "epoch 150/1000   error=0.210229\n",
      "epoch 151/1000   error=0.207196\n",
      "epoch 152/1000   error=0.202692\n",
      "epoch 153/1000   error=0.204332\n",
      "epoch 154/1000   error=0.203160\n",
      "epoch 155/1000   error=0.198741\n",
      "epoch 156/1000   error=0.197315\n",
      "epoch 157/1000   error=0.199619\n",
      "epoch 158/1000   error=0.195332\n",
      "epoch 159/1000   error=0.191801\n",
      "epoch 160/1000   error=0.193899\n",
      "epoch 161/1000   error=0.193949\n",
      "epoch 162/1000   error=0.190217\n",
      "epoch 163/1000   error=0.187223\n",
      "epoch 164/1000   error=0.187255\n",
      "epoch 165/1000   error=0.189860\n",
      "epoch 166/1000   error=0.186537\n",
      "epoch 167/1000   error=0.183935\n",
      "epoch 168/1000   error=0.181839\n",
      "epoch 169/1000   error=0.183154\n",
      "epoch 170/1000   error=0.185097\n",
      "epoch 171/1000   error=0.182412\n",
      "epoch 172/1000   error=0.180341\n",
      "epoch 173/1000   error=0.178689\n",
      "epoch 174/1000   error=0.177334\n",
      "epoch 175/1000   error=0.179026\n",
      "epoch 176/1000   error=0.180800\n",
      "epoch 177/1000   error=0.178746\n",
      "epoch 178/1000   error=0.177173\n",
      "epoch 179/1000   error=0.175924\n",
      "epoch 180/1000   error=0.174903\n",
      "epoch 181/1000   error=0.174048\n",
      "epoch 182/1000   error=0.173948\n",
      "epoch 183/1000   error=0.177307\n",
      "epoch 184/1000   error=0.175798\n",
      "epoch 185/1000   error=0.174637\n",
      "epoch 186/1000   error=0.173711\n",
      "epoch 187/1000   error=0.172950\n",
      "epoch 188/1000   error=0.172311\n",
      "epoch 189/1000   error=0.171768\n",
      "epoch 190/1000   error=0.171297\n",
      "epoch 191/1000   error=0.170971\n",
      "epoch 192/1000   error=0.171460\n",
      "epoch 193/1000   error=0.170993\n",
      "epoch 194/1000   error=0.170587\n",
      "epoch 195/1000   error=0.170830\n",
      "epoch 196/1000   error=0.171966\n",
      "epoch 197/1000   error=0.171339\n",
      "epoch 198/1000   error=0.170817\n",
      "epoch 199/1000   error=0.170371\n",
      "epoch 200/1000   error=0.169983\n",
      "epoch 201/1000   error=0.169639\n",
      "epoch 202/1000   error=0.169329\n",
      "epoch 203/1000   error=0.169048\n",
      "epoch 204/1000   error=0.168784\n",
      "epoch 205/1000   error=0.168545\n",
      "epoch 206/1000   error=0.168987\n",
      "epoch 207/1000   error=0.168677\n",
      "epoch 208/1000   error=0.168387\n",
      "epoch 209/1000   error=0.168111\n",
      "epoch 210/1000   error=0.167843\n",
      "epoch 211/1000   error=0.168292\n",
      "epoch 212/1000   error=0.168788\n",
      "epoch 213/1000   error=0.168337\n",
      "epoch 214/1000   error=0.167910\n",
      "epoch 215/1000   error=0.167504\n",
      "epoch 216/1000   error=0.167108\n",
      "epoch 217/1000   error=0.166715\n",
      "epoch 218/1000   error=0.166318\n",
      "epoch 219/1000   error=0.165912\n",
      "epoch 220/1000   error=0.165491\n",
      "epoch 221/1000   error=0.165050\n",
      "epoch 222/1000   error=0.164584\n",
      "epoch 223/1000   error=0.164113\n",
      "epoch 224/1000   error=0.163608\n",
      "epoch 225/1000   error=0.163037\n",
      "epoch 226/1000   error=0.162464\n",
      "epoch 227/1000   error=0.162206\n",
      "epoch 228/1000   error=0.161437\n",
      "epoch 229/1000   error=0.160608\n",
      "epoch 230/1000   error=0.159710\n",
      "epoch 231/1000   error=0.158733\n",
      "epoch 232/1000   error=0.157670\n",
      "epoch 233/1000   error=0.156509\n",
      "epoch 234/1000   error=0.155241\n",
      "epoch 235/1000   error=0.154210\n",
      "epoch 236/1000   error=0.153415\n",
      "epoch 237/1000   error=0.151759\n",
      "epoch 238/1000   error=0.149877\n",
      "epoch 239/1000   error=0.147842\n",
      "epoch 240/1000   error=0.145639\n",
      "epoch 241/1000   error=0.143253\n",
      "epoch 242/1000   error=0.140674\n",
      "epoch 243/1000   error=0.137888\n",
      "epoch 244/1000   error=0.134886\n",
      "epoch 245/1000   error=0.131663\n",
      "epoch 246/1000   error=0.128699\n",
      "epoch 247/1000   error=0.125601\n",
      "epoch 248/1000   error=0.121652\n",
      "epoch 249/1000   error=0.117540\n",
      "epoch 250/1000   error=0.113260\n",
      "epoch 251/1000   error=0.108994\n",
      "epoch 252/1000   error=0.105592\n",
      "epoch 253/1000   error=0.100649\n",
      "epoch 254/1000   error=0.096399\n",
      "epoch 255/1000   error=0.094197\n",
      "epoch 256/1000   error=0.088285\n",
      "epoch 257/1000   error=0.083966\n",
      "epoch 258/1000   error=0.082515\n",
      "epoch 259/1000   error=0.076276\n",
      "epoch 260/1000   error=0.073886\n",
      "epoch 261/1000   error=0.070752\n",
      "epoch 262/1000   error=0.065829\n",
      "epoch 263/1000   error=0.064924\n",
      "epoch 264/1000   error=0.059630\n",
      "epoch 265/1000   error=0.058929\n",
      "epoch 266/1000   error=0.054480\n",
      "epoch 267/1000   error=0.053888\n",
      "epoch 268/1000   error=0.050563\n",
      "epoch 269/1000   error=0.048567\n",
      "epoch 270/1000   error=0.046519\n",
      "epoch 271/1000   error=0.043748\n",
      "epoch 272/1000   error=0.042934\n",
      "epoch 273/1000   error=0.039455\n",
      "epoch 274/1000   error=0.039745\n",
      "epoch 275/1000   error=0.036264\n",
      "epoch 276/1000   error=0.036510\n",
      "epoch 277/1000   error=0.034720\n",
      "epoch 278/1000   error=0.032107\n",
      "epoch 279/1000   error=0.031423\n",
      "epoch 280/1000   error=0.031149\n",
      "epoch 281/1000   error=0.029523\n",
      "epoch 282/1000   error=0.029734\n",
      "epoch 283/1000   error=0.027679\n",
      "epoch 284/1000   error=0.026866\n",
      "epoch 285/1000   error=0.026715\n",
      "epoch 286/1000   error=0.025191\n",
      "epoch 287/1000   error=0.024427\n",
      "epoch 288/1000   error=0.024465\n",
      "epoch 289/1000   error=0.023046\n",
      "epoch 290/1000   error=0.022005\n",
      "epoch 291/1000   error=0.022524\n",
      "epoch 292/1000   error=0.021792\n",
      "epoch 293/1000   error=0.020728\n",
      "epoch 294/1000   error=0.020823\n",
      "epoch 295/1000   error=0.020243\n",
      "epoch 296/1000   error=0.019269\n",
      "epoch 297/1000   error=0.018511\n",
      "epoch 298/1000   error=0.018031\n",
      "epoch 299/1000   error=0.018055\n",
      "epoch 300/1000   error=0.017890\n",
      "epoch 301/1000   error=0.017435\n",
      "epoch 302/1000   error=0.016723\n",
      "epoch 303/1000   error=0.016760\n",
      "epoch 304/1000   error=0.016389\n",
      "epoch 305/1000   error=0.015725\n",
      "epoch 306/1000   error=0.015142\n",
      "epoch 307/1000   error=0.015112\n",
      "epoch 308/1000   error=0.015080\n",
      "epoch 309/1000   error=0.014746\n",
      "epoch 310/1000   error=0.014216\n",
      "epoch 311/1000   error=0.014052\n",
      "epoch 312/1000   error=0.013946\n",
      "epoch 313/1000   error=0.013450\n",
      "epoch 314/1000   error=0.013008\n",
      "epoch 315/1000   error=0.012821\n",
      "epoch 316/1000   error=0.012963\n",
      "epoch 317/1000   error=0.012541\n",
      "epoch 318/1000   error=0.012305\n",
      "epoch 319/1000   error=0.012307\n",
      "epoch 320/1000   error=0.011913\n",
      "epoch 321/1000   error=0.011556\n",
      "epoch 322/1000   error=0.011303\n",
      "epoch 323/1000   error=0.011371\n",
      "epoch 324/1000   error=0.011230\n",
      "epoch 325/1000   error=0.011171\n",
      "epoch 326/1000   error=0.010841\n",
      "epoch 327/1000   error=0.010540\n",
      "epoch 328/1000   error=0.010285\n",
      "epoch 329/1000   error=0.010339\n",
      "epoch 330/1000   error=0.010237\n",
      "epoch 331/1000   error=0.009990\n",
      "epoch 332/1000   error=0.009824\n",
      "epoch 333/1000   error=0.009673\n",
      "epoch 334/1000   error=0.009562\n",
      "epoch 335/1000   error=0.009325\n",
      "epoch 336/1000   error=0.009309\n",
      "epoch 337/1000   error=0.009219\n",
      "epoch 338/1000   error=0.009104\n",
      "epoch 339/1000   error=0.008977\n",
      "epoch 340/1000   error=0.008763\n",
      "epoch 341/1000   error=0.008607\n",
      "epoch 342/1000   error=0.008483\n",
      "epoch 343/1000   error=0.008579\n",
      "epoch 344/1000   error=0.008542\n",
      "epoch 345/1000   error=0.008338\n",
      "epoch 346/1000   error=0.008149\n",
      "epoch 347/1000   error=0.007973\n",
      "epoch 348/1000   error=0.007929\n",
      "epoch 349/1000   error=0.008013\n",
      "epoch 350/1000   error=0.007881\n",
      "epoch 351/1000   error=0.007709\n",
      "epoch 352/1000   error=0.007547\n",
      "epoch 353/1000   error=0.007506\n",
      "epoch 354/1000   error=0.007455\n",
      "epoch 355/1000   error=0.007355\n",
      "epoch 356/1000   error=0.007312\n",
      "epoch 357/1000   error=0.007164\n",
      "epoch 358/1000   error=0.007109\n",
      "epoch 359/1000   error=0.007075\n",
      "epoch 360/1000   error=0.006933\n",
      "epoch 361/1000   error=0.006812\n",
      "epoch 362/1000   error=0.006815\n",
      "epoch 363/1000   error=0.006746\n",
      "epoch 364/1000   error=0.006672\n",
      "epoch 365/1000   error=0.006547\n",
      "epoch 366/1000   error=0.006445\n",
      "epoch 367/1000   error=0.006370\n",
      "epoch 368/1000   error=0.006320\n",
      "epoch 369/1000   error=0.006307\n",
      "epoch 370/1000   error=0.006257\n",
      "epoch 371/1000   error=0.006150\n",
      "epoch 372/1000   error=0.006088\n",
      "epoch 373/1000   error=0.005985\n",
      "epoch 374/1000   error=0.006061\n",
      "epoch 375/1000   error=0.006046\n",
      "epoch 376/1000   error=0.005939\n",
      "epoch 377/1000   error=0.005837\n",
      "epoch 378/1000   error=0.005740\n",
      "epoch 379/1000   error=0.005689\n",
      "epoch 380/1000   error=0.005661\n",
      "epoch 381/1000   error=0.005653\n",
      "epoch 382/1000   error=0.005571\n",
      "epoch 383/1000   error=0.005510\n",
      "epoch 384/1000   error=0.005428\n",
      "epoch 385/1000   error=0.005415\n",
      "epoch 386/1000   error=0.005339\n",
      "epoch 387/1000   error=0.005280\n",
      "epoch 388/1000   error=0.005257\n",
      "epoch 389/1000   error=0.005292\n",
      "epoch 390/1000   error=0.005209\n",
      "epoch 391/1000   error=0.005129\n",
      "epoch 392/1000   error=0.005053\n",
      "epoch 393/1000   error=0.005063\n",
      "epoch 394/1000   error=0.005028\n",
      "epoch 395/1000   error=0.004966\n",
      "epoch 396/1000   error=0.004946\n",
      "epoch 397/1000   error=0.004873\n",
      "epoch 398/1000   error=0.004805\n",
      "epoch 399/1000   error=0.004810\n",
      "epoch 400/1000   error=0.004844\n",
      "epoch 401/1000   error=0.004773\n",
      "epoch 402/1000   error=0.004704\n",
      "epoch 403/1000   error=0.004639\n",
      "epoch 404/1000   error=0.004588\n",
      "epoch 405/1000   error=0.004564\n",
      "epoch 406/1000   error=0.004561\n",
      "epoch 407/1000   error=0.004547\n",
      "epoch 408/1000   error=0.004485\n",
      "epoch 409/1000   error=0.004425\n",
      "epoch 410/1000   error=0.004389\n",
      "epoch 411/1000   error=0.004347\n",
      "epoch 412/1000   error=0.004372\n",
      "epoch 413/1000   error=0.004342\n",
      "epoch 414/1000   error=0.004285\n",
      "epoch 415/1000   error=0.004234\n",
      "epoch 416/1000   error=0.004201\n",
      "epoch 417/1000   error=0.004153\n",
      "epoch 418/1000   error=0.004160\n",
      "epoch 419/1000   error=0.004151\n",
      "epoch 420/1000   error=0.004126\n",
      "epoch 421/1000   error=0.004074\n",
      "epoch 422/1000   error=0.004024\n",
      "epoch 423/1000   error=0.003979\n",
      "epoch 424/1000   error=0.004014\n",
      "epoch 425/1000   error=0.003982\n",
      "epoch 426/1000   error=0.003933\n",
      "epoch 427/1000   error=0.003903\n",
      "epoch 428/1000   error=0.003861\n",
      "epoch 429/1000   error=0.003830\n",
      "epoch 430/1000   error=0.003839\n",
      "epoch 431/1000   error=0.003823\n",
      "epoch 432/1000   error=0.003778\n",
      "epoch 433/1000   error=0.003753\n",
      "epoch 434/1000   error=0.003711\n",
      "epoch 435/1000   error=0.003689\n",
      "epoch 436/1000   error=0.003698\n",
      "epoch 437/1000   error=0.003693\n",
      "epoch 438/1000   error=0.003650\n",
      "epoch 439/1000   error=0.003609\n",
      "epoch 440/1000   error=0.003570\n",
      "epoch 441/1000   error=0.003562\n",
      "epoch 442/1000   error=0.003550\n",
      "epoch 443/1000   error=0.003522\n",
      "epoch 444/1000   error=0.003495\n",
      "epoch 445/1000   error=0.003477\n",
      "epoch 446/1000   error=0.003440\n",
      "epoch 447/1000   error=0.003441\n",
      "epoch 448/1000   error=0.003418\n",
      "epoch 449/1000   error=0.003395\n",
      "epoch 450/1000   error=0.003362\n",
      "epoch 451/1000   error=0.003353\n",
      "epoch 452/1000   error=0.003319\n",
      "epoch 453/1000   error=0.003315\n",
      "epoch 454/1000   error=0.003281\n",
      "epoch 455/1000   error=0.003270\n",
      "epoch 456/1000   error=0.003266\n",
      "epoch 457/1000   error=0.003238\n",
      "epoch 458/1000   error=0.003209\n",
      "epoch 459/1000   error=0.003202\n",
      "epoch 460/1000   error=0.003170\n",
      "epoch 461/1000   error=0.003149\n",
      "epoch 462/1000   error=0.003158\n",
      "epoch 463/1000   error=0.003130\n",
      "epoch 464/1000   error=0.003104\n",
      "epoch 465/1000   error=0.003096\n",
      "epoch 466/1000   error=0.003066\n",
      "epoch 467/1000   error=0.003040\n",
      "epoch 468/1000   error=0.003030\n",
      "epoch 469/1000   error=0.003012\n",
      "epoch 470/1000   error=0.003005\n",
      "epoch 471/1000   error=0.002997\n",
      "epoch 472/1000   error=0.002969\n",
      "epoch 473/1000   error=0.002941\n",
      "epoch 474/1000   error=0.002948\n",
      "epoch 475/1000   error=0.002934\n",
      "epoch 476/1000   error=0.002911\n",
      "epoch 477/1000   error=0.002904\n",
      "epoch 478/1000   error=0.002877\n",
      "epoch 479/1000   error=0.002851\n",
      "epoch 480/1000   error=0.002847\n",
      "epoch 481/1000   error=0.002845\n",
      "epoch 482/1000   error=0.002822\n",
      "epoch 483/1000   error=0.002816\n",
      "epoch 484/1000   error=0.002791\n",
      "epoch 485/1000   error=0.002766\n",
      "epoch 486/1000   error=0.002754\n",
      "epoch 487/1000   error=0.002740\n",
      "epoch 488/1000   error=0.002725\n",
      "epoch 489/1000   error=0.002734\n",
      "epoch 490/1000   error=0.002710\n",
      "epoch 491/1000   error=0.002687\n",
      "epoch 492/1000   error=0.002671\n",
      "epoch 493/1000   error=0.002671\n",
      "epoch 494/1000   error=0.002659\n",
      "epoch 495/1000   error=0.002656\n",
      "epoch 496/1000   error=0.002633\n",
      "epoch 497/1000   error=0.002611\n",
      "epoch 498/1000   error=0.002595\n",
      "epoch 499/1000   error=0.002587\n",
      "epoch 500/1000   error=0.002584\n",
      "epoch 501/1000   error=0.002585\n",
      "epoch 502/1000   error=0.002570\n",
      "epoch 503/1000   error=0.002548\n",
      "epoch 504/1000   error=0.002528\n",
      "epoch 505/1000   error=0.002510\n",
      "epoch 506/1000   error=0.002496\n",
      "epoch 507/1000   error=0.002499\n",
      "epoch 508/1000   error=0.002501\n",
      "epoch 509/1000   error=0.002480\n",
      "epoch 510/1000   error=0.002461\n",
      "epoch 511/1000   error=0.002441\n",
      "epoch 512/1000   error=0.002436\n",
      "epoch 513/1000   error=0.002441\n",
      "epoch 514/1000   error=0.002435\n",
      "epoch 515/1000   error=0.002415\n",
      "epoch 516/1000   error=0.002396\n",
      "epoch 517/1000   error=0.002378\n",
      "epoch 518/1000   error=0.002364\n",
      "epoch 519/1000   error=0.002375\n",
      "epoch 520/1000   error=0.002371\n",
      "epoch 521/1000   error=0.002353\n",
      "epoch 522/1000   error=0.002335\n",
      "epoch 523/1000   error=0.002317\n",
      "epoch 524/1000   error=0.002301\n",
      "epoch 525/1000   error=0.002296\n",
      "epoch 526/1000   error=0.002298\n",
      "epoch 527/1000   error=0.002294\n",
      "epoch 528/1000   error=0.002277\n",
      "epoch 529/1000   error=0.002260\n",
      "epoch 530/1000   error=0.002244\n",
      "epoch 531/1000   error=0.002240\n",
      "epoch 532/1000   error=0.002247\n",
      "epoch 533/1000   error=0.002231\n",
      "epoch 534/1000   error=0.002214\n",
      "epoch 535/1000   error=0.002204\n",
      "epoch 536/1000   error=0.002190\n",
      "epoch 537/1000   error=0.002177\n",
      "epoch 538/1000   error=0.002183\n",
      "epoch 539/1000   error=0.002175\n",
      "epoch 540/1000   error=0.002170\n",
      "epoch 541/1000   error=0.002154\n",
      "epoch 542/1000   error=0.002139\n",
      "epoch 543/1000   error=0.002124\n",
      "epoch 544/1000   error=0.002132\n",
      "epoch 545/1000   error=0.002135\n",
      "epoch 546/1000   error=0.002120\n",
      "epoch 547/1000   error=0.002105\n",
      "epoch 548/1000   error=0.002090\n",
      "epoch 549/1000   error=0.002076\n",
      "epoch 550/1000   error=0.002070\n",
      "epoch 551/1000   error=0.002073\n",
      "epoch 552/1000   error=0.002063\n",
      "epoch 553/1000   error=0.002057\n",
      "epoch 554/1000   error=0.002043\n",
      "epoch 555/1000   error=0.002030\n",
      "epoch 556/1000   error=0.002018\n",
      "epoch 557/1000   error=0.002025\n",
      "epoch 558/1000   error=0.002019\n",
      "epoch 559/1000   error=0.002006\n",
      "epoch 560/1000   error=0.001997\n",
      "epoch 561/1000   error=0.001986\n",
      "epoch 562/1000   error=0.001973\n",
      "epoch 563/1000   error=0.001975\n",
      "epoch 564/1000   error=0.001971\n",
      "epoch 565/1000   error=0.001961\n",
      "epoch 566/1000   error=0.001956\n",
      "epoch 567/1000   error=0.001943\n",
      "epoch 568/1000   error=0.001931\n",
      "epoch 569/1000   error=0.001925\n",
      "epoch 570/1000   error=0.001933\n",
      "epoch 571/1000   error=0.001927\n",
      "epoch 572/1000   error=0.001915\n",
      "epoch 573/1000   error=0.001903\n",
      "epoch 574/1000   error=0.001891\n",
      "epoch 575/1000   error=0.001881\n",
      "epoch 576/1000   error=0.001880\n",
      "epoch 577/1000   error=0.001871\n",
      "epoch 578/1000   error=0.001863\n",
      "epoch 579/1000   error=0.001862\n",
      "epoch 580/1000   error=0.001852\n",
      "epoch 581/1000   error=0.001841\n",
      "epoch 582/1000   error=0.001840\n",
      "epoch 583/1000   error=0.001842\n",
      "epoch 584/1000   error=0.001838\n",
      "epoch 585/1000   error=0.001826\n",
      "epoch 586/1000   error=0.001815\n",
      "epoch 587/1000   error=0.001804\n",
      "epoch 588/1000   error=0.001798\n",
      "epoch 589/1000   error=0.001800\n",
      "epoch 590/1000   error=0.001792\n",
      "epoch 591/1000   error=0.001783\n",
      "epoch 592/1000   error=0.001780\n",
      "epoch 593/1000   error=0.001769\n",
      "epoch 594/1000   error=0.001759\n",
      "epoch 595/1000   error=0.001758\n",
      "epoch 596/1000   error=0.001754\n",
      "epoch 597/1000   error=0.001751\n",
      "epoch 598/1000   error=0.001743\n",
      "epoch 599/1000   error=0.001735\n",
      "epoch 600/1000   error=0.001725\n",
      "epoch 601/1000   error=0.001722\n",
      "epoch 602/1000   error=0.001721\n",
      "epoch 603/1000   error=0.001714\n",
      "epoch 604/1000   error=0.001705\n",
      "epoch 605/1000   error=0.001703\n",
      "epoch 606/1000   error=0.001693\n",
      "epoch 607/1000   error=0.001685\n",
      "epoch 608/1000   error=0.001683\n",
      "epoch 609/1000   error=0.001678\n",
      "epoch 610/1000   error=0.001676\n",
      "epoch 611/1000   error=0.001670\n",
      "epoch 612/1000   error=0.001662\n",
      "epoch 613/1000   error=0.001653\n",
      "epoch 614/1000   error=0.001652\n",
      "epoch 615/1000   error=0.001648\n",
      "epoch 616/1000   error=0.001642\n",
      "epoch 617/1000   error=0.001633\n",
      "epoch 618/1000   error=0.001632\n",
      "epoch 619/1000   error=0.001623\n",
      "epoch 620/1000   error=0.001616\n",
      "epoch 621/1000   error=0.001614\n",
      "epoch 622/1000   error=0.001608\n",
      "epoch 623/1000   error=0.001608\n",
      "epoch 624/1000   error=0.001602\n",
      "epoch 625/1000   error=0.001594\n",
      "epoch 626/1000   error=0.001586\n",
      "epoch 627/1000   error=0.001585\n",
      "epoch 628/1000   error=0.001581\n",
      "epoch 629/1000   error=0.001576\n",
      "epoch 630/1000   error=0.001568\n",
      "epoch 631/1000   error=0.001566\n",
      "epoch 632/1000   error=0.001559\n",
      "epoch 633/1000   error=0.001552\n",
      "epoch 634/1000   error=0.001550\n",
      "epoch 635/1000   error=0.001543\n",
      "epoch 636/1000   error=0.001537\n",
      "epoch 637/1000   error=0.001534\n",
      "epoch 638/1000   error=0.001532\n",
      "epoch 639/1000   error=0.001524\n",
      "epoch 640/1000   error=0.001523\n",
      "epoch 641/1000   error=0.001520\n",
      "epoch 642/1000   error=0.001516\n",
      "epoch 643/1000   error=0.001514\n",
      "epoch 644/1000   error=0.001507\n",
      "epoch 645/1000   error=0.001499\n",
      "epoch 646/1000   error=0.001493\n",
      "epoch 647/1000   error=0.001491\n",
      "epoch 648/1000   error=0.001484\n",
      "epoch 649/1000   error=0.001479\n",
      "epoch 650/1000   error=0.001474\n",
      "epoch 651/1000   error=0.001474\n",
      "epoch 652/1000   error=0.001467\n",
      "epoch 653/1000   error=0.001466\n",
      "epoch 654/1000   error=0.001463\n",
      "epoch 655/1000   error=0.001457\n",
      "epoch 656/1000   error=0.001452\n",
      "epoch 657/1000   error=0.001446\n",
      "epoch 658/1000   error=0.001444\n",
      "epoch 659/1000   error=0.001437\n",
      "epoch 660/1000   error=0.001436\n",
      "epoch 661/1000   error=0.001429\n",
      "epoch 662/1000   error=0.001426\n",
      "epoch 663/1000   error=0.001427\n",
      "epoch 664/1000   error=0.001421\n",
      "epoch 665/1000   error=0.001414\n",
      "epoch 666/1000   error=0.001412\n",
      "epoch 667/1000   error=0.001410\n",
      "epoch 668/1000   error=0.001404\n",
      "epoch 669/1000   error=0.001399\n",
      "epoch 670/1000   error=0.001393\n",
      "epoch 671/1000   error=0.001392\n",
      "epoch 672/1000   error=0.001386\n",
      "epoch 673/1000   error=0.001387\n",
      "epoch 674/1000   error=0.001382\n",
      "epoch 675/1000   error=0.001377\n",
      "epoch 676/1000   error=0.001372\n",
      "epoch 677/1000   error=0.001366\n",
      "epoch 678/1000   error=0.001365\n",
      "epoch 679/1000   error=0.001361\n",
      "epoch 680/1000   error=0.001361\n",
      "epoch 681/1000   error=0.001354\n",
      "epoch 682/1000   error=0.001351\n",
      "epoch 683/1000   error=0.001350\n",
      "epoch 684/1000   error=0.001344\n",
      "epoch 685/1000   error=0.001338\n",
      "epoch 686/1000   error=0.001338\n",
      "epoch 687/1000   error=0.001334\n",
      "epoch 688/1000   error=0.001329\n",
      "epoch 689/1000   error=0.001325\n",
      "epoch 690/1000   error=0.001319\n",
      "epoch 691/1000   error=0.001317\n",
      "epoch 692/1000   error=0.001313\n",
      "epoch 693/1000   error=0.001312\n",
      "epoch 694/1000   error=0.001306\n",
      "epoch 695/1000   error=0.001301\n",
      "epoch 696/1000   error=0.001299\n",
      "epoch 697/1000   error=0.001295\n",
      "epoch 698/1000   error=0.001294\n",
      "epoch 699/1000   error=0.001291\n",
      "epoch 700/1000   error=0.001290\n",
      "epoch 701/1000   error=0.001284\n",
      "epoch 702/1000   error=0.001281\n",
      "epoch 703/1000   error=0.001281\n",
      "epoch 704/1000   error=0.001275\n",
      "epoch 705/1000   error=0.001270\n",
      "epoch 706/1000   error=0.001270\n",
      "epoch 707/1000   error=0.001266\n",
      "epoch 708/1000   error=0.001261\n",
      "epoch 709/1000   error=0.001260\n",
      "epoch 710/1000   error=0.001257\n",
      "epoch 711/1000   error=0.001252\n",
      "epoch 712/1000   error=0.001248\n",
      "epoch 713/1000   error=0.001249\n",
      "epoch 714/1000   error=0.001243\n",
      "epoch 715/1000   error=0.001239\n",
      "epoch 716/1000   error=0.001235\n",
      "epoch 717/1000   error=0.001230\n",
      "epoch 718/1000   error=0.001229\n",
      "epoch 719/1000   error=0.001228\n",
      "epoch 720/1000   error=0.001226\n",
      "epoch 721/1000   error=0.001221\n",
      "epoch 722/1000   error=0.001217\n",
      "epoch 723/1000   error=0.001213\n",
      "epoch 724/1000   error=0.001209\n",
      "epoch 725/1000   error=0.001208\n",
      "epoch 726/1000   error=0.001208\n",
      "epoch 727/1000   error=0.001205\n",
      "epoch 728/1000   error=0.001200\n",
      "epoch 729/1000   error=0.001197\n",
      "epoch 730/1000   error=0.001196\n",
      "epoch 731/1000   error=0.001192\n",
      "epoch 732/1000   error=0.001188\n",
      "epoch 733/1000   error=0.001186\n",
      "epoch 734/1000   error=0.001181\n",
      "epoch 735/1000   error=0.001177\n",
      "epoch 736/1000   error=0.001176\n",
      "epoch 737/1000   error=0.001172\n",
      "epoch 738/1000   error=0.001170\n",
      "epoch 739/1000   error=0.001169\n",
      "epoch 740/1000   error=0.001168\n",
      "epoch 741/1000   error=0.001164\n",
      "epoch 742/1000   error=0.001159\n",
      "epoch 743/1000   error=0.001156\n",
      "epoch 744/1000   error=0.001152\n",
      "epoch 745/1000   error=0.001151\n",
      "epoch 746/1000   error=0.001151\n",
      "epoch 747/1000   error=0.001149\n",
      "epoch 748/1000   error=0.001144\n",
      "epoch 749/1000   error=0.001140\n",
      "epoch 750/1000   error=0.001137\n",
      "epoch 751/1000   error=0.001133\n",
      "epoch 752/1000   error=0.001133\n",
      "epoch 753/1000   error=0.001132\n",
      "epoch 754/1000   error=0.001128\n",
      "epoch 755/1000   error=0.001123\n",
      "epoch 756/1000   error=0.001121\n",
      "epoch 757/1000   error=0.001119\n",
      "epoch 758/1000   error=0.001115\n",
      "epoch 759/1000   error=0.001115\n",
      "epoch 760/1000   error=0.001116\n",
      "epoch 761/1000   error=0.001111\n",
      "epoch 762/1000   error=0.001107\n",
      "epoch 763/1000   error=0.001105\n",
      "epoch 764/1000   error=0.001104\n",
      "epoch 765/1000   error=0.001100\n",
      "epoch 766/1000   error=0.001099\n",
      "epoch 767/1000   error=0.001098\n",
      "epoch 768/1000   error=0.001093\n",
      "epoch 769/1000   error=0.001089\n",
      "epoch 770/1000   error=0.001087\n",
      "epoch 771/1000   error=0.001083\n",
      "epoch 772/1000   error=0.001081\n",
      "epoch 773/1000   error=0.001083\n",
      "epoch 774/1000   error=0.001080\n",
      "epoch 775/1000   error=0.001076\n",
      "epoch 776/1000   error=0.001072\n",
      "epoch 777/1000   error=0.001070\n",
      "epoch 778/1000   error=0.001066\n",
      "epoch 779/1000   error=0.001065\n",
      "epoch 780/1000   error=0.001066\n",
      "epoch 781/1000   error=0.001062\n",
      "epoch 782/1000   error=0.001058\n",
      "epoch 783/1000   error=0.001055\n",
      "epoch 784/1000   error=0.001054\n",
      "epoch 785/1000   error=0.001050\n",
      "epoch 786/1000   error=0.001050\n",
      "epoch 787/1000   error=0.001051\n",
      "epoch 788/1000   error=0.001047\n",
      "epoch 789/1000   error=0.001043\n",
      "epoch 790/1000   error=0.001040\n",
      "epoch 791/1000   error=0.001038\n",
      "epoch 792/1000   error=0.001034\n",
      "epoch 793/1000   error=0.001035\n",
      "epoch 794/1000   error=0.001035\n",
      "epoch 795/1000   error=0.001031\n",
      "epoch 796/1000   error=0.001028\n",
      "epoch 797/1000   error=0.001025\n",
      "epoch 798/1000   error=0.001022\n",
      "epoch 799/1000   error=0.001019\n",
      "epoch 800/1000   error=0.001021\n",
      "epoch 801/1000   error=0.001020\n",
      "epoch 802/1000   error=0.001016\n",
      "epoch 803/1000   error=0.001012\n",
      "epoch 804/1000   error=0.001010\n",
      "epoch 805/1000   error=0.001007\n",
      "epoch 806/1000   error=0.001004\n",
      "epoch 807/1000   error=0.001007\n",
      "epoch 808/1000   error=0.001004\n",
      "epoch 809/1000   error=0.001001\n",
      "epoch 810/1000   error=0.000997\n",
      "epoch 811/1000   error=0.000995\n",
      "epoch 812/1000   error=0.000995\n",
      "epoch 813/1000   error=0.000992\n",
      "epoch 814/1000   error=0.000993\n",
      "epoch 815/1000   error=0.000990\n",
      "epoch 816/1000   error=0.000986\n",
      "epoch 817/1000   error=0.000983\n",
      "epoch 818/1000   error=0.000982\n",
      "epoch 819/1000   error=0.000981\n",
      "epoch 820/1000   error=0.000978\n",
      "epoch 821/1000   error=0.000977\n",
      "epoch 822/1000   error=0.000974\n",
      "epoch 823/1000   error=0.000971\n",
      "epoch 824/1000   error=0.000968\n",
      "epoch 825/1000   error=0.000967\n",
      "epoch 826/1000   error=0.000964\n",
      "epoch 827/1000   error=0.000963\n",
      "epoch 828/1000   error=0.000965\n",
      "epoch 829/1000   error=0.000962\n",
      "epoch 830/1000   error=0.000959\n",
      "epoch 831/1000   error=0.000956\n",
      "epoch 832/1000   error=0.000954\n",
      "epoch 833/1000   error=0.000950\n",
      "epoch 834/1000   error=0.000951\n",
      "epoch 835/1000   error=0.000952\n",
      "epoch 836/1000   error=0.000948\n",
      "epoch 837/1000   error=0.000945\n",
      "epoch 838/1000   error=0.000942\n",
      "epoch 839/1000   error=0.000940\n",
      "epoch 840/1000   error=0.000937\n",
      "epoch 841/1000   error=0.000938\n",
      "epoch 842/1000   error=0.000938\n",
      "epoch 843/1000   error=0.000935\n",
      "epoch 844/1000   error=0.000932\n",
      "epoch 845/1000   error=0.000930\n",
      "epoch 846/1000   error=0.000928\n",
      "epoch 847/1000   error=0.000925\n",
      "epoch 848/1000   error=0.000926\n",
      "epoch 849/1000   error=0.000926\n",
      "epoch 850/1000   error=0.000923\n",
      "epoch 851/1000   error=0.000920\n",
      "epoch 852/1000   error=0.000917\n",
      "epoch 853/1000   error=0.000915\n",
      "epoch 854/1000   error=0.000912\n",
      "epoch 855/1000   error=0.000914\n",
      "epoch 856/1000   error=0.000913\n",
      "epoch 857/1000   error=0.000910\n",
      "epoch 858/1000   error=0.000907\n",
      "epoch 859/1000   error=0.000905\n",
      "epoch 860/1000   error=0.000903\n",
      "epoch 861/1000   error=0.000900\n",
      "epoch 862/1000   error=0.000902\n",
      "epoch 863/1000   error=0.000901\n",
      "epoch 864/1000   error=0.000898\n",
      "epoch 865/1000   error=0.000895\n",
      "epoch 866/1000   error=0.000893\n",
      "epoch 867/1000   error=0.000891\n",
      "epoch 868/1000   error=0.000888\n",
      "epoch 869/1000   error=0.000891\n",
      "epoch 870/1000   error=0.000889\n",
      "epoch 871/1000   error=0.000887\n",
      "epoch 872/1000   error=0.000884\n",
      "epoch 873/1000   error=0.000882\n",
      "epoch 874/1000   error=0.000880\n",
      "epoch 875/1000   error=0.000877\n",
      "epoch 876/1000   error=0.000879\n",
      "epoch 877/1000   error=0.000878\n",
      "epoch 878/1000   error=0.000875\n",
      "epoch 879/1000   error=0.000872\n",
      "epoch 880/1000   error=0.000870\n",
      "epoch 881/1000   error=0.000868\n",
      "epoch 882/1000   error=0.000866\n",
      "epoch 883/1000   error=0.000868\n",
      "epoch 884/1000   error=0.000867\n",
      "epoch 885/1000   error=0.000864\n",
      "epoch 886/1000   error=0.000861\n",
      "epoch 887/1000   error=0.000859\n",
      "epoch 888/1000   error=0.000857\n",
      "epoch 889/1000   error=0.000855\n",
      "epoch 890/1000   error=0.000857\n",
      "epoch 891/1000   error=0.000856\n",
      "epoch 892/1000   error=0.000853\n",
      "epoch 893/1000   error=0.000851\n",
      "epoch 894/1000   error=0.000849\n",
      "epoch 895/1000   error=0.000847\n",
      "epoch 896/1000   error=0.000844\n",
      "epoch 897/1000   error=0.000847\n",
      "epoch 898/1000   error=0.000845\n",
      "epoch 899/1000   error=0.000843\n",
      "epoch 900/1000   error=0.000840\n",
      "epoch 901/1000   error=0.000838\n",
      "epoch 902/1000   error=0.000836\n",
      "epoch 903/1000   error=0.000834\n",
      "epoch 904/1000   error=0.000836\n",
      "epoch 905/1000   error=0.000835\n",
      "epoch 906/1000   error=0.000832\n",
      "epoch 907/1000   error=0.000830\n",
      "epoch 908/1000   error=0.000828\n",
      "epoch 909/1000   error=0.000826\n",
      "epoch 910/1000   error=0.000824\n",
      "epoch 911/1000   error=0.000826\n",
      "epoch 912/1000   error=0.000825\n",
      "epoch 913/1000   error=0.000822\n",
      "epoch 914/1000   error=0.000820\n",
      "epoch 915/1000   error=0.000818\n",
      "epoch 916/1000   error=0.000816\n",
      "epoch 917/1000   error=0.000814\n",
      "epoch 918/1000   error=0.000816\n",
      "epoch 919/1000   error=0.000815\n",
      "epoch 920/1000   error=0.000812\n",
      "epoch 921/1000   error=0.000810\n",
      "epoch 922/1000   error=0.000808\n",
      "epoch 923/1000   error=0.000806\n",
      "epoch 924/1000   error=0.000804\n",
      "epoch 925/1000   error=0.000806\n",
      "epoch 926/1000   error=0.000805\n",
      "epoch 927/1000   error=0.000803\n",
      "epoch 928/1000   error=0.000800\n",
      "epoch 929/1000   error=0.000798\n",
      "epoch 930/1000   error=0.000797\n",
      "epoch 931/1000   error=0.000795\n",
      "epoch 932/1000   error=0.000796\n",
      "epoch 933/1000   error=0.000796\n",
      "epoch 934/1000   error=0.000793\n",
      "epoch 935/1000   error=0.000791\n",
      "epoch 936/1000   error=0.000789\n",
      "epoch 937/1000   error=0.000788\n",
      "epoch 938/1000   error=0.000786\n",
      "epoch 939/1000   error=0.000787\n",
      "epoch 940/1000   error=0.000786\n",
      "epoch 941/1000   error=0.000784\n",
      "epoch 942/1000   error=0.000782\n",
      "epoch 943/1000   error=0.000780\n",
      "epoch 944/1000   error=0.000779\n",
      "epoch 945/1000   error=0.000777\n",
      "epoch 946/1000   error=0.000778\n",
      "epoch 947/1000   error=0.000777\n",
      "epoch 948/1000   error=0.000775\n",
      "epoch 949/1000   error=0.000773\n",
      "epoch 950/1000   error=0.000771\n",
      "epoch 951/1000   error=0.000770\n",
      "epoch 952/1000   error=0.000768\n",
      "epoch 953/1000   error=0.000769\n",
      "epoch 954/1000   error=0.000768\n",
      "epoch 955/1000   error=0.000766\n",
      "epoch 956/1000   error=0.000764\n",
      "epoch 957/1000   error=0.000762\n",
      "epoch 958/1000   error=0.000761\n",
      "epoch 959/1000   error=0.000759\n",
      "epoch 960/1000   error=0.000760\n",
      "epoch 961/1000   error=0.000760\n",
      "epoch 962/1000   error=0.000758\n",
      "epoch 963/1000   error=0.000756\n",
      "epoch 964/1000   error=0.000754\n",
      "epoch 965/1000   error=0.000753\n",
      "epoch 966/1000   error=0.000751\n",
      "epoch 967/1000   error=0.000751\n",
      "epoch 968/1000   error=0.000751\n",
      "epoch 969/1000   error=0.000749\n",
      "epoch 970/1000   error=0.000747\n",
      "epoch 971/1000   error=0.000745\n",
      "epoch 972/1000   error=0.000744\n",
      "epoch 973/1000   error=0.000742\n",
      "epoch 974/1000   error=0.000742\n",
      "epoch 975/1000   error=0.000743\n",
      "epoch 976/1000   error=0.000741\n",
      "epoch 977/1000   error=0.000739\n",
      "epoch 978/1000   error=0.000737\n",
      "epoch 979/1000   error=0.000736\n",
      "epoch 980/1000   error=0.000734\n",
      "epoch 981/1000   error=0.000734\n",
      "epoch 982/1000   error=0.000735\n",
      "epoch 983/1000   error=0.000733\n",
      "epoch 984/1000   error=0.000731\n",
      "epoch 985/1000   error=0.000729\n",
      "epoch 986/1000   error=0.000728\n",
      "epoch 987/1000   error=0.000726\n",
      "epoch 988/1000   error=0.000726\n",
      "epoch 989/1000   error=0.000727\n",
      "epoch 990/1000   error=0.000726\n",
      "epoch 991/1000   error=0.000724\n",
      "epoch 992/1000   error=0.000722\n",
      "epoch 993/1000   error=0.000720\n",
      "epoch 994/1000   error=0.000719\n",
      "epoch 995/1000   error=0.000718\n",
      "epoch 996/1000   error=0.000719\n",
      "epoch 997/1000   error=0.000718\n",
      "epoch 998/1000   error=0.000716\n",
      "epoch 999/1000   error=0.000715\n",
      "epoch 1000/1000   error=0.000713\n"
     ]
    }
   ],
   "source": [
    "# Train the network\n",
    "epochs = 1000\n",
    "learning_rate = 1\n",
    "\n",
    "network.train(\n",
    "    x_train,\n",
    "    y_train,\n",
    "    mse,\n",
    "    mse_prime,\n",
    "    epochs,\n",
    "    learning_rate\n",
    ")"
   ]
  },
  {
   "cell_type": "markdown",
   "metadata": {},
   "source": [
    "During training, you’ll see the **error** (MSE) decrease and eventually become very small, signaling that the network has learned the XOR mapping. A sample training output might look like:\n"
   ]
  },
  {
   "cell_type": "markdown",
   "metadata": {},
   "source": [
    "```\n",
    "epoch 1/1000   error=0.312980\n",
    "epoch 2/1000   error=0.255174\n",
    "...\n",
    "epoch 998/1000 error=0.000243\n",
    "epoch 999/1000 error=0.000241\n",
    "epoch 1000/1000 error=0.000240\n",
    "```\n"
   ]
  },
  {
   "cell_type": "markdown",
   "metadata": {},
   "source": [
    "### <a id='toc7_4_'></a>[Verifying the Model](#toc0_)\n"
   ]
  },
  {
   "cell_type": "markdown",
   "metadata": {},
   "source": [
    "After training, we can check the network’s predictions on each XOR input:\n"
   ]
  },
  {
   "cell_type": "code",
   "execution_count": 11,
   "metadata": {},
   "outputs": [
    {
     "name": "stdout",
     "output_type": "stream",
     "text": [
      "Predictions: [[0.03335503]\n",
      " [0.98242322]\n",
      " [0.98239627]\n",
      " [0.03335503]]\n"
     ]
    }
   ],
   "source": [
    "output = network.forward(x_train)\n",
    "print(\"Predictions:\", output)"
   ]
  },
  {
   "cell_type": "markdown",
   "metadata": {},
   "source": [
    "Ideally, we obtain something very close to:\n",
    "\n",
    "- (0, 0) → ~0\n",
    "- (0, 1) → ~1\n",
    "- (1, 0) → ~1\n",
    "- (1, 1) → ~0\n"
   ]
  },
  {
   "cell_type": "markdown",
   "metadata": {},
   "source": [
    "This confirms that our small network—with a hidden layer and non-linear activation—can indeed solve the XOR problem.\n"
   ]
  },
  {
   "cell_type": "markdown",
   "metadata": {},
   "source": [
    "By starting with XOR, we confirm that our **forward propagation**, **backpropagation**, and **layer architecture** can learn a classic non-linear mapping. This same foundation allows us to tackle more complex tasks—such as image classification—simply by adding more layers and larger datasets."
   ]
  },
  {
   "cell_type": "markdown",
   "metadata": {},
   "source": [
    "## <a id='toc8_'></a>[Example 2: Solving MNIST](#toc0_)"
   ]
  },
  {
   "cell_type": "markdown",
   "metadata": {},
   "source": [
    "While XOR demonstrates our network can learn a simple non-linear function, it’s another leap to solve a more “real-world” task like **recognizing handwritten digits**. The **MNIST** dataset is a classic benchmark, consisting of 28×28 grayscale images of digits from 0 to 9. Below, we’ll use our from-scratch framework to classify these images—despite not having implemented **Convolutional** layers, we can still do a decent job by flattening each 28×28 image into a single 784-dimensional vector.\n"
   ]
  },
  {
   "cell_type": "markdown",
   "metadata": {},
   "source": [
    "<img src=\"./images/mnist.png\" width=\"800\">"
   ]
  },
  {
   "cell_type": "markdown",
   "metadata": {},
   "source": [
    "### <a id='toc8_1_'></a>[Dataset Considerations](#toc0_)\n"
   ]
  },
  {
   "cell_type": "markdown",
   "metadata": {},
   "source": [
    "• MNIST images are 28×28 pixels, giving 784 intensity values per image.  \n",
    "• We have 10 possible digit classes (0 through 9).  \n",
    "• Each data sample can be reshaped from (28, 28) to (784,).  \n",
    "• For output, we often use a **one-hot** encoding: each label is a 10-dimensional vector with a 1 at the index of the correct class and 0 elsewhere.  \n"
   ]
  },
  {
   "cell_type": "markdown",
   "metadata": {},
   "source": [
    "Depending on your data source, you might load and preprocess MNIST in different ways. A simple approach involves using libraries like **scikit-learn** or **TensorFlow Keras** to fetch and reshape the dataset, or you can load it manually from a file (e.g., “train-images.idx3-ubyte” and “train-labels.idx1-ubyte”). After loading:\n",
    "\n",
    "1. **Flatten each image** into a 1D vector of length 784.  \n",
    "2. **Normalize** the pixel values to [0,1] or [-1,1].  \n",
    "3. **Convert labels to one-hot vectors** of length 10.\n"
   ]
  },
  {
   "cell_type": "markdown",
   "metadata": {},
   "source": [
    "A minimal example with scikit-learn might look like this:\n"
   ]
  },
  {
   "cell_type": "code",
   "execution_count": 12,
   "metadata": {},
   "outputs": [],
   "source": [
    "from sklearn.datasets import fetch_openml\n",
    "import numpy as np"
   ]
  },
  {
   "cell_type": "code",
   "execution_count": 13,
   "metadata": {},
   "outputs": [],
   "source": [
    "# Fetch MNIST via scikit-learn (this may be slow on first run)\n",
    "mnist = fetch_openml('mnist_784', version=1)\n",
    "\n",
    "X = mnist.data.values  # Shape: (70000, 784)\n",
    "y = mnist.target.values  # Shape: (70000,)"
   ]
  },
  {
   "cell_type": "code",
   "execution_count": 14,
   "metadata": {},
   "outputs": [],
   "source": [
    "# Convert string labels to int\n",
    "y = y.astype(int)"
   ]
  },
  {
   "cell_type": "code",
   "execution_count": 15,
   "metadata": {},
   "outputs": [],
   "source": [
    "# Normalize pixel values to [0, 1]\n",
    "X = X / 255.0"
   ]
  },
  {
   "cell_type": "code",
   "execution_count": 16,
   "metadata": {},
   "outputs": [],
   "source": [
    "# One-hot encode labels\n",
    "num_classes = 10\n",
    "y_onehot = np.zeros((y.size, num_classes))\n",
    "y_onehot[np.arange(y.size), y] = 1.0"
   ]
  },
  {
   "cell_type": "code",
   "execution_count": 17,
   "metadata": {},
   "outputs": [],
   "source": [
    "# Now split into training/validation sets as needed\n",
    "x_train = X[:60000]\n",
    "y_train = y_onehot[:60000]\n",
    "x_test = X[60000:]\n",
    "y_test = y_onehot[60000:]"
   ]
  },
  {
   "cell_type": "code",
   "execution_count": 18,
   "metadata": {},
   "outputs": [],
   "source": [
    "import matplotlib.pyplot as plt\n",
    "\n",
    "def plot_digits(X, num_images=10, figsize=(15,3)):\n",
    "    # Create a figure with specified size\n",
    "    plt.figure(figsize=figsize)\n",
    "\n",
    "    # Plot multiple images\n",
    "    for i in range(num_images):\n",
    "        plt.subplot(1, num_images, i+1)\n",
    "        # Reshape the image from 784 pixels to 28x28\n",
    "        img = X[i].reshape(28, 28)\n",
    "        plt.imshow(img, cmap='gray')\n",
    "        plt.axis('off')\n",
    "\n",
    "    plt.tight_layout()\n",
    "    plt.show()"
   ]
  },
  {
   "cell_type": "code",
   "execution_count": 19,
   "metadata": {},
   "outputs": [
    {
     "data": {
      "image/png": "[encoded data removed]",
      "text/plain": [
       "<Figure size 1500x300 with 10 Axes>"
      ]
     },
     "metadata": {},
     "output_type": "display_data"
    }
   ],
   "source": [
    "# Visualize first 10 digits from training set\n",
    "plot_digits(x_train)"
   ]
  },
  {
   "cell_type": "code",
   "execution_count": 20,
   "metadata": {},
   "outputs": [
    {
     "data": {
      "image/png": "[encoded data removed]",
      "text/plain": [
       "<Figure size 300x300 with 1 Axes>"
      ]
     },
     "metadata": {},
     "output_type": "display_data"
    }
   ],
   "source": [
    "# You can also visualize specific digits\n",
    "def plot_digit(X, index):\n",
    "    plt.figure(figsize=(3,3))\n",
    "    img = X[index].reshape(28, 28)\n",
    "    plt.imshow(img, cmap='gray')\n",
    "    plt.axis('off')\n",
    "    plt.show()\n",
    "\n",
    "# Visualize a specific digit (e.g., the first one)\n",
    "plot_digit(x_train, 0)"
   ]
  },
  {
   "cell_type": "code",
   "execution_count": 21,
   "metadata": {},
   "outputs": [
    {
     "data": {
      "image/png": "[encoded data removed]",
      "text/plain": [
       "<Figure size 1500x300 with 10 Axes>"
      ]
     },
     "metadata": {},
     "output_type": "display_data"
    }
   ],
   "source": [
    "# To visualize random digits:\n",
    "random_indices = np.random.randint(0, len(x_train), 10)\n",
    "plot_digits(x_train[random_indices])"
   ]
  },
  {
   "cell_type": "markdown",
   "metadata": {},
   "source": [
    "Even if you load MNIST differently (e.g., direct from files), the result should be **two NumPy arrays**: one for training inputs (`x_train`) and one for training labels (`y_train`).\n"
   ]
  },
  {
   "cell_type": "markdown",
   "metadata": {},
   "source": [
    "### <a id='toc8_2_'></a>[Flattening Images for Input](#toc0_)\n"
   ]
  },
  {
   "cell_type": "markdown",
   "metadata": {},
   "source": [
    "In our **Fully Connected** layers, the input dimension needs to match the feature vector size. Thus, each MNIST image, originally 28×28, becomes a flat 784-element vector. Because we handled that with the above approach, each sample is already shape $(784,)$.\n"
   ]
  },
  {
   "cell_type": "markdown",
   "metadata": {},
   "source": [
    "### <a id='toc8_3_'></a>[Network Configuration and Training](#toc0_)\n"
   ]
  },
  {
   "cell_type": "markdown",
   "metadata": {},
   "source": [
    "We can reuse our previous architecture without modification. However, for MNIST, we might want deeper or wider layers:\n",
    "\n",
    "1. **Fully Connected Layer** mapping 784 inputs to, say, 64 or 128 hidden neurons.  \n",
    "2. **Activation Layer** (e.g., ReLU).  \n",
    "3. Another **Fully Connected Layer** down to 10 outputs (one for each digit class).  \n",
    "4. **Softmax** or **Sigmoid** activation for classification.  \n"
   ]
  },
  {
   "cell_type": "markdown",
   "metadata": {},
   "source": [
    "Below is a sample of how you might assemble the network:\n"
   ]
  },
  {
   "cell_type": "code",
   "execution_count": 22,
   "metadata": {},
   "outputs": [],
   "source": [
    "network = Network()\n",
    "network.add(FCLayer(784, 64))  # 784 -> 64\n",
    "network.add(ActivationLayer(relu, relu_prime))\n",
    "network.add(FCLayer(64, 10))   # 64 -> 10\n",
    "network.add(ActivationLayer(sigmoid, sigmoid_prime))"
   ]
  },
  {
   "cell_type": "markdown",
   "metadata": {},
   "source": [
    "Note that **Sigmoid** on each of the 10 outputs could work, but a more typical approach is to use a **Softmax** activation with a cross-entropy loss for multi-class classification. For the sake of simplicity (and since we are building from scratch), we might rely on Sigmoid or ReLU-based final outputs. However, we must interpret the results carefully.\n"
   ]
  },
  {
   "cell_type": "markdown",
   "metadata": {},
   "source": [
    "A typical training loop may look like:\n"
   ]
  },
  {
   "cell_type": "code",
   "execution_count": 23,
   "metadata": {},
   "outputs": [
    {
     "name": "stdout",
     "output_type": "stream",
     "text": [
      "epoch 1/1000   error=0.249540\n",
      "epoch 2/1000   error=0.244297\n",
      "epoch 3/1000   error=0.238704\n",
      "epoch 4/1000   error=0.232083\n",
      "epoch 5/1000   error=0.223523\n",
      "epoch 6/1000   error=0.211768\n",
      "epoch 7/1000   error=0.195477\n",
      "epoch 8/1000   error=0.174282\n",
      "epoch 9/1000   error=0.150609\n",
      "epoch 10/1000   error=0.129631\n",
      "epoch 11/1000   error=0.115015\n",
      "epoch 12/1000   error=0.106269\n",
      "epoch 13/1000   error=0.101234\n",
      "epoch 14/1000   error=0.098257\n",
      "epoch 15/1000   error=0.096413\n",
      "epoch 16/1000   error=0.095216\n",
      "epoch 17/1000   error=0.094407\n",
      "epoch 18/1000   error=0.093840\n",
      "epoch 19/1000   error=0.093431\n",
      "epoch 20/1000   error=0.093128\n",
      "epoch 21/1000   error=0.092898\n",
      "epoch 22/1000   error=0.092721\n",
      "epoch 23/1000   error=0.092581\n",
      "epoch 24/1000   error=0.092469\n",
      "epoch 25/1000   error=0.092379\n",
      "epoch 26/1000   error=0.092304\n",
      "epoch 27/1000   error=0.092242\n",
      "epoch 28/1000   error=0.092189\n",
      "epoch 29/1000   error=0.092144\n",
      "epoch 30/1000   error=0.092106\n",
      "epoch 31/1000   error=0.092072\n",
      "epoch 32/1000   error=0.092042\n",
      "epoch 33/1000   error=0.092015\n",
      "epoch 34/1000   error=0.091992\n",
      "epoch 35/1000   error=0.091970\n",
      "epoch 36/1000   error=0.091950\n",
      "epoch 37/1000   error=0.091932\n",
      "epoch 38/1000   error=0.091915\n",
      "epoch 39/1000   error=0.091899\n",
      "epoch 40/1000   error=0.091884\n",
      "epoch 41/1000   error=0.091870\n",
      "epoch 42/1000   error=0.091856\n",
      "epoch 43/1000   error=0.091843\n",
      "epoch 44/1000   error=0.091831\n",
      "epoch 45/1000   error=0.091819\n",
      "epoch 46/1000   error=0.091807\n",
      "epoch 47/1000   error=0.091796\n",
      "epoch 48/1000   error=0.091785\n",
      "epoch 49/1000   error=0.091774\n",
      "epoch 50/1000   error=0.091764\n",
      "epoch 51/1000   error=0.091753\n",
      "epoch 52/1000   error=0.091743\n",
      "epoch 53/1000   error=0.091733\n",
      "epoch 54/1000   error=0.091723\n",
      "epoch 55/1000   error=0.091713\n",
      "epoch 56/1000   error=0.091703\n",
      "epoch 57/1000   error=0.091693\n",
      "epoch 58/1000   error=0.091683\n",
      "epoch 59/1000   error=0.091673\n",
      "epoch 60/1000   error=0.091663\n",
      "epoch 61/1000   error=0.091654\n",
      "epoch 62/1000   error=0.091644\n",
      "epoch 63/1000   error=0.091634\n",
      "epoch 64/1000   error=0.091624\n",
      "epoch 65/1000   error=0.091614\n",
      "epoch 66/1000   error=0.091605\n",
      "epoch 67/1000   error=0.091595\n",
      "epoch 68/1000   error=0.091585\n",
      "epoch 69/1000   error=0.091575\n",
      "epoch 70/1000   error=0.091565\n",
      "epoch 71/1000   error=0.091554\n",
      "epoch 72/1000   error=0.091544\n",
      "epoch 73/1000   error=0.091534\n",
      "epoch 74/1000   error=0.091523\n",
      "epoch 75/1000   error=0.091513\n",
      "epoch 76/1000   error=0.091502\n",
      "epoch 77/1000   error=0.091492\n",
      "epoch 78/1000   error=0.091481\n",
      "epoch 79/1000   error=0.091470\n",
      "epoch 80/1000   error=0.091459\n",
      "epoch 81/1000   error=0.091448\n",
      "epoch 82/1000   error=0.091437\n",
      "epoch 83/1000   error=0.091426\n",
      "epoch 84/1000   error=0.091414\n",
      "epoch 85/1000   error=0.091403\n",
      "epoch 86/1000   error=0.091391\n",
      "epoch 87/1000   error=0.091379\n",
      "epoch 88/1000   error=0.091367\n",
      "epoch 89/1000   error=0.091355\n",
      "epoch 90/1000   error=0.091342\n",
      "epoch 91/1000   error=0.091330\n",
      "epoch 92/1000   error=0.091317\n",
      "epoch 93/1000   error=0.091304\n",
      "epoch 94/1000   error=0.091291\n",
      "epoch 95/1000   error=0.091278\n",
      "epoch 96/1000   error=0.091265\n",
      "epoch 97/1000   error=0.091251\n",
      "epoch 98/1000   error=0.091238\n",
      "epoch 99/1000   error=0.091224\n",
      "epoch 100/1000   error=0.091209\n",
      "epoch 101/1000   error=0.091195\n",
      "epoch 102/1000   error=0.091180\n",
      "epoch 103/1000   error=0.091165\n",
      "epoch 104/1000   error=0.091150\n",
      "epoch 105/1000   error=0.091135\n",
      "epoch 106/1000   error=0.091119\n",
      "epoch 107/1000   error=0.091104\n",
      "epoch 108/1000   error=0.091088\n",
      "epoch 109/1000   error=0.091071\n",
      "epoch 110/1000   error=0.091055\n",
      "epoch 111/1000   error=0.091038\n",
      "epoch 112/1000   error=0.091020\n",
      "epoch 113/1000   error=0.091003\n",
      "epoch 114/1000   error=0.090985\n",
      "epoch 115/1000   error=0.090967\n",
      "epoch 116/1000   error=0.090949\n",
      "epoch 117/1000   error=0.090930\n",
      "epoch 118/1000   error=0.090911\n",
      "epoch 119/1000   error=0.090891\n",
      "epoch 120/1000   error=0.090871\n",
      "epoch 121/1000   error=0.090851\n",
      "epoch 122/1000   error=0.090831\n",
      "epoch 123/1000   error=0.090810\n",
      "epoch 124/1000   error=0.090788\n",
      "epoch 125/1000   error=0.090766\n",
      "epoch 126/1000   error=0.090744\n",
      "epoch 127/1000   error=0.090722\n",
      "epoch 128/1000   error=0.090698\n",
      "epoch 129/1000   error=0.090675\n",
      "epoch 130/1000   error=0.090651\n",
      "epoch 131/1000   error=0.090626\n",
      "epoch 132/1000   error=0.090601\n",
      "epoch 133/1000   error=0.090576\n",
      "epoch 134/1000   error=0.090550\n",
      "epoch 135/1000   error=0.090523\n",
      "epoch 136/1000   error=0.090496\n",
      "epoch 137/1000   error=0.090468\n",
      "epoch 138/1000   error=0.090440\n",
      "epoch 139/1000   error=0.090411\n",
      "epoch 140/1000   error=0.090382\n",
      "epoch 141/1000   error=0.090352\n",
      "epoch 142/1000   error=0.090321\n",
      "epoch 143/1000   error=0.090289\n",
      "epoch 144/1000   error=0.090257\n",
      "epoch 145/1000   error=0.090224\n",
      "epoch 146/1000   error=0.090191\n",
      "epoch 147/1000   error=0.090156\n",
      "epoch 148/1000   error=0.090121\n",
      "epoch 149/1000   error=0.090085\n",
      "epoch 150/1000   error=0.090048\n",
      "epoch 151/1000   error=0.090011\n",
      "epoch 152/1000   error=0.089972\n",
      "epoch 153/1000   error=0.089933\n",
      "epoch 154/1000   error=0.089893\n",
      "epoch 155/1000   error=0.089852\n",
      "epoch 156/1000   error=0.089810\n",
      "epoch 157/1000   error=0.089767\n",
      "epoch 158/1000   error=0.089722\n",
      "epoch 159/1000   error=0.089677\n",
      "epoch 160/1000   error=0.089631\n",
      "epoch 161/1000   error=0.089584\n",
      "epoch 162/1000   error=0.089535\n",
      "epoch 163/1000   error=0.089486\n",
      "epoch 164/1000   error=0.089435\n",
      "epoch 165/1000   error=0.089383\n",
      "epoch 166/1000   error=0.089330\n",
      "epoch 167/1000   error=0.089275\n",
      "epoch 168/1000   error=0.089219\n",
      "epoch 169/1000   error=0.089162\n",
      "epoch 170/1000   error=0.089103\n",
      "epoch 171/1000   error=0.089043\n",
      "epoch 172/1000   error=0.088981\n",
      "epoch 173/1000   error=0.088918\n",
      "epoch 174/1000   error=0.088853\n",
      "epoch 175/1000   error=0.088787\n",
      "epoch 176/1000   error=0.088718\n",
      "epoch 177/1000   error=0.088649\n",
      "epoch 178/1000   error=0.088577\n",
      "epoch 179/1000   error=0.088504\n",
      "epoch 180/1000   error=0.088428\n",
      "epoch 181/1000   error=0.088351\n",
      "epoch 182/1000   error=0.088272\n",
      "epoch 183/1000   error=0.088191\n",
      "epoch 184/1000   error=0.088108\n",
      "epoch 185/1000   error=0.088023\n",
      "epoch 186/1000   error=0.087936\n",
      "epoch 187/1000   error=0.087846\n",
      "epoch 188/1000   error=0.087754\n",
      "epoch 189/1000   error=0.087660\n",
      "epoch 190/1000   error=0.087564\n",
      "epoch 191/1000   error=0.087465\n",
      "epoch 192/1000   error=0.087364\n",
      "epoch 193/1000   error=0.087260\n",
      "epoch 194/1000   error=0.087154\n",
      "epoch 195/1000   error=0.087046\n",
      "epoch 196/1000   error=0.086934\n",
      "epoch 197/1000   error=0.086820\n",
      "epoch 198/1000   error=0.086704\n",
      "epoch 199/1000   error=0.086585\n",
      "epoch 200/1000   error=0.086463\n",
      "epoch 201/1000   error=0.086338\n",
      "epoch 202/1000   error=0.086211\n",
      "epoch 203/1000   error=0.086081\n",
      "epoch 204/1000   error=0.085948\n",
      "epoch 205/1000   error=0.085812\n",
      "epoch 206/1000   error=0.085674\n",
      "epoch 207/1000   error=0.085533\n",
      "epoch 208/1000   error=0.085389\n",
      "epoch 209/1000   error=0.085243\n",
      "epoch 210/1000   error=0.085094\n",
      "epoch 211/1000   error=0.084942\n",
      "epoch 212/1000   error=0.084788\n",
      "epoch 213/1000   error=0.084631\n",
      "epoch 214/1000   error=0.084472\n",
      "epoch 215/1000   error=0.084310\n",
      "epoch 216/1000   error=0.084146\n",
      "epoch 217/1000   error=0.083980\n",
      "epoch 218/1000   error=0.083811\n",
      "epoch 219/1000   error=0.083640\n",
      "epoch 220/1000   error=0.083467\n",
      "epoch 221/1000   error=0.083293\n",
      "epoch 222/1000   error=0.083116\n",
      "epoch 223/1000   error=0.082937\n",
      "epoch 224/1000   error=0.082757\n",
      "epoch 225/1000   error=0.082575\n",
      "epoch 226/1000   error=0.082392\n",
      "epoch 227/1000   error=0.082207\n",
      "epoch 228/1000   error=0.082022\n",
      "epoch 229/1000   error=0.081835\n",
      "epoch 230/1000   error=0.081648\n",
      "epoch 231/1000   error=0.081460\n",
      "epoch 232/1000   error=0.081271\n",
      "epoch 233/1000   error=0.081082\n",
      "epoch 234/1000   error=0.080893\n",
      "epoch 235/1000   error=0.080703\n",
      "epoch 236/1000   error=0.080514\n",
      "epoch 237/1000   error=0.080324\n",
      "epoch 238/1000   error=0.080135\n",
      "epoch 239/1000   error=0.079946\n",
      "epoch 240/1000   error=0.079758\n",
      "epoch 241/1000   error=0.079570\n",
      "epoch 242/1000   error=0.079383\n",
      "epoch 243/1000   error=0.079197\n",
      "epoch 244/1000   error=0.079012\n",
      "epoch 245/1000   error=0.078827\n",
      "epoch 246/1000   error=0.078643\n",
      "epoch 247/1000   error=0.078461\n",
      "epoch 248/1000   error=0.078279\n",
      "epoch 249/1000   error=0.078099\n",
      "epoch 250/1000   error=0.077919\n",
      "epoch 251/1000   error=0.077741\n",
      "epoch 252/1000   error=0.077564\n",
      "epoch 253/1000   error=0.077388\n",
      "epoch 254/1000   error=0.077214\n",
      "epoch 255/1000   error=0.077040\n",
      "epoch 256/1000   error=0.076868\n",
      "epoch 257/1000   error=0.076697\n",
      "epoch 258/1000   error=0.076527\n",
      "epoch 259/1000   error=0.076359\n",
      "epoch 260/1000   error=0.076191\n",
      "epoch 261/1000   error=0.076025\n",
      "epoch 262/1000   error=0.075860\n",
      "epoch 263/1000   error=0.075696\n",
      "epoch 264/1000   error=0.075534\n",
      "epoch 265/1000   error=0.075372\n",
      "epoch 266/1000   error=0.075212\n",
      "epoch 267/1000   error=0.075052\n",
      "epoch 268/1000   error=0.074894\n",
      "epoch 269/1000   error=0.074736\n",
      "epoch 270/1000   error=0.074580\n",
      "epoch 271/1000   error=0.074424\n",
      "epoch 272/1000   error=0.074270\n",
      "epoch 273/1000   error=0.074116\n",
      "epoch 274/1000   error=0.073963\n",
      "epoch 275/1000   error=0.073811\n",
      "epoch 276/1000   error=0.073660\n",
      "epoch 277/1000   error=0.073509\n",
      "epoch 278/1000   error=0.073360\n",
      "epoch 279/1000   error=0.073211\n",
      "epoch 280/1000   error=0.073062\n",
      "epoch 281/1000   error=0.072915\n",
      "epoch 282/1000   error=0.072768\n",
      "epoch 283/1000   error=0.072621\n",
      "epoch 284/1000   error=0.072476\n",
      "epoch 285/1000   error=0.072330\n",
      "epoch 286/1000   error=0.072186\n",
      "epoch 287/1000   error=0.072041\n",
      "epoch 288/1000   error=0.071897\n",
      "epoch 289/1000   error=0.071754\n",
      "epoch 290/1000   error=0.071611\n",
      "epoch 291/1000   error=0.071468\n",
      "epoch 292/1000   error=0.071326\n",
      "epoch 293/1000   error=0.071183\n",
      "epoch 294/1000   error=0.071042\n",
      "epoch 295/1000   error=0.070900\n",
      "epoch 296/1000   error=0.070758\n",
      "epoch 297/1000   error=0.070617\n",
      "epoch 298/1000   error=0.070476\n",
      "epoch 299/1000   error=0.070335\n",
      "epoch 300/1000   error=0.070194\n",
      "epoch 301/1000   error=0.070053\n",
      "epoch 302/1000   error=0.069912\n",
      "epoch 303/1000   error=0.069771\n",
      "epoch 304/1000   error=0.069629\n",
      "epoch 305/1000   error=0.069488\n",
      "epoch 306/1000   error=0.069347\n",
      "epoch 307/1000   error=0.069206\n",
      "epoch 308/1000   error=0.069064\n",
      "epoch 309/1000   error=0.068922\n",
      "epoch 310/1000   error=0.068781\n",
      "epoch 311/1000   error=0.068639\n",
      "epoch 312/1000   error=0.068496\n",
      "epoch 313/1000   error=0.068354\n",
      "epoch 314/1000   error=0.068211\n",
      "epoch 315/1000   error=0.068068\n",
      "epoch 316/1000   error=0.067925\n",
      "epoch 317/1000   error=0.067781\n",
      "epoch 318/1000   error=0.067637\n",
      "epoch 319/1000   error=0.067493\n",
      "epoch 320/1000   error=0.067349\n",
      "epoch 321/1000   error=0.067204\n",
      "epoch 322/1000   error=0.067059\n",
      "epoch 323/1000   error=0.066914\n",
      "epoch 324/1000   error=0.066768\n",
      "epoch 325/1000   error=0.066622\n",
      "epoch 326/1000   error=0.066476\n",
      "epoch 327/1000   error=0.066329\n",
      "epoch 328/1000   error=0.066183\n",
      "epoch 329/1000   error=0.066036\n",
      "epoch 330/1000   error=0.065888\n",
      "epoch 331/1000   error=0.065741\n",
      "epoch 332/1000   error=0.065593\n",
      "epoch 333/1000   error=0.065445\n",
      "epoch 334/1000   error=0.065298\n",
      "epoch 335/1000   error=0.065149\n",
      "epoch 336/1000   error=0.065001\n",
      "epoch 337/1000   error=0.064853\n",
      "epoch 338/1000   error=0.064705\n",
      "epoch 339/1000   error=0.064556\n",
      "epoch 340/1000   error=0.064408\n",
      "epoch 341/1000   error=0.064260\n",
      "epoch 342/1000   error=0.064112\n",
      "epoch 343/1000   error=0.063963\n",
      "epoch 344/1000   error=0.063815\n",
      "epoch 345/1000   error=0.063667\n",
      "epoch 346/1000   error=0.063520\n",
      "epoch 347/1000   error=0.063372\n",
      "epoch 348/1000   error=0.063225\n",
      "epoch 349/1000   error=0.063078\n",
      "epoch 350/1000   error=0.062931\n",
      "epoch 351/1000   error=0.062784\n",
      "epoch 352/1000   error=0.062638\n",
      "epoch 353/1000   error=0.062492\n",
      "epoch 354/1000   error=0.062346\n",
      "epoch 355/1000   error=0.062201\n",
      "epoch 356/1000   error=0.062056\n",
      "epoch 357/1000   error=0.061912\n",
      "epoch 358/1000   error=0.061768\n",
      "epoch 359/1000   error=0.061624\n",
      "epoch 360/1000   error=0.061481\n",
      "epoch 361/1000   error=0.061339\n",
      "epoch 362/1000   error=0.061196\n",
      "epoch 363/1000   error=0.061055\n",
      "epoch 364/1000   error=0.060913\n",
      "epoch 365/1000   error=0.060772\n",
      "epoch 366/1000   error=0.060632\n",
      "epoch 367/1000   error=0.060492\n",
      "epoch 368/1000   error=0.060353\n",
      "epoch 369/1000   error=0.060214\n",
      "epoch 370/1000   error=0.060076\n",
      "epoch 371/1000   error=0.059938\n",
      "epoch 372/1000   error=0.059800\n",
      "epoch 373/1000   error=0.059664\n",
      "epoch 374/1000   error=0.059527\n",
      "epoch 375/1000   error=0.059391\n",
      "epoch 376/1000   error=0.059256\n",
      "epoch 377/1000   error=0.059121\n",
      "epoch 378/1000   error=0.058986\n",
      "epoch 379/1000   error=0.058852\n",
      "epoch 380/1000   error=0.058719\n",
      "epoch 381/1000   error=0.058586\n",
      "epoch 382/1000   error=0.058453\n",
      "epoch 383/1000   error=0.058321\n",
      "epoch 384/1000   error=0.058189\n",
      "epoch 385/1000   error=0.058058\n",
      "epoch 386/1000   error=0.057927\n",
      "epoch 387/1000   error=0.057797\n",
      "epoch 388/1000   error=0.057667\n",
      "epoch 389/1000   error=0.057537\n",
      "epoch 390/1000   error=0.057408\n",
      "epoch 391/1000   error=0.057279\n",
      "epoch 392/1000   error=0.057151\n",
      "epoch 393/1000   error=0.057023\n",
      "epoch 394/1000   error=0.056895\n",
      "epoch 395/1000   error=0.056768\n",
      "epoch 396/1000   error=0.056642\n",
      "epoch 397/1000   error=0.056515\n",
      "epoch 398/1000   error=0.056389\n",
      "epoch 399/1000   error=0.056264\n",
      "epoch 400/1000   error=0.056139\n",
      "epoch 401/1000   error=0.056014\n",
      "epoch 402/1000   error=0.055890\n",
      "epoch 403/1000   error=0.055766\n",
      "epoch 404/1000   error=0.055642\n",
      "epoch 405/1000   error=0.055519\n",
      "epoch 406/1000   error=0.055396\n",
      "epoch 407/1000   error=0.055274\n",
      "epoch 408/1000   error=0.055152\n",
      "epoch 409/1000   error=0.055031\n",
      "epoch 410/1000   error=0.054909\n",
      "epoch 411/1000   error=0.054789\n",
      "epoch 412/1000   error=0.054668\n",
      "epoch 413/1000   error=0.054548\n",
      "epoch 414/1000   error=0.054429\n",
      "epoch 415/1000   error=0.054309\n",
      "epoch 416/1000   error=0.054190\n",
      "epoch 417/1000   error=0.054072\n",
      "epoch 418/1000   error=0.053954\n",
      "epoch 419/1000   error=0.053836\n",
      "epoch 420/1000   error=0.053719\n",
      "epoch 421/1000   error=0.053602\n",
      "epoch 422/1000   error=0.053486\n",
      "epoch 423/1000   error=0.053370\n",
      "epoch 424/1000   error=0.053254\n",
      "epoch 425/1000   error=0.053139\n",
      "epoch 426/1000   error=0.053024\n",
      "epoch 427/1000   error=0.052910\n",
      "epoch 428/1000   error=0.052795\n",
      "epoch 429/1000   error=0.052682\n",
      "epoch 430/1000   error=0.052569\n",
      "epoch 431/1000   error=0.052456\n",
      "epoch 432/1000   error=0.052343\n",
      "epoch 433/1000   error=0.052231\n",
      "epoch 434/1000   error=0.052120\n",
      "epoch 435/1000   error=0.052009\n",
      "epoch 436/1000   error=0.051898\n",
      "epoch 437/1000   error=0.051787\n",
      "epoch 438/1000   error=0.051677\n",
      "epoch 439/1000   error=0.051568\n",
      "epoch 440/1000   error=0.051459\n",
      "epoch 441/1000   error=0.051350\n",
      "epoch 442/1000   error=0.051242\n",
      "epoch 443/1000   error=0.051134\n",
      "epoch 444/1000   error=0.051027\n",
      "epoch 445/1000   error=0.050920\n",
      "epoch 446/1000   error=0.050813\n",
      "epoch 447/1000   error=0.050707\n",
      "epoch 448/1000   error=0.050601\n",
      "epoch 449/1000   error=0.050496\n",
      "epoch 450/1000   error=0.050391\n",
      "epoch 451/1000   error=0.050287\n",
      "epoch 452/1000   error=0.050183\n",
      "epoch 453/1000   error=0.050079\n",
      "epoch 454/1000   error=0.049976\n",
      "epoch 455/1000   error=0.049874\n",
      "epoch 456/1000   error=0.049772\n",
      "epoch 457/1000   error=0.049670\n",
      "epoch 458/1000   error=0.049569\n",
      "epoch 459/1000   error=0.049468\n",
      "epoch 460/1000   error=0.049368\n",
      "epoch 461/1000   error=0.049268\n",
      "epoch 462/1000   error=0.049168\n",
      "epoch 463/1000   error=0.049070\n",
      "epoch 464/1000   error=0.048971\n",
      "epoch 465/1000   error=0.048873\n",
      "epoch 466/1000   error=0.048776\n",
      "epoch 467/1000   error=0.048679\n",
      "epoch 468/1000   error=0.048582\n",
      "epoch 469/1000   error=0.048486\n",
      "epoch 470/1000   error=0.048391\n",
      "epoch 471/1000   error=0.048296\n",
      "epoch 472/1000   error=0.048201\n",
      "epoch 473/1000   error=0.048107\n",
      "epoch 474/1000   error=0.048014\n",
      "epoch 475/1000   error=0.047921\n",
      "epoch 476/1000   error=0.047828\n",
      "epoch 477/1000   error=0.047736\n",
      "epoch 478/1000   error=0.047644\n",
      "epoch 479/1000   error=0.047553\n",
      "epoch 480/1000   error=0.047463\n",
      "epoch 481/1000   error=0.047373\n",
      "epoch 482/1000   error=0.047283\n",
      "epoch 483/1000   error=0.047194\n",
      "epoch 484/1000   error=0.047106\n",
      "epoch 485/1000   error=0.047018\n",
      "epoch 486/1000   error=0.046930\n",
      "epoch 487/1000   error=0.046843\n",
      "epoch 488/1000   error=0.046757\n",
      "epoch 489/1000   error=0.046671\n",
      "epoch 490/1000   error=0.046585\n",
      "epoch 491/1000   error=0.046501\n",
      "epoch 492/1000   error=0.046416\n",
      "epoch 493/1000   error=0.046332\n",
      "epoch 494/1000   error=0.046249\n",
      "epoch 495/1000   error=0.046166\n",
      "epoch 496/1000   error=0.046084\n",
      "epoch 497/1000   error=0.046002\n",
      "epoch 498/1000   error=0.045920\n",
      "epoch 499/1000   error=0.045839\n",
      "epoch 500/1000   error=0.045759\n",
      "epoch 501/1000   error=0.045679\n",
      "epoch 502/1000   error=0.045600\n",
      "epoch 503/1000   error=0.045521\n",
      "epoch 504/1000   error=0.045442\n",
      "epoch 505/1000   error=0.045365\n",
      "epoch 506/1000   error=0.045287\n",
      "epoch 507/1000   error=0.045210\n",
      "epoch 508/1000   error=0.045134\n",
      "epoch 509/1000   error=0.045058\n",
      "epoch 510/1000   error=0.044982\n",
      "epoch 511/1000   error=0.044907\n",
      "epoch 512/1000   error=0.044833\n",
      "epoch 513/1000   error=0.044759\n",
      "epoch 514/1000   error=0.044685\n",
      "epoch 515/1000   error=0.044612\n",
      "epoch 516/1000   error=0.044539\n",
      "epoch 517/1000   error=0.044467\n",
      "epoch 518/1000   error=0.044395\n",
      "epoch 519/1000   error=0.044324\n",
      "epoch 520/1000   error=0.044253\n",
      "epoch 521/1000   error=0.044182\n",
      "epoch 522/1000   error=0.044112\n",
      "epoch 523/1000   error=0.044042\n",
      "epoch 524/1000   error=0.043973\n",
      "epoch 525/1000   error=0.043904\n",
      "epoch 526/1000   error=0.043836\n",
      "epoch 527/1000   error=0.043768\n",
      "epoch 528/1000   error=0.043700\n",
      "epoch 529/1000   error=0.043633\n",
      "epoch 530/1000   error=0.043566\n",
      "epoch 531/1000   error=0.043500\n",
      "epoch 532/1000   error=0.043434\n",
      "epoch 533/1000   error=0.043369\n",
      "epoch 534/1000   error=0.043303\n",
      "epoch 535/1000   error=0.043239\n",
      "epoch 536/1000   error=0.043174\n",
      "epoch 537/1000   error=0.043110\n",
      "epoch 538/1000   error=0.043046\n",
      "epoch 539/1000   error=0.042983\n",
      "epoch 540/1000   error=0.042920\n",
      "epoch 541/1000   error=0.042857\n",
      "epoch 542/1000   error=0.042795\n",
      "epoch 543/1000   error=0.042733\n",
      "epoch 544/1000   error=0.042672\n",
      "epoch 545/1000   error=0.042610\n",
      "epoch 546/1000   error=0.042549\n",
      "epoch 547/1000   error=0.042489\n",
      "epoch 548/1000   error=0.042428\n",
      "epoch 549/1000   error=0.042369\n",
      "epoch 550/1000   error=0.042309\n",
      "epoch 551/1000   error=0.042250\n",
      "epoch 552/1000   error=0.042191\n",
      "epoch 553/1000   error=0.042132\n",
      "epoch 554/1000   error=0.042073\n",
      "epoch 555/1000   error=0.042015\n",
      "epoch 556/1000   error=0.041958\n",
      "epoch 557/1000   error=0.041900\n",
      "epoch 558/1000   error=0.041843\n",
      "epoch 559/1000   error=0.041786\n",
      "epoch 560/1000   error=0.041729\n",
      "epoch 561/1000   error=0.041673\n",
      "epoch 562/1000   error=0.041617\n",
      "epoch 563/1000   error=0.041561\n",
      "epoch 564/1000   error=0.041505\n",
      "epoch 565/1000   error=0.041450\n",
      "epoch 566/1000   error=0.041395\n",
      "epoch 567/1000   error=0.041340\n",
      "epoch 568/1000   error=0.041285\n",
      "epoch 569/1000   error=0.041231\n",
      "epoch 570/1000   error=0.041177\n",
      "epoch 571/1000   error=0.041123\n",
      "epoch 572/1000   error=0.041069\n",
      "epoch 573/1000   error=0.041016\n",
      "epoch 574/1000   error=0.040963\n",
      "epoch 575/1000   error=0.040910\n",
      "epoch 576/1000   error=0.040857\n",
      "epoch 577/1000   error=0.040805\n",
      "epoch 578/1000   error=0.040752\n",
      "epoch 579/1000   error=0.040700\n",
      "epoch 580/1000   error=0.040649\n",
      "epoch 581/1000   error=0.040597\n",
      "epoch 582/1000   error=0.040545\n",
      "epoch 583/1000   error=0.040494\n",
      "epoch 584/1000   error=0.040443\n",
      "epoch 585/1000   error=0.040392\n",
      "epoch 586/1000   error=0.040342\n",
      "epoch 587/1000   error=0.040291\n",
      "epoch 588/1000   error=0.040241\n",
      "epoch 589/1000   error=0.040191\n",
      "epoch 590/1000   error=0.040141\n",
      "epoch 591/1000   error=0.040091\n",
      "epoch 592/1000   error=0.040042\n",
      "epoch 593/1000   error=0.039992\n",
      "epoch 594/1000   error=0.039943\n",
      "epoch 595/1000   error=0.039894\n",
      "epoch 596/1000   error=0.039845\n",
      "epoch 597/1000   error=0.039797\n",
      "epoch 598/1000   error=0.039748\n",
      "epoch 599/1000   error=0.039700\n",
      "epoch 600/1000   error=0.039652\n",
      "epoch 601/1000   error=0.039604\n",
      "epoch 602/1000   error=0.039556\n",
      "epoch 603/1000   error=0.039508\n",
      "epoch 604/1000   error=0.039461\n",
      "epoch 605/1000   error=0.039413\n",
      "epoch 606/1000   error=0.039366\n",
      "epoch 607/1000   error=0.039319\n",
      "epoch 608/1000   error=0.039272\n",
      "epoch 609/1000   error=0.039225\n",
      "epoch 610/1000   error=0.039178\n",
      "epoch 611/1000   error=0.039132\n",
      "epoch 612/1000   error=0.039086\n",
      "epoch 613/1000   error=0.039039\n",
      "epoch 614/1000   error=0.038993\n",
      "epoch 615/1000   error=0.038947\n",
      "epoch 616/1000   error=0.038901\n",
      "epoch 617/1000   error=0.038856\n",
      "epoch 618/1000   error=0.038810\n",
      "epoch 619/1000   error=0.038764\n",
      "epoch 620/1000   error=0.038719\n",
      "epoch 621/1000   error=0.038674\n",
      "epoch 622/1000   error=0.038629\n",
      "epoch 623/1000   error=0.038584\n",
      "epoch 624/1000   error=0.038539\n",
      "epoch 625/1000   error=0.038494\n",
      "epoch 626/1000   error=0.038450\n",
      "epoch 627/1000   error=0.038405\n",
      "epoch 628/1000   error=0.038361\n",
      "epoch 629/1000   error=0.038316\n",
      "epoch 630/1000   error=0.038272\n",
      "epoch 631/1000   error=0.038228\n",
      "epoch 632/1000   error=0.038184\n",
      "epoch 633/1000   error=0.038140\n",
      "epoch 634/1000   error=0.038097\n",
      "epoch 635/1000   error=0.038053\n",
      "epoch 636/1000   error=0.038009\n",
      "epoch 637/1000   error=0.037966\n",
      "epoch 638/1000   error=0.037923\n",
      "epoch 639/1000   error=0.037879\n",
      "epoch 640/1000   error=0.037836\n",
      "epoch 641/1000   error=0.037793\n",
      "epoch 642/1000   error=0.037750\n",
      "epoch 643/1000   error=0.037708\n",
      "epoch 644/1000   error=0.037665\n",
      "epoch 645/1000   error=0.037622\n",
      "epoch 646/1000   error=0.037580\n",
      "epoch 647/1000   error=0.037537\n",
      "epoch 648/1000   error=0.037495\n",
      "epoch 649/1000   error=0.037453\n",
      "epoch 650/1000   error=0.037410\n",
      "epoch 651/1000   error=0.037368\n",
      "epoch 652/1000   error=0.037326\n",
      "epoch 653/1000   error=0.037284\n",
      "epoch 654/1000   error=0.037242\n",
      "epoch 655/1000   error=0.037201\n",
      "epoch 656/1000   error=0.037159\n",
      "epoch 657/1000   error=0.037117\n",
      "epoch 658/1000   error=0.037076\n",
      "epoch 659/1000   error=0.037035\n",
      "epoch 660/1000   error=0.036993\n",
      "epoch 661/1000   error=0.036952\n",
      "epoch 662/1000   error=0.036911\n",
      "epoch 663/1000   error=0.036870\n",
      "epoch 664/1000   error=0.036829\n",
      "epoch 665/1000   error=0.036788\n",
      "epoch 666/1000   error=0.036747\n",
      "epoch 667/1000   error=0.036706\n",
      "epoch 668/1000   error=0.036665\n",
      "epoch 669/1000   error=0.036624\n",
      "epoch 670/1000   error=0.036584\n",
      "epoch 671/1000   error=0.036543\n",
      "epoch 672/1000   error=0.036503\n",
      "epoch 673/1000   error=0.036462\n",
      "epoch 674/1000   error=0.036422\n",
      "epoch 675/1000   error=0.036382\n",
      "epoch 676/1000   error=0.036342\n",
      "epoch 677/1000   error=0.036301\n",
      "epoch 678/1000   error=0.036261\n",
      "epoch 679/1000   error=0.036221\n",
      "epoch 680/1000   error=0.036182\n",
      "epoch 681/1000   error=0.036142\n",
      "epoch 682/1000   error=0.036102\n",
      "epoch 683/1000   error=0.036062\n",
      "epoch 684/1000   error=0.036022\n",
      "epoch 685/1000   error=0.035983\n",
      "epoch 686/1000   error=0.035943\n",
      "epoch 687/1000   error=0.035904\n",
      "epoch 688/1000   error=0.035864\n",
      "epoch 689/1000   error=0.035825\n",
      "epoch 690/1000   error=0.035786\n",
      "epoch 691/1000   error=0.035746\n",
      "epoch 692/1000   error=0.035707\n",
      "epoch 693/1000   error=0.035668\n",
      "epoch 694/1000   error=0.035629\n",
      "epoch 695/1000   error=0.035590\n",
      "epoch 696/1000   error=0.035551\n",
      "epoch 697/1000   error=0.035512\n",
      "epoch 698/1000   error=0.035473\n",
      "epoch 699/1000   error=0.035434\n",
      "epoch 700/1000   error=0.035396\n",
      "epoch 701/1000   error=0.035357\n",
      "epoch 702/1000   error=0.035318\n",
      "epoch 703/1000   error=0.035279\n",
      "epoch 704/1000   error=0.035241\n",
      "epoch 705/1000   error=0.035202\n",
      "epoch 706/1000   error=0.035164\n",
      "epoch 707/1000   error=0.035125\n",
      "epoch 708/1000   error=0.035087\n",
      "epoch 709/1000   error=0.035049\n",
      "epoch 710/1000   error=0.035010\n",
      "epoch 711/1000   error=0.034972\n",
      "epoch 712/1000   error=0.034934\n",
      "epoch 713/1000   error=0.034895\n",
      "epoch 714/1000   error=0.034857\n",
      "epoch 715/1000   error=0.034819\n",
      "epoch 716/1000   error=0.034781\n",
      "epoch 717/1000   error=0.034743\n",
      "epoch 718/1000   error=0.034705\n",
      "epoch 719/1000   error=0.034667\n",
      "epoch 720/1000   error=0.034629\n",
      "epoch 721/1000   error=0.034591\n",
      "epoch 722/1000   error=0.034553\n",
      "epoch 723/1000   error=0.034515\n",
      "epoch 724/1000   error=0.034478\n",
      "epoch 725/1000   error=0.034440\n",
      "epoch 726/1000   error=0.034402\n",
      "epoch 727/1000   error=0.034364\n",
      "epoch 728/1000   error=0.034327\n",
      "epoch 729/1000   error=0.034289\n",
      "epoch 730/1000   error=0.034251\n",
      "epoch 731/1000   error=0.034214\n",
      "epoch 732/1000   error=0.034176\n",
      "epoch 733/1000   error=0.034139\n",
      "epoch 734/1000   error=0.034101\n",
      "epoch 735/1000   error=0.034064\n",
      "epoch 736/1000   error=0.034026\n",
      "epoch 737/1000   error=0.033989\n",
      "epoch 738/1000   error=0.033951\n",
      "epoch 739/1000   error=0.033914\n",
      "epoch 740/1000   error=0.033876\n",
      "epoch 741/1000   error=0.033839\n",
      "epoch 742/1000   error=0.033802\n",
      "epoch 743/1000   error=0.033764\n",
      "epoch 744/1000   error=0.033727\n",
      "epoch 745/1000   error=0.033689\n",
      "epoch 746/1000   error=0.033652\n",
      "epoch 747/1000   error=0.033615\n",
      "epoch 748/1000   error=0.033577\n",
      "epoch 749/1000   error=0.033540\n",
      "epoch 750/1000   error=0.033503\n",
      "epoch 751/1000   error=0.033465\n",
      "epoch 752/1000   error=0.033428\n",
      "epoch 753/1000   error=0.033391\n",
      "epoch 754/1000   error=0.033353\n",
      "epoch 755/1000   error=0.033316\n",
      "epoch 756/1000   error=0.033279\n",
      "epoch 757/1000   error=0.033241\n",
      "epoch 758/1000   error=0.033204\n",
      "epoch 759/1000   error=0.033167\n",
      "epoch 760/1000   error=0.033129\n",
      "epoch 761/1000   error=0.033092\n",
      "epoch 762/1000   error=0.033055\n",
      "epoch 763/1000   error=0.033017\n",
      "epoch 764/1000   error=0.032980\n",
      "epoch 765/1000   error=0.032943\n",
      "epoch 766/1000   error=0.032905\n",
      "epoch 767/1000   error=0.032868\n",
      "epoch 768/1000   error=0.032831\n",
      "epoch 769/1000   error=0.032793\n",
      "epoch 770/1000   error=0.032756\n",
      "epoch 771/1000   error=0.032718\n",
      "epoch 772/1000   error=0.032681\n",
      "epoch 773/1000   error=0.032643\n",
      "epoch 774/1000   error=0.032606\n",
      "epoch 775/1000   error=0.032568\n",
      "epoch 776/1000   error=0.032531\n",
      "epoch 777/1000   error=0.032493\n",
      "epoch 778/1000   error=0.032456\n",
      "epoch 779/1000   error=0.032418\n",
      "epoch 780/1000   error=0.032380\n",
      "epoch 781/1000   error=0.032343\n",
      "epoch 782/1000   error=0.032305\n",
      "epoch 783/1000   error=0.032267\n",
      "epoch 784/1000   error=0.032230\n",
      "epoch 785/1000   error=0.032192\n",
      "epoch 786/1000   error=0.032154\n",
      "epoch 787/1000   error=0.032116\n",
      "epoch 788/1000   error=0.032078\n",
      "epoch 789/1000   error=0.032041\n",
      "epoch 790/1000   error=0.032003\n",
      "epoch 791/1000   error=0.031965\n",
      "epoch 792/1000   error=0.031927\n",
      "epoch 793/1000   error=0.031889\n",
      "epoch 794/1000   error=0.031851\n",
      "epoch 795/1000   error=0.031813\n",
      "epoch 796/1000   error=0.031774\n",
      "epoch 797/1000   error=0.031736\n",
      "epoch 798/1000   error=0.031698\n",
      "epoch 799/1000   error=0.031660\n",
      "epoch 800/1000   error=0.031622\n",
      "epoch 801/1000   error=0.031584\n",
      "epoch 802/1000   error=0.031545\n",
      "epoch 803/1000   error=0.031507\n",
      "epoch 804/1000   error=0.031469\n",
      "epoch 805/1000   error=0.031430\n",
      "epoch 806/1000   error=0.031392\n",
      "epoch 807/1000   error=0.031353\n",
      "epoch 808/1000   error=0.031315\n",
      "epoch 809/1000   error=0.031276\n",
      "epoch 810/1000   error=0.031238\n",
      "epoch 811/1000   error=0.031199\n",
      "epoch 812/1000   error=0.031161\n",
      "epoch 813/1000   error=0.031122\n",
      "epoch 814/1000   error=0.031083\n",
      "epoch 815/1000   error=0.031045\n",
      "epoch 816/1000   error=0.031006\n",
      "epoch 817/1000   error=0.030967\n",
      "epoch 818/1000   error=0.030928\n",
      "epoch 819/1000   error=0.030889\n",
      "epoch 820/1000   error=0.030851\n",
      "epoch 821/1000   error=0.030812\n",
      "epoch 822/1000   error=0.030773\n",
      "epoch 823/1000   error=0.030734\n",
      "epoch 824/1000   error=0.030695\n",
      "epoch 825/1000   error=0.030656\n",
      "epoch 826/1000   error=0.030617\n",
      "epoch 827/1000   error=0.030578\n",
      "epoch 828/1000   error=0.030539\n",
      "epoch 829/1000   error=0.030500\n",
      "epoch 830/1000   error=0.030461\n",
      "epoch 831/1000   error=0.030423\n",
      "epoch 832/1000   error=0.030384\n",
      "epoch 833/1000   error=0.030345\n",
      "epoch 834/1000   error=0.030306\n",
      "epoch 835/1000   error=0.030267\n",
      "epoch 836/1000   error=0.030228\n",
      "epoch 837/1000   error=0.030189\n",
      "epoch 838/1000   error=0.030150\n",
      "epoch 839/1000   error=0.030111\n",
      "epoch 840/1000   error=0.030072\n",
      "epoch 841/1000   error=0.030033\n",
      "epoch 842/1000   error=0.029994\n",
      "epoch 843/1000   error=0.029956\n",
      "epoch 844/1000   error=0.029917\n",
      "epoch 845/1000   error=0.029878\n",
      "epoch 846/1000   error=0.029839\n",
      "epoch 847/1000   error=0.029800\n",
      "epoch 848/1000   error=0.029762\n",
      "epoch 849/1000   error=0.029723\n",
      "epoch 850/1000   error=0.029684\n",
      "epoch 851/1000   error=0.029646\n",
      "epoch 852/1000   error=0.029607\n",
      "epoch 853/1000   error=0.029568\n",
      "epoch 854/1000   error=0.029530\n",
      "epoch 855/1000   error=0.029491\n",
      "epoch 856/1000   error=0.029453\n",
      "epoch 857/1000   error=0.029415\n",
      "epoch 858/1000   error=0.029376\n",
      "epoch 859/1000   error=0.029338\n",
      "epoch 860/1000   error=0.029300\n",
      "epoch 861/1000   error=0.029261\n",
      "epoch 862/1000   error=0.029223\n",
      "epoch 863/1000   error=0.029185\n",
      "epoch 864/1000   error=0.029147\n",
      "epoch 865/1000   error=0.029109\n",
      "epoch 866/1000   error=0.029071\n",
      "epoch 867/1000   error=0.029033\n",
      "epoch 868/1000   error=0.028995\n",
      "epoch 869/1000   error=0.028958\n",
      "epoch 870/1000   error=0.028920\n",
      "epoch 871/1000   error=0.028882\n",
      "epoch 872/1000   error=0.028845\n",
      "epoch 873/1000   error=0.028807\n",
      "epoch 874/1000   error=0.028770\n",
      "epoch 875/1000   error=0.028732\n",
      "epoch 876/1000   error=0.028695\n",
      "epoch 877/1000   error=0.028658\n",
      "epoch 878/1000   error=0.028621\n",
      "epoch 879/1000   error=0.028584\n",
      "epoch 880/1000   error=0.028547\n",
      "epoch 881/1000   error=0.028510\n",
      "epoch 882/1000   error=0.028473\n",
      "epoch 883/1000   error=0.028436\n",
      "epoch 884/1000   error=0.028400\n",
      "epoch 885/1000   error=0.028363\n",
      "epoch 886/1000   error=0.028327\n",
      "epoch 887/1000   error=0.028291\n",
      "epoch 888/1000   error=0.028254\n",
      "epoch 889/1000   error=0.028218\n",
      "epoch 890/1000   error=0.028182\n",
      "epoch 891/1000   error=0.028146\n",
      "epoch 892/1000   error=0.028111\n",
      "epoch 893/1000   error=0.028075\n",
      "epoch 894/1000   error=0.028039\n",
      "epoch 895/1000   error=0.028004\n",
      "epoch 896/1000   error=0.027968\n",
      "epoch 897/1000   error=0.027933\n",
      "epoch 898/1000   error=0.027898\n",
      "epoch 899/1000   error=0.027863\n",
      "epoch 900/1000   error=0.027828\n",
      "epoch 901/1000   error=0.027793\n",
      "epoch 902/1000   error=0.027758\n",
      "epoch 903/1000   error=0.027724\n",
      "epoch 904/1000   error=0.027689\n",
      "epoch 905/1000   error=0.027655\n",
      "epoch 906/1000   error=0.027620\n",
      "epoch 907/1000   error=0.027586\n",
      "epoch 908/1000   error=0.027552\n",
      "epoch 909/1000   error=0.027518\n",
      "epoch 910/1000   error=0.027484\n",
      "epoch 911/1000   error=0.027450\n",
      "epoch 912/1000   error=0.027417\n",
      "epoch 913/1000   error=0.027383\n",
      "epoch 914/1000   error=0.027350\n",
      "epoch 915/1000   error=0.027317\n",
      "epoch 916/1000   error=0.027283\n",
      "epoch 917/1000   error=0.027250\n",
      "epoch 918/1000   error=0.027217\n",
      "epoch 919/1000   error=0.027185\n",
      "epoch 920/1000   error=0.027152\n",
      "epoch 921/1000   error=0.027119\n",
      "epoch 922/1000   error=0.027087\n",
      "epoch 923/1000   error=0.027054\n",
      "epoch 924/1000   error=0.027022\n",
      "epoch 925/1000   error=0.026990\n",
      "epoch 926/1000   error=0.026958\n",
      "epoch 927/1000   error=0.026926\n",
      "epoch 928/1000   error=0.026894\n",
      "epoch 929/1000   error=0.026863\n",
      "epoch 930/1000   error=0.026831\n",
      "epoch 931/1000   error=0.026800\n",
      "epoch 932/1000   error=0.026769\n",
      "epoch 933/1000   error=0.026737\n",
      "epoch 934/1000   error=0.026706\n",
      "epoch 935/1000   error=0.026675\n",
      "epoch 936/1000   error=0.026644\n",
      "epoch 937/1000   error=0.026614\n",
      "epoch 938/1000   error=0.026583\n",
      "epoch 939/1000   error=0.026553\n",
      "epoch 940/1000   error=0.026522\n",
      "epoch 941/1000   error=0.026492\n",
      "epoch 942/1000   error=0.026462\n",
      "epoch 943/1000   error=0.026432\n",
      "epoch 944/1000   error=0.026402\n",
      "epoch 945/1000   error=0.026372\n",
      "epoch 946/1000   error=0.026343\n",
      "epoch 947/1000   error=0.026313\n",
      "epoch 948/1000   error=0.026283\n",
      "epoch 949/1000   error=0.026254\n",
      "epoch 950/1000   error=0.026225\n",
      "epoch 951/1000   error=0.026196\n",
      "epoch 952/1000   error=0.026167\n",
      "epoch 953/1000   error=0.026138\n",
      "epoch 954/1000   error=0.026109\n",
      "epoch 955/1000   error=0.026080\n",
      "epoch 956/1000   error=0.026052\n",
      "epoch 957/1000   error=0.026023\n",
      "epoch 958/1000   error=0.025995\n",
      "epoch 959/1000   error=0.025967\n",
      "epoch 960/1000   error=0.025939\n",
      "epoch 961/1000   error=0.025911\n",
      "epoch 962/1000   error=0.025883\n",
      "epoch 963/1000   error=0.025855\n",
      "epoch 964/1000   error=0.025827\n",
      "epoch 965/1000   error=0.025800\n",
      "epoch 966/1000   error=0.025772\n",
      "epoch 967/1000   error=0.025745\n",
      "epoch 968/1000   error=0.025718\n",
      "epoch 969/1000   error=0.025691\n",
      "epoch 970/1000   error=0.025664\n",
      "epoch 971/1000   error=0.025637\n",
      "epoch 972/1000   error=0.025610\n",
      "epoch 973/1000   error=0.025583\n",
      "epoch 974/1000   error=0.025557\n",
      "epoch 975/1000   error=0.025530\n",
      "epoch 976/1000   error=0.025504\n",
      "epoch 977/1000   error=0.025477\n",
      "epoch 978/1000   error=0.025451\n",
      "epoch 979/1000   error=0.025425\n",
      "epoch 980/1000   error=0.025399\n",
      "epoch 981/1000   error=0.025373\n",
      "epoch 982/1000   error=0.025347\n",
      "epoch 983/1000   error=0.025321\n",
      "epoch 984/1000   error=0.025296\n",
      "epoch 985/1000   error=0.025270\n",
      "epoch 986/1000   error=0.025245\n",
      "epoch 987/1000   error=0.025219\n",
      "epoch 988/1000   error=0.025194\n",
      "epoch 989/1000   error=0.025169\n",
      "epoch 990/1000   error=0.025144\n",
      "epoch 991/1000   error=0.025119\n",
      "epoch 992/1000   error=0.025094\n",
      "epoch 993/1000   error=0.025069\n",
      "epoch 994/1000   error=0.025045\n",
      "epoch 995/1000   error=0.025020\n",
      "epoch 996/1000   error=0.024996\n",
      "epoch 997/1000   error=0.024971\n",
      "epoch 998/1000   error=0.024947\n",
      "epoch 999/1000   error=0.024923\n",
      "epoch 1000/1000   error=0.024899\n"
     ]
    }
   ],
   "source": [
    "epochs = 1000\n",
    "learning_rate = 1\n",
    "\n",
    "# Train on a subset (e.g., 10k samples) for demonstration\n",
    "x_train_small = x_train[:10000]\n",
    "y_train_small = y_train[:10000]\n",
    "\n",
    "network.train(\n",
    "    x_train,\n",
    "    y_train,\n",
    "    mse,\n",
    "    mse_prime,\n",
    "    epochs,\n",
    "    learning_rate\n",
    ")"
   ]
  },
  {
   "cell_type": "markdown",
   "metadata": {},
   "source": [
    "We limit ourselves to a subset for speed in a from-scratch implementation. During training, you’ll see the loss steadily fall, although it may not reach performance on par with more sophisticated techniques or optimizers like Adam—still, it can prove the network is learning.\n"
   ]
  },
  {
   "cell_type": "markdown",
   "metadata": {},
   "source": [
    "### <a id='toc8_4_'></a>[Evaluating Results](#toc0_)\n"
   ]
  },
  {
   "cell_type": "markdown",
   "metadata": {},
   "source": [
    "After training, we can test our model’s accuracy by running a forward pass on **test** or **validation** data and comparing the predicted labels to the ground truth. For example, we can do:\n"
   ]
  },
  {
   "cell_type": "code",
   "execution_count": 24,
   "metadata": {},
   "outputs": [
    {
     "name": "stdout",
     "output_type": "stream",
     "text": [
      "Test Accuracy: 0.89\n"
     ]
    }
   ],
   "source": [
    "# Evaluate on test set\n",
    "outputs = network.forward(x_test)\n",
    "# Convert continuous outputs to discrete predictions\n",
    "predictions = np.argmax(outputs, axis=1)\n",
    "true_labels = np.argmax(y_test, axis=1)\n",
    "accuracy = np.mean(predictions == true_labels)\n",
    "\n",
    "print(f\"Test Accuracy: {accuracy:.2f}\")"
   ]
  },
  {
   "cell_type": "code",
   "execution_count": 25,
   "metadata": {},
   "outputs": [
    {
     "data": {
      "text/plain": [
       "array([[6.68190648e-02, 5.43383977e-04, 2.27359536e-02, ...,\n",
       "        9.83803624e-01, 2.03069683e-02, 6.00956480e-02],\n",
       "       [6.76910820e-02, 7.75889851e-04, 6.48131127e-01, ...,\n",
       "        1.12419250e-04, 7.05723250e-02, 2.03699534e-04],\n",
       "       [4.23537433e-04, 9.10540011e-01, 6.59652830e-02, ...,\n",
       "        7.96394941e-02, 9.80159510e-02, 4.22649463e-02],\n",
       "       ...,\n",
       "       [8.22541137e-05, 2.98242389e-04, 4.12320635e-04, ...,\n",
       "        7.52798157e-03, 1.00197443e-01, 2.56391635e-01],\n",
       "       [1.53848617e-02, 3.83343878e-03, 5.56689800e-03, ...,\n",
       "        2.83242211e-03, 1.70640012e-01, 8.40799823e-03],\n",
       "       [2.70998227e-02, 2.62115040e-07, 2.78162555e-02, ...,\n",
       "        2.89621263e-06, 7.96643862e-03, 4.53903510e-04]])"
      ]
     },
     "execution_count": 25,
     "metadata": {},
     "output_type": "execute_result"
    }
   ],
   "source": [
    "outputs"
   ]
  },
  {
   "cell_type": "code",
   "execution_count": 26,
   "metadata": {},
   "outputs": [
    {
     "data": {
      "text/plain": [
       "array([4.23537433e-04, 9.10540011e-01, 6.59652830e-02, 5.16492548e-02,\n",
       "       1.07844896e-02, 3.60280206e-02, 5.46311275e-02, 7.96394941e-02,\n",
       "       9.80159510e-02, 4.22649463e-02])"
      ]
     },
     "execution_count": 26,
     "metadata": {},
     "output_type": "execute_result"
    }
   ],
   "source": [
    "outputs[2]"
   ]
  },
  {
   "cell_type": "code",
   "execution_count": 27,
   "metadata": {},
   "outputs": [
    {
     "data": {
      "text/plain": [
       "array([7, 2, 1, ..., 4, 5, 6])"
      ]
     },
     "execution_count": 27,
     "metadata": {},
     "output_type": "execute_result"
    }
   ],
   "source": [
    "true_labels"
   ]
  },
  {
   "cell_type": "markdown",
   "metadata": {},
   "source": [
    "While the exact accuracy will vary, you should see a reasonable performance (maybe above 80%) if your network and hyperparameters are well-chosen—even without convolution or advanced optimizers. Of course, using **SGD with mini-batches**, **dropout**, **better activation functions**, or **regularization** can further enhance performance.\n"
   ]
  },
  {
   "cell_type": "markdown",
   "metadata": {},
   "source": [
    "By applying our from-scratch **Fully Connected** architecture and **backpropagation** algorithm to MNIST, we validate that the same foundation used for **XOR** scales up to more practical tasks. Although performance may be less than that of specialized models or libraries like TensorFlow and PyTorch, this exercise cements an understanding of core neural network operations."
   ]
  }
 ],
 "metadata": {
  "kernelspec": {
   "display_name": "py310",
   "language": "python",
   "name": "python3"
  },
  "language_info": {
   "codemirror_mode": {
    "name": "ipython",
    "version": 3
   },
   "file_extension": ".py",
   "mimetype": "text/x-python",
   "name": "python",
   "nbconvert_exporter": "python",
   "pygments_lexer": "ipython3",
   "version": "3.10.12"
  }
 },
 "nbformat": 4,
 "nbformat_minor": 2
}
