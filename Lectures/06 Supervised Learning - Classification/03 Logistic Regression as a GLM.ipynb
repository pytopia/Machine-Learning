{
 "cells": [
  {
   "cell_type": "markdown",
   "metadata": {},
   "source": [
    "<img src=\"./images/banner.png\" width=\"800\">"
   ]
  },
  {
   "cell_type": "markdown",
   "metadata": {},
   "source": [
    "# Logistic Regression"
   ]
  },
  {
   "cell_type": "markdown",
   "metadata": {},
   "source": [
    "Logistic regression is a fundamental classification algorithm in machine learning and statistics. Despite its name, logistic regression is used for binary classification problems, where the goal is to predict one of two possible outcomes. It serves as a cornerstone for understanding more complex classification methods and is widely used in various fields due to its simplicity and interpretability.\n"
   ]
  },
  {
   "cell_type": "markdown",
   "metadata": {},
   "source": [
    "Logistic regression is a statistical method for analyzing a dataset in which there are one or more independent variables that determine an outcome. The outcome is measured with a dichotomous variable (in which there are only two possible outcomes).\n"
   ]
  },
  {
   "cell_type": "markdown",
   "metadata": {},
   "source": [
    "🔑 **Key Concept:** Logistic regression predicts the probability that an instance belongs to a particular class.\n"
   ]
  },
  {
   "cell_type": "markdown",
   "metadata": {},
   "source": [
    "<img src=\"./images/regression-vs-classification.avif\" width=\"800\">"
   ]
  },
  {
   "cell_type": "markdown",
   "metadata": {},
   "source": [
    "<img src=\"./images/regression-to-classification.png\" width=\"800\">"
   ]
  },
  {
   "cell_type": "markdown",
   "metadata": {},
   "source": [
    "Unlike linear regression, which outputs continuous number values, logistic regression transforms its output using the logistic sigmoid function to return a probability value. This probability can then be mapped to two or more discrete classes.\n"
   ]
  },
  {
   "cell_type": "markdown",
   "metadata": {},
   "source": [
    "The heart of logistic regression is the logistic function, also known as the sigmoid function. This S-shaped curve can take any real-valued number and map it into a value between 0 and 1.\n"
   ]
  },
  {
   "cell_type": "markdown",
   "metadata": {},
   "source": [
    "The logistic function is defined as:\n",
    "\n",
    "$$ \\sigma(z) = \\frac{1}{1 + e^{-z}} $$\n",
    "\n",
    "Where:\n",
    "- $\\sigma$ is the sigmoid function\n",
    "- $z$ is the input to the function (often the linear combination of features and their coefficients)\n",
    "- $e$ is the base of natural logarithms (Euler's number)\n"
   ]
  },
  {
   "cell_type": "markdown",
   "metadata": {},
   "source": [
    "To understand logistic regression, it's helpful to see how it relates to and differs from linear regression:\n",
    "\n",
    "1. **Linear Regression:** $y = \\beta_0 + \\beta_1x_1 + \\beta_2x_2 + ... + \\beta_nx_n$\n",
    "2. **Logistic Regression:** $p = \\frac{1}{1 + e^{-(\\beta_0 + \\beta_1x_1 + \\beta_2x_2 + ... + \\beta_nx_n)}}$\n",
    "\n",
    "Where:\n",
    "- $y$ is the predicted output\n",
    "- $p$ is the predicted probability\n",
    "- $\\beta_0, \\beta_1, ..., \\beta_n$ are the coefficients\n",
    "- $x_1, x_2, ..., x_n$ are the input features\n"
   ]
  },
  {
   "cell_type": "markdown",
   "metadata": {},
   "source": [
    "<img src=\"./images/logistic-vs-linear.png\" width=\"800\">"
   ]
  },
  {
   "cell_type": "markdown",
   "metadata": {},
   "source": [
    "Think of logistic regression as taking the output of a linear regression and squeezing it through the sigmoid function to get a probability.\n"
   ]
  },
  {
   "cell_type": "markdown",
   "metadata": {},
   "source": [
    "Logistic regression is popular for several reasons:\n",
    "\n",
    "1. **Interpretability:** The coefficients in logistic regression have a clear interpretation in terms of log-odds.\n",
    "2. **Efficiency:** It's computationally inexpensive and doesn't require high processing power.\n",
    "3. **Probabilistic Output:** It provides probabilities rather than just classifications.\n",
    "4. **No Assumption of Normality:** Unlike linear regression, it doesn't assume a normal distribution of the target variable.\n"
   ]
  },
  {
   "cell_type": "markdown",
   "metadata": {},
   "source": [
    "Logistic regression is used in various fields, including:\n",
    "\n",
    "- **Medicine:** Predicting the likelihood of a disease based on observed characteristics of the patient.\n",
    "- **Marketing:** Predicting the probability of a customer making a purchase.\n",
    "- **Finance:** Estimating the probability of a loan default.\n",
    "- **Politics:** Forecasting election outcomes based on polling data.\n"
   ]
  },
  {
   "cell_type": "markdown",
   "metadata": {},
   "source": [
    "While logistic regression is powerful, it's crucial to understand its assumptions and limitations, which we'll explore in later sections.\n"
   ]
  },
  {
   "cell_type": "markdown",
   "metadata": {},
   "source": [
    "In summary, logistic regression is a versatile and interpretable method for binary classification problems. It uses the logistic function to model the probability of an outcome based on one or more predictor variables. As we delve deeper into the mathematics and applications of logistic regression, keep in mind its foundational role in the broader landscape of machine learning and statistical modeling."
   ]
  },
  {
   "cell_type": "markdown",
   "metadata": {},
   "source": [
    "**Table of contents**<a id='toc0_'></a>    \n",
    "- [Logistic Regression as a Generalized Linear Model](#toc1_)    \n",
    "  - [Random Component: Bernoulli Distribution](#toc1_1_)    \n",
    "  - [Systematic Component: Linear Predictor](#toc1_2_)    \n",
    "  - [Link Function: Logit Function](#toc1_3_)    \n",
    "  - [Putting It All Together](#toc1_4_)    \n",
    "  - [Maximum Likelihood Estimation](#toc1_5_)    \n",
    "- [Interpreting Logistic Regression Results](#toc2_)    \n",
    "  - [The Basics: What Are We Predicting?](#toc2_1_)    \n",
    "  - [Odds and Odds Ratios](#toc2_2_)    \n",
    "  - [Predicted Probabilities](#toc2_3_)    \n",
    "- [Model Fitting and Optimization](#toc3_)    \n",
    "  - [The Optimization Problem](#toc3_1_)    \n",
    "  - [Gradient Descent for Logistic Regression](#toc3_2_)    \n",
    "  - [Implementing Logistic Regression with Gradient Descent](#toc3_3_)    \n",
    "  - [Interpreting the Results](#toc3_4_)    \n",
    "  - [Tuning Hyperparameters](#toc3_5_)    \n",
    "  - [Regularization in Practice](#toc3_6_)    \n",
    "- [Advantages and Limitations of Logistic Regression](#toc4_)    \n",
    "  - [Advantages of Logistic Regression](#toc4_1_)    \n",
    "  - [Limitations of Logistic Regression](#toc4_2_)    \n",
    "  - [When to Use Logistic Regression](#toc4_3_)    \n",
    "  - [Alternatives to Consider](#toc4_4_)    \n",
    "- [Summary](#toc5_)    \n",
    "\n",
    "<!-- vscode-jupyter-toc-config\n",
    "\tnumbering=false\n",
    "\tanchor=true\n",
    "\tflat=false\n",
    "\tminLevel=2\n",
    "\tmaxLevel=6\n",
    "\t/vscode-jupyter-toc-config -->\n",
    "<!-- THIS CELL WILL BE REPLACED ON TOC UPDATE. DO NOT WRITE YOUR TEXT IN THIS CELL -->"
   ]
  },
  {
   "cell_type": "markdown",
   "metadata": {},
   "source": [
    "## <a id='toc1_'></a>[Logistic Regression as a Generalized Linear Model](#toc0_)"
   ]
  },
  {
   "cell_type": "markdown",
   "metadata": {},
   "source": [
    "Building upon our understanding of Generalized Linear Models (GLMs), we'll now explore how logistic regression fits into this framework. This approach will help us understand the mathematical foundations of logistic regression and its connection to other statistical models.\n"
   ]
  },
  {
   "cell_type": "markdown",
   "metadata": {},
   "source": [
    "Logistic regression is a specific case of GLM where the response variable follows a Bernoulli distribution and uses the logit link function. So as discussed in the previous lecture, in the GLM framework, logistic regression consists of three components:\n",
    "\n",
    "1. Random Component: Bernoulli distribution\n",
    "2. Systematic Component: Linear predictor\n",
    "3. Link Function: Logit function\n"
   ]
  },
  {
   "cell_type": "markdown",
   "metadata": {},
   "source": [
    "Let's examine each of these components in detail.\n"
   ]
  },
  {
   "cell_type": "markdown",
   "metadata": {},
   "source": [
    "### <a id='toc1_1_'></a>[Random Component: Bernoulli Distribution](#toc0_)\n"
   ]
  },
  {
   "cell_type": "markdown",
   "metadata": {},
   "source": [
    "In logistic regression, we assume that our response variable $Y$ follows a Bernoulli distribution:\n",
    "\n",
    "$$ Y \\sim \\text{Bernoulli}(p) $$\n"
   ]
  },
  {
   "cell_type": "markdown",
   "metadata": {},
   "source": [
    "<img src=\"./images/bernouli.webp\" width=\"400\">"
   ]
  },
  {
   "cell_type": "markdown",
   "metadata": {},
   "source": [
    "Where $p$ is the probability of success (i.e., $Y = 1$). The probability mass function of this distribution is:\n",
    "\n",
    "$$ P(Y = y) = p^y(1-p)^{1-y}, \\quad y \\in \\{0, 1\\} $$\n"
   ]
  },
  {
   "cell_type": "markdown",
   "metadata": {},
   "source": [
    "### <a id='toc1_2_'></a>[Systematic Component: Linear Predictor](#toc0_)\n"
   ]
  },
  {
   "cell_type": "markdown",
   "metadata": {},
   "source": [
    "The systematic component in logistic regression is a linear combination of predictors, similar to linear regression:\n",
    "\n",
    "$$ \\eta = \\beta_0 + \\beta_1x_1 + \\beta_2x_2 + ... + \\beta_nx_n $$\n",
    "\n",
    "Where:\n",
    "- $\\eta$ is the linear predictor\n",
    "- $\\beta_0, \\beta_1, ..., \\beta_n$ are the coefficients\n",
    "- $x_1, x_2, ..., x_n$ are the predictor variables\n"
   ]
  },
  {
   "cell_type": "markdown",
   "metadata": {},
   "source": [
    "### <a id='toc1_3_'></a>[Link Function: Logit Function](#toc0_)\n"
   ]
  },
  {
   "cell_type": "markdown",
   "metadata": {},
   "source": [
    "The link function connects the random and systematic components. For logistic regression, we use the logit function:\n",
    "\n",
    "$$ g(p) = \\text{logit}(p) = \\ln\\left(\\frac{p}{1-p}\\right) = \\eta $$\n"
   ]
  },
  {
   "cell_type": "markdown",
   "metadata": {},
   "source": [
    "The logit function allows us to map probabilities (bounded between 0 and 1) to an unbounded continuous scale, which is necessary for linear modeling. We can easily convert log odds back to probabilities using the inverse logit function (also known as the **sigmoid function**)."
   ]
  },
  {
   "cell_type": "markdown",
   "metadata": {},
   "source": [
    "<img src=\"./images/logit.png\" width=\"800\">"
   ]
  },
  {
   "cell_type": "markdown",
   "metadata": {},
   "source": [
    "🤔 **Why This Matters:** The logit function transforms the probability $p$ (which is bounded between 0 and 1) to a linear predictor $\\eta$ that can take any real value. This allows us to model probabilities using a linear combination of predictors.\n"
   ]
  },
  {
   "cell_type": "markdown",
   "metadata": {},
   "source": [
    "### <a id='toc1_4_'></a>[Putting It All Together](#toc0_)\n"
   ]
  },
  {
   "cell_type": "markdown",
   "metadata": {},
   "source": [
    "Combining these components, we can express logistic regression as:\n",
    "\n",
    "$$ \\ln\\left(\\frac{p}{1-p}\\right) = \\beta_0 + \\beta_1x_1 + \\beta_2x_2 + ... + \\beta_nx_n $$\n"
   ]
  },
  {
   "cell_type": "markdown",
   "metadata": {},
   "source": [
    "Solving for $p$, we get the familiar logistic function:\n",
    "\n",
    "$$ p = \\frac{e^{\\beta_0 + \\beta_1x_1 + \\beta_2x_2 + ... + \\beta_nx_n}}{1 + e^{\\beta_0 + \\beta_1x_1 + \\beta_2x_2 + ... + \\beta_nx_n}} = \\frac{1}{1 + e^{-(\\beta_0 + \\beta_1x_1 + \\beta_2x_2 + ... + \\beta_nx_n)}} $$\n"
   ]
  },
  {
   "cell_type": "markdown",
   "metadata": {},
   "source": [
    "### <a id='toc1_5_'></a>[Maximum Likelihood Estimation](#toc0_)\n"
   ]
  },
  {
   "cell_type": "markdown",
   "metadata": {},
   "source": [
    "To estimate the parameters $\\beta_0, \\beta_1, ..., \\beta_n$, we use Maximum Likelihood Estimation (MLE). The likelihood function for logistic regression is:\n",
    "\n",
    "$$ L(\\beta) = \\prod_{i=1}^n p_i^{y_i}(1-p_i)^{1-y_i} $$\n",
    "\n",
    "Where $p_i$ is the predicted probability for the $i$-th observation.\n"
   ]
  },
  {
   "cell_type": "markdown",
   "metadata": {},
   "source": [
    "We typically work with the log-likelihood:\n",
    "\n",
    "$$ \\ell\\ell(\\beta) = \\sum_{i=1}^n [y_i \\ln(p_i) + (1-y_i) \\ln(1-p_i)] $$\n"
   ]
  },
  {
   "cell_type": "markdown",
   "metadata": {},
   "source": [
    "💡 **Pro Tip:** The log-likelihood is often used because it's easier to work with mathematically and helps prevent underflow in numerical computations.\n"
   ]
  },
  {
   "cell_type": "markdown",
   "metadata": {},
   "source": [
    "The goal is to find the values of $\\beta$ that maximize this log-likelihood. Unlike linear regression, there's no closed-form solution, so we use numerical optimization methods like Newton-Raphson or gradient descent.\n"
   ]
  },
  {
   "cell_type": "markdown",
   "metadata": {},
   "source": [
    "Two important concepts in logistic regression are odds and log-odds:\n",
    "\n",
    "1. **Odds:** The ratio of the probability of success to the probability of failure.\n",
    "   $$ \\text{odds} = \\frac{p}{1-p} $$\n",
    "\n",
    "2. **Log-odds:** The logistic regression model assumes a linear relationship between the independent variables and the log odds of the outcome. Log-odds is then the natural logarithm of the odds, which is exactly what the logit function computes.\n",
    "   $$ \\text{log-odds} = \\ln\\left(\\frac{p}{1-p}\\right) $$\n",
    "\n",
    "❗️ **Important Note:** The coefficients in logistic regression represent the change in log-odds for a one-unit increase in the corresponding predictor, holding other predictors constant.\n"
   ]
  },
  {
   "cell_type": "markdown",
   "metadata": {},
   "source": [
    "In summary, understanding logistic regression within the GLM framework provides a powerful perspective on its mathematical foundations. By recognizing its components - the Bernoulli distribution, linear predictor, and logit link function - we can see how it relates to other statistical models and gain insights into its behavior and interpretation. This foundation will be crucial as we delve into model fitting, interpretation, and application in the following sections."
   ]
  },
  {
   "cell_type": "markdown",
   "metadata": {},
   "source": [
    "## <a id='toc2_'></a>[Interpreting Logistic Regression Results](#toc0_)"
   ]
  },
  {
   "cell_type": "markdown",
   "metadata": {},
   "source": [
    "Understanding the results of a logistic regression model is crucial for making sense of your data and drawing meaningful conclusions. Let's break it down into simple, intuitive concepts.\n"
   ]
  },
  {
   "cell_type": "markdown",
   "metadata": {},
   "source": [
    "### <a id='toc2_1_'></a>[The Basics: What Are We Predicting?](#toc0_)\n"
   ]
  },
  {
   "cell_type": "markdown",
   "metadata": {},
   "source": [
    "🔑 **Key Concept:** Logistic regression predicts the probability of an event happening (like a customer making a purchase or a patient having a disease).\n",
    "\n",
    "- Output is always between 0 and 1\n",
    "- Closer to 1 = More likely to happen\n",
    "- Closer to 0 = Less likely to happen\n"
   ]
  },
  {
   "cell_type": "markdown",
   "metadata": {},
   "source": [
    "Coefficients tell us how each feature (input variable) affects the probability of our event.\n",
    "\n",
    "- **Positive coefficient:** As the feature increases, the event becomes more likely\n",
    "- **Negative coefficient:** As the feature increases, the event becomes less likely\n",
    "- **Larger absolute value:** The feature has a stronger effect\n"
   ]
  },
  {
   "cell_type": "markdown",
   "metadata": {},
   "source": [
    "💡 **Pro Tip:** Think of coefficients as \"importance scores\" for your features.\n"
   ]
  },
  {
   "cell_type": "markdown",
   "metadata": {},
   "source": [
    "### <a id='toc2_2_'></a>[Odds and Odds Ratios](#toc0_)\n"
   ]
  },
  {
   "cell_type": "markdown",
   "metadata": {},
   "source": [
    "Odds are another way to express probability, often easier to interpret.\n",
    "\n",
    "- **Odds = Probability / (1 - Probability)**\n",
    "- Example: If probability is 0.75, odds are 0.75 / 0.25 = 3, or \"3 to 1\"\n"
   ]
  },
  {
   "cell_type": "markdown",
   "metadata": {},
   "source": [
    "Odds ratios show how odds change when a feature increases by one unit.\n",
    "\n",
    "- **Odds Ratio > 1:** Feature increases the odds of the event\n",
    "- **Odds Ratio < 1:** Feature decreases the odds of the event\n"
   ]
  },
  {
   "cell_type": "markdown",
   "metadata": {},
   "source": [
    "Example: An odds ratio of 1.5 means the odds increase by 50% for each unit increase in the feature.\n"
   ]
  },
  {
   "cell_type": "markdown",
   "metadata": {},
   "source": [
    "Let's say we're predicting whether a customer will buy a product based on their age and income.\n",
    "\n",
    "```python\n",
    "# Simplified logistic regression results\n",
    "coefficients = {'age': 0.05, 'income': 0.001}\n",
    "```\n",
    "\n",
    "Interpreting these results:\n",
    "1. Age has a positive effect (0.05): Older customers are more likely to buy\n",
    "2. Income has a small positive effect (0.001): Higher income slightly increases buying probability\n",
    "3. Age seems to have a stronger effect than income (larger coefficient)\n"
   ]
  },
  {
   "cell_type": "markdown",
   "metadata": {},
   "source": [
    "### <a id='toc2_3_'></a>[Predicted Probabilities](#toc0_)\n"
   ]
  },
  {
   "cell_type": "markdown",
   "metadata": {},
   "source": [
    "The most intuitive way to understand the model is through predicted probabilities.\n",
    "\n",
    "Example:"
   ]
  },
  {
   "cell_type": "code",
   "execution_count": 63,
   "metadata": {},
   "outputs": [],
   "source": [
    "import math\n",
    "\n",
    "def predict_probability(age, income):\n",
    "    # predict probability for a 30-year-old with an income of 50,000 to buy the product\n",
    "    z = -3 + 0.05 * age + 0.001 * income  # -3 is an example intercept\n",
    "    return 1 / (1 + math.exp(-z)), z"
   ]
  },
  {
   "cell_type": "code",
   "execution_count": 70,
   "metadata": {},
   "outputs": [
    {
     "data": {
      "text/plain": [
       "(0.11920292202211755, -2.0)"
      ]
     },
     "execution_count": 70,
     "metadata": {},
     "output_type": "execute_result"
    }
   ],
   "source": [
    "predict_probability(10, 500)"
   ]
  },
  {
   "cell_type": "code",
   "execution_count": 71,
   "metadata": {},
   "outputs": [
    {
     "data": {
      "text/plain": [
       "(0.2689414213699951, -1.0)"
      ]
     },
     "execution_count": 71,
     "metadata": {},
     "output_type": "execute_result"
    }
   ],
   "source": [
    "predict_probability(30, 500)"
   ]
  },
  {
   "cell_type": "code",
   "execution_count": 75,
   "metadata": {},
   "outputs": [
    {
     "data": {
      "text/plain": [
       "(0.7310585786300049, 1.0)"
      ]
     },
     "execution_count": 75,
     "metadata": {},
     "output_type": "execute_result"
    }
   ],
   "source": [
    "predict_probability(30, 2500)"
   ]
  },
  {
   "cell_type": "markdown",
   "metadata": {},
   "source": [
    "This means a 30-year-old with an income of 50,000 has a 62% chance of buying the product.\n"
   ]
  },
  {
   "cell_type": "markdown",
   "metadata": {},
   "source": [
    "So in summary:\n",
    "- Look at the sign and size of coefficients to understand feature effects\n",
    "- Use predicted probabilities for intuitive understanding\n",
    "- Visualize results to grasp the big picture\n",
    "- Remember: larger effects aren't always better - consider practical significance\n"
   ]
  },
  {
   "cell_type": "markdown",
   "metadata": {},
   "source": [
    "By focusing on these intuitive interpretations, you can extract meaningful insights from your logistic regression model and communicate them effectively to others."
   ]
  },
  {
   "cell_type": "markdown",
   "metadata": {},
   "source": [
    "## <a id='toc3_'></a>[Model Fitting and Optimization](#toc0_)"
   ]
  },
  {
   "cell_type": "markdown",
   "metadata": {},
   "source": [
    "In this section, we'll see how to fit and optimize our logistic regression model using gradient descent.\n"
   ]
  },
  {
   "cell_type": "markdown",
   "metadata": {},
   "source": [
    "### <a id='toc3_1_'></a>[The Optimization Problem](#toc0_)\n"
   ]
  },
  {
   "cell_type": "markdown",
   "metadata": {},
   "source": [
    "🔑 **Key Concept:** Fitting a logistic regression model involves finding the parameters (coefficients) that maximize the likelihood of observing the data given the model."
   ]
  },
  {
   "cell_type": "markdown",
   "metadata": {},
   "source": [
    "Unlike linear regression, which uses the method of least squares, logistic regression typically uses Maximum Likelihood Estimation (MLE). Our goal is to maximize the log-likelihood function:\n",
    "\n",
    "$$ \\ell(\\beta) = \\sum_{i=1}^n [y_i \\log(p_i) + (1-y_i) \\log(1-p_i)] $$\n",
    "\n",
    "Where:\n",
    "- $\\beta$ are the model parameters\n",
    "- $y_i$ is the true label (0 or 1) for observation $i$\n",
    "- $p_i$ is the predicted probability for observation $i$\n"
   ]
  },
  {
   "cell_type": "markdown",
   "metadata": {},
   "source": [
    "### <a id='toc3_2_'></a>[Gradient Descent for Logistic Regression](#toc0_)\n"
   ]
  },
  {
   "cell_type": "markdown",
   "metadata": {},
   "source": [
    "We can use gradient descent to find the optimal parameters. The main difference from linear regression is in the computation of the gradient."
   ]
  },
  {
   "cell_type": "markdown",
   "metadata": {},
   "source": [
    "Let's derive the gradient of the log-likelihood function for logistic regression step by step. We start with the log-likelihood function:\n",
    "\n",
    "$$ \\ell(\\beta) = \\sum_{i=1}^n [y_i \\log(p_i) + (1-y_i) \\log(1-p_i)] $$\n",
    "\n",
    "Where:\n",
    "- $y_i$ is the observed outcome (0 or 1)\n",
    "- $p_i$ is the predicted probability, given by the logistic function: $p_i = \\frac{1}{1 + e^{-x_i^T\\beta}}$"
   ]
  },
  {
   "cell_type": "markdown",
   "metadata": {},
   "source": [
    "\n",
    "To find the gradient, we need to differentiate $\\ell(\\beta)$ with respect to each $\\beta_j$. Let's do this step-by-step:\n",
    "\n",
    "1) First, let's consider a single term in the sum and differentiate it with respect to $\\beta_j$:\n",
    "\n",
    "   $\\frac{\\partial}{\\partial \\beta_j} [y_i \\log(p_i) + (1-y_i) \\log(1-p_i)]$\n",
    "\n",
    "2) Using the chain rule, this becomes:\n",
    "\n",
    "   $y_i \\frac{1}{p_i} \\frac{\\partial p_i}{\\partial \\beta_j} + (1-y_i) \\frac{1}{1-p_i} \\frac{\\partial (1-p_i)}{\\partial \\beta_j}$\n",
    "\n",
    "3) Simplify:\n",
    "\n",
    "   $y_i \\frac{1}{p_i} \\frac{\\partial p_i}{\\partial \\beta_j} - (1-y_i) \\frac{1}{1-p_i} \\frac{\\partial p_i}{\\partial \\beta_j}$\n",
    "\n",
    "4) Now, we need to find $\\frac{\\partial p_i}{\\partial \\beta_j}$. Recall that $p_i = \\frac{1}{1 + e^{-x_i^T\\beta}}$:\n",
    "\n",
    "   $\\frac{\\partial p_i}{\\partial \\beta_j} = p_i(1-p_i)x_{ij}$\n",
    "\n",
    "   This is derived using the chain rule and the derivative of the logistic function.\n",
    "\n",
    "5) Substituting this back:\n",
    "\n",
    "   $y_i \\frac{1}{p_i} p_i(1-p_i)x_{ij} - (1-y_i) \\frac{1}{1-p_i} p_i(1-p_i)x_{ij}$\n",
    "\n",
    "6) Simplify:\n",
    "\n",
    "   $[y_i(1-p_i) - (1-y_i)p_i]x_{ij}$\n",
    "\n",
    "7) Further simplify:\n",
    "\n",
    "   $(y_i - p_i)x_{ij}$\n",
    "\n",
    "8) Now, we sum over all observations to get the j-th component of the gradient:\n",
    "\n",
    "   $\\frac{\\partial \\ell(\\beta)}{\\partial \\beta_j} = \\sum_{i=1}^n (y_i - p_i)x_{ij}$\n",
    "\n",
    "9) We can write this in vector form for all $\\beta$:\n",
    "\n",
    "   $\\nabla \\ell(\\beta) = X^T(y - p)$\n",
    "\n",
    "Where:\n",
    "- $X$ is the design matrix (each row is an observation, each column a feature)\n",
    "- $y$ is the vector of observed outcomes\n",
    "- $p$ is the vector of predicted probabilities\n",
    "\n",
    "This is the gradient of the log-likelihood function for logistic regression. In maximum likelihood estimation, we set this gradient to zero and solve for $\\beta$ to find the optimal parameters. In practice, this is often done using iterative methods like Newton-Raphson or gradient descent."
   ]
  },
  {
   "cell_type": "markdown",
   "metadata": {},
   "source": [
    "For logistic regression, the gradient of the log-likelihood with respect to $\\beta$ is:\n",
    "\n",
    "$$ \\nabla \\ell(\\beta) = X^T(y - p) $$\n",
    "\n",
    "Where:\n",
    "- $X$ is the design matrix\n",
    "- $y$ is the vector of true labels\n",
    "- $p$ is the vector of predicted probabilities\n"
   ]
  },
  {
   "cell_type": "markdown",
   "metadata": {},
   "source": [
    "<img src=\"./images/logistic-learning.gif\" width=\"600\">"
   ]
  },
  {
   "cell_type": "markdown",
   "metadata": {},
   "source": [
    "### <a id='toc3_3_'></a>[Implementing Logistic Regression with Gradient Descent](#toc0_)\n"
   ]
  },
  {
   "cell_type": "markdown",
   "metadata": {},
   "source": [
    "Let's implement our logistic regression algorithm and test it on some generated data:\n"
   ]
  },
  {
   "cell_type": "code",
   "execution_count": 1,
   "metadata": {},
   "outputs": [],
   "source": [
    "import numpy as np\n",
    "import matplotlib.pyplot as plt\n",
    "from sklearn.model_selection import train_test_split\n",
    "from sklearn.metrics import accuracy_score, log_loss"
   ]
  },
  {
   "cell_type": "code",
   "execution_count": 2,
   "metadata": {},
   "outputs": [],
   "source": [
    "# Sigmoid function\n",
    "def sigmoid(z):\n",
    "    return 1 / (1 + np.exp(-z))"
   ]
  },
  {
   "cell_type": "code",
   "execution_count": 3,
   "metadata": {},
   "outputs": [],
   "source": [
    "# Gradient computation\n",
    "def compute_gradient_logistic(X, y, beta):\n",
    "    n = X.shape[0]\n",
    "    p = sigmoid(X @ beta)\n",
    "    return (1/n) * X.T @ (p - y)"
   ]
  },
  {
   "cell_type": "code",
   "execution_count": 4,
   "metadata": {},
   "outputs": [],
   "source": [
    "# Cost computation\n",
    "def compute_cost_logistic(X, y, beta):\n",
    "    n = X.shape[0]\n",
    "    p = sigmoid(X @ beta)\n",
    "    return -np.sum(y * np.log(p) + (1 - y) * np.log(1 - p)) / n"
   ]
  },
  {
   "cell_type": "code",
   "execution_count": 5,
   "metadata": {},
   "outputs": [],
   "source": [
    "# Mini-batch gradient descent\n",
    "def mini_batch_gradient_descent_logistic(X, y, learning_rate=0.1, num_epoch=1000, batch_size=32):\n",
    "    n, m = X.shape\n",
    "    beta = np.zeros((m, 1))\n",
    "    cost_history = []\n",
    "\n",
    "    for _ in range(num_epoch):\n",
    "        shuffled_indices = np.random.permutation(n)\n",
    "        X_shuffled = X[shuffled_indices]\n",
    "        y_shuffled = y[shuffled_indices]\n",
    "\n",
    "        for i in range(0, n, batch_size):\n",
    "            xi = X_shuffled[i:i+batch_size]\n",
    "            yi = y_shuffled[i:i+batch_size]\n",
    "            gradient = compute_gradient_logistic(xi, yi, beta)\n",
    "            beta -= learning_rate * gradient\n",
    "\n",
    "        cost = compute_cost_logistic(X, y, beta)\n",
    "        cost_history.append(cost)\n",
    "\n",
    "    return beta, cost_history"
   ]
  },
  {
   "cell_type": "code",
   "execution_count": 29,
   "metadata": {},
   "outputs": [
    {
     "name": "stdout",
     "output_type": "stream",
     "text": [
      "Class distribution:\n",
      "[516 484]\n"
     ]
    }
   ],
   "source": [
    "import numpy as np\n",
    "\n",
    "np.random.seed(0)\n",
    "\n",
    "# Generate random data\n",
    "n_samples = 1000\n",
    "n_features = 2\n",
    "\n",
    "X = np.random.randn(n_samples, n_features)\n",
    "\n",
    "# Create a decision boundary with some noise\n",
    "boundary = X[:, 0] + X[:, 1] + np.random.normal(0, 0.5, n_samples)\n",
    "\n",
    "# Assign labels based on the noisy boundary\n",
    "y = (boundary > 0).astype(int).reshape(-1, 1)\n",
    "\n",
    "# Print class distribution\n",
    "print(\"Class distribution:\")\n",
    "print(np.bincount(y.flatten()))\n"
   ]
  },
  {
   "cell_type": "code",
   "execution_count": 30,
   "metadata": {},
   "outputs": [
    {
     "data": {
      "text/plain": [
       "<matplotlib.collections.PathCollection at 0x32a48ec20>"
      ]
     },
     "execution_count": 30,
     "metadata": {},
     "output_type": "execute_result"
    },
    {
     "data": {
      "image/png": "[encoded data removed]",
      "text/plain": [
       "<Figure size 640x480 with 1 Axes>"
      ]
     },
     "metadata": {},
     "output_type": "display_data"
    }
   ],
   "source": [
    "plt.scatter(X[:, 0], X[:, 1], c=y, cmap='viridis')"
   ]
  },
  {
   "cell_type": "code",
   "execution_count": 31,
   "metadata": {},
   "outputs": [],
   "source": [
    "# Split the data\n",
    "X_train, X_test, y_train, y_test = train_test_split(X, y, test_size=0.2, random_state=42)"
   ]
  },
  {
   "cell_type": "code",
   "execution_count": 32,
   "metadata": {},
   "outputs": [
    {
     "data": {
      "text/plain": [
       "((800, 2), (200, 2))"
      ]
     },
     "execution_count": 32,
     "metadata": {},
     "output_type": "execute_result"
    }
   ],
   "source": [
    "X_train.shape, X_test.shape"
   ]
  },
  {
   "cell_type": "code",
   "execution_count": 33,
   "metadata": {},
   "outputs": [],
   "source": [
    "# Add intercept term\n",
    "X_train = np.hstack([np.ones((X_train.shape[0], 1)), X_train])\n",
    "X_test = np.hstack([np.ones((X_test.shape[0], 1)), X_test])"
   ]
  },
  {
   "cell_type": "code",
   "execution_count": 34,
   "metadata": {},
   "outputs": [],
   "source": [
    "# Fit the model\n",
    "beta, cost_history = mini_batch_gradient_descent_logistic(X_train, y_train)"
   ]
  },
  {
   "cell_type": "code",
   "execution_count": 35,
   "metadata": {},
   "outputs": [],
   "source": [
    "# Make predictions\n",
    "y_pred_prob = sigmoid(X_test @ beta)\n",
    "y_pred = (y_pred_prob > 0.5).astype(int)"
   ]
  },
  {
   "cell_type": "code",
   "execution_count": 36,
   "metadata": {},
   "outputs": [
    {
     "name": "stdout",
     "output_type": "stream",
     "text": [
      "Accuracy: 0.9000\n",
      "Log Loss: 0.1858\n"
     ]
    }
   ],
   "source": [
    "# Evaluate the model\n",
    "accuracy = accuracy_score(y_test, y_pred)\n",
    "logloss = log_loss(y_test, y_pred_prob)\n",
    "\n",
    "print(f\"Accuracy: {accuracy:.4f}\")\n",
    "print(f\"Log Loss: {logloss:.4f}\")"
   ]
  },
  {
   "cell_type": "code",
   "execution_count": 37,
   "metadata": {},
   "outputs": [
    {
     "data": {
      "image/png": "[encoded data removed]",
      "text/plain": [
       "<Figure size 640x480 with 1 Axes>"
      ]
     },
     "metadata": {},
     "output_type": "display_data"
    }
   ],
   "source": [
    "# Plot cost history\n",
    "plt.plot(cost_history)\n",
    "plt.title('Cost History')\n",
    "plt.xlabel('Epoch')\n",
    "plt.ylabel('Cost')\n",
    "plt.show()"
   ]
  },
  {
   "cell_type": "code",
   "execution_count": 38,
   "metadata": {},
   "outputs": [
    {
     "data": {
      "image/png": "[encoded data removed]",
      "text/plain": [
       "<Figure size 1000x800 with 1 Axes>"
      ]
     },
     "metadata": {},
     "output_type": "display_data"
    }
   ],
   "source": [
    "# Plot decision boundary\n",
    "plt.figure(figsize=(10, 8))\n",
    "plt.scatter(X_test[:, 1], X_test[:, 2], c=y_test, cmap='viridis')\n",
    "x1_min, x1_max = X_test[:, 1].min(), X_test[:, 1].max()\n",
    "x2_min, x2_max = X_test[:, 2].min(), X_test[:, 2].max()\n",
    "xx1, xx2 = np.meshgrid(np.linspace(x1_min, x1_max, 100),\n",
    "                       np.linspace(x2_min, x2_max, 100))\n",
    "Z = sigmoid(np.c_[np.ones((xx1.ravel().shape[0], 1)), xx1.ravel(), xx2.ravel()] @ beta)\n",
    "Z = Z.reshape(xx1.shape)\n",
    "plt.contour(xx1, xx2, Z, [0.5], colors='r')\n",
    "plt.title('Decision Boundary')\n",
    "plt.xlabel('Feature 1')\n",
    "plt.ylabel('Feature 2')\n",
    "plt.show()"
   ]
  },
  {
   "cell_type": "markdown",
   "metadata": {},
   "source": [
    "### <a id='toc3_4_'></a>[Interpreting the Results](#toc0_)\n"
   ]
  },
  {
   "cell_type": "markdown",
   "metadata": {},
   "source": [
    "After running this code, we'll get:\n",
    "\n",
    "1. The model's accuracy and log loss on the test set.\n",
    "2. A plot of the cost history, showing how the cost decreases over epochs.\n",
    "3. A visualization of the decision boundary on the test data.\n"
   ]
  },
  {
   "cell_type": "markdown",
   "metadata": {},
   "source": [
    "A good fit is indicated by:\n",
    "- High accuracy (close to 1) and low log loss on the test set\n",
    "- A smoothly decreasing cost history that plateaus\n",
    "- A decision boundary that clearly separates the two classes\n"
   ]
  },
  {
   "cell_type": "markdown",
   "metadata": {},
   "source": [
    "💡 **Pro Tip:** If the cost doesn't decrease smoothly or the accuracy is low, try adjusting the learning rate or increasing the number of epochs.\n"
   ]
  },
  {
   "cell_type": "markdown",
   "metadata": {},
   "source": [
    "### <a id='toc3_5_'></a>[Tuning Hyperparameters](#toc0_)\n"
   ]
  },
  {
   "cell_type": "markdown",
   "metadata": {},
   "source": [
    "If the results aren't satisfactory, we can tune our hyperparameters:\n"
   ]
  },
  {
   "cell_type": "code",
   "execution_count": 41,
   "metadata": {},
   "outputs": [
    {
     "name": "stdout",
     "output_type": "stream",
     "text": [
      "Best parameters: {'learning_rate': 0.1, 'batch_size': 16}\n",
      "Best accuracy: 0.9000\n"
     ]
    }
   ],
   "source": [
    "learning_rates = [0.001, 0.01, 0.1, 1]\n",
    "batch_sizes = [16, 32, 64, 128, 256, 512]\n",
    "\n",
    "best_accuracy = 0\n",
    "best_params = {}\n",
    "\n",
    "for lr in learning_rates:\n",
    "    for bs in batch_sizes:\n",
    "        beta, _ = mini_batch_gradient_descent_logistic(X_train, y_train, learning_rate=lr, batch_size=bs)\n",
    "        y_pred = (sigmoid(X_test @ beta) > 0.5).astype(int)\n",
    "        accuracy = accuracy_score(y_test, y_pred)\n",
    "\n",
    "        if accuracy > best_accuracy:\n",
    "            best_accuracy = accuracy\n",
    "            best_params = {'learning_rate': lr, 'batch_size': bs}\n",
    "\n",
    "print(f\"Best parameters: {best_params}\")\n",
    "print(f\"Best accuracy: {best_accuracy:.4f}\")"
   ]
  },
  {
   "cell_type": "markdown",
   "metadata": {},
   "source": [
    "This grid search helps find the best combination of learning rate and batch size.\n"
   ]
  },
  {
   "cell_type": "markdown",
   "metadata": {},
   "source": [
    "### <a id='toc3_6_'></a>[Regularization in Practice](#toc0_)\n"
   ]
  },
  {
   "cell_type": "markdown",
   "metadata": {},
   "source": [
    "To implement L2 regularization, we modify our gradient and cost functions:\n"
   ]
  },
  {
   "cell_type": "markdown",
   "metadata": {},
   "source": [
    "```python\n",
    "def compute_gradient_logistic_l2(X, y, beta, lambda_):\n",
    "    n = X.shape[0]\n",
    "    p = sigmoid(X @ beta)\n",
    "    return (1/n) * X.T @ (p - y) + (lambda_ / n) * beta\n",
    "\n",
    "def compute_cost_logistic_l2(X, y, beta, lambda_):\n",
    "    n = X.shape[0]\n",
    "    p = sigmoid(X @ beta)\n",
    "    return -np.sum(y * np.log(p) + (1 - y) * np.log(1 - p)) / n + (lambda_ / (2*n)) * np.sum(beta**2)\n",
    "```\n"
   ]
  },
  {
   "cell_type": "markdown",
   "metadata": {},
   "source": [
    "Then we can run our algorithm with different lambda values to find the optimal regularization strength. Regularization helps prevent overfitting, especially when we have many features relative to the number of samples.\n"
   ]
  },
  {
   "cell_type": "markdown",
   "metadata": {},
   "source": [
    "In conclusion, by implementing and running our logistic regression algorithm on real data, we can see how the theoretical concepts translate into practice. This hands-on approach allows us to understand the impact of different parameters and the importance of model evaluation and tuning."
   ]
  },
  {
   "cell_type": "markdown",
   "metadata": {},
   "source": [
    "## <a id='toc4_'></a>[Advantages and Limitations of Logistic Regression](#toc0_)"
   ]
  },
  {
   "cell_type": "markdown",
   "metadata": {},
   "source": [
    "Logistic regression is a widely used classification algorithm in machine learning and statistics. Like any method, it has its strengths and weaknesses. Understanding these can help you decide when to use logistic regression and when to consider alternative approaches.\n"
   ]
  },
  {
   "cell_type": "markdown",
   "metadata": {},
   "source": [
    "### <a id='toc4_1_'></a>[Advantages of Logistic Regression](#toc0_)\n"
   ]
  },
  {
   "cell_type": "markdown",
   "metadata": {},
   "source": [
    "**Simplicity and Interpretability**\n",
    "\n",
    "Logistic regression is one of the most interpretable classification algorithms.\n",
    "\n",
    "- Easy to understand and explain to non-technical stakeholders\n",
    "- Coefficients directly represent the impact of features on log-odds\n",
    "- Allows for clear feature importance analysis\n"
   ]
  },
  {
   "cell_type": "markdown",
   "metadata": {},
   "source": [
    "**Efficiency**\n",
    "\n",
    "- Computationally inexpensive to train\n",
    "- Performs well with a limited number of training examples\n",
    "- Fast prediction times, suitable for real-time applications\n"
   ]
  },
  {
   "cell_type": "markdown",
   "metadata": {},
   "source": [
    "**Probabilistic Output**\n",
    "\n",
    "- Provides probabilities rather than just classifications\n",
    "- Useful for risk assessment and decision-making scenarios\n"
   ]
  },
  {
   "cell_type": "markdown",
   "metadata": {},
   "source": [
    "**Handles Multi-class Problems**\n",
    "\n",
    "- Can be extended to multi-class classification through techniques like one-vs-rest or softmax regression\n"
   ]
  },
  {
   "cell_type": "markdown",
   "metadata": {},
   "source": [
    "### <a id='toc4_2_'></a>[Limitations of Logistic Regression](#toc0_)\n"
   ]
  },
  {
   "cell_type": "markdown",
   "metadata": {},
   "source": [
    "**Assumption of Linearity**\n",
    "\n",
    "Logistic regression assumes a linear relationship between features and log-odds of the outcome.\n",
    "\n",
    "- May not capture complex, non-linear relationships in the data\n",
    "- Feature engineering or using polynomial terms may be necessary for better performance\n"
   ]
  },
  {
   "cell_type": "markdown",
   "metadata": {},
   "source": [
    "**Limited Expressiveness**\n",
    "\n",
    "- Cannot learn complex decision boundaries\n",
    "- May underperform compared to more advanced algorithms on complex datasets\n",
    "\n",
    "If logistic regression performs poorly, consider trying more complex models like random forests or neural networks.\n"
   ]
  },
  {
   "cell_type": "markdown",
   "metadata": {},
   "source": [
    "**Vulnerability to Outliers**\n",
    "\n",
    "- Sensitive to extreme values in the data\n",
    "- Outliers can significantly impact the model's coefficients\n"
   ]
  },
  {
   "cell_type": "markdown",
   "metadata": {},
   "source": [
    "**Assumes Independence of Features**\n",
    "\n",
    "- Does not account for interactions between features unless explicitly modeled\n",
    "- Can lead to poor performance when strong correlations exist between predictors\n"
   ]
  },
  {
   "cell_type": "markdown",
   "metadata": {},
   "source": [
    "**Prone to Overfitting with High-Dimensional Data**\n",
    "\n",
    "- Performance can degrade with a large number of features relative to the sample size\n",
    "- Regularization techniques (L1, L2) are often necessary to mitigate this issue\n"
   ]
  },
  {
   "cell_type": "markdown",
   "metadata": {},
   "source": [
    "### <a id='toc4_3_'></a>[When to Use Logistic Regression](#toc0_)\n"
   ]
  },
  {
   "cell_type": "markdown",
   "metadata": {},
   "source": [
    "Logistic regression is particularly well-suited for scenarios where:\n",
    "\n",
    "1. Interpretability is crucial (e.g., in healthcare or finance)\n",
    "2. The relationship between features and log-odds of the outcome is approximately linear\n",
    "3. You have a moderate-sized dataset with a reasonable number of features\n",
    "4. You need probabilistic outputs for decision-making\n",
    "5. Computational resources are limited\n"
   ]
  },
  {
   "cell_type": "markdown",
   "metadata": {},
   "source": [
    "Understanding these pros and cons helps in choosing the right tool for your specific problem and data characteristics.\n"
   ]
  },
  {
   "cell_type": "markdown",
   "metadata": {},
   "source": [
    "### <a id='toc4_4_'></a>[Alternatives to Consider](#toc0_)\n"
   ]
  },
  {
   "cell_type": "markdown",
   "metadata": {},
   "source": [
    "When logistic regression's limitations become significant, consider these alternatives:\n",
    "\n",
    "1. Decision Trees and Random Forests: For capturing non-linear relationships\n",
    "2. Support Vector Machines: For handling high-dimensional data\n",
    "3. Neural Networks: For complex, large-scale problems\n",
    "4. Naive Bayes: When features are assumed to be independent\n"
   ]
  },
  {
   "cell_type": "markdown",
   "metadata": {},
   "source": [
    "In conclusion, logistic regression remains a powerful and widely-used tool in the machine learning toolkit. Its simplicity, interpretability, and efficiency make it an excellent choice for many classification tasks. However, it's crucial to be aware of its limitations and assumptions. By understanding when to use logistic regression and when to consider alternatives, you can make informed decisions in your data science projects and ensure you're using the most appropriate tool for each specific problem."
   ]
  },
  {
   "cell_type": "markdown",
   "metadata": {},
   "source": [
    "## <a id='toc5_'></a>[Summary](#toc0_)"
   ]
  },
  {
   "cell_type": "markdown",
   "metadata": {},
   "source": [
    "In this lecture series, we've explored the fundamental concepts of logistic regression, a powerful tool for binary classification problems. Let's recap the key points we've covered:\n",
    "\n",
    "1. **Foundations**: We learned how logistic regression extends linear regression to handle binary outcomes using the logistic function.\n",
    "\n",
    "2. **Mathematical Framework**: We delved into the mathematics behind logistic regression, including the concept of log-odds and maximum likelihood estimation.\n",
    "\n",
    "3. **Model Fitting**: We implemented gradient descent for logistic regression and saw how to optimize the model parameters.\n",
    "\n",
    "4. **Interpretation**: We discussed how to interpret logistic regression coefficients and odds ratios, crucial for understanding feature importance.\n",
    "\n",
    "5. **Practical Application**: We applied logistic regression to real data, demonstrating its use in solving actual classification problems.\n",
    "\n",
    "6. **Advantages and Limitations**: We explored the strengths and weaknesses of logistic regression, understanding when it's an appropriate choice and when to consider alternatives.\n"
   ]
  },
  {
   "cell_type": "markdown",
   "metadata": {},
   "source": [
    "While we've touched on basic evaluation metrics like accuracy, there's much more to explore in the realm of classification evaluation:\n",
    "\n",
    "- We'll dive deep into metrics such as precision, recall, and F1-score.\n",
    "- We'll explore the ROC curve and AUC for assessing classifier performance.\n",
    "- We'll discuss how to choose appropriate metrics based on the problem context.\n",
    "\n",
    "💡 **Pro Tip:** Different classification metrics are suitable for different scenarios, especially when dealing with imbalanced datasets.\n"
   ]
  },
  {
   "cell_type": "markdown",
   "metadata": {},
   "source": [
    "Logistic regression naturally extends to problems beyond binary classification:\n",
    "\n",
    "1. **Multiclass Classification**: We'll explore techniques like one-vs-rest and multinomial logistic regression for handling problems with more than two classes.\n",
    "\n",
    "2. **Multilabel Classification**: We'll discuss how to approach problems where each instance can belong to multiple classes simultaneously.\n",
    "\n",
    "🤔 **Why This Matters:** Many real-world problems involve multiple categories or overlapping labels. Understanding these extensions will significantly broaden your classification toolkit.\n"
   ]
  },
  {
   "cell_type": "markdown",
   "metadata": {},
   "source": [
    "In conclusion, logistic regression is more than just a standalone algorithm; it's a gateway to understanding broader machine learning concepts. As we move forward, we'll build upon this knowledge to tackle more complex classification problems and evaluation techniques. The journey into the world of machine learning is just beginning, and logistic regression has provided us with a solid starting point for the exciting concepts that lie ahead."
   ]
  }
 ],
 "metadata": {
  "kernelspec": {
   "display_name": "py310",
   "language": "python",
   "name": "python3"
  },
  "language_info": {
   "codemirror_mode": {
    "name": "ipython",
    "version": 3
   },
   "file_extension": ".py",
   "mimetype": "text/x-python",
   "name": "python",
   "nbconvert_exporter": "python",
   "pygments_lexer": "ipython3",
   "version": "3.10.12"
  }
 },
 "nbformat": 4,
 "nbformat_minor": 2
}
